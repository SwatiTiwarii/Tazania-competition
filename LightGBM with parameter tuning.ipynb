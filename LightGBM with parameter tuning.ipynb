{
 "cells": [
  {
   "cell_type": "markdown",
   "metadata": {},
   "source": [
    "### Set up"
   ]
  },
  {
   "cell_type": "code",
   "execution_count": 1,
   "metadata": {},
   "outputs": [],
   "source": [
    "##https://github.com/zlatankr/Projects/tree/master/Tanzania"
   ]
  },
  {
   "cell_type": "code",
   "execution_count": 2,
   "metadata": {},
   "outputs": [
    {
     "name": "stderr",
     "output_type": "stream",
     "text": [
      "/opt/anaconda/lib/python3.7/site-packages/sklearn/ensemble/weight_boosting.py:29: DeprecationWarning: numpy.core.umath_tests is an internal NumPy module and should not be imported. It will be removed in a future NumPy release.\n",
      "  from numpy.core.umath_tests import inner1d\n"
     ]
    }
   ],
   "source": [
    "import pandas as pd\n",
    "import numpy as np\n",
    "\n",
    "from IPython.core.debugger import set_trace\n",
    "\n",
    "import os\n",
    "from sklearn.ensemble import RandomForestClassifier\n",
    "from sklearn.model_selection import cross_val_score\n",
    "#import feature_process_helper\n",
    "from sklearn.externals import joblib\n",
    "from sklearn.model_selection import GridSearchCV\n",
    "import matplotlib.pyplot as plt\n",
    "from sklearn.model_selection import StratifiedKFold\n",
    "%matplotlib inline\n",
    "\n",
    "from sklearn.metrics import make_scorer\n",
    "\n",
    "from sklearn.pipeline import make_pipeline\n",
    "from sklearn import preprocessing"
   ]
  },
  {
   "cell_type": "code",
   "execution_count": 3,
   "metadata": {},
   "outputs": [],
   "source": [
    "from sklearn.preprocessing import StandardScaler\n",
    "from sklearn.discriminant_analysis import LinearDiscriminantAnalysis as LDA"
   ]
  },
  {
   "cell_type": "code",
   "execution_count": 4,
   "metadata": {},
   "outputs": [],
   "source": [
    "import lightgbm as lgb\n",
    "\n",
    "from sklearn.model_selection import train_test_split\n",
    "from sklearn.metrics import (roc_curve, auc, accuracy_score)\n",
    "from sklearn.model_selection import GridSearchCV"
   ]
  },
  {
   "cell_type": "markdown",
   "metadata": {},
   "source": [
    "### Data"
   ]
  },
  {
   "cell_type": "code",
   "execution_count": 5,
   "metadata": {},
   "outputs": [
    {
     "name": "stdout",
     "output_type": "stream",
     "text": [
      "(50000, 39)\n",
      "(5083, 39)\n"
     ]
    }
   ],
   "source": [
    "data_dir = os.getcwd()+'/data/'\n",
    "\n",
    "train_data = pd.read_csv(f'{data_dir}train.csv' , index_col = 'new_ids') ##\n",
    "test_data = pd.read_csv(f'{data_dir}test.csv' , index_col = 'new_ids') ## \n",
    "\n",
    "\n",
    "\n",
    "X_train = train_data.copy()\n",
    "X_test = test_data.copy()\n",
    "y_train = X_train[['defective']]\n",
    "X_train.drop(columns=['defective'] , inplace=True)\n",
    "\n",
    "print(X_train.shape)\n",
    "print(X_test.shape)"
   ]
  },
  {
   "cell_type": "code",
   "execution_count": 6,
   "metadata": {},
   "outputs": [
    {
     "name": "stderr",
     "output_type": "stream",
     "text": [
      "/opt/anaconda/lib/python3.7/site-packages/ipykernel_launcher.py:1: SettingWithCopyWarning: \n",
      "A value is trying to be set on a copy of a slice from a DataFrame.\n",
      "Try using .loc[row_indexer,col_indexer] = value instead\n",
      "\n",
      "See the caveats in the documentation: http://pandas.pydata.org/pandas-docs/stable/indexing.html#indexing-view-versus-copy\n",
      "  \"\"\"Entry point for launching an IPython kernel.\n"
     ]
    }
   ],
   "source": [
    "y_train['defective'] = y_train['defective'].apply(lambda x: 1 if x=='yes' else 0)"
   ]
  },
  {
   "cell_type": "markdown",
   "metadata": {},
   "source": [
    "###  Feature engineering"
   ]
  },
  {
   "cell_type": "code",
   "execution_count": 7,
   "metadata": {},
   "outputs": [],
   "source": [
    "def dates(X_train, X_test):\n",
    "    \"\"\"\n",
    "    date_recorded: this might be a useful variable for this analysis, although the year itself would be useless in a practical scenario moving into the future. We will convert this column into a datetime, and we will also create 'year_recorded' and 'month_recorded' columns just in case those levels prove to be useful. A visual inspection of both casts significant doubt on that possibility, but we'll proceed for now. We will delete date_recorded itself, since random forest cannot accept datetime\n",
    "    \"\"\"\n",
    "    for i in [X_train, X_test]:\n",
    "        i['date_recorded'] = pd.to_datetime(i['date_recorded'])\n",
    "        i['year_recorded'] = i['date_recorded'].apply(lambda x: x.year)\n",
    "        i['month_recorded'] = i['date_recorded'].apply(lambda x: x.month)\n",
    "        i['date_recorded'] = (pd.to_datetime(i['date_recorded'])).apply(lambda x: x.toordinal())\n",
    "    return X_train, X_test\n",
    "\n",
    "def dates2(X_train, X_test):\n",
    "    \"\"\"\n",
    "    Turn year_recorded and month_recorded into dummy variables\n",
    "    \"\"\"\n",
    "    for z in ['month_recorded', 'year_recorded']:\n",
    "        X_train[z] = X_train[z].apply(lambda x: str(x))\n",
    "        X_test[z] = X_test[z].apply(lambda x: str(x))\n",
    "        good_cols = [z+'_'+i for i in X_train[z].unique() if i in X_test[z].unique()]\n",
    "        X_train = pd.concat((X_train, pd.get_dummies(X_train[z], prefix = z)[good_cols]), axis = 1)\n",
    "        X_test = pd.concat((X_test, pd.get_dummies(X_test[z], prefix = z)[good_cols]), axis = 1)\n",
    "        del X_test[z]\n",
    "        del X_train[z]\n",
    "    return X_train, X_test\n",
    "\n",
    "\n",
    "\n",
    "def construction(X_train, X_test):\n",
    "    for i in [X_train, X_test]:\n",
    "        i['construction_year'].replace(0, X_train[X_train['construction_year'] != 0]['construction_year'].median(), inplace=True)\n",
    "    return X_train, X_test\n",
    "\n",
    "\n",
    "def bools(X_train, X_test):\n",
    "    \"\"\"\n",
    "    public_meeting: we will fill the nulls as 'False'\n",
    "    permit: we will fill the nulls as 'False\n",
    "    \"\"\"\n",
    "    z = ['public_meeting', 'permit']\n",
    "    for i in z:\n",
    "        X_train[i].fillna(False, inplace = True)\n",
    "        X_train[i] = X_train[i].apply(lambda x: float(x))\n",
    "        X_test[i].fillna(False, inplace = True)\n",
    "        X_test[i] = X_test[i].apply(lambda x: float(x))\n",
    "    return X_train, X_test\n",
    "\n",
    "\n",
    "def locs(X_train, X_test):\n",
    "    \"\"\"\n",
    "    fill in the nulls for ['longitude', 'latitude', 'gps_height', 'population'] by using means from \n",
    "    ['subvillage', 'district_code', 'basin'], and lastly the overall mean\n",
    "    \"\"\"\n",
    "    trans = ['longitude', 'latitude', 'gps_height', 'population']\n",
    "    for i in [X_train, X_test]:\n",
    "        i.loc[i.longitude == 0, 'latitude'] = 0\n",
    "    for z in trans:\n",
    "        for i in [X_train, X_test]:\n",
    "            i[z].replace(0., np.NaN, inplace = True)\n",
    "            i[z].replace(1., np.NaN, inplace = True)\n",
    "        \n",
    "        for j in ['subvillage', 'district_code', 'basin']:\n",
    "        \n",
    "            X_train['mean'] = X_train.groupby([j])[z].transform('mean')\n",
    "            X_train[z] = X_train[z].fillna(X_train['mean'])\n",
    "            o = X_train.groupby([j])[z].mean()\n",
    "            fill = pd.merge(X_test, pd.DataFrame(o), left_on=[j], right_index=True, how='left').iloc[:,-1]\n",
    "            X_test[z] = X_test[z].fillna(fill)\n",
    "        \n",
    "        X_train[z] = X_train[z].fillna(X_train[z].mean())\n",
    "        X_test[z] = X_test[z].fillna(X_train[z].mean())\n",
    "        del X_train['mean']\n",
    "    return X_train, X_test\n",
    "\n",
    "\n",
    "def removal2(X_train, X_test):\n",
    "    z = ['amount_tsh',  'num_private', 'region', \n",
    "          'quantity', 'quality_group', 'source_type', 'payment', \n",
    "          'waterpoint_type_group',\n",
    "         'extraction_type_group' , 'scheme_name'  ,'recorded_by']\n",
    "    for i in z:\n",
    "        del X_train[i]\n",
    "        del X_test[i]\n",
    "    return X_train, X_test\n",
    "\n",
    "\n",
    "\n",
    "def small_n2(X_train, X_test):\n",
    "    cols = [i for i in X_train.columns if type(X_train[i].iloc[0]) == str]\n",
    "    #print(cols)\n",
    "    X_train[cols] = X_train[cols].where(X_train[cols].apply(lambda x: x.map(x.value_counts())) > 100, \"other\")\n",
    "    for column in cols:\n",
    "        for i in X_test[column].unique():\n",
    "            if i not in X_train[column].unique():\n",
    "                X_test[column].replace(i, 'other', inplace=True)\n",
    "    return X_train, X_test\n",
    "\n",
    "\n",
    "\n",
    "\n",
    "def dummies(X_train, X_test):\n",
    "    columns = [i for i in X_train.columns if type(X_train[i].iloc[0]) == str]\n",
    "    for column in columns:\n",
    "        X_train[column].fillna('NULL', inplace = True)\n",
    "        good_cols = [column+'_'+i for i in X_train[column].unique() if i in X_test[column].unique()]\n",
    "        X_train = pd.concat((X_train, pd.get_dummies(X_train[column], prefix = column)[good_cols]), axis = 1)\n",
    "        X_test = pd.concat((X_test, pd.get_dummies(X_test[column], prefix = column)[good_cols]), axis = 1)\n",
    "        del X_train[column]\n",
    "        del X_test[column]\n",
    "    return X_train, X_test\n",
    "\n",
    "\n",
    "def lda(X_train, X_test, y_train, cols=[ 'gps_height', 'latitude', 'longitude']): ##'population',\n",
    "    sc = StandardScaler()\n",
    "    X_train_std = sc.fit_transform(X_train[cols])\n",
    "    X_test_std = sc.transform(X_test[cols])\n",
    "    lda = LDA(n_components=None)\n",
    "    X_train_lda = lda.fit_transform(X_train_std, y_train.values.ravel())\n",
    "    X_test_lda = lda.transform(X_test_std)\n",
    "    \n",
    "    X_train_lda = pd.DataFrame(X_train_lda , index = X_train.index)\n",
    "    X_test_lda = pd.DataFrame(X_test_lda , index = X_test.index)\n",
    "    \n",
    "    X_train = pd.merge(X_train_lda , X_train , left_index=True , right_index = True)\n",
    "    X_test  = pd.merge(X_test_lda , X_test , left_index=True , right_index=True)\n",
    "    \n",
    "    #X_train = pd.concat((pd.DataFrame(X_train_lda), X_train), axis=1)\n",
    "    #X_test = pd.concat((pd.DataFrame(X_test_lda), X_test), axis=1)\n",
    "    for i in cols:\n",
    "        del X_train[i]\n",
    "        del X_test[i]\n",
    "    return X_train, X_test\n",
    "\n",
    "def gini(p):\n",
    "    return 1-(p**2 + (1-p)**2)\n",
    "\n",
    "def impurity(X_train):\n",
    "    imp = {}\n",
    "    for i in X_train.columns[17:]:\n",
    "        imp[i] = gini(X_train[i].mean())\n",
    "    return imp\n"
   ]
  },
  {
   "cell_type": "markdown",
   "metadata": {},
   "source": [
    "Created ordinal data feature and few month, yearly features. Missing value imputation have been taken care separately for separate features. \n",
    "For location features such as latitude , longitude , gps height and population , use mean value of sub village, district code and basin and finally the overall mean. \n",
    "For boolean features : public meeting and permit, fill null values with False.\n"
   ]
  },
  {
   "cell_type": "code",
   "execution_count": 8,
   "metadata": {},
   "outputs": [],
   "source": [
    "X_train, X_test = dates(X_train, X_test)\n",
    "#X_train, X_test = dates2(X_train, X_test)\n",
    "\n",
    "X_train, X_test = construction(X_train, X_test)\n",
    "X_train, X_test = bools(X_train, X_test)  "
   ]
  },
  {
   "cell_type": "code",
   "execution_count": 9,
   "metadata": {},
   "outputs": [],
   "source": [
    "X_train, X_test = locs(X_train, X_test)\n",
    "X_train['population'] = np.log(X_train['population'])\n",
    "X_test['population'] = np.log(X_test['population'])"
   ]
  },
  {
   "cell_type": "markdown",
   "metadata": {},
   "source": [
    "We are removing features which are mostly empty or constant- amount_tsh , num_private , scheme_name. Also for highly correlated features we are keeping only 1 feature ( refer EDA analysis)."
   ]
  },
  {
   "cell_type": "markdown",
   "metadata": {},
   "source": [
    "Also for some of the categorical features ,we are clubbing very infrequent catergories( with count less than 100) into  a single catergory. This will be helpful to control size of one hot encode vectors as well."
   ]
  },
  {
   "cell_type": "code",
   "execution_count": 10,
   "metadata": {},
   "outputs": [],
   "source": [
    "X_train, X_test = removal2(X_train, X_test)\n",
    "X_train, X_test = small_n2(X_train, X_test)"
   ]
  },
  {
   "cell_type": "markdown",
   "metadata": {},
   "source": [
    "For numerical columns we are converting the features into LDA components"
   ]
  },
  {
   "cell_type": "code",
   "execution_count": 11,
   "metadata": {},
   "outputs": [
    {
     "name": "stdout",
     "output_type": "stream",
     "text": [
      "(50000, 30)\n",
      "(5083, 30)\n"
     ]
    }
   ],
   "source": [
    "print(X_train.shape)\n",
    "print(X_test.shape)"
   ]
  },
  {
   "cell_type": "code",
   "execution_count": 12,
   "metadata": {},
   "outputs": [],
   "source": [
    "num_cols = ['date_recorded' , 'gps_height' , 'latitude' , 'longitude' , 'population']"
   ]
  },
  {
   "cell_type": "code",
   "execution_count": 13,
   "metadata": {
    "scrolled": false
   },
   "outputs": [
    {
     "name": "stdout",
     "output_type": "stream",
     "text": [
      "25\n"
     ]
    }
   ],
   "source": [
    "cat_cols = list(set(X_train.columns) - set(num_cols))\n",
    "print(len(cat_cols))"
   ]
  },
  {
   "cell_type": "code",
   "execution_count": 14,
   "metadata": {},
   "outputs": [],
   "source": [
    "for c in cat_cols:\n",
    "    X_train[c] = pd.Categorical(X_train[c])\n",
    "    X_test[c] = pd.Categorical(X_test[c])\n",
    "    \n",
    "    X_train[c] = X_train[c].cat.codes\n",
    "    X_test[c] = X_test[c].cat.codes\n",
    "    X_train[c] = pd.Categorical(X_train[c])\n",
    "    X_test[c] = pd.Categorical(X_test[c])\n",
    "    "
   ]
  },
  {
   "cell_type": "code",
   "execution_count": 15,
   "metadata": {},
   "outputs": [
    {
     "data": {
      "text/plain": [
       "(50000, 31)"
      ]
     },
     "execution_count": 15,
     "metadata": {},
     "output_type": "execute_result"
    }
   ],
   "source": [
    "# X_train = X_train.reset_index()\n",
    "# y_train = y_train.reset_index()\n",
    "# X_test.reset_index(inplace=True)\n",
    "X_train2 = pd.merge(X_train , y_train  , left_index = True , right_index = True)\n",
    "X_train2.shape"
   ]
  },
  {
   "cell_type": "code",
   "execution_count": 16,
   "metadata": {},
   "outputs": [
    {
     "data": {
      "text/html": [
       "<div>\n",
       "<style scoped>\n",
       "    .dataframe tbody tr th:only-of-type {\n",
       "        vertical-align: middle;\n",
       "    }\n",
       "\n",
       "    .dataframe tbody tr th {\n",
       "        vertical-align: top;\n",
       "    }\n",
       "\n",
       "    .dataframe thead th {\n",
       "        text-align: right;\n",
       "    }\n",
       "</style>\n",
       "<table border=\"1\" class=\"dataframe\">\n",
       "  <thead>\n",
       "    <tr style=\"text-align: right;\">\n",
       "      <th></th>\n",
       "      <th>date_recorded</th>\n",
       "      <th>funder</th>\n",
       "      <th>gps_height</th>\n",
       "      <th>installer</th>\n",
       "      <th>longitude</th>\n",
       "      <th>latitude</th>\n",
       "      <th>wpt_name</th>\n",
       "      <th>basin</th>\n",
       "      <th>subvillage</th>\n",
       "      <th>region_code</th>\n",
       "      <th>...</th>\n",
       "      <th>management_group</th>\n",
       "      <th>payment_type</th>\n",
       "      <th>water_quality</th>\n",
       "      <th>quantity_group</th>\n",
       "      <th>source</th>\n",
       "      <th>source_class</th>\n",
       "      <th>waterpoint_type</th>\n",
       "      <th>year_recorded</th>\n",
       "      <th>month_recorded</th>\n",
       "      <th>defective</th>\n",
       "    </tr>\n",
       "    <tr>\n",
       "      <th>new_ids</th>\n",
       "      <th></th>\n",
       "      <th></th>\n",
       "      <th></th>\n",
       "      <th></th>\n",
       "      <th></th>\n",
       "      <th></th>\n",
       "      <th></th>\n",
       "      <th></th>\n",
       "      <th></th>\n",
       "      <th></th>\n",
       "      <th></th>\n",
       "      <th></th>\n",
       "      <th></th>\n",
       "      <th></th>\n",
       "      <th></th>\n",
       "      <th></th>\n",
       "      <th></th>\n",
       "      <th></th>\n",
       "      <th></th>\n",
       "      <th></th>\n",
       "      <th></th>\n",
       "    </tr>\n",
       "  </thead>\n",
       "  <tbody>\n",
       "    <tr>\n",
       "      <th>22379</th>\n",
       "      <td>734904</td>\n",
       "      <td>22</td>\n",
       "      <td>1517.0</td>\n",
       "      <td>17</td>\n",
       "      <td>29.833534</td>\n",
       "      <td>-4.385917</td>\n",
       "      <td>12</td>\n",
       "      <td>3</td>\n",
       "      <td>15</td>\n",
       "      <td>15</td>\n",
       "      <td>...</td>\n",
       "      <td>4</td>\n",
       "      <td>4</td>\n",
       "      <td>6</td>\n",
       "      <td>1</td>\n",
       "      <td>7</td>\n",
       "      <td>0</td>\n",
       "      <td>3</td>\n",
       "      <td>4</td>\n",
       "      <td>1</td>\n",
       "      <td>0</td>\n",
       "    </tr>\n",
       "    <tr>\n",
       "      <th>37562</th>\n",
       "      <td>734885</td>\n",
       "      <td>75</td>\n",
       "      <td>1080.0</td>\n",
       "      <td>71</td>\n",
       "      <td>29.681301</td>\n",
       "      <td>-4.705539</td>\n",
       "      <td>12</td>\n",
       "      <td>3</td>\n",
       "      <td>15</td>\n",
       "      <td>15</td>\n",
       "      <td>...</td>\n",
       "      <td>4</td>\n",
       "      <td>1</td>\n",
       "      <td>6</td>\n",
       "      <td>1</td>\n",
       "      <td>6</td>\n",
       "      <td>1</td>\n",
       "      <td>1</td>\n",
       "      <td>4</td>\n",
       "      <td>0</td>\n",
       "      <td>0</td>\n",
       "    </tr>\n",
       "  </tbody>\n",
       "</table>\n",
       "<p>2 rows × 31 columns</p>\n",
       "</div>"
      ],
      "text/plain": [
       "         date_recorded funder  gps_height installer  longitude  latitude  \\\n",
       "new_ids                                                                    \n",
       "22379           734904     22      1517.0        17  29.833534 -4.385917   \n",
       "37562           734885     75      1080.0        71  29.681301 -4.705539   \n",
       "\n",
       "        wpt_name basin subvillage region_code    ...    management_group  \\\n",
       "new_ids                                          ...                       \n",
       "22379         12     3         15          15    ...                   4   \n",
       "37562         12     3         15          15    ...                   4   \n",
       "\n",
       "        payment_type water_quality  quantity_group source source_class  \\\n",
       "new_ids                                                                  \n",
       "22379              4             6               1      7            0   \n",
       "37562              1             6               1      6            1   \n",
       "\n",
       "        waterpoint_type year_recorded month_recorded defective  \n",
       "new_ids                                                         \n",
       "22379                 3             4              1         0  \n",
       "37562                 1             4              0         0  \n",
       "\n",
       "[2 rows x 31 columns]"
      ]
     },
     "execution_count": 16,
     "metadata": {},
     "output_type": "execute_result"
    }
   ],
   "source": [
    "X_train2.head(2)"
   ]
  },
  {
   "cell_type": "code",
   "execution_count": 17,
   "metadata": {},
   "outputs": [],
   "source": [
    "X_tr, X_val = train_test_split(X_train2, test_size=0.25,stratify=X_train2['defective'], random_state = 50)"
   ]
  },
  {
   "cell_type": "code",
   "execution_count": 18,
   "metadata": {},
   "outputs": [
    {
     "name": "stderr",
     "output_type": "stream",
     "text": [
      "/opt/anaconda/lib/python3.7/site-packages/pandas/core/frame.py:3697: SettingWithCopyWarning: \n",
      "A value is trying to be set on a copy of a slice from a DataFrame\n",
      "\n",
      "See the caveats in the documentation: http://pandas.pydata.org/pandas-docs/stable/indexing.html#indexing-view-versus-copy\n",
      "  errors=errors)\n"
     ]
    }
   ],
   "source": [
    "y_tr = X_tr['defective']\n",
    "y_val = X_val['defective']\n",
    "\n",
    "X_tr.drop(columns=['defective'] , inplace=True)\n",
    "X_val.drop(columns=['defective'] , inplace=True)"
   ]
  },
  {
   "cell_type": "code",
   "execution_count": 19,
   "metadata": {},
   "outputs": [],
   "source": [
    "X_tr.reset_index(inplace=True , drop = True)\n",
    "X_val.reset_index(inplace=True , drop = True)\n",
    "\n",
    "y_tr.reset_index(inplace=True , drop = True)\n",
    "y_val.reset_index(inplace=True , drop = True)\n",
    "\n",
    "X_test.reset_index(inplace=True , drop = True)"
   ]
  },
  {
   "cell_type": "code",
   "execution_count": 20,
   "metadata": {},
   "outputs": [
    {
     "data": {
      "text/html": [
       "<div>\n",
       "<style scoped>\n",
       "    .dataframe tbody tr th:only-of-type {\n",
       "        vertical-align: middle;\n",
       "    }\n",
       "\n",
       "    .dataframe tbody tr th {\n",
       "        vertical-align: top;\n",
       "    }\n",
       "\n",
       "    .dataframe thead th {\n",
       "        text-align: right;\n",
       "    }\n",
       "</style>\n",
       "<table border=\"1\" class=\"dataframe\">\n",
       "  <thead>\n",
       "    <tr style=\"text-align: right;\">\n",
       "      <th></th>\n",
       "      <th>date_recorded</th>\n",
       "      <th>funder</th>\n",
       "      <th>gps_height</th>\n",
       "      <th>installer</th>\n",
       "      <th>longitude</th>\n",
       "      <th>latitude</th>\n",
       "      <th>wpt_name</th>\n",
       "      <th>basin</th>\n",
       "      <th>subvillage</th>\n",
       "      <th>region_code</th>\n",
       "      <th>...</th>\n",
       "      <th>management</th>\n",
       "      <th>management_group</th>\n",
       "      <th>payment_type</th>\n",
       "      <th>water_quality</th>\n",
       "      <th>quantity_group</th>\n",
       "      <th>source</th>\n",
       "      <th>source_class</th>\n",
       "      <th>waterpoint_type</th>\n",
       "      <th>year_recorded</th>\n",
       "      <th>month_recorded</th>\n",
       "    </tr>\n",
       "  </thead>\n",
       "  <tbody>\n",
       "    <tr>\n",
       "      <th>0</th>\n",
       "      <td>734943</td>\n",
       "      <td>75</td>\n",
       "      <td>974.0</td>\n",
       "      <td>71</td>\n",
       "      <td>35.885312</td>\n",
       "      <td>-3.373824</td>\n",
       "      <td>12</td>\n",
       "      <td>0</td>\n",
       "      <td>15</td>\n",
       "      <td>1</td>\n",
       "      <td>...</td>\n",
       "      <td>8</td>\n",
       "      <td>4</td>\n",
       "      <td>2</td>\n",
       "      <td>6</td>\n",
       "      <td>1</td>\n",
       "      <td>8</td>\n",
       "      <td>0</td>\n",
       "      <td>1</td>\n",
       "      <td>4</td>\n",
       "      <td>2</td>\n",
       "    </tr>\n",
       "    <tr>\n",
       "      <th>1</th>\n",
       "      <td>734931</td>\n",
       "      <td>75</td>\n",
       "      <td>739.0</td>\n",
       "      <td>71</td>\n",
       "      <td>37.555989</td>\n",
       "      <td>-3.424153</td>\n",
       "      <td>12</td>\n",
       "      <td>5</td>\n",
       "      <td>15</td>\n",
       "      <td>2</td>\n",
       "      <td>...</td>\n",
       "      <td>0</td>\n",
       "      <td>0</td>\n",
       "      <td>1</td>\n",
       "      <td>6</td>\n",
       "      <td>1</td>\n",
       "      <td>3</td>\n",
       "      <td>0</td>\n",
       "      <td>1</td>\n",
       "      <td>4</td>\n",
       "      <td>2</td>\n",
       "    </tr>\n",
       "  </tbody>\n",
       "</table>\n",
       "<p>2 rows × 30 columns</p>\n",
       "</div>"
      ],
      "text/plain": [
       "   date_recorded funder  gps_height installer  longitude  latitude wpt_name  \\\n",
       "0         734943     75       974.0        71  35.885312 -3.373824       12   \n",
       "1         734931     75       739.0        71  37.555989 -3.424153       12   \n",
       "\n",
       "  basin subvillage region_code      ...       management management_group  \\\n",
       "0     0         15           1      ...                8                4   \n",
       "1     5         15           2      ...                0                0   \n",
       "\n",
       "  payment_type  water_quality quantity_group source source_class  \\\n",
       "0            2              6              1      8            0   \n",
       "1            1              6              1      3            0   \n",
       "\n",
       "  waterpoint_type year_recorded month_recorded  \n",
       "0               1             4              2  \n",
       "1               1             4              2  \n",
       "\n",
       "[2 rows x 30 columns]"
      ]
     },
     "execution_count": 20,
     "metadata": {},
     "output_type": "execute_result"
    }
   ],
   "source": [
    "X_tr.head(2)"
   ]
  },
  {
   "cell_type": "code",
   "execution_count": 22,
   "metadata": {},
   "outputs": [
    {
     "data": {
      "text/plain": [
       "0    1\n",
       "1    1\n",
       "Name: defective, dtype: int64"
      ]
     },
     "execution_count": 22,
     "metadata": {},
     "output_type": "execute_result"
    }
   ],
   "source": [
    "y_tr.head(2)"
   ]
  },
  {
   "cell_type": "code",
   "execution_count": 23,
   "metadata": {},
   "outputs": [
    {
     "data": {
      "text/html": [
       "<div>\n",
       "<style scoped>\n",
       "    .dataframe tbody tr th:only-of-type {\n",
       "        vertical-align: middle;\n",
       "    }\n",
       "\n",
       "    .dataframe tbody tr th {\n",
       "        vertical-align: top;\n",
       "    }\n",
       "\n",
       "    .dataframe thead th {\n",
       "        text-align: right;\n",
       "    }\n",
       "</style>\n",
       "<table border=\"1\" class=\"dataframe\">\n",
       "  <thead>\n",
       "    <tr style=\"text-align: right;\">\n",
       "      <th></th>\n",
       "      <th>date_recorded</th>\n",
       "      <th>funder</th>\n",
       "      <th>gps_height</th>\n",
       "      <th>installer</th>\n",
       "      <th>longitude</th>\n",
       "      <th>latitude</th>\n",
       "      <th>wpt_name</th>\n",
       "      <th>basin</th>\n",
       "      <th>subvillage</th>\n",
       "      <th>region_code</th>\n",
       "      <th>...</th>\n",
       "      <th>management</th>\n",
       "      <th>management_group</th>\n",
       "      <th>payment_type</th>\n",
       "      <th>water_quality</th>\n",
       "      <th>quantity_group</th>\n",
       "      <th>source</th>\n",
       "      <th>source_class</th>\n",
       "      <th>waterpoint_type</th>\n",
       "      <th>year_recorded</th>\n",
       "      <th>month_recorded</th>\n",
       "    </tr>\n",
       "  </thead>\n",
       "  <tbody>\n",
       "    <tr>\n",
       "      <th>0</th>\n",
       "      <td>734796</td>\n",
       "      <td>22</td>\n",
       "      <td>999.704878</td>\n",
       "      <td>31</td>\n",
       "      <td>33.224735</td>\n",
       "      <td>-3.843816</td>\n",
       "      <td>12</td>\n",
       "      <td>0</td>\n",
       "      <td>15</td>\n",
       "      <td>16</td>\n",
       "      <td>...</td>\n",
       "      <td>5</td>\n",
       "      <td>4</td>\n",
       "      <td>2</td>\n",
       "      <td>6</td>\n",
       "      <td>3</td>\n",
       "      <td>7</td>\n",
       "      <td>0</td>\n",
       "      <td>3</td>\n",
       "      <td>3</td>\n",
       "      <td>9</td>\n",
       "    </tr>\n",
       "    <tr>\n",
       "      <th>1</th>\n",
       "      <td>734356</td>\n",
       "      <td>75</td>\n",
       "      <td>393.391304</td>\n",
       "      <td>71</td>\n",
       "      <td>31.655977</td>\n",
       "      <td>-1.834594</td>\n",
       "      <td>12</td>\n",
       "      <td>4</td>\n",
       "      <td>15</td>\n",
       "      <td>17</td>\n",
       "      <td>...</td>\n",
       "      <td>5</td>\n",
       "      <td>4</td>\n",
       "      <td>2</td>\n",
       "      <td>6</td>\n",
       "      <td>1</td>\n",
       "      <td>8</td>\n",
       "      <td>0</td>\n",
       "      <td>1</td>\n",
       "      <td>2</td>\n",
       "      <td>7</td>\n",
       "    </tr>\n",
       "  </tbody>\n",
       "</table>\n",
       "<p>2 rows × 30 columns</p>\n",
       "</div>"
      ],
      "text/plain": [
       "   date_recorded funder  gps_height installer  longitude  latitude wpt_name  \\\n",
       "0         734796     22  999.704878        31  33.224735 -3.843816       12   \n",
       "1         734356     75  393.391304        71  31.655977 -1.834594       12   \n",
       "\n",
       "  basin subvillage region_code      ...       management management_group  \\\n",
       "0     0         15          16      ...                5                4   \n",
       "1     4         15          17      ...                5                4   \n",
       "\n",
       "  payment_type  water_quality quantity_group source source_class  \\\n",
       "0            2              6              3      7            0   \n",
       "1            2              6              1      8            0   \n",
       "\n",
       "  waterpoint_type year_recorded month_recorded  \n",
       "0               3             3              9  \n",
       "1               1             2              7  \n",
       "\n",
       "[2 rows x 30 columns]"
      ]
     },
     "execution_count": 23,
     "metadata": {},
     "output_type": "execute_result"
    }
   ],
   "source": [
    "X_val.head(2)"
   ]
  },
  {
   "cell_type": "code",
   "execution_count": 24,
   "metadata": {},
   "outputs": [
    {
     "data": {
      "text/plain": [
       "0    1\n",
       "1    1\n",
       "Name: defective, dtype: int64"
      ]
     },
     "execution_count": 24,
     "metadata": {},
     "output_type": "execute_result"
    }
   ],
   "source": [
    "y_val.head(2)"
   ]
  },
  {
   "cell_type": "code",
   "execution_count": 28,
   "metadata": {},
   "outputs": [],
   "source": [
    "# tr_data = lgb.Dataset(X_tr, label=y_tr, free_raw_data=False, feature_name=list(X_tr.columns), categorical_feature='auto')\n",
    "# val_data = lgb.Dataset(X_val , label= y_val , free_raw_data=False , feature_name=list(X_tr.columns) , categorical_feature='auto')"
   ]
  },
  {
   "cell_type": "code",
   "execution_count": 27,
   "metadata": {},
   "outputs": [],
   "source": [
    "def custom_accuracy(y , ypred):\n",
    "    #set_trace()\n",
    "    \n",
    "    misses = 1- (ypred ==y)\n",
    "    false_pos = misses*(1-y)\n",
    "    false_neg = misses *y\n",
    "    false_pos_rate = false_pos.sum()/ (len(y) - int(y.sum()))\n",
    "    false_neg_rate = false_neg.sum()/ (int(y.sum()))\n",
    "    \n",
    "    score = 1 - ( 0.9 * false_neg_rate  +  0.1 * false_pos_rate) \n",
    "    return score"
   ]
  },
  {
   "cell_type": "code",
   "execution_count": 25,
   "metadata": {},
   "outputs": [],
   "source": [
    "params = { 'max_depth' : -1,\n",
    "          'nthread': 3, \n",
    "          'num_leaves': 64,\n",
    "          'learning_rate': 0.05,\n",
    "          'max_bin': 512,\n",
    "          'subsample_for_bin': 200,\n",
    "          'subsample': 1,\n",
    "          'subsample_freq': 1,\n",
    "          'colsample_bytree': 0.8,\n",
    "          'reg_alpha': 5,\n",
    "          'reg_lambda': 10,\n",
    "          'min_split_gain': 0.5,\n",
    "          'min_child_weight': 1,\n",
    "          'min_child_samples': 5,\n",
    "          'scale_pos_weight': 20,\n",
    "          'feature_name': 'auto', # that's actually the default\n",
    "          'categorical_feature': 'auto' # that's actually the default\n",
    "         }"
   ]
  },
  {
   "cell_type": "code",
   "execution_count": 40,
   "metadata": {},
   "outputs": [],
   "source": [
    "fit_params={\"early_stopping_rounds\":50, \n",
    "            \"eval_metric\" : 'auc', \n",
    "            \"eval_set\" : [(X_val,y_val)],\n",
    "            'eval_names': ['valid'],\n",
    "            'verbose': 100,\n",
    "            'feature_name': 'auto', # that's actually the default\n",
    "            'categorical_feature': 'auto' # that's actually the default\n",
    "           }"
   ]
  },
  {
   "cell_type": "code",
   "execution_count": 41,
   "metadata": {},
   "outputs": [
    {
     "name": "stdout",
     "output_type": "stream",
     "text": [
      "Training until validation scores don't improve for 50 rounds.\n",
      "Early stopping, best iteration is:\n",
      "[2]\tvalid's binary_logloss: 0.662383\tvalid's auc: 0.822914\n"
     ]
    },
    {
     "data": {
      "text/plain": [
       "LGBMClassifier(boosting_type='gbdt', class_weight=None, colsample_bytree=1.0,\n",
       "        importance_type='split', learning_rate=0.1, max_bin=512,\n",
       "        max_depth=-1, min_child_samples=5, min_child_weight=1,\n",
       "        min_split_gain=0.5, n_estimators=100, n_jobs=-1, num_leaves=31,\n",
       "        objective='binary', random_state=None, reg_alpha=0.0,\n",
       "        reg_lambda=0.0, scale_pos_weight=20, silent=True, subsample=1,\n",
       "        subsample_for_bin=200, subsample_freq=1)"
      ]
     },
     "execution_count": 41,
     "metadata": {},
     "output_type": "execute_result"
    }
   ],
   "source": [
    "clf = lgb.LGBMClassifier(boosting_type= 'gbdt',\n",
    "          objective = 'binary',\n",
    "          silent = True,\n",
    "          max_depth = params['max_depth'],\n",
    "          max_bin = params['max_bin'],\n",
    "          subsample_for_bin = params['subsample_for_bin'],\n",
    "          subsample = params['subsample'],\n",
    "          subsample_freq = params['subsample_freq'],\n",
    "          min_split_gain = params['min_split_gain'],\n",
    "          min_child_weight = params['min_child_weight'],\n",
    "          min_child_samples = params['min_child_samples'],\n",
    "          scale_pos_weight = params['scale_pos_weight'])\n",
    "\n",
    "clf.fit(X_tr,y_tr , **fit_params)"
   ]
  },
  {
   "cell_type": "markdown",
   "metadata": {},
   "source": [
    "### Result on validation set"
   ]
  },
  {
   "cell_type": "code",
   "execution_count": 43,
   "metadata": {},
   "outputs": [
    {
     "name": "stdout",
     "output_type": "stream",
     "text": [
      "Custom accuracy on validation data set 0.8683974090644453\n"
     ]
    },
    {
     "name": "stderr",
     "output_type": "stream",
     "text": [
      "/opt/anaconda/lib/python3.7/site-packages/sklearn/preprocessing/label.py:151: DeprecationWarning: The truth value of an empty array is ambiguous. Returning False, but in future this will result in an error. Use `array.size > 0` to check that an array is not empty.\n",
      "  if diff:\n"
     ]
    }
   ],
   "source": [
    "pred = clf.predict(X_val)\n",
    "print( 'Custom accuracy on validation data set', custom_accuracy(y_val , pred))"
   ]
  },
  {
   "cell_type": "markdown",
   "metadata": {},
   "source": [
    "The custom accuracy has improved from Random Forest version by around 6%. We will further try hyper parameter tuning to improve it further."
   ]
  },
  {
   "cell_type": "code",
   "execution_count": 53,
   "metadata": {},
   "outputs": [],
   "source": [
    "param_grid = {\n",
    "    'learning_rate': [0.05 , 0.1 , 1],\n",
    "    'n_estimators': [40],\n",
    "    'num_leaves': [30 , 50],\n",
    "    'boosting_type' : ['gbdt'],\n",
    "    'objective' : ['binary'],\n",
    "    'random_state' : [501], \n",
    "    'colsample_bytree' : [ 0.9],\n",
    "    'subsample' : [0.75],\n",
    "    'reg_alpha' : [0.2, 0.6],\n",
    "    'reg_lambda' : [0.2 , 0.4],\n",
    "    'scale_pos_weight': [15 , 20 , 25]\n",
    "    }"
   ]
  },
  {
   "cell_type": "code",
   "execution_count": 54,
   "metadata": {},
   "outputs": [],
   "source": [
    "clf = lgb.LGBMClassifier(boosting_type= 'gbdt',\n",
    "          objective = 'binary',\n",
    "          n_jobs = 12, # Updated from 'nthread'\n",
    "          silent = True,\n",
    "          max_depth = params['max_depth'],\n",
    "          max_bin = params['max_bin'],\n",
    "          subsample_for_bin = params['subsample_for_bin'],\n",
    "          subsample = params['subsample'],\n",
    "          subsample_freq = params['subsample_freq'],\n",
    "          min_split_gain = params['min_split_gain'],\n",
    "          min_child_weight = params['min_child_weight'],\n",
    "          min_child_samples = params['min_child_samples'],\n",
    "          scale_pos_weight = params['scale_pos_weight'])"
   ]
  },
  {
   "cell_type": "code",
   "execution_count": 55,
   "metadata": {},
   "outputs": [
    {
     "name": "stdout",
     "output_type": "stream",
     "text": [
      "Fitting 5 folds for each of 72 candidates, totalling 360 fits\n",
      "[CV] boosting_type=gbdt, colsample_bytree=0.9, learning_rate=0.05, n_estimators=40, num_leaves=30, objective=binary, random_state=501, reg_alpha=0.2, reg_lambda=0.2, scale_pos_weight=15, subsample=0.75 \n",
      "[CV] boosting_type=gbdt, colsample_bytree=0.9, learning_rate=0.05, n_estimators=40, num_leaves=30, objective=binary, random_state=501, reg_alpha=0.2, reg_lambda=0.2, scale_pos_weight=15, subsample=0.75 \n",
      "[CV] boosting_type=gbdt, colsample_bytree=0.9, learning_rate=0.05, n_estimators=40, num_leaves=30, objective=binary, random_state=501, reg_alpha=0.2, reg_lambda=0.2, scale_pos_weight=15, subsample=0.75 \n",
      "[CV] boosting_type=gbdt, colsample_bytree=0.9, learning_rate=0.05, n_estimators=40, num_leaves=30, objective=binary, random_state=501, reg_alpha=0.2, reg_lambda=0.2, scale_pos_weight=15, subsample=0.75 \n",
      "[CV] boosting_type=gbdt, colsample_bytree=0.9, learning_rate=0.05, n_estimators=40, num_leaves=30, objective=binary, random_state=501, reg_alpha=0.2, reg_lambda=0.2, scale_pos_weight=15, subsample=0.75 \n",
      "[CV] boosting_type=gbdt, colsample_bytree=0.9, learning_rate=0.05, n_estimators=40, num_leaves=30, objective=binary, random_state=501, reg_alpha=0.2, reg_lambda=0.2, scale_pos_weight=20, subsample=0.75 \n",
      "[CV] boosting_type=gbdt, colsample_bytree=0.9, learning_rate=0.05, n_estimators=40, num_leaves=30, objective=binary, random_state=501, reg_alpha=0.2, reg_lambda=0.2, scale_pos_weight=20, subsample=0.75 \n",
      "[CV] boosting_type=gbdt, colsample_bytree=0.9, learning_rate=0.05, n_estimators=40, num_leaves=30, objective=binary, random_state=501, reg_alpha=0.2, reg_lambda=0.2, scale_pos_weight=20, subsample=0.75 \n",
      "[CV] boosting_type=gbdt, colsample_bytree=0.9, learning_rate=0.05, n_estimators=40, num_leaves=30, objective=binary, random_state=501, reg_alpha=0.2, reg_lambda=0.2, scale_pos_weight=20, subsample=0.75 \n",
      "[CV] boosting_type=gbdt, colsample_bytree=0.9, learning_rate=0.05, n_estimators=40, num_leaves=30, objective=binary, random_state=501, reg_alpha=0.2, reg_lambda=0.2, scale_pos_weight=20, subsample=0.75 \n",
      "Training until validation scores don't improve for 50 rounds.\n",
      "[CV] boosting_type=gbdt, colsample_bytree=0.9, learning_rate=0.05, n_estimators=40, num_leaves=30, objective=binary, random_state=501, reg_alpha=0.2, reg_lambda=0.2, scale_pos_weight=25, subsample=0.75 \n",
      "[CV] boosting_type=gbdt, colsample_bytree=0.9, learning_rate=0.05, n_estimators=40, num_leaves=30, objective=binary, random_state=501, reg_alpha=0.2, reg_lambda=0.2, scale_pos_weight=25, subsample=0.75 \n",
      "Training until validation scores don't improve for 50 rounds.\n",
      "Training until validation scores don't improve for 50 rounds.\n",
      "Training until validation scores don't improve for 50 rounds.\n",
      "Training until validation scores don't improve for 50 rounds.\n",
      "Training until validation scores don't improve for 50 rounds.\n",
      "Training until validation scores don't improve for 50 rounds.\n",
      "Training until validation scores don't improve for 50 rounds.\n",
      "Training until validation scores don't improve for 50 rounds.\n",
      "Training until validation scores don't improve for 50 rounds.\n",
      "Training until validation scores don't improve for 50 rounds.\n",
      "Training until validation scores don't improve for 50 rounds.\n",
      "Did not meet early stopping. Best iteration is:\n",
      "[5]\tvalid's binary_logloss: 0.658356\tvalid's auc: 0.841784\n",
      "Did not meet early stopping. Best iteration is:\n",
      "[5]\tvalid's binary_logloss: 0.657838\tvalid's auc: 0.844976\n",
      "Did not meet early stopping. Best iteration is:\n",
      "[4]\tvalid's binary_logloss: 0.662475\tvalid's auc: 0.831186\n",
      "Did not meet early stopping. Best iteration is:\n",
      "[6]\tvalid's binary_logloss: 0.656889\tvalid's auc: 0.848482\n"
     ]
    },
    {
     "name": "stderr",
     "output_type": "stream",
     "text": [
      "/opt/anaconda/lib/python3.7/site-packages/sklearn/preprocessing/label.py:151: DeprecationWarning: The truth value of an empty array is ambiguous. Returning False, but in future this will result in an error. Use `array.size > 0` to check that an array is not empty.\n",
      "  if diff:\n",
      "/opt/anaconda/lib/python3.7/site-packages/sklearn/preprocessing/label.py:151: DeprecationWarning: The truth value of an empty array is ambiguous. Returning False, but in future this will result in an error. Use `array.size > 0` to check that an array is not empty.\n",
      "  if diff:\n"
     ]
    },
    {
     "name": "stdout",
     "output_type": "stream",
     "text": [
      "Did not meet early stopping. Best iteration is:\n",
      "[4]\tvalid's binary_logloss: 0.665809\tvalid's auc: 0.834611\n"
     ]
    },
    {
     "name": "stderr",
     "output_type": "stream",
     "text": [
      "/opt/anaconda/lib/python3.7/site-packages/sklearn/preprocessing/label.py:151: DeprecationWarning: The truth value of an empty array is ambiguous. Returning False, but in future this will result in an error. Use `array.size > 0` to check that an array is not empty.\n",
      "  if diff:\n",
      "/opt/anaconda/lib/python3.7/site-packages/sklearn/preprocessing/label.py:151: DeprecationWarning: The truth value of an empty array is ambiguous. Returning False, but in future this will result in an error. Use `array.size > 0` to check that an array is not empty.\n",
      "  if diff:\n",
      "/opt/anaconda/lib/python3.7/site-packages/sklearn/preprocessing/label.py:151: DeprecationWarning: The truth value of an empty array is ambiguous. Returning False, but in future this will result in an error. Use `array.size > 0` to check that an array is not empty.\n",
      "  if diff:\n",
      "/opt/anaconda/lib/python3.7/site-packages/sklearn/preprocessing/label.py:151: DeprecationWarning: The truth value of an empty array is ambiguous. Returning False, but in future this will result in an error. Use `array.size > 0` to check that an array is not empty.\n",
      "  if diff:\n",
      "/opt/anaconda/lib/python3.7/site-packages/sklearn/preprocessing/label.py:151: DeprecationWarning: The truth value of an empty array is ambiguous. Returning False, but in future this will result in an error. Use `array.size > 0` to check that an array is not empty.\n",
      "  if diff:\n"
     ]
    },
    {
     "name": "stdout",
     "output_type": "stream",
     "text": [
      "[CV]  boosting_type=gbdt, colsample_bytree=0.9, learning_rate=0.05, n_estimators=40, num_leaves=30, objective=binary, random_state=501, reg_alpha=0.2, reg_lambda=0.2, scale_pos_weight=15, subsample=0.75, score=0.9026774780240234, total=   3.5s\n",
      "[CV]  boosting_type=gbdt, colsample_bytree=0.9, learning_rate=0.05, n_estimators=40, num_leaves=30, objective=binary, random_state=501, reg_alpha=0.2, reg_lambda=0.2, scale_pos_weight=15, subsample=0.75, score=0.8918924602223403, total=   3.4s\n",
      "[CV] boosting_type=gbdt, colsample_bytree=0.9, learning_rate=0.05, n_estimators=40, num_leaves=30, objective=binary, random_state=501, reg_alpha=0.2, reg_lambda=0.2, scale_pos_weight=25, subsample=0.75 \n",
      "[CV] boosting_type=gbdt, colsample_bytree=0.9, learning_rate=0.05, n_estimators=40, num_leaves=30, objective=binary, random_state=501, reg_alpha=0.2, reg_lambda=0.2, scale_pos_weight=25, subsample=0.75 \n"
     ]
    },
    {
     "name": "stderr",
     "output_type": "stream",
     "text": [
      "/opt/anaconda/lib/python3.7/site-packages/sklearn/preprocessing/label.py:151: DeprecationWarning: The truth value of an empty array is ambiguous. Returning False, but in future this will result in an error. Use `array.size > 0` to check that an array is not empty.\n",
      "  if diff:\n"
     ]
    },
    {
     "name": "stdout",
     "output_type": "stream",
     "text": [
      "Did not meet early stopping. Best iteration is:\n",
      "[4]\tvalid's binary_logloss: 0.664219\tvalid's auc: 0.828629\n",
      "[CV]  boosting_type=gbdt, colsample_bytree=0.9, learning_rate=0.05, n_estimators=40, num_leaves=30, objective=binary, random_state=501, reg_alpha=0.2, reg_lambda=0.2, scale_pos_weight=20, subsample=0.75, score=0.872691319050516, total=   3.7s\n"
     ]
    },
    {
     "name": "stderr",
     "output_type": "stream",
     "text": [
      "/opt/anaconda/lib/python3.7/site-packages/sklearn/preprocessing/label.py:151: DeprecationWarning: The truth value of an empty array is ambiguous. Returning False, but in future this will result in an error. Use `array.size > 0` to check that an array is not empty.\n",
      "  if diff:\n"
     ]
    },
    {
     "name": "stdout",
     "output_type": "stream",
     "text": [
      "[CV]  boosting_type=gbdt, colsample_bytree=0.9, learning_rate=0.05, n_estimators=40, num_leaves=30, objective=binary, random_state=501, reg_alpha=0.2, reg_lambda=0.2, scale_pos_weight=15, subsample=0.75, score=0.9080000219229736, total=   3.9s\n",
      "Did not meet early stopping. Best iteration is:\n",
      "[4]\tvalid's binary_logloss: 0.664565\tvalid's auc: 0.829242[CV] boosting_type=gbdt, colsample_bytree=0.9, learning_rate=0.05, n_estimators=40, num_leaves=30, objective=binary, random_state=501, reg_alpha=0.2, reg_lambda=0.2, scale_pos_weight=25, subsample=0.75 \n",
      "Did not meet early stopping. Best iteration is:\n",
      "[4]\tvalid's binary_logloss: 0.663944\tvalid's auc: 0.842774[CV] boosting_type=gbdt, colsample_bytree=0.9, learning_rate=0.05, n_estimators=40, num_leaves=30, objective=binary, random_state=501, reg_alpha=0.2, reg_lambda=0.4, scale_pos_weight=15, subsample=0.75 \n",
      "\n",
      "\n",
      "Did not meet early stopping. Best iteration is:\n",
      "[3]\tvalid's binary_logloss: 0.667774\tvalid's auc: 0.82044\n"
     ]
    },
    {
     "name": "stderr",
     "output_type": "stream",
     "text": [
      "/opt/anaconda/lib/python3.7/site-packages/sklearn/preprocessing/label.py:151: DeprecationWarning: The truth value of an empty array is ambiguous. Returning False, but in future this will result in an error. Use `array.size > 0` to check that an array is not empty.\n",
      "  if diff:\n",
      "/opt/anaconda/lib/python3.7/site-packages/sklearn/preprocessing/label.py:151: DeprecationWarning: The truth value of an empty array is ambiguous. Returning False, but in future this will result in an error. Use `array.size > 0` to check that an array is not empty.\n",
      "  if diff:\n"
     ]
    },
    {
     "name": "stdout",
     "output_type": "stream",
     "text": [
      "[CV]  boosting_type=gbdt, colsample_bytree=0.9, learning_rate=0.05, n_estimators=40, num_leaves=30, objective=binary, random_state=501, reg_alpha=0.2, reg_lambda=0.2, scale_pos_weight=25, subsample=0.75, score=0.8898538285733077, total=   3.8s\n",
      "[CV] boosting_type=gbdt, colsample_bytree=0.9, learning_rate=0.05, n_estimators=40, num_leaves=30, objective=binary, random_state=501, reg_alpha=0.2, reg_lambda=0.4, scale_pos_weight=15, subsample=0.75 \n",
      "Did not meet early stopping. Best iteration is:\n",
      "[4]\tvalid's binary_logloss: 0.663902\tvalid's auc: 0.834051"
     ]
    },
    {
     "name": "stderr",
     "output_type": "stream",
     "text": [
      "/opt/anaconda/lib/python3.7/site-packages/sklearn/preprocessing/label.py:151: DeprecationWarning: The truth value of an empty array is ambiguous. Returning False, but in future this will result in an error. Use `array.size > 0` to check that an array is not empty.\n",
      "  if diff:\n"
     ]
    },
    {
     "name": "stdout",
     "output_type": "stream",
     "text": [
      "\n"
     ]
    },
    {
     "name": "stderr",
     "output_type": "stream",
     "text": [
      "/opt/anaconda/lib/python3.7/site-packages/sklearn/preprocessing/label.py:151: DeprecationWarning: The truth value of an empty array is ambiguous. Returning False, but in future this will result in an error. Use `array.size > 0` to check that an array is not empty.\n",
      "  if diff:\n",
      "/opt/anaconda/lib/python3.7/site-packages/sklearn/preprocessing/label.py:151: DeprecationWarning: The truth value of an empty array is ambiguous. Returning False, but in future this will result in an error. Use `array.size > 0` to check that an array is not empty.\n",
      "  if diff:\n",
      "/opt/anaconda/lib/python3.7/site-packages/sklearn/preprocessing/label.py:151: DeprecationWarning: The truth value of an empty array is ambiguous. Returning False, but in future this will result in an error. Use `array.size > 0` to check that an array is not empty.\n",
      "  if diff:\n"
     ]
    },
    {
     "name": "stdout",
     "output_type": "stream",
     "text": [
      "[CV]  boosting_type=gbdt, colsample_bytree=0.9, learning_rate=0.05, n_estimators=40, num_leaves=30, objective=binary, random_state=501, reg_alpha=0.2, reg_lambda=0.2, scale_pos_weight=20, subsample=0.75, score=0.875010668222376, total=   4.6s\n",
      "Training until validation scores don't improve for 50 rounds.\n",
      "[CV] boosting_type=gbdt, colsample_bytree=0.9, learning_rate=0.05, n_estimators=40, num_leaves=30, objective=binary, random_state=501, reg_alpha=0.2, reg_lambda=0.4, scale_pos_weight=15, subsample=0.75 \n"
     ]
    },
    {
     "name": "stderr",
     "output_type": "stream",
     "text": [
      "/opt/anaconda/lib/python3.7/site-packages/sklearn/preprocessing/label.py:151: DeprecationWarning: The truth value of an empty array is ambiguous. Returning False, but in future this will result in an error. Use `array.size > 0` to check that an array is not empty.\n",
      "  if diff:\n"
     ]
    },
    {
     "name": "stdout",
     "output_type": "stream",
     "text": [
      "[CV]  boosting_type=gbdt, colsample_bytree=0.9, learning_rate=0.05, n_estimators=40, num_leaves=30, objective=binary, random_state=501, reg_alpha=0.2, reg_lambda=0.2, scale_pos_weight=20, subsample=0.75, score=0.851549488946217, total=   4.8s\n"
     ]
    },
    {
     "name": "stderr",
     "output_type": "stream",
     "text": [
      "/opt/anaconda/lib/python3.7/site-packages/sklearn/preprocessing/label.py:151: DeprecationWarning: The truth value of an empty array is ambiguous. Returning False, but in future this will result in an error. Use `array.size > 0` to check that an array is not empty.\n",
      "  if diff:\n"
     ]
    },
    {
     "name": "stdout",
     "output_type": "stream",
     "text": [
      "[CV] boosting_type=gbdt, colsample_bytree=0.9, learning_rate=0.05, n_estimators=40, num_leaves=30, objective=binary, random_state=501, reg_alpha=0.2, reg_lambda=0.4, scale_pos_weight=15, subsample=0.75 \n"
     ]
    },
    {
     "name": "stderr",
     "output_type": "stream",
     "text": [
      "/opt/anaconda/lib/python3.7/site-packages/sklearn/preprocessing/label.py:151: DeprecationWarning: The truth value of an empty array is ambiguous. Returning False, but in future this will result in an error. Use `array.size > 0` to check that an array is not empty.\n",
      "  if diff:\n"
     ]
    },
    {
     "name": "stdout",
     "output_type": "stream",
     "text": [
      "Training until validation scores don't improve for 50 rounds.\n",
      "[CV]  boosting_type=gbdt, colsample_bytree=0.9, learning_rate=0.05, n_estimators=40, num_leaves=30, objective=binary, random_state=501, reg_alpha=0.2, reg_lambda=0.2, scale_pos_weight=20, subsample=0.75, score=0.8715966764075139, total=   5.1s\n",
      "Training until validation scores don't improve for 50 rounds.\n",
      "Training until validation scores don't improve for 50 rounds.\n"
     ]
    },
    {
     "name": "stderr",
     "output_type": "stream",
     "text": [
      "/opt/anaconda/lib/python3.7/site-packages/sklearn/preprocessing/label.py:151: DeprecationWarning: The truth value of an empty array is ambiguous. Returning False, but in future this will result in an error. Use `array.size > 0` to check that an array is not empty.\n",
      "  if diff:\n"
     ]
    },
    {
     "name": "stdout",
     "output_type": "stream",
     "text": [
      "[CV] boosting_type=gbdt, colsample_bytree=0.9, learning_rate=0.05, n_estimators=40, num_leaves=30, objective=binary, random_state=501, reg_alpha=0.2, reg_lambda=0.4, scale_pos_weight=15, subsample=0.75 \n",
      "Did not meet early stopping. Best iteration is:\n",
      "[5]\tvalid's binary_logloss: 0.658715\tvalid's auc: 0.846452[CV]  boosting_type=gbdt, colsample_bytree=0.9, learning_rate=0.05, n_estimators=40, num_leaves=30, objective=binary, random_state=501, reg_alpha=0.2, reg_lambda=0.2, scale_pos_weight=25, subsample=0.75, score=0.09999999999999998, total=   4.8s\n",
      "\n",
      "[CV] boosting_type=gbdt, colsample_bytree=0.9, learning_rate=0.05, n_estimators=40, num_leaves=30, objective=binary, random_state=501, reg_alpha=0.2, reg_lambda=0.4, scale_pos_weight=20, subsample=0.75 \n",
      "Training until validation scores don't improve for 50 rounds.\n"
     ]
    },
    {
     "name": "stderr",
     "output_type": "stream",
     "text": [
      "/opt/anaconda/lib/python3.7/site-packages/sklearn/preprocessing/label.py:151: DeprecationWarning: The truth value of an empty array is ambiguous. Returning False, but in future this will result in an error. Use `array.size > 0` to check that an array is not empty.\n",
      "  if diff:\n"
     ]
    },
    {
     "name": "stdout",
     "output_type": "stream",
     "text": [
      "Training until validation scores don't improve for 50 rounds.\n"
     ]
    },
    {
     "name": "stderr",
     "output_type": "stream",
     "text": [
      "/opt/anaconda/lib/python3.7/site-packages/sklearn/preprocessing/label.py:151: DeprecationWarning: The truth value of an empty array is ambiguous. Returning False, but in future this will result in an error. Use `array.size > 0` to check that an array is not empty.\n",
      "  if diff:\n"
     ]
    },
    {
     "name": "stdout",
     "output_type": "stream",
     "text": [
      "[CV]  boosting_type=gbdt, colsample_bytree=0.9, learning_rate=0.05, n_estimators=40, num_leaves=30, objective=binary, random_state=501, reg_alpha=0.2, reg_lambda=0.2, scale_pos_weight=20, subsample=0.75, score=0.8860454346277877, total=   5.5s\n",
      "[CV] boosting_type=gbdt, colsample_bytree=0.9, learning_rate=0.05, n_estimators=40, num_leaves=30, objective=binary, random_state=501, reg_alpha=0.2, reg_lambda=0.4, scale_pos_weight=20, subsample=0.75 \n",
      "Did not meet early stopping. Best iteration is:\n",
      "[5]\tvalid's binary_logloss: 0.657951\tvalid's auc: 0.843312\n"
     ]
    },
    {
     "name": "stderr",
     "output_type": "stream",
     "text": [
      "/opt/anaconda/lib/python3.7/site-packages/sklearn/preprocessing/label.py:151: DeprecationWarning: The truth value of an empty array is ambiguous. Returning False, but in future this will result in an error. Use `array.size > 0` to check that an array is not empty.\n",
      "  if diff:\n"
     ]
    },
    {
     "name": "stdout",
     "output_type": "stream",
     "text": [
      "[CV]  boosting_type=gbdt, colsample_bytree=0.9, learning_rate=0.05, n_estimators=40, num_leaves=30, objective=binary, random_state=501, reg_alpha=0.2, reg_lambda=0.2, scale_pos_weight=15, subsample=0.75, score=0.8962841558484071, total=   6.5s\n",
      "[CV] boosting_type=gbdt, colsample_bytree=0.9, learning_rate=0.05, n_estimators=40, num_leaves=30, objective=binary, random_state=501, reg_alpha=0.2, reg_lambda=0.4, scale_pos_weight=20, subsample=0.75 \n",
      "Training until validation scores don't improve for 50 rounds.\n"
     ]
    },
    {
     "name": "stderr",
     "output_type": "stream",
     "text": [
      "/opt/anaconda/lib/python3.7/site-packages/sklearn/preprocessing/label.py:151: DeprecationWarning: The truth value of an empty array is ambiguous. Returning False, but in future this will result in an error. Use `array.size > 0` to check that an array is not empty.\n",
      "  if diff:\n"
     ]
    },
    {
     "name": "stdout",
     "output_type": "stream",
     "text": [
      "Training until validation scores don't improve for 50 rounds.\n",
      "Training until validation scores don't improve for 50 rounds.\n",
      "Training until validation scores don't improve for 50 rounds.\n"
     ]
    },
    {
     "name": "stderr",
     "output_type": "stream",
     "text": [
      "/opt/anaconda/lib/python3.7/site-packages/sklearn/preprocessing/label.py:151: DeprecationWarning: The truth value of an empty array is ambiguous. Returning False, but in future this will result in an error. Use `array.size > 0` to check that an array is not empty.\n",
      "  if diff:\n"
     ]
    },
    {
     "name": "stdout",
     "output_type": "stream",
     "text": [
      "[CV]  boosting_type=gbdt, colsample_bytree=0.9, learning_rate=0.05, n_estimators=40, num_leaves=30, objective=binary, random_state=501, reg_alpha=0.2, reg_lambda=0.2, scale_pos_weight=15, subsample=0.75, score=0.8876365686855352, total=   7.3s\n",
      "[CV] boosting_type=gbdt, colsample_bytree=0.9, learning_rate=0.05, n_estimators=40, num_leaves=30, objective=binary, random_state=501, reg_alpha=0.2, reg_lambda=0.4, scale_pos_weight=20, subsample=0.75 \n",
      "Training until validation scores don't improve for 50 rounds.\n",
      "Did not meet early stopping. Best iteration is:\n",
      "[4]\tvalid's binary_logloss: 0.667552\tvalid's auc: 0.831855Did not meet early stopping. Best iteration is:\n",
      "[3]\tvalid's binary_logloss: 0.667067\tvalid's auc: 0.828773\n",
      "\n"
     ]
    },
    {
     "name": "stderr",
     "output_type": "stream",
     "text": [
      "/opt/anaconda/lib/python3.7/site-packages/sklearn/preprocessing/label.py:151: DeprecationWarning: The truth value of an empty array is ambiguous. Returning False, but in future this will result in an error. Use `array.size > 0` to check that an array is not empty.\n",
      "  if diff:\n",
      "/opt/anaconda/lib/python3.7/site-packages/sklearn/preprocessing/label.py:151: DeprecationWarning: The truth value of an empty array is ambiguous. Returning False, but in future this will result in an error. Use `array.size > 0` to check that an array is not empty.\n",
      "  if diff:\n"
     ]
    },
    {
     "name": "stdout",
     "output_type": "stream",
     "text": [
      "Did not meet early stopping. Best iteration is:\n",
      "[6]\tvalid's binary_logloss: 0.656906\tvalid's auc: 0.848481Training until validation scores don't improve for 50 rounds.\n",
      "\n",
      "Did not meet early stopping. Best iteration is:\n",
      "[4]\tvalid's binary_logloss: 0.664584\tvalid's auc: 0.829243\n",
      "Did not meet early stopping. Best iteration is:\n",
      "[5]\tvalid's binary_logloss: 0.658366\tvalid's auc: 0.841851"
     ]
    },
    {
     "name": "stderr",
     "output_type": "stream",
     "text": [
      "/opt/anaconda/lib/python3.7/site-packages/sklearn/preprocessing/label.py:151: DeprecationWarning: The truth value of an empty array is ambiguous. Returning False, but in future this will result in an error. Use `array.size > 0` to check that an array is not empty.\n",
      "  if diff:\n"
     ]
    },
    {
     "name": "stdout",
     "output_type": "stream",
     "text": [
      "\n",
      "[CV]  boosting_type=gbdt, colsample_bytree=0.9, learning_rate=0.05, n_estimators=40, num_leaves=30, objective=binary, random_state=501, reg_alpha=0.2, reg_lambda=0.2, scale_pos_weight=25, subsample=0.75, score=0.9010600287510163, total=   5.0s\n"
     ]
    },
    {
     "name": "stderr",
     "output_type": "stream",
     "text": [
      "/opt/anaconda/lib/python3.7/site-packages/sklearn/preprocessing/label.py:151: DeprecationWarning: The truth value of an empty array is ambiguous. Returning False, but in future this will result in an error. Use `array.size > 0` to check that an array is not empty.\n",
      "  if diff:\n",
      "/opt/anaconda/lib/python3.7/site-packages/sklearn/preprocessing/label.py:151: DeprecationWarning: The truth value of an empty array is ambiguous. Returning False, but in future this will result in an error. Use `array.size > 0` to check that an array is not empty.\n",
      "  if diff:\n"
     ]
    },
    {
     "name": "stdout",
     "output_type": "stream",
     "text": [
      "[CV] boosting_type=gbdt, colsample_bytree=0.9, learning_rate=0.05, n_estimators=40, num_leaves=30, objective=binary, random_state=501, reg_alpha=0.2, reg_lambda=0.4, scale_pos_weight=20, subsample=0.75 \n",
      "[CV]  boosting_type=gbdt, colsample_bytree=0.9, learning_rate=0.05, n_estimators=40, num_leaves=30, objective=binary, random_state=501, reg_alpha=0.2, reg_lambda=0.2, scale_pos_weight=25, subsample=0.75, score=0.09999999999999998, total=   5.3s\n",
      "Did not meet early stopping. Best iteration is:\n",
      "[5]\tvalid's binary_logloss: 0.658626\tvalid's auc: 0.846562"
     ]
    },
    {
     "name": "stderr",
     "output_type": "stream",
     "text": [
      "/opt/anaconda/lib/python3.7/site-packages/sklearn/preprocessing/label.py:151: DeprecationWarning: The truth value of an empty array is ambiguous. Returning False, but in future this will result in an error. Use `array.size > 0` to check that an array is not empty.\n",
      "  if diff:\n"
     ]
    },
    {
     "name": "stdout",
     "output_type": "stream",
     "text": [
      "\n",
      "[CV] boosting_type=gbdt, colsample_bytree=0.9, learning_rate=0.05, n_estimators=40, num_leaves=30, objective=binary, random_state=501, reg_alpha=0.2, reg_lambda=0.4, scale_pos_weight=25, subsample=0.75 \n"
     ]
    },
    {
     "name": "stderr",
     "output_type": "stream",
     "text": [
      "/opt/anaconda/lib/python3.7/site-packages/sklearn/preprocessing/label.py:151: DeprecationWarning: The truth value of an empty array is ambiguous. Returning False, but in future this will result in an error. Use `array.size > 0` to check that an array is not empty.\n",
      "  if diff:\n",
      "/opt/anaconda/lib/python3.7/site-packages/sklearn/preprocessing/label.py:151: DeprecationWarning: The truth value of an empty array is ambiguous. Returning False, but in future this will result in an error. Use `array.size > 0` to check that an array is not empty.\n",
      "  if diff:\n"
     ]
    },
    {
     "name": "stdout",
     "output_type": "stream",
     "text": [
      "[CV]  boosting_type=gbdt, colsample_bytree=0.9, learning_rate=0.05, n_estimators=40, num_leaves=30, objective=binary, random_state=501, reg_alpha=0.2, reg_lambda=0.4, scale_pos_weight=15, subsample=0.75, score=0.9080000219229736, total=   5.5s\n",
      "Did not meet early stopping. Best iteration is:\n",
      "[4]\tvalid's binary_logloss: 0.662472\tvalid's auc: 0.831251[CV] boosting_type=gbdt, colsample_bytree=0.9, learning_rate=0.05, n_estimators=40, num_leaves=30, objective=binary, random_state=501, reg_alpha=0.2, reg_lambda=0.4, scale_pos_weight=25, subsample=0.75 \n",
      "\n"
     ]
    },
    {
     "name": "stderr",
     "output_type": "stream",
     "text": [
      "/opt/anaconda/lib/python3.7/site-packages/sklearn/preprocessing/label.py:151: DeprecationWarning: The truth value of an empty array is ambiguous. Returning False, but in future this will result in an error. Use `array.size > 0` to check that an array is not empty.\n",
      "  if diff:\n",
      "/opt/anaconda/lib/python3.7/site-packages/sklearn/preprocessing/label.py:151: DeprecationWarning: The truth value of an empty array is ambiguous. Returning False, but in future this will result in an error. Use `array.size > 0` to check that an array is not empty.\n",
      "  if diff:\n"
     ]
    },
    {
     "name": "stdout",
     "output_type": "stream",
     "text": [
      "[CV]  boosting_type=gbdt, colsample_bytree=0.9, learning_rate=0.05, n_estimators=40, num_leaves=30, objective=binary, random_state=501, reg_alpha=0.2, reg_lambda=0.4, scale_pos_weight=20, subsample=0.75, score=0.8715966764075139, total=   3.8s\n"
     ]
    },
    {
     "name": "stderr",
     "output_type": "stream",
     "text": [
      "/opt/anaconda/lib/python3.7/site-packages/sklearn/preprocessing/label.py:151: DeprecationWarning: The truth value of an empty array is ambiguous. Returning False, but in future this will result in an error. Use `array.size > 0` to check that an array is not empty.\n",
      "  if diff:\n"
     ]
    },
    {
     "name": "stdout",
     "output_type": "stream",
     "text": [
      "[CV]  boosting_type=gbdt, colsample_bytree=0.9, learning_rate=0.05, n_estimators=40, num_leaves=30, objective=binary, random_state=501, reg_alpha=0.2, reg_lambda=0.4, scale_pos_weight=15, subsample=0.75, score=0.8920052506577113, total=   5.4s\n",
      "[CV] boosting_type=gbdt, colsample_bytree=0.9, learning_rate=0.05, n_estimators=40, num_leaves=30, objective=binary, random_state=501, reg_alpha=0.2, reg_lambda=0.4, scale_pos_weight=25, subsample=0.75 \n",
      "[CV] boosting_type=gbdt, colsample_bytree=0.9, learning_rate=0.05, n_estimators=40, num_leaves=30, objective=binary, random_state=501, reg_alpha=0.2, reg_lambda=0.4, scale_pos_weight=25, subsample=0.75 \n"
     ]
    },
    {
     "name": "stderr",
     "output_type": "stream",
     "text": [
      "/opt/anaconda/lib/python3.7/site-packages/sklearn/preprocessing/label.py:151: DeprecationWarning: The truth value of an empty array is ambiguous. Returning False, but in future this will result in an error. Use `array.size > 0` to check that an array is not empty.\n",
      "  if diff:\n",
      "/opt/anaconda/lib/python3.7/site-packages/sklearn/preprocessing/label.py:151: DeprecationWarning: The truth value of an empty array is ambiguous. Returning False, but in future this will result in an error. Use `array.size > 0` to check that an array is not empty.\n",
      "  if diff:\n"
     ]
    },
    {
     "name": "stdout",
     "output_type": "stream",
     "text": [
      "[CV]  boosting_type=gbdt, colsample_bytree=0.9, learning_rate=0.05, n_estimators=40, num_leaves=30, objective=binary, random_state=501, reg_alpha=0.2, reg_lambda=0.4, scale_pos_weight=15, subsample=0.75, score=0.8938158214706597, total=   5.5s\n",
      "Did not meet early stopping. Best iteration is:\n",
      "[5]\tvalid's binary_logloss: 0.658167\tvalid's auc: 0.843441\n",
      "[CV] boosting_type=gbdt, colsample_bytree=0.9, learning_rate=0.05, n_estimators=40, num_leaves=30, objective=binary, random_state=501, reg_alpha=0.2, reg_lambda=0.4, scale_pos_weight=25, subsample=0.75 \n",
      "Training until validation scores don't improve for 50 rounds.\n",
      "Training until validation scores don't improve for 50 rounds.\n"
     ]
    },
    {
     "name": "stderr",
     "output_type": "stream",
     "text": [
      "/opt/anaconda/lib/python3.7/site-packages/sklearn/preprocessing/label.py:151: DeprecationWarning: The truth value of an empty array is ambiguous. Returning False, but in future this will result in an error. Use `array.size > 0` to check that an array is not empty.\n",
      "  if diff:\n"
     ]
    },
    {
     "name": "stdout",
     "output_type": "stream",
     "text": [
      "[CV]  boosting_type=gbdt, colsample_bytree=0.9, learning_rate=0.05, n_estimators=40, num_leaves=30, objective=binary, random_state=501, reg_alpha=0.2, reg_lambda=0.4, scale_pos_weight=20, subsample=0.75, score=0.872691319050516, total=   5.3s\n",
      "Training until validation scores don't improve for 50 rounds.\n",
      "[CV] boosting_type=gbdt, colsample_bytree=0.9, learning_rate=0.05, n_estimators=40, num_leaves=30, objective=binary, random_state=501, reg_alpha=0.6, reg_lambda=0.2, scale_pos_weight=15, subsample=0.75 \n"
     ]
    },
    {
     "name": "stderr",
     "output_type": "stream",
     "text": [
      "/opt/anaconda/lib/python3.7/site-packages/sklearn/preprocessing/label.py:151: DeprecationWarning: The truth value of an empty array is ambiguous. Returning False, but in future this will result in an error. Use `array.size > 0` to check that an array is not empty.\n",
      "  if diff:\n"
     ]
    },
    {
     "name": "stdout",
     "output_type": "stream",
     "text": [
      "Training until validation scores don't improve for 50 rounds.\n",
      "Training until validation scores don't improve for 50 rounds.\n"
     ]
    },
    {
     "name": "stderr",
     "output_type": "stream",
     "text": [
      "/opt/anaconda/lib/python3.7/site-packages/sklearn/preprocessing/label.py:151: DeprecationWarning: The truth value of an empty array is ambiguous. Returning False, but in future this will result in an error. Use `array.size > 0` to check that an array is not empty.\n",
      "  if diff:\n"
     ]
    },
    {
     "name": "stdout",
     "output_type": "stream",
     "text": [
      "[CV]  boosting_type=gbdt, colsample_bytree=0.9, learning_rate=0.05, n_estimators=40, num_leaves=30, objective=binary, random_state=501, reg_alpha=0.2, reg_lambda=0.4, scale_pos_weight=15, subsample=0.75, score=0.8885591070670504, total=   6.5s\n",
      "Did not meet early stopping. Best iteration is:\n",
      "[3]\tvalid's binary_logloss: 0.668228\tvalid's auc: 0.823047\n",
      "[CV] boosting_type=gbdt, colsample_bytree=0.9, learning_rate=0.05, n_estimators=40, num_leaves=30, objective=binary, random_state=501, reg_alpha=0.6, reg_lambda=0.2, scale_pos_weight=15, subsample=0.75 \n",
      "Did not meet early stopping. Best iteration is:\n",
      "[4]\tvalid's binary_logloss: 0.664234\tvalid's auc: 0.828603\n",
      "Training until validation scores don't improve for 50 rounds.\n",
      "Did not meet early stopping. Best iteration is:\n",
      "[5]\tvalid's binary_logloss: 0.657854\tvalid's auc: 0.844954\n"
     ]
    },
    {
     "name": "stderr",
     "output_type": "stream",
     "text": [
      "/opt/anaconda/lib/python3.7/site-packages/sklearn/preprocessing/label.py:151: DeprecationWarning: The truth value of an empty array is ambiguous. Returning False, but in future this will result in an error. Use `array.size > 0` to check that an array is not empty.\n",
      "  if diff:\n"
     ]
    },
    {
     "name": "stdout",
     "output_type": "stream",
     "text": [
      "Did not meet early stopping. Best iteration is:\n",
      "[4]\tvalid's binary_logloss: 0.663957\tvalid's auc: 0.842776\n"
     ]
    },
    {
     "name": "stderr",
     "output_type": "stream",
     "text": [
      "/opt/anaconda/lib/python3.7/site-packages/sklearn/preprocessing/label.py:151: DeprecationWarning: The truth value of an empty array is ambiguous. Returning False, but in future this will result in an error. Use `array.size > 0` to check that an array is not empty.\n",
      "  if diff:\n"
     ]
    },
    {
     "name": "stdout",
     "output_type": "stream",
     "text": [
      "Did not meet early stopping. Best iteration is:\n",
      "[3]\tvalid's binary_logloss: 0.666417\tvalid's auc: 0.824104\n",
      "Training until validation scores don't improve for 50 rounds.\n"
     ]
    },
    {
     "name": "stderr",
     "output_type": "stream",
     "text": [
      "/opt/anaconda/lib/python3.7/site-packages/sklearn/preprocessing/label.py:151: DeprecationWarning: The truth value of an empty array is ambiguous. Returning False, but in future this will result in an error. Use `array.size > 0` to check that an array is not empty.\n",
      "  if diff:\n",
      "/opt/anaconda/lib/python3.7/site-packages/sklearn/preprocessing/label.py:151: DeprecationWarning: The truth value of an empty array is ambiguous. Returning False, but in future this will result in an error. Use `array.size > 0` to check that an array is not empty.\n",
      "  if diff:\n"
     ]
    },
    {
     "name": "stdout",
     "output_type": "stream",
     "text": [
      "[CV]  boosting_type=gbdt, colsample_bytree=0.9, learning_rate=0.05, n_estimators=40, num_leaves=30, objective=binary, random_state=501, reg_alpha=0.2, reg_lambda=0.2, scale_pos_weight=25, subsample=0.75, score=0.09999999999999998, total=   8.9s\n",
      "[CV] boosting_type=gbdt, colsample_bytree=0.9, learning_rate=0.05, n_estimators=40, num_leaves=30, objective=binary, random_state=501, reg_alpha=0.6, reg_lambda=0.2, scale_pos_weight=15, subsample=0.75 \n"
     ]
    },
    {
     "name": "stderr",
     "output_type": "stream",
     "text": [
      "/opt/anaconda/lib/python3.7/site-packages/sklearn/preprocessing/label.py:151: DeprecationWarning: The truth value of an empty array is ambiguous. Returning False, but in future this will result in an error. Use `array.size > 0` to check that an array is not empty.\n",
      "  if diff:\n",
      "/opt/anaconda/lib/python3.7/site-packages/sklearn/preprocessing/label.py:151: DeprecationWarning: The truth value of an empty array is ambiguous. Returning False, but in future this will result in an error. Use `array.size > 0` to check that an array is not empty.\n",
      "  if diff:\n"
     ]
    },
    {
     "name": "stdout",
     "output_type": "stream",
     "text": [
      "[CV]  boosting_type=gbdt, colsample_bytree=0.9, learning_rate=0.05, n_estimators=40, num_leaves=30, objective=binary, random_state=501, reg_alpha=0.2, reg_lambda=0.4, scale_pos_weight=20, subsample=0.75, score=0.875010668222376, total=   6.1s\n"
     ]
    },
    {
     "name": "stderr",
     "output_type": "stream",
     "text": [
      "/opt/anaconda/lib/python3.7/site-packages/sklearn/preprocessing/label.py:151: DeprecationWarning: The truth value of an empty array is ambiguous. Returning False, but in future this will result in an error. Use `array.size > 0` to check that an array is not empty.\n",
      "  if diff:\n",
      "/opt/anaconda/lib/python3.7/site-packages/sklearn/preprocessing/label.py:151: DeprecationWarning: The truth value of an empty array is ambiguous. Returning False, but in future this will result in an error. Use `array.size > 0` to check that an array is not empty.\n",
      "  if diff:\n"
     ]
    },
    {
     "name": "stdout",
     "output_type": "stream",
     "text": [
      "[CV] boosting_type=gbdt, colsample_bytree=0.9, learning_rate=0.05, n_estimators=40, num_leaves=30, objective=binary, random_state=501, reg_alpha=0.6, reg_lambda=0.2, scale_pos_weight=15, subsample=0.75 \n",
      "[CV]  boosting_type=gbdt, colsample_bytree=0.9, learning_rate=0.05, n_estimators=40, num_leaves=30, objective=binary, random_state=501, reg_alpha=0.2, reg_lambda=0.4, scale_pos_weight=15, subsample=0.75, score=0.9026999146405816, total=   7.8s\n",
      "[CV] boosting_type=gbdt, colsample_bytree=0.9, learning_rate=0.05, n_estimators=40, num_leaves=30, objective=binary, random_state=501, reg_alpha=0.6, reg_lambda=0.2, scale_pos_weight=15, subsample=0.75 \n",
      "Training until validation scores don't improve for 50 rounds.\n"
     ]
    },
    {
     "name": "stderr",
     "output_type": "stream",
     "text": [
      "/opt/anaconda/lib/python3.7/site-packages/sklearn/preprocessing/label.py:151: DeprecationWarning: The truth value of an empty array is ambiguous. Returning False, but in future this will result in an error. Use `array.size > 0` to check that an array is not empty.\n",
      "  if diff:\n"
     ]
    },
    {
     "name": "stdout",
     "output_type": "stream",
     "text": [
      "[CV]  boosting_type=gbdt, colsample_bytree=0.9, learning_rate=0.05, n_estimators=40, num_leaves=30, objective=binary, random_state=501, reg_alpha=0.2, reg_lambda=0.4, scale_pos_weight=20, subsample=0.75, score=0.851549488946217, total=   6.0s\n",
      "Did not meet early stopping. Best iteration is:\n",
      "[4]\tvalid's binary_logloss: 0.663851\tvalid's auc: 0.833612[CV] boosting_type=gbdt, colsample_bytree=0.9, learning_rate=0.05, n_estimators=40, num_leaves=30, objective=binary, random_state=501, reg_alpha=0.6, reg_lambda=0.2, scale_pos_weight=20, subsample=0.75 \n",
      "\n",
      "Did not meet early stopping. Best iteration is:\n",
      "[3]\tvalid's binary_logloss: 0.667734\tvalid's auc: 0.820448"
     ]
    },
    {
     "name": "stderr",
     "output_type": "stream",
     "text": [
      "/opt/anaconda/lib/python3.7/site-packages/sklearn/preprocessing/label.py:151: DeprecationWarning: The truth value of an empty array is ambiguous. Returning False, but in future this will result in an error. Use `array.size > 0` to check that an array is not empty.\n",
      "  if diff:\n"
     ]
    },
    {
     "name": "stdout",
     "output_type": "stream",
     "text": [
      "\n",
      "[CV]  boosting_type=gbdt, colsample_bytree=0.9, learning_rate=0.05, n_estimators=40, num_leaves=30, objective=binary, random_state=501, reg_alpha=0.2, reg_lambda=0.4, scale_pos_weight=25, subsample=0.75, score=0.09999999999999998, total=   3.8s\n",
      "Training until validation scores don't improve for 50 rounds.\n"
     ]
    },
    {
     "name": "stderr",
     "output_type": "stream",
     "text": [
      "/opt/anaconda/lib/python3.7/site-packages/sklearn/preprocessing/label.py:151: DeprecationWarning: The truth value of an empty array is ambiguous. Returning False, but in future this will result in an error. Use `array.size > 0` to check that an array is not empty.\n",
      "  if diff:\n"
     ]
    },
    {
     "name": "stdout",
     "output_type": "stream",
     "text": [
      "[CV] boosting_type=gbdt, colsample_bytree=0.9, learning_rate=0.05, n_estimators=40, num_leaves=30, objective=binary, random_state=501, reg_alpha=0.6, reg_lambda=0.2, scale_pos_weight=20, subsample=0.75 \n",
      "Training until validation scores don't improve for 50 rounds.\n",
      "Did not meet early stopping. Best iteration is:\n",
      "[3]\tvalid's binary_logloss: 0.667251\tvalid's auc: 0.831092\n"
     ]
    },
    {
     "name": "stderr",
     "output_type": "stream",
     "text": [
      "/opt/anaconda/lib/python3.7/site-packages/sklearn/preprocessing/label.py:151: DeprecationWarning: The truth value of an empty array is ambiguous. Returning False, but in future this will result in an error. Use `array.size > 0` to check that an array is not empty.\n",
      "  if diff:\n"
     ]
    },
    {
     "name": "stdout",
     "output_type": "stream",
     "text": [
      "Training until validation scores don't improve for 50 rounds.\n"
     ]
    },
    {
     "name": "stderr",
     "output_type": "stream",
     "text": [
      "/opt/anaconda/lib/python3.7/site-packages/sklearn/preprocessing/label.py:151: DeprecationWarning: The truth value of an empty array is ambiguous. Returning False, but in future this will result in an error. Use `array.size > 0` to check that an array is not empty.\n",
      "  if diff:\n"
     ]
    },
    {
     "name": "stdout",
     "output_type": "stream",
     "text": [
      "[CV]  boosting_type=gbdt, colsample_bytree=0.9, learning_rate=0.05, n_estimators=40, num_leaves=30, objective=binary, random_state=501, reg_alpha=0.2, reg_lambda=0.4, scale_pos_weight=20, subsample=0.75, score=0.8861127444774624, total=   4.8s\n",
      "Did not meet early stopping. Best iteration is:\n",
      "[3]\tvalid's binary_logloss: 0.668248\tvalid's auc: 0.823042[CV] boosting_type=gbdt, colsample_bytree=0.9, learning_rate=0.05, n_estimators=40, num_leaves=30, objective=binary, random_state=501, reg_alpha=0.6, reg_lambda=0.2, scale_pos_weight=20, subsample=0.75 \n",
      "\n",
      "Training until validation scores don't improve for 50 rounds.\n"
     ]
    },
    {
     "name": "stderr",
     "output_type": "stream",
     "text": [
      "/opt/anaconda/lib/python3.7/site-packages/sklearn/preprocessing/label.py:151: DeprecationWarning: The truth value of an empty array is ambiguous. Returning False, but in future this will result in an error. Use `array.size > 0` to check that an array is not empty.\n",
      "  if diff:\n",
      "/opt/anaconda/lib/python3.7/site-packages/sklearn/preprocessing/label.py:151: DeprecationWarning: The truth value of an empty array is ambiguous. Returning False, but in future this will result in an error. Use `array.size > 0` to check that an array is not empty.\n",
      "  if diff:\n"
     ]
    },
    {
     "name": "stdout",
     "output_type": "stream",
     "text": [
      "Did not meet early stopping. Best iteration is:\n",
      "[4]\tvalid's binary_logloss: 0.66757\tvalid's auc: 0.831856[CV]  boosting_type=gbdt, colsample_bytree=0.9, learning_rate=0.05, n_estimators=40, num_leaves=30, objective=binary, random_state=501, reg_alpha=0.2, reg_lambda=0.4, scale_pos_weight=25, subsample=0.75, score=0.09999999999999998, total=   4.9s\n",
      "Training until validation scores don't improve for 50 rounds.\n"
     ]
    },
    {
     "name": "stderr",
     "output_type": "stream",
     "text": [
      "/opt/anaconda/lib/python3.7/site-packages/sklearn/preprocessing/label.py:151: DeprecationWarning: The truth value of an empty array is ambiguous. Returning False, but in future this will result in an error. Use `array.size > 0` to check that an array is not empty.\n",
      "  if diff:\n"
     ]
    },
    {
     "name": "stdout",
     "output_type": "stream",
     "text": [
      "[CV] boosting_type=gbdt, colsample_bytree=0.9, learning_rate=0.05, n_estimators=40, num_leaves=30, objective=binary, random_state=501, reg_alpha=0.6, reg_lambda=0.2, scale_pos_weight=20, subsample=0.75 \n",
      "\n"
     ]
    },
    {
     "name": "stderr",
     "output_type": "stream",
     "text": [
      "/opt/anaconda/lib/python3.7/site-packages/sklearn/preprocessing/label.py:151: DeprecationWarning: The truth value of an empty array is ambiguous. Returning False, but in future this will result in an error. Use `array.size > 0` to check that an array is not empty.\n",
      "  if diff:\n"
     ]
    },
    {
     "name": "stdout",
     "output_type": "stream",
     "text": [
      "[CV]  boosting_type=gbdt, colsample_bytree=0.9, learning_rate=0.05, n_estimators=40, num_leaves=30, objective=binary, random_state=501, reg_alpha=0.2, reg_lambda=0.4, scale_pos_weight=25, subsample=0.75, score=0.09999999999999998, total=   5.2s\n",
      "[CV] boosting_type=gbdt, colsample_bytree=0.9, learning_rate=0.05, n_estimators=40, num_leaves=30, objective=binary, random_state=501, reg_alpha=0.6, reg_lambda=0.2, scale_pos_weight=20, subsample=0.75 \n"
     ]
    },
    {
     "name": "stderr",
     "output_type": "stream",
     "text": [
      "/opt/anaconda/lib/python3.7/site-packages/sklearn/preprocessing/label.py:151: DeprecationWarning: The truth value of an empty array is ambiguous. Returning False, but in future this will result in an error. Use `array.size > 0` to check that an array is not empty.\n",
      "  if diff:\n"
     ]
    },
    {
     "name": "stdout",
     "output_type": "stream",
     "text": [
      "[CV]  boosting_type=gbdt, colsample_bytree=0.9, learning_rate=0.05, n_estimators=40, num_leaves=30, objective=binary, random_state=501, reg_alpha=0.2, reg_lambda=0.4, scale_pos_weight=25, subsample=0.75, score=0.09999999999999998, total=   5.4s\n",
      "[CV] boosting_type=gbdt, colsample_bytree=0.9, learning_rate=0.05, n_estimators=40, num_leaves=30, objective=binary, random_state=501, reg_alpha=0.6, reg_lambda=0.2, scale_pos_weight=25, subsample=0.75 \n"
     ]
    },
    {
     "name": "stderr",
     "output_type": "stream",
     "text": [
      "/opt/anaconda/lib/python3.7/site-packages/sklearn/preprocessing/label.py:151: DeprecationWarning: The truth value of an empty array is ambiguous. Returning False, but in future this will result in an error. Use `array.size > 0` to check that an array is not empty.\n",
      "  if diff:\n"
     ]
    },
    {
     "name": "stdout",
     "output_type": "stream",
     "text": [
      "Training until validation scores don't improve for 50 rounds.\n",
      "Did not meet early stopping. Best iteration is:\n",
      "[5]\tvalid's binary_logloss: 0.658435\tvalid's auc: 0.842175\n",
      "Training until validation scores don't improve for 50 rounds.\n",
      "Did not meet early stopping. Best iteration is:\n",
      "[5]\tvalid's binary_logloss: 0.656915\tvalid's auc: 0.846538\n"
     ]
    },
    {
     "name": "stderr",
     "output_type": "stream",
     "text": [
      "/opt/anaconda/lib/python3.7/site-packages/sklearn/preprocessing/label.py:151: DeprecationWarning: The truth value of an empty array is ambiguous. Returning False, but in future this will result in an error. Use `array.size > 0` to check that an array is not empty.\n",
      "  if diff:\n",
      "/opt/anaconda/lib/python3.7/site-packages/sklearn/preprocessing/label.py:151: DeprecationWarning: The truth value of an empty array is ambiguous. Returning False, but in future this will result in an error. Use `array.size > 0` to check that an array is not empty.\n",
      "  if diff:\n"
     ]
    },
    {
     "name": "stdout",
     "output_type": "stream",
     "text": [
      "[CV]  boosting_type=gbdt, colsample_bytree=0.9, learning_rate=0.05, n_estimators=40, num_leaves=30, objective=binary, random_state=501, reg_alpha=0.2, reg_lambda=0.4, scale_pos_weight=25, subsample=0.75, score=0.9010600287510163, total=   5.6s\n",
      "Training until validation scores don't improve for 50 rounds.\n"
     ]
    },
    {
     "name": "stderr",
     "output_type": "stream",
     "text": [
      "/opt/anaconda/lib/python3.7/site-packages/sklearn/preprocessing/label.py:151: DeprecationWarning: The truth value of an empty array is ambiguous. Returning False, but in future this will result in an error. Use `array.size > 0` to check that an array is not empty.\n",
      "  if diff:\n"
     ]
    },
    {
     "name": "stdout",
     "output_type": "stream",
     "text": [
      "[CV] boosting_type=gbdt, colsample_bytree=0.9, learning_rate=0.05, n_estimators=40, num_leaves=30, objective=binary, random_state=501, reg_alpha=0.6, reg_lambda=0.2, scale_pos_weight=25, subsample=0.75 \n",
      "Did not meet early stopping. Best iteration is:\n",
      "[5]\tvalid's binary_logloss: 0.657929\tvalid's auc: 0.844371\n",
      "Training until validation scores don't improve for 50 rounds.\n"
     ]
    },
    {
     "name": "stderr",
     "output_type": "stream",
     "text": [
      "/opt/anaconda/lib/python3.7/site-packages/sklearn/preprocessing/label.py:151: DeprecationWarning: The truth value of an empty array is ambiguous. Returning False, but in future this will result in an error. Use `array.size > 0` to check that an array is not empty.\n",
      "  if diff:\n"
     ]
    },
    {
     "name": "stdout",
     "output_type": "stream",
     "text": [
      "Did not meet early stopping. Best iteration is:\n",
      "[4]\tvalid's binary_logloss: 0.662474\tvalid's auc: 0.831255"
     ]
    },
    {
     "name": "stderr",
     "output_type": "stream",
     "text": [
      "/opt/anaconda/lib/python3.7/site-packages/sklearn/preprocessing/label.py:151: DeprecationWarning: The truth value of an empty array is ambiguous. Returning False, but in future this will result in an error. Use `array.size > 0` to check that an array is not empty.\n",
      "  if diff:\n"
     ]
    },
    {
     "name": "stdout",
     "output_type": "stream",
     "text": [
      "[CV]  boosting_type=gbdt, colsample_bytree=0.9, learning_rate=0.05, n_estimators=40, num_leaves=30, objective=binary, random_state=501, reg_alpha=0.6, reg_lambda=0.2, scale_pos_weight=15, subsample=0.75, score=0.8945787849097798, total=   5.2s\n",
      "\n",
      "[CV] boosting_type=gbdt, colsample_bytree=0.9, learning_rate=0.05, n_estimators=40, num_leaves=30, objective=binary, random_state=501, reg_alpha=0.6, reg_lambda=0.2, scale_pos_weight=25, subsample=0.75 \n",
      "Did not meet early stopping. Best iteration is:\n",
      "[5]\tvalid's binary_logloss: 0.658171\tvalid's auc: 0.843444"
     ]
    },
    {
     "name": "stderr",
     "output_type": "stream",
     "text": [
      "/opt/anaconda/lib/python3.7/site-packages/sklearn/preprocessing/label.py:151: DeprecationWarning: The truth value of an empty array is ambiguous. Returning False, but in future this will result in an error. Use `array.size > 0` to check that an array is not empty.\n",
      "  if diff:\n",
      "/opt/anaconda/lib/python3.7/site-packages/sklearn/preprocessing/label.py:151: DeprecationWarning: The truth value of an empty array is ambiguous. Returning False, but in future this will result in an error. Use `array.size > 0` to check that an array is not empty.\n",
      "  if diff:\n"
     ]
    },
    {
     "name": "stdout",
     "output_type": "stream",
     "text": [
      "\n",
      "[CV]  boosting_type=gbdt, colsample_bytree=0.9, learning_rate=0.05, n_estimators=40, num_leaves=30, objective=binary, random_state=501, reg_alpha=0.6, reg_lambda=0.2, scale_pos_weight=15, subsample=0.75, score=0.8977517990540237, total=   6.1s\n",
      "[CV] boosting_type=gbdt, colsample_bytree=0.9, learning_rate=0.05, n_estimators=40, num_leaves=30, objective=binary, random_state=501, reg_alpha=0.6, reg_lambda=0.2, scale_pos_weight=25, subsample=0.75 \n"
     ]
    },
    {
     "name": "stderr",
     "output_type": "stream",
     "text": [
      "/opt/anaconda/lib/python3.7/site-packages/sklearn/preprocessing/label.py:151: DeprecationWarning: The truth value of an empty array is ambiguous. Returning False, but in future this will result in an error. Use `array.size > 0` to check that an array is not empty.\n",
      "  if diff:\n"
     ]
    },
    {
     "name": "stdout",
     "output_type": "stream",
     "text": [
      "[CV]  boosting_type=gbdt, colsample_bytree=0.9, learning_rate=0.05, n_estimators=40, num_leaves=30, objective=binary, random_state=501, reg_alpha=0.6, reg_lambda=0.2, scale_pos_weight=15, subsample=0.75, score=0.9024041538781762, total=   4.4s\n",
      "[CV] boosting_type=gbdt, colsample_bytree=0.9, learning_rate=0.05, n_estimators=40, num_leaves=30, objective=binary, random_state=501, reg_alpha=0.6, reg_lambda=0.2, scale_pos_weight=25, subsample=0.75 \n",
      "Did not meet early stopping. Best iteration is:\n",
      "[4]\tvalid's binary_logloss: 0.663962\tvalid's auc: 0.842775\n"
     ]
    },
    {
     "name": "stderr",
     "output_type": "stream",
     "text": [
      "/opt/anaconda/lib/python3.7/site-packages/sklearn/preprocessing/label.py:151: DeprecationWarning: The truth value of an empty array is ambiguous. Returning False, but in future this will result in an error. Use `array.size > 0` to check that an array is not empty.\n",
      "  if diff:\n",
      "/opt/anaconda/lib/python3.7/site-packages/sklearn/preprocessing/label.py:151: DeprecationWarning: The truth value of an empty array is ambiguous. Returning False, but in future this will result in an error. Use `array.size > 0` to check that an array is not empty.\n",
      "  if diff:\n"
     ]
    },
    {
     "name": "stdout",
     "output_type": "stream",
     "text": [
      "Training until validation scores don't improve for 50 rounds.\n",
      "[CV]  boosting_type=gbdt, colsample_bytree=0.9, learning_rate=0.05, n_estimators=40, num_leaves=30, objective=binary, random_state=501, reg_alpha=0.6, reg_lambda=0.2, scale_pos_weight=20, subsample=0.75, score=0.872691319050516, total=   4.4s\n",
      "[CV] boosting_type=gbdt, colsample_bytree=0.9, learning_rate=0.05, n_estimators=40, num_leaves=30, objective=binary, random_state=501, reg_alpha=0.6, reg_lambda=0.4, scale_pos_weight=15, subsample=0.75 \n"
     ]
    },
    {
     "name": "stderr",
     "output_type": "stream",
     "text": [
      "/opt/anaconda/lib/python3.7/site-packages/sklearn/preprocessing/label.py:151: DeprecationWarning: The truth value of an empty array is ambiguous. Returning False, but in future this will result in an error. Use `array.size > 0` to check that an array is not empty.\n",
      "  if diff:\n"
     ]
    },
    {
     "name": "stdout",
     "output_type": "stream",
     "text": [
      "Did not meet early stopping. Best iteration is:\n",
      "[4]\tvalid's binary_logloss: 0.664263\tvalid's auc: 0.830042Training until validation scores don't improve for 50 rounds.\n",
      "\n"
     ]
    },
    {
     "name": "stderr",
     "output_type": "stream",
     "text": [
      "/opt/anaconda/lib/python3.7/site-packages/sklearn/preprocessing/label.py:151: DeprecationWarning: The truth value of an empty array is ambiguous. Returning False, but in future this will result in an error. Use `array.size > 0` to check that an array is not empty.\n",
      "  if diff:\n"
     ]
    },
    {
     "name": "stdout",
     "output_type": "stream",
     "text": [
      "Training until validation scores don't improve for 50 rounds.\n",
      "[CV]  boosting_type=gbdt, colsample_bytree=0.9, learning_rate=0.05, n_estimators=40, num_leaves=30, objective=binary, random_state=501, reg_alpha=0.6, reg_lambda=0.2, scale_pos_weight=15, subsample=0.75, score=0.8885821697976778, total=   5.4s\n",
      "[CV] boosting_type=gbdt, colsample_bytree=0.9, learning_rate=0.05, n_estimators=40, num_leaves=30, objective=binary, random_state=501, reg_alpha=0.6, reg_lambda=0.4, scale_pos_weight=15, subsample=0.75 \n"
     ]
    },
    {
     "name": "stderr",
     "output_type": "stream",
     "text": [
      "/opt/anaconda/lib/python3.7/site-packages/sklearn/preprocessing/label.py:151: DeprecationWarning: The truth value of an empty array is ambiguous. Returning False, but in future this will result in an error. Use `array.size > 0` to check that an array is not empty.\n",
      "  if diff:\n"
     ]
    },
    {
     "name": "stdout",
     "output_type": "stream",
     "text": [
      "Training until validation scores don't improve for 50 rounds.\n"
     ]
    },
    {
     "name": "stderr",
     "output_type": "stream",
     "text": [
      "/opt/anaconda/lib/python3.7/site-packages/sklearn/preprocessing/label.py:151: DeprecationWarning: The truth value of an empty array is ambiguous. Returning False, but in future this will result in an error. Use `array.size > 0` to check that an array is not empty.\n",
      "  if diff:\n"
     ]
    },
    {
     "name": "stdout",
     "output_type": "stream",
     "text": [
      "[CV]  boosting_type=gbdt, colsample_bytree=0.9, learning_rate=0.05, n_estimators=40, num_leaves=30, objective=binary, random_state=501, reg_alpha=0.6, reg_lambda=0.2, scale_pos_weight=20, subsample=0.75, score=0.851549488946217, total=   3.6s\n",
      "[CV] boosting_type=gbdt, colsample_bytree=0.9, learning_rate=0.05, n_estimators=40, num_leaves=30, objective=binary, random_state=501, reg_alpha=0.6, reg_lambda=0.4, scale_pos_weight=15, subsample=0.75 \n",
      "Training until validation scores don't improve for 50 rounds.\n"
     ]
    },
    {
     "name": "stderr",
     "output_type": "stream",
     "text": [
      "/opt/anaconda/lib/python3.7/site-packages/sklearn/preprocessing/label.py:151: DeprecationWarning: The truth value of an empty array is ambiguous. Returning False, but in future this will result in an error. Use `array.size > 0` to check that an array is not empty.\n",
      "  if diff:\n"
     ]
    },
    {
     "name": "stdout",
     "output_type": "stream",
     "text": [
      "[CV]  boosting_type=gbdt, colsample_bytree=0.9, learning_rate=0.05, n_estimators=40, num_leaves=30, objective=binary, random_state=501, reg_alpha=0.6, reg_lambda=0.2, scale_pos_weight=20, subsample=0.75, score=0.8748928343762005, total=   5.6s\n",
      "Did not meet early stopping. Best iteration is:\n",
      "[5]\tvalid's binary_logloss: 0.658633\tvalid's auc: 0.846559\n",
      "[CV] boosting_type=gbdt, colsample_bytree=0.9, learning_rate=0.05, n_estimators=40, num_leaves=30, objective=binary, random_state=501, reg_alpha=0.6, reg_lambda=0.4, scale_pos_weight=15, subsample=0.75 \n"
     ]
    },
    {
     "name": "stderr",
     "output_type": "stream",
     "text": [
      "/opt/anaconda/lib/python3.7/site-packages/sklearn/preprocessing/label.py:151: DeprecationWarning: The truth value of an empty array is ambiguous. Returning False, but in future this will result in an error. Use `array.size > 0` to check that an array is not empty.\n",
      "  if diff:\n"
     ]
    },
    {
     "name": "stdout",
     "output_type": "stream",
     "text": [
      "Did not meet early stopping. Best iteration is:\n",
      "[4]\tvalid's binary_logloss: 0.665729\tvalid's auc: 0.835075\n",
      "Did not meet early stopping. Best iteration is:\n",
      "[3]\tvalid's binary_logloss: 0.667734\tvalid's auc: 0.820456Training until validation scores don't improve for 50 rounds.\n",
      "\n"
     ]
    },
    {
     "name": "stderr",
     "output_type": "stream",
     "text": [
      "/opt/anaconda/lib/python3.7/site-packages/sklearn/preprocessing/label.py:151: DeprecationWarning: The truth value of an empty array is ambiguous. Returning False, but in future this will result in an error. Use `array.size > 0` to check that an array is not empty.\n",
      "  if diff:\n",
      "/opt/anaconda/lib/python3.7/site-packages/sklearn/preprocessing/label.py:151: DeprecationWarning: The truth value of an empty array is ambiguous. Returning False, but in future this will result in an error. Use `array.size > 0` to check that an array is not empty.\n",
      "  if diff:\n"
     ]
    },
    {
     "name": "stdout",
     "output_type": "stream",
     "text": [
      "Did not meet early stopping. Best iteration is:\n",
      "[4]\tvalid's binary_logloss: 0.663736\tvalid's auc: 0.834782[CV]  boosting_type=gbdt, colsample_bytree=0.9, learning_rate=0.05, n_estimators=40, num_leaves=30, objective=binary, random_state=501, reg_alpha=0.6, reg_lambda=0.2, scale_pos_weight=15, subsample=0.75, score=0.8938158214706597, total=   8.0s\n",
      "\n",
      "Training until validation scores don't improve for 50 rounds.\n",
      "[CV] boosting_type=gbdt, colsample_bytree=0.9, learning_rate=0.05, n_estimators=40, num_leaves=30, objective=binary, random_state=501, reg_alpha=0.6, reg_lambda=0.4, scale_pos_weight=15, subsample=0.75 \n"
     ]
    },
    {
     "name": "stderr",
     "output_type": "stream",
     "text": [
      "/opt/anaconda/lib/python3.7/site-packages/sklearn/preprocessing/label.py:151: DeprecationWarning: The truth value of an empty array is ambiguous. Returning False, but in future this will result in an error. Use `array.size > 0` to check that an array is not empty.\n",
      "  if diff:\n"
     ]
    },
    {
     "name": "stdout",
     "output_type": "stream",
     "text": [
      "Training until validation scores don't improve for 50 rounds.\n"
     ]
    },
    {
     "name": "stderr",
     "output_type": "stream",
     "text": [
      "/opt/anaconda/lib/python3.7/site-packages/sklearn/preprocessing/label.py:151: DeprecationWarning: The truth value of an empty array is ambiguous. Returning False, but in future this will result in an error. Use `array.size > 0` to check that an array is not empty.\n",
      "  if diff:\n"
     ]
    },
    {
     "name": "stdout",
     "output_type": "stream",
     "text": [
      "Did not meet early stopping. Best iteration is:\n",
      "[4]\tvalid's binary_logloss: 0.667594\tvalid's auc: 0.831849[CV]  boosting_type=gbdt, colsample_bytree=0.9, learning_rate=0.05, n_estimators=40, num_leaves=30, objective=binary, random_state=501, reg_alpha=0.6, reg_lambda=0.2, scale_pos_weight=25, subsample=0.75, score=0.09999999999999998, total=   4.5s\n"
     ]
    },
    {
     "name": "stderr",
     "output_type": "stream",
     "text": [
      "/opt/anaconda/lib/python3.7/site-packages/sklearn/preprocessing/label.py:151: DeprecationWarning: The truth value of an empty array is ambiguous. Returning False, but in future this will result in an error. Use `array.size > 0` to check that an array is not empty.\n",
      "  if diff:\n"
     ]
    },
    {
     "name": "stdout",
     "output_type": "stream",
     "text": [
      "\n",
      "[CV] boosting_type=gbdt, colsample_bytree=0.9, learning_rate=0.05, n_estimators=40, num_leaves=30, objective=binary, random_state=501, reg_alpha=0.6, reg_lambda=0.4, scale_pos_weight=20, subsample=0.75 \n",
      "[CV]  boosting_type=gbdt, colsample_bytree=0.9, learning_rate=0.05, n_estimators=40, num_leaves=30, objective=binary, random_state=501, reg_alpha=0.6, reg_lambda=0.2, scale_pos_weight=25, subsample=0.75, score=0.8897042042782684, total=   5.5s\n",
      "[CV] boosting_type=gbdt, colsample_bytree=0.9, learning_rate=0.05, n_estimators=40, num_leaves=30, objective=binary, random_state=501, reg_alpha=0.6, reg_lambda=0.4, scale_pos_weight=20, subsample=0.75 \n"
     ]
    },
    {
     "name": "stderr",
     "output_type": "stream",
     "text": [
      "/opt/anaconda/lib/python3.7/site-packages/sklearn/preprocessing/label.py:151: DeprecationWarning: The truth value of an empty array is ambiguous. Returning False, but in future this will result in an error. Use `array.size > 0` to check that an array is not empty.\n",
      "  if diff:\n"
     ]
    },
    {
     "name": "stdout",
     "output_type": "stream",
     "text": [
      "Did not meet early stopping. Best iteration is:\n",
      "[4]\tvalid's binary_logloss: 0.664245\tvalid's auc: 0.828614\n",
      "Did not meet early stopping. Best iteration is:\n",
      "[3]\tvalid's binary_logloss: 0.66814\tvalid's auc: 0.822981\n"
     ]
    },
    {
     "name": "stderr",
     "output_type": "stream",
     "text": [
      "/opt/anaconda/lib/python3.7/site-packages/sklearn/preprocessing/label.py:151: DeprecationWarning: The truth value of an empty array is ambiguous. Returning False, but in future this will result in an error. Use `array.size > 0` to check that an array is not empty.\n",
      "  if diff:\n",
      "/opt/anaconda/lib/python3.7/site-packages/sklearn/preprocessing/label.py:151: DeprecationWarning: The truth value of an empty array is ambiguous. Returning False, but in future this will result in an error. Use `array.size > 0` to check that an array is not empty.\n",
      "  if diff:\n"
     ]
    },
    {
     "name": "stdout",
     "output_type": "stream",
     "text": [
      "[CV]  boosting_type=gbdt, colsample_bytree=0.9, learning_rate=0.05, n_estimators=40, num_leaves=30, objective=binary, random_state=501, reg_alpha=0.6, reg_lambda=0.2, scale_pos_weight=20, subsample=0.75, score=0.8872733509105263, total=   6.3s\n"
     ]
    },
    {
     "name": "stderr",
     "output_type": "stream",
     "text": [
      "/opt/anaconda/lib/python3.7/site-packages/sklearn/preprocessing/label.py:151: DeprecationWarning: The truth value of an empty array is ambiguous. Returning False, but in future this will result in an error. Use `array.size > 0` to check that an array is not empty.\n",
      "  if diff:\n"
     ]
    },
    {
     "name": "stdout",
     "output_type": "stream",
     "text": [
      "[CV] boosting_type=gbdt, colsample_bytree=0.9, learning_rate=0.05, n_estimators=40, num_leaves=30, objective=binary, random_state=501, reg_alpha=0.6, reg_lambda=0.4, scale_pos_weight=20, subsample=0.75 \n"
     ]
    },
    {
     "name": "stderr",
     "output_type": "stream",
     "text": [
      "/opt/anaconda/lib/python3.7/site-packages/sklearn/preprocessing/label.py:151: DeprecationWarning: The truth value of an empty array is ambiguous. Returning False, but in future this will result in an error. Use `array.size > 0` to check that an array is not empty.\n",
      "  if diff:\n",
      "/opt/anaconda/lib/python3.7/site-packages/sklearn/preprocessing/label.py:151: DeprecationWarning: The truth value of an empty array is ambiguous. Returning False, but in future this will result in an error. Use `array.size > 0` to check that an array is not empty.\n",
      "  if diff:\n"
     ]
    },
    {
     "name": "stdout",
     "output_type": "stream",
     "text": [
      "[CV]  boosting_type=gbdt, colsample_bytree=0.9, learning_rate=0.05, n_estimators=40, num_leaves=30, objective=binary, random_state=501, reg_alpha=0.6, reg_lambda=0.2, scale_pos_weight=25, subsample=0.75, score=0.9010600287510163, total=   4.5s\n",
      "[CV] boosting_type=gbdt, colsample_bytree=0.9, learning_rate=0.05, n_estimators=40, num_leaves=30, objective=binary, random_state=501, reg_alpha=0.6, reg_lambda=0.4, scale_pos_weight=20, subsample=0.75 \n"
     ]
    },
    {
     "name": "stderr",
     "output_type": "stream",
     "text": [
      "/opt/anaconda/lib/python3.7/site-packages/sklearn/preprocessing/label.py:151: DeprecationWarning: The truth value of an empty array is ambiguous. Returning False, but in future this will result in an error. Use `array.size > 0` to check that an array is not empty.\n",
      "  if diff:\n"
     ]
    },
    {
     "name": "stdout",
     "output_type": "stream",
     "text": [
      "Training until validation scores don't improve for 50 rounds.\n",
      "[CV]  boosting_type=gbdt, colsample_bytree=0.9, learning_rate=0.05, n_estimators=40, num_leaves=30, objective=binary, random_state=501, reg_alpha=0.6, reg_lambda=0.2, scale_pos_weight=20, subsample=0.75, score=0.875010668222376, total=   8.0s\n",
      "[CV] boosting_type=gbdt, colsample_bytree=0.9, learning_rate=0.05, n_estimators=40, num_leaves=30, objective=binary, random_state=501, reg_alpha=0.6, reg_lambda=0.4, scale_pos_weight=20, subsample=0.75 \n",
      "Training until validation scores don't improve for 50 rounds.\n"
     ]
    },
    {
     "name": "stderr",
     "output_type": "stream",
     "text": [
      "/opt/anaconda/lib/python3.7/site-packages/sklearn/preprocessing/label.py:151: DeprecationWarning: The truth value of an empty array is ambiguous. Returning False, but in future this will result in an error. Use `array.size > 0` to check that an array is not empty.\n",
      "  if diff:\n"
     ]
    },
    {
     "name": "stdout",
     "output_type": "stream",
     "text": [
      "[CV]  boosting_type=gbdt, colsample_bytree=0.9, learning_rate=0.05, n_estimators=40, num_leaves=30, objective=binary, random_state=501, reg_alpha=0.6, reg_lambda=0.2, scale_pos_weight=25, subsample=0.75, score=0.09999999999999998, total=   5.3s\n",
      "Training until validation scores don't improve for 50 rounds.\n",
      "[CV] boosting_type=gbdt, colsample_bytree=0.9, learning_rate=0.05, n_estimators=40, num_leaves=30, objective=binary, random_state=501, reg_alpha=0.6, reg_lambda=0.4, scale_pos_weight=25, subsample=0.75 \n",
      "Training until validation scores don't improve for 50 rounds.\n",
      "Did not meet early stopping. Best iteration is:\n",
      "[5]\tvalid's binary_logloss: 0.658462\tvalid's auc: 0.842152\n",
      "Did not meet early stopping. Best iteration is:\n",
      "[5]\tvalid's binary_logloss: 0.658646\tvalid's auc: 0.84657\n",
      "Training until validation scores don't improve for 50 rounds.\n",
      "Did not meet early stopping. Best iteration is:\n",
      "[5]\tvalid's binary_logloss: 0.656967\tvalid's auc: 0.845478\n",
      "Training until validation scores don't improve for 50 rounds.\n"
     ]
    },
    {
     "name": "stderr",
     "output_type": "stream",
     "text": [
      "/opt/anaconda/lib/python3.7/site-packages/sklearn/preprocessing/label.py:151: DeprecationWarning: The truth value of an empty array is ambiguous. Returning False, but in future this will result in an error. Use `array.size > 0` to check that an array is not empty.\n",
      "  if diff:\n"
     ]
    },
    {
     "name": "stdout",
     "output_type": "stream",
     "text": [
      "Training until validation scores don't improve for 50 rounds.\n"
     ]
    },
    {
     "name": "stderr",
     "output_type": "stream",
     "text": [
      "/opt/anaconda/lib/python3.7/site-packages/sklearn/preprocessing/label.py:151: DeprecationWarning: The truth value of an empty array is ambiguous. Returning False, but in future this will result in an error. Use `array.size > 0` to check that an array is not empty.\n",
      "  if diff:\n"
     ]
    },
    {
     "name": "stdout",
     "output_type": "stream",
     "text": [
      "Did not meet early stopping. Best iteration is:\n",
      "[3]\tvalid's binary_logloss: 0.667256\tvalid's auc: 0.831083\n"
     ]
    },
    {
     "name": "stderr",
     "output_type": "stream",
     "text": [
      "/opt/anaconda/lib/python3.7/site-packages/sklearn/preprocessing/label.py:151: DeprecationWarning: The truth value of an empty array is ambiguous. Returning False, but in future this will result in an error. Use `array.size > 0` to check that an array is not empty.\n",
      "  if diff:\n"
     ]
    },
    {
     "name": "stdout",
     "output_type": "stream",
     "text": [
      "[CV]  boosting_type=gbdt, colsample_bytree=0.9, learning_rate=0.05, n_estimators=40, num_leaves=30, objective=binary, random_state=501, reg_alpha=0.6, reg_lambda=0.4, scale_pos_weight=15, subsample=0.75, score=0.8938158214706597, total=   5.3s\n"
     ]
    },
    {
     "name": "stderr",
     "output_type": "stream",
     "text": [
      "/opt/anaconda/lib/python3.7/site-packages/sklearn/preprocessing/label.py:151: DeprecationWarning: The truth value of an empty array is ambiguous. Returning False, but in future this will result in an error. Use `array.size > 0` to check that an array is not empty.\n",
      "  if diff:\n"
     ]
    },
    {
     "name": "stdout",
     "output_type": "stream",
     "text": [
      "[CV] boosting_type=gbdt, colsample_bytree=0.9, learning_rate=0.05, n_estimators=40, num_leaves=30, objective=binary, random_state=501, reg_alpha=0.6, reg_lambda=0.4, scale_pos_weight=25, subsample=0.75 \n"
     ]
    },
    {
     "name": "stderr",
     "output_type": "stream",
     "text": [
      "/opt/anaconda/lib/python3.7/site-packages/sklearn/preprocessing/label.py:151: DeprecationWarning: The truth value of an empty array is ambiguous. Returning False, but in future this will result in an error. Use `array.size > 0` to check that an array is not empty.\n",
      "  if diff:\n",
      "/opt/anaconda/lib/python3.7/site-packages/sklearn/preprocessing/label.py:151: DeprecationWarning: The truth value of an empty array is ambiguous. Returning False, but in future this will result in an error. Use `array.size > 0` to check that an array is not empty.\n",
      "  if diff:\n"
     ]
    },
    {
     "name": "stdout",
     "output_type": "stream",
     "text": [
      "[CV]  boosting_type=gbdt, colsample_bytree=0.9, learning_rate=0.05, n_estimators=40, num_leaves=30, objective=binary, random_state=501, reg_alpha=0.6, reg_lambda=0.4, scale_pos_weight=15, subsample=0.75, score=0.8948722312743054, total=   6.0s\n",
      "[CV] boosting_type=gbdt, colsample_bytree=0.9, learning_rate=0.05, n_estimators=40, num_leaves=30, objective=binary, random_state=501, reg_alpha=0.6, reg_lambda=0.4, scale_pos_weight=25, subsample=0.75 \n"
     ]
    },
    {
     "name": "stderr",
     "output_type": "stream",
     "text": [
      "/opt/anaconda/lib/python3.7/site-packages/sklearn/preprocessing/label.py:151: DeprecationWarning: The truth value of an empty array is ambiguous. Returning False, but in future this will result in an error. Use `array.size > 0` to check that an array is not empty.\n",
      "  if diff:\n"
     ]
    },
    {
     "name": "stdout",
     "output_type": "stream",
     "text": [
      "[CV]  boosting_type=gbdt, colsample_bytree=0.9, learning_rate=0.05, n_estimators=40, num_leaves=30, objective=binary, random_state=501, reg_alpha=0.6, reg_lambda=0.4, scale_pos_weight=15, subsample=0.75, score=0.8986037258093688, total=   7.1s\n",
      "[CV] boosting_type=gbdt, colsample_bytree=0.9, learning_rate=0.05, n_estimators=40, num_leaves=30, objective=binary, random_state=501, reg_alpha=0.6, reg_lambda=0.4, scale_pos_weight=25, subsample=0.75 \n"
     ]
    },
    {
     "name": "stderr",
     "output_type": "stream",
     "text": [
      "/opt/anaconda/lib/python3.7/site-packages/sklearn/preprocessing/label.py:151: DeprecationWarning: The truth value of an empty array is ambiguous. Returning False, but in future this will result in an error. Use `array.size > 0` to check that an array is not empty.\n",
      "  if diff:\n"
     ]
    },
    {
     "name": "stdout",
     "output_type": "stream",
     "text": [
      "[CV]  boosting_type=gbdt, colsample_bytree=0.9, learning_rate=0.05, n_estimators=40, num_leaves=30, objective=binary, random_state=501, reg_alpha=0.6, reg_lambda=0.2, scale_pos_weight=25, subsample=0.75, score=0.09999999999999998, total=   8.0s\n",
      "[CV] boosting_type=gbdt, colsample_bytree=0.9, learning_rate=0.05, n_estimators=40, num_leaves=30, objective=binary, random_state=501, reg_alpha=0.6, reg_lambda=0.4, scale_pos_weight=25, subsample=0.75 \n",
      "Did not meet early stopping. Best iteration is:\n",
      "[5]\tvalid's binary_logloss: 0.658185\tvalid's auc: 0.843421\n"
     ]
    },
    {
     "name": "stderr",
     "output_type": "stream",
     "text": [
      "/opt/anaconda/lib/python3.7/site-packages/sklearn/preprocessing/label.py:151: DeprecationWarning: The truth value of an empty array is ambiguous. Returning False, but in future this will result in an error. Use `array.size > 0` to check that an array is not empty.\n",
      "  if diff:\n",
      "[Parallel(n_jobs=12)]: Done  48 tasks      | elapsed:   28.2s\n",
      "/opt/anaconda/lib/python3.7/site-packages/sklearn/preprocessing/label.py:151: DeprecationWarning: The truth value of an empty array is ambiguous. Returning False, but in future this will result in an error. Use `array.size > 0` to check that an array is not empty.\n",
      "  if diff:\n"
     ]
    },
    {
     "name": "stdout",
     "output_type": "stream",
     "text": [
      "[CV]  boosting_type=gbdt, colsample_bytree=0.9, learning_rate=0.05, n_estimators=40, num_leaves=30, objective=binary, random_state=501, reg_alpha=0.6, reg_lambda=0.4, scale_pos_weight=15, subsample=0.75, score=0.8885821697976778, total=   6.7s\n",
      "[CV] boosting_type=gbdt, colsample_bytree=0.9, learning_rate=0.05, n_estimators=40, num_leaves=50, objective=binary, random_state=501, reg_alpha=0.2, reg_lambda=0.2, scale_pos_weight=15, subsample=0.75 \n",
      "Training until validation scores don't improve for 50 rounds.\n",
      "Did not meet early stopping. Best iteration is:\n",
      "[4]\tvalid's binary_logloss: 0.664281\tvalid's auc: 0.830042\n",
      "Training until validation scores don't improve for 50 rounds.\n",
      "Did not meet early stopping. Best iteration is:\n",
      "[4]\tvalid's binary_logloss: 0.662493\tvalid's auc: 0.831251\n",
      "Did not meet early stopping. Best iteration is:\n",
      "[5]\tvalid's binary_logloss: 0.657945\tvalid's auc: 0.844371"
     ]
    },
    {
     "name": "stderr",
     "output_type": "stream",
     "text": [
      "/opt/anaconda/lib/python3.7/site-packages/sklearn/preprocessing/label.py:151: DeprecationWarning: The truth value of an empty array is ambiguous. Returning False, but in future this will result in an error. Use `array.size > 0` to check that an array is not empty.\n",
      "  if diff:\n"
     ]
    },
    {
     "name": "stdout",
     "output_type": "stream",
     "text": [
      "\n",
      "Training until validation scores don't improve for 50 rounds.\n",
      "Did not meet early stopping. Best iteration is:\n",
      "[4]\tvalid's binary_logloss: 0.665748\tvalid's auc: 0.83512Training until validation scores don't improve for 50 rounds.\n",
      "\n",
      "Training until validation scores don't improve for 50 rounds.\n",
      "Did not meet early stopping. Best iteration is:\n",
      "[4]\tvalid's binary_logloss: 0.663856\tvalid's auc: 0.833599\n",
      "Did not meet early stopping. Best iteration is:\n",
      "[4]\tvalid's binary_logloss: 0.66429\tvalid's auc: 0.828616"
     ]
    },
    {
     "name": "stderr",
     "output_type": "stream",
     "text": [
      "/opt/anaconda/lib/python3.7/site-packages/sklearn/preprocessing/label.py:151: DeprecationWarning: The truth value of an empty array is ambiguous. Returning False, but in future this will result in an error. Use `array.size > 0` to check that an array is not empty.\n",
      "  if diff:\n"
     ]
    },
    {
     "name": "stdout",
     "output_type": "stream",
     "text": [
      "\n"
     ]
    },
    {
     "name": "stderr",
     "output_type": "stream",
     "text": [
      "/opt/anaconda/lib/python3.7/site-packages/sklearn/preprocessing/label.py:151: DeprecationWarning: The truth value of an empty array is ambiguous. Returning False, but in future this will result in an error. Use `array.size > 0` to check that an array is not empty.\n",
      "  if diff:\n",
      "/opt/anaconda/lib/python3.7/site-packages/sklearn/preprocessing/label.py:151: DeprecationWarning: The truth value of an empty array is ambiguous. Returning False, but in future this will result in an error. Use `array.size > 0` to check that an array is not empty.\n",
      "  if diff:\n"
     ]
    },
    {
     "name": "stdout",
     "output_type": "stream",
     "text": [
      "[CV]  boosting_type=gbdt, colsample_bytree=0.9, learning_rate=0.05, n_estimators=40, num_leaves=30, objective=binary, random_state=501, reg_alpha=0.6, reg_lambda=0.4, scale_pos_weight=20, subsample=0.75, score=0.874937950550349, total=   6.2s\n"
     ]
    },
    {
     "name": "stderr",
     "output_type": "stream",
     "text": [
      "/opt/anaconda/lib/python3.7/site-packages/sklearn/preprocessing/label.py:151: DeprecationWarning: The truth value of an empty array is ambiguous. Returning False, but in future this will result in an error. Use `array.size > 0` to check that an array is not empty.\n",
      "  if diff:\n"
     ]
    },
    {
     "name": "stdout",
     "output_type": "stream",
     "text": [
      "[CV] boosting_type=gbdt, colsample_bytree=0.9, learning_rate=0.05, n_estimators=40, num_leaves=50, objective=binary, random_state=501, reg_alpha=0.2, reg_lambda=0.2, scale_pos_weight=15, subsample=0.75 \n"
     ]
    },
    {
     "name": "stderr",
     "output_type": "stream",
     "text": [
      "/opt/anaconda/lib/python3.7/site-packages/sklearn/preprocessing/label.py:151: DeprecationWarning: The truth value of an empty array is ambiguous. Returning False, but in future this will result in an error. Use `array.size > 0` to check that an array is not empty.\n",
      "  if diff:\n",
      "/opt/anaconda/lib/python3.7/site-packages/sklearn/preprocessing/label.py:151: DeprecationWarning: The truth value of an empty array is ambiguous. Returning False, but in future this will result in an error. Use `array.size > 0` to check that an array is not empty.\n",
      "  if diff:\n",
      "/opt/anaconda/lib/python3.7/site-packages/sklearn/preprocessing/label.py:151: DeprecationWarning: The truth value of an empty array is ambiguous. Returning False, but in future this will result in an error. Use `array.size > 0` to check that an array is not empty.\n",
      "  if diff:\n"
     ]
    },
    {
     "name": "stdout",
     "output_type": "stream",
     "text": [
      "[CV]  boosting_type=gbdt, colsample_bytree=0.9, learning_rate=0.05, n_estimators=40, num_leaves=30, objective=binary, random_state=501, reg_alpha=0.6, reg_lambda=0.4, scale_pos_weight=15, subsample=0.75, score=0.9024041538781762, total=   7.3s\n"
     ]
    },
    {
     "name": "stderr",
     "output_type": "stream",
     "text": [
      "/opt/anaconda/lib/python3.7/site-packages/sklearn/preprocessing/label.py:151: DeprecationWarning: The truth value of an empty array is ambiguous. Returning False, but in future this will result in an error. Use `array.size > 0` to check that an array is not empty.\n",
      "  if diff:\n"
     ]
    },
    {
     "name": "stdout",
     "output_type": "stream",
     "text": [
      "[CV] boosting_type=gbdt, colsample_bytree=0.9, learning_rate=0.05, n_estimators=40, num_leaves=50, objective=binary, random_state=501, reg_alpha=0.2, reg_lambda=0.2, scale_pos_weight=15, subsample=0.75 \n",
      "[CV]  boosting_type=gbdt, colsample_bytree=0.9, learning_rate=0.05, n_estimators=40, num_leaves=30, objective=binary, random_state=501, reg_alpha=0.6, reg_lambda=0.4, scale_pos_weight=20, subsample=0.75, score=0.872691319050516, total=   6.9s\n",
      "[CV] boosting_type=gbdt, colsample_bytree=0.9, learning_rate=0.05, n_estimators=40, num_leaves=50, objective=binary, random_state=501, reg_alpha=0.2, reg_lambda=0.2, scale_pos_weight=15, subsample=0.75 \n"
     ]
    },
    {
     "name": "stderr",
     "output_type": "stream",
     "text": [
      "/opt/anaconda/lib/python3.7/site-packages/sklearn/preprocessing/label.py:151: DeprecationWarning: The truth value of an empty array is ambiguous. Returning False, but in future this will result in an error. Use `array.size > 0` to check that an array is not empty.\n",
      "  if diff:\n"
     ]
    },
    {
     "name": "stdout",
     "output_type": "stream",
     "text": [
      "[CV]  boosting_type=gbdt, colsample_bytree=0.9, learning_rate=0.05, n_estimators=40, num_leaves=30, objective=binary, random_state=501, reg_alpha=0.6, reg_lambda=0.4, scale_pos_weight=25, subsample=0.75, score=0.8897042042782684, total=   5.1s\n",
      "[CV] boosting_type=gbdt, colsample_bytree=0.9, learning_rate=0.05, n_estimators=40, num_leaves=50, objective=binary, random_state=501, reg_alpha=0.2, reg_lambda=0.2, scale_pos_weight=15, subsample=0.75 \n"
     ]
    },
    {
     "name": "stderr",
     "output_type": "stream",
     "text": [
      "/opt/anaconda/lib/python3.7/site-packages/sklearn/preprocessing/label.py:151: DeprecationWarning: The truth value of an empty array is ambiguous. Returning False, but in future this will result in an error. Use `array.size > 0` to check that an array is not empty.\n",
      "  if diff:\n"
     ]
    },
    {
     "name": "stdout",
     "output_type": "stream",
     "text": [
      "[CV]  boosting_type=gbdt, colsample_bytree=0.9, learning_rate=0.05, n_estimators=40, num_leaves=30, objective=binary, random_state=501, reg_alpha=0.6, reg_lambda=0.4, scale_pos_weight=20, subsample=0.75, score=0.8861392658411693, total=   5.8s\n"
     ]
    },
    {
     "name": "stderr",
     "output_type": "stream",
     "text": [
      "/opt/anaconda/lib/python3.7/site-packages/sklearn/preprocessing/label.py:151: DeprecationWarning: The truth value of an empty array is ambiguous. Returning False, but in future this will result in an error. Use `array.size > 0` to check that an array is not empty.\n",
      "  if diff:\n"
     ]
    },
    {
     "name": "stdout",
     "output_type": "stream",
     "text": [
      "[CV] boosting_type=gbdt, colsample_bytree=0.9, learning_rate=0.05, n_estimators=40, num_leaves=50, objective=binary, random_state=501, reg_alpha=0.2, reg_lambda=0.2, scale_pos_weight=20, subsample=0.75 \n",
      "[CV]  boosting_type=gbdt, colsample_bytree=0.9, learning_rate=0.05, n_estimators=40, num_leaves=30, objective=binary, random_state=501, reg_alpha=0.6, reg_lambda=0.4, scale_pos_weight=20, subsample=0.75, score=0.875010668222376, total=   6.4s\n",
      "Did not meet early stopping. Best iteration is:\n",
      "[3]\tvalid's binary_logloss: 0.66816\tvalid's auc: 0.822993[CV] boosting_type=gbdt, colsample_bytree=0.9, learning_rate=0.05, n_estimators=40, num_leaves=50, objective=binary, random_state=501, reg_alpha=0.2, reg_lambda=0.2, scale_pos_weight=20, subsample=0.75 \n",
      "\n",
      "Training until validation scores don't improve for 50 rounds.\n"
     ]
    },
    {
     "name": "stderr",
     "output_type": "stream",
     "text": [
      "/opt/anaconda/lib/python3.7/site-packages/sklearn/preprocessing/label.py:151: DeprecationWarning: The truth value of an empty array is ambiguous. Returning False, but in future this will result in an error. Use `array.size > 0` to check that an array is not empty.\n",
      "  if diff:\n",
      "/opt/anaconda/lib/python3.7/site-packages/sklearn/preprocessing/label.py:151: DeprecationWarning: The truth value of an empty array is ambiguous. Returning False, but in future this will result in an error. Use `array.size > 0` to check that an array is not empty.\n",
      "  if diff:\n"
     ]
    },
    {
     "name": "stdout",
     "output_type": "stream",
     "text": [
      "[CV]  boosting_type=gbdt, colsample_bytree=0.9, learning_rate=0.05, n_estimators=40, num_leaves=30, objective=binary, random_state=501, reg_alpha=0.6, reg_lambda=0.4, scale_pos_weight=25, subsample=0.75, score=0.09999999999999998, total=   4.1s\n",
      "Did not meet early stopping. Best iteration is:\n",
      "[3]\tvalid's binary_logloss: 0.667723\tvalid's auc: 0.820475[CV] boosting_type=gbdt, colsample_bytree=0.9, learning_rate=0.05, n_estimators=40, num_leaves=50, objective=binary, random_state=501, reg_alpha=0.2, reg_lambda=0.2, scale_pos_weight=20, subsample=0.75 \n",
      "\n",
      "Training until validation scores don't improve for 50 rounds.\n",
      "Training until validation scores don't improve for 50 rounds.\n"
     ]
    },
    {
     "name": "stderr",
     "output_type": "stream",
     "text": [
      "/opt/anaconda/lib/python3.7/site-packages/sklearn/preprocessing/label.py:151: DeprecationWarning: The truth value of an empty array is ambiguous. Returning False, but in future this will result in an error. Use `array.size > 0` to check that an array is not empty.\n",
      "  if diff:\n"
     ]
    },
    {
     "name": "stdout",
     "output_type": "stream",
     "text": [
      "Training until validation scores don't improve for 50 rounds.\n",
      "Training until validation scores don't improve for 50 rounds.\n",
      "Training until validation scores don't improve for 50 rounds.\n"
     ]
    },
    {
     "name": "stderr",
     "output_type": "stream",
     "text": [
      "/opt/anaconda/lib/python3.7/site-packages/sklearn/preprocessing/label.py:151: DeprecationWarning: The truth value of an empty array is ambiguous. Returning False, but in future this will result in an error. Use `array.size > 0` to check that an array is not empty.\n",
      "  if diff:\n"
     ]
    },
    {
     "name": "stdout",
     "output_type": "stream",
     "text": [
      "[CV]  boosting_type=gbdt, colsample_bytree=0.9, learning_rate=0.05, n_estimators=40, num_leaves=30, objective=binary, random_state=501, reg_alpha=0.6, reg_lambda=0.4, scale_pos_weight=25, subsample=0.75, score=0.09999999999999998, total=   5.2s\n",
      "Did not meet early stopping. Best iteration is:\n",
      "[3]\tvalid's binary_logloss: 0.667274\tvalid's auc: 0.831016\n",
      "Did not meet early stopping. Best iteration is:\n",
      "[4]\tvalid's binary_logloss: 0.663913\tvalid's auc: 0.842316[CV] boosting_type=gbdt, colsample_bytree=0.9, learning_rate=0.05, n_estimators=40, num_leaves=50, objective=binary, random_state=501, reg_alpha=0.2, reg_lambda=0.2, scale_pos_weight=20, subsample=0.75 \n",
      "\n",
      "Did not meet early stopping. Best iteration is:\n",
      "[6]\tvalid's binary_logloss: 0.65067\tvalid's auc: 0.856446\n",
      "Did not meet early stopping. Best iteration is:\n",
      "[4]\tvalid's binary_logloss: 0.667611\tvalid's auc: 0.831863\n"
     ]
    },
    {
     "name": "stderr",
     "output_type": "stream",
     "text": [
      "/opt/anaconda/lib/python3.7/site-packages/sklearn/preprocessing/label.py:151: DeprecationWarning: The truth value of an empty array is ambiguous. Returning False, but in future this will result in an error. Use `array.size > 0` to check that an array is not empty.\n",
      "  if diff:\n"
     ]
    },
    {
     "name": "stdout",
     "output_type": "stream",
     "text": [
      "Training until validation scores don't improve for 50 rounds.\n"
     ]
    },
    {
     "name": "stderr",
     "output_type": "stream",
     "text": [
      "/opt/anaconda/lib/python3.7/site-packages/sklearn/preprocessing/label.py:151: DeprecationWarning: The truth value of an empty array is ambiguous. Returning False, but in future this will result in an error. Use `array.size > 0` to check that an array is not empty.\n",
      "  if diff:\n",
      "/opt/anaconda/lib/python3.7/site-packages/sklearn/preprocessing/label.py:151: DeprecationWarning: The truth value of an empty array is ambiguous. Returning False, but in future this will result in an error. Use `array.size > 0` to check that an array is not empty.\n",
      "  if diff:\n",
      "/opt/anaconda/lib/python3.7/site-packages/sklearn/preprocessing/label.py:151: DeprecationWarning: The truth value of an empty array is ambiguous. Returning False, but in future this will result in an error. Use `array.size > 0` to check that an array is not empty.\n",
      "  if diff:\n",
      "/opt/anaconda/lib/python3.7/site-packages/sklearn/preprocessing/label.py:151: DeprecationWarning: The truth value of an empty array is ambiguous. Returning False, but in future this will result in an error. Use `array.size > 0` to check that an array is not empty.\n",
      "  if diff:\n"
     ]
    },
    {
     "name": "stdout",
     "output_type": "stream",
     "text": [
      "[CV]  boosting_type=gbdt, colsample_bytree=0.9, learning_rate=0.05, n_estimators=40, num_leaves=50, objective=binary, random_state=501, reg_alpha=0.2, reg_lambda=0.2, scale_pos_weight=15, subsample=0.75, score=0.9070049381498106, total=   5.4s\n"
     ]
    },
    {
     "name": "stderr",
     "output_type": "stream",
     "text": [
      "/opt/anaconda/lib/python3.7/site-packages/sklearn/preprocessing/label.py:151: DeprecationWarning: The truth value of an empty array is ambiguous. Returning False, but in future this will result in an error. Use `array.size > 0` to check that an array is not empty.\n",
      "  if diff:\n",
      "/opt/anaconda/lib/python3.7/site-packages/sklearn/preprocessing/label.py:151: DeprecationWarning: The truth value of an empty array is ambiguous. Returning False, but in future this will result in an error. Use `array.size > 0` to check that an array is not empty.\n",
      "  if diff:\n"
     ]
    },
    {
     "name": "stdout",
     "output_type": "stream",
     "text": [
      "Training until validation scores don't improve for 50 rounds.\n",
      "[CV]  boosting_type=gbdt, colsample_bytree=0.9, learning_rate=0.05, n_estimators=40, num_leaves=30, objective=binary, random_state=501, reg_alpha=0.6, reg_lambda=0.4, scale_pos_weight=25, subsample=0.75, score=0.09999999999999998, total=   5.8s\n",
      "[CV]  boosting_type=gbdt, colsample_bytree=0.9, learning_rate=0.05, n_estimators=40, num_leaves=30, objective=binary, random_state=501, reg_alpha=0.6, reg_lambda=0.4, scale_pos_weight=25, subsample=0.75, score=0.9010600287510163, total=   5.7s\n",
      "[CV] boosting_type=gbdt, colsample_bytree=0.9, learning_rate=0.05, n_estimators=40, num_leaves=50, objective=binary, random_state=501, reg_alpha=0.2, reg_lambda=0.2, scale_pos_weight=20, subsample=0.75 \n"
     ]
    },
    {
     "name": "stderr",
     "output_type": "stream",
     "text": [
      "/opt/anaconda/lib/python3.7/site-packages/sklearn/preprocessing/label.py:151: DeprecationWarning: The truth value of an empty array is ambiguous. Returning False, but in future this will result in an error. Use `array.size > 0` to check that an array is not empty.\n",
      "  if diff:\n"
     ]
    },
    {
     "name": "stdout",
     "output_type": "stream",
     "text": [
      "[CV] boosting_type=gbdt, colsample_bytree=0.9, learning_rate=0.05, n_estimators=40, num_leaves=50, objective=binary, random_state=501, reg_alpha=0.2, reg_lambda=0.2, scale_pos_weight=25, subsample=0.75 \n",
      "[CV]  boosting_type=gbdt, colsample_bytree=0.9, learning_rate=0.05, n_estimators=40, num_leaves=30, objective=binary, random_state=501, reg_alpha=0.6, reg_lambda=0.4, scale_pos_weight=20, subsample=0.75, score=0.851887761766366, total=   9.3s\n",
      "[CV] boosting_type=gbdt, colsample_bytree=0.9, learning_rate=0.05, n_estimators=40, num_leaves=50, objective=binary, random_state=501, reg_alpha=0.2, reg_lambda=0.2, scale_pos_weight=25, subsample=0.75 \n",
      "[CV] boosting_type=gbdt, colsample_bytree=0.9, learning_rate=0.05, n_estimators=40, num_leaves=50, objective=binary, random_state=501, reg_alpha=0.2, reg_lambda=0.2, scale_pos_weight=25, subsample=0.75 \n",
      "Did not meet early stopping. Best iteration is:\n",
      "[6]\tvalid's binary_logloss: 0.652035\tvalid's auc: 0.856149\n",
      "Did not meet early stopping. Best iteration is:\n",
      "[6]\tvalid's binary_logloss: 0.651108\tvalid's auc: 0.853909Training until validation scores don't improve for 50 rounds.\n",
      "\n",
      "Training until validation scores don't improve for 50 rounds.\n",
      "Did not meet early stopping. Best iteration is:\n",
      "[6]\tvalid's binary_logloss: 0.652892\tvalid's auc: 0.85245\n",
      "Training until validation scores don't improve for 50 rounds.\n",
      "Training until validation scores don't improve for 50 rounds.\n"
     ]
    },
    {
     "name": "stderr",
     "output_type": "stream",
     "text": [
      "/opt/anaconda/lib/python3.7/site-packages/sklearn/preprocessing/label.py:151: DeprecationWarning: The truth value of an empty array is ambiguous. Returning False, but in future this will result in an error. Use `array.size > 0` to check that an array is not empty.\n",
      "  if diff:\n",
      "/opt/anaconda/lib/python3.7/site-packages/sklearn/preprocessing/label.py:151: DeprecationWarning: The truth value of an empty array is ambiguous. Returning False, but in future this will result in an error. Use `array.size > 0` to check that an array is not empty.\n",
      "  if diff:\n",
      "/opt/anaconda/lib/python3.7/site-packages/sklearn/preprocessing/label.py:151: DeprecationWarning: The truth value of an empty array is ambiguous. Returning False, but in future this will result in an error. Use `array.size > 0` to check that an array is not empty.\n",
      "  if diff:\n"
     ]
    },
    {
     "name": "stdout",
     "output_type": "stream",
     "text": [
      "Did not meet early stopping. Best iteration is:\n",
      "[7]\tvalid's binary_logloss: 0.652008\tvalid's auc: 0.855332\n"
     ]
    },
    {
     "name": "stderr",
     "output_type": "stream",
     "text": [
      "/opt/anaconda/lib/python3.7/site-packages/sklearn/preprocessing/label.py:151: DeprecationWarning: The truth value of an empty array is ambiguous. Returning False, but in future this will result in an error. Use `array.size > 0` to check that an array is not empty.\n",
      "  if diff:\n"
     ]
    },
    {
     "name": "stdout",
     "output_type": "stream",
     "text": [
      "[CV]  boosting_type=gbdt, colsample_bytree=0.9, learning_rate=0.05, n_estimators=40, num_leaves=50, objective=binary, random_state=501, reg_alpha=0.2, reg_lambda=0.2, scale_pos_weight=15, subsample=0.75, score=0.9040711397987242, total=   5.7s\n"
     ]
    },
    {
     "name": "stderr",
     "output_type": "stream",
     "text": [
      "/opt/anaconda/lib/python3.7/site-packages/sklearn/preprocessing/label.py:151: DeprecationWarning: The truth value of an empty array is ambiguous. Returning False, but in future this will result in an error. Use `array.size > 0` to check that an array is not empty.\n",
      "  if diff:\n",
      "/opt/anaconda/lib/python3.7/site-packages/sklearn/preprocessing/label.py:151: DeprecationWarning: The truth value of an empty array is ambiguous. Returning False, but in future this will result in an error. Use `array.size > 0` to check that an array is not empty.\n",
      "  if diff:\n"
     ]
    },
    {
     "name": "stdout",
     "output_type": "stream",
     "text": [
      "[CV] boosting_type=gbdt, colsample_bytree=0.9, learning_rate=0.05, n_estimators=40, num_leaves=50, objective=binary, random_state=501, reg_alpha=0.2, reg_lambda=0.2, scale_pos_weight=25, subsample=0.75 \n",
      "[CV]  boosting_type=gbdt, colsample_bytree=0.9, learning_rate=0.05, n_estimators=40, num_leaves=50, objective=binary, random_state=501, reg_alpha=0.2, reg_lambda=0.2, scale_pos_weight=15, subsample=0.75, score=0.9021359412393113, total=   6.0s\n",
      "Did not meet early stopping. Best iteration is:\n",
      "[4]\tvalid's binary_logloss: 0.660726\tvalid's auc: 0.841345"
     ]
    },
    {
     "name": "stderr",
     "output_type": "stream",
     "text": [
      "/opt/anaconda/lib/python3.7/site-packages/sklearn/preprocessing/label.py:151: DeprecationWarning: The truth value of an empty array is ambiguous. Returning False, but in future this will result in an error. Use `array.size > 0` to check that an array is not empty.\n",
      "  if diff:\n"
     ]
    },
    {
     "name": "stdout",
     "output_type": "stream",
     "text": [
      "[CV] boosting_type=gbdt, colsample_bytree=0.9, learning_rate=0.05, n_estimators=40, num_leaves=50, objective=binary, random_state=501, reg_alpha=0.2, reg_lambda=0.2, scale_pos_weight=25, subsample=0.75 \n",
      "\n",
      "[CV]  boosting_type=gbdt, colsample_bytree=0.9, learning_rate=0.05, n_estimators=40, num_leaves=50, objective=binary, random_state=501, reg_alpha=0.2, reg_lambda=0.2, scale_pos_weight=15, subsample=0.75, score=0.9025488652517272, total=   6.2s\n",
      "[CV] boosting_type=gbdt, colsample_bytree=0.9, learning_rate=0.05, n_estimators=40, num_leaves=50, objective=binary, random_state=501, reg_alpha=0.2, reg_lambda=0.4, scale_pos_weight=15, subsample=0.75 \n",
      "Did not meet early stopping. Best iteration is:\n",
      "[5]\tvalid's binary_logloss: 0.658492\tvalid's auc: 0.85056\n"
     ]
    },
    {
     "name": "stderr",
     "output_type": "stream",
     "text": [
      "/opt/anaconda/lib/python3.7/site-packages/sklearn/preprocessing/label.py:151: DeprecationWarning: The truth value of an empty array is ambiguous. Returning False, but in future this will result in an error. Use `array.size > 0` to check that an array is not empty.\n",
      "  if diff:\n"
     ]
    },
    {
     "name": "stdout",
     "output_type": "stream",
     "text": [
      "[CV]  boosting_type=gbdt, colsample_bytree=0.9, learning_rate=0.05, n_estimators=40, num_leaves=50, objective=binary, random_state=501, reg_alpha=0.2, reg_lambda=0.2, scale_pos_weight=15, subsample=0.75, score=0.9129067982358317, total=   6.2s\n",
      "Did not meet early stopping. Best iteration is:\n",
      "[5]\tvalid's binary_logloss: 0.659671\tvalid's auc: 0.844842[CV] boosting_type=gbdt, colsample_bytree=0.9, learning_rate=0.05, n_estimators=40, num_leaves=50, objective=binary, random_state=501, reg_alpha=0.2, reg_lambda=0.4, scale_pos_weight=15, subsample=0.75 \n",
      "\n"
     ]
    },
    {
     "name": "stderr",
     "output_type": "stream",
     "text": [
      "/opt/anaconda/lib/python3.7/site-packages/sklearn/preprocessing/label.py:151: DeprecationWarning: The truth value of an empty array is ambiguous. Returning False, but in future this will result in an error. Use `array.size > 0` to check that an array is not empty.\n",
      "  if diff:\n",
      "/opt/anaconda/lib/python3.7/site-packages/sklearn/preprocessing/label.py:151: DeprecationWarning: The truth value of an empty array is ambiguous. Returning False, but in future this will result in an error. Use `array.size > 0` to check that an array is not empty.\n",
      "  if diff:\n",
      "/opt/anaconda/lib/python3.7/site-packages/sklearn/preprocessing/label.py:151: DeprecationWarning: The truth value of an empty array is ambiguous. Returning False, but in future this will result in an error. Use `array.size > 0` to check that an array is not empty.\n",
      "  if diff:\n",
      "/opt/anaconda/lib/python3.7/site-packages/sklearn/preprocessing/label.py:151: DeprecationWarning: The truth value of an empty array is ambiguous. Returning False, but in future this will result in an error. Use `array.size > 0` to check that an array is not empty.\n",
      "  if diff:\n"
     ]
    },
    {
     "name": "stdout",
     "output_type": "stream",
     "text": [
      "[CV]  boosting_type=gbdt, colsample_bytree=0.9, learning_rate=0.05, n_estimators=40, num_leaves=50, objective=binary, random_state=501, reg_alpha=0.2, reg_lambda=0.2, scale_pos_weight=20, subsample=0.75, score=0.8732655923858843, total=   6.6s\n",
      "[CV] boosting_type=gbdt, colsample_bytree=0.9, learning_rate=0.05, n_estimators=40, num_leaves=50, objective=binary, random_state=501, reg_alpha=0.2, reg_lambda=0.4, scale_pos_weight=15, subsample=0.75 \n",
      "Training until validation scores don't improve for 50 rounds.\n"
     ]
    },
    {
     "name": "stderr",
     "output_type": "stream",
     "text": [
      "/opt/anaconda/lib/python3.7/site-packages/sklearn/preprocessing/label.py:151: DeprecationWarning: The truth value of an empty array is ambiguous. Returning False, but in future this will result in an error. Use `array.size > 0` to check that an array is not empty.\n",
      "  if diff:\n"
     ]
    },
    {
     "name": "stdout",
     "output_type": "stream",
     "text": [
      "[CV]  boosting_type=gbdt, colsample_bytree=0.9, learning_rate=0.05, n_estimators=40, num_leaves=50, objective=binary, random_state=501, reg_alpha=0.2, reg_lambda=0.2, scale_pos_weight=20, subsample=0.75, score=0.9011134837960263, total=   4.7s\n",
      "Training until validation scores don't improve for 50 rounds.\n"
     ]
    },
    {
     "name": "stderr",
     "output_type": "stream",
     "text": [
      "/opt/anaconda/lib/python3.7/site-packages/sklearn/preprocessing/label.py:151: DeprecationWarning: The truth value of an empty array is ambiguous. Returning False, but in future this will result in an error. Use `array.size > 0` to check that an array is not empty.\n",
      "  if diff:\n"
     ]
    },
    {
     "name": "stdout",
     "output_type": "stream",
     "text": [
      "[CV] boosting_type=gbdt, colsample_bytree=0.9, learning_rate=0.05, n_estimators=40, num_leaves=50, objective=binary, random_state=501, reg_alpha=0.2, reg_lambda=0.4, scale_pos_weight=15, subsample=0.75 \n",
      "Training until validation scores don't improve for 50 rounds.\n",
      "[CV]  boosting_type=gbdt, colsample_bytree=0.9, learning_rate=0.05, n_estimators=40, num_leaves=50, objective=binary, random_state=501, reg_alpha=0.2, reg_lambda=0.2, scale_pos_weight=20, subsample=0.75, score=0.9050293215361305, total=   6.2s\n",
      "[CV] boosting_type=gbdt, colsample_bytree=0.9, learning_rate=0.05, n_estimators=40, num_leaves=50, objective=binary, random_state=501, reg_alpha=0.2, reg_lambda=0.4, scale_pos_weight=15, subsample=0.75 \n",
      "Training until validation scores don't improve for 50 rounds.\n",
      "Did not meet early stopping. Best iteration is:\n",
      "[4]\tvalid's binary_logloss: 0.663187\tvalid's auc: 0.830516\n",
      "Training until validation scores don't improve for 50 rounds.\n"
     ]
    },
    {
     "name": "stderr",
     "output_type": "stream",
     "text": [
      "/opt/anaconda/lib/python3.7/site-packages/sklearn/preprocessing/label.py:151: DeprecationWarning: The truth value of an empty array is ambiguous. Returning False, but in future this will result in an error. Use `array.size > 0` to check that an array is not empty.\n",
      "  if diff:\n"
     ]
    },
    {
     "name": "stdout",
     "output_type": "stream",
     "text": [
      "Training until validation scores don't improve for 50 rounds.\n",
      "Did not meet early stopping. Best iteration is:\n",
      "[5]\tvalid's binary_logloss: 0.658959\tvalid's auc: 0.850443\n",
      "Training until validation scores don't improve for 50 rounds.\n",
      "Did not meet early stopping. Best iteration is:\n",
      "[5]\tvalid's binary_logloss: 0.657019\tvalid's auc: 0.848057\n"
     ]
    },
    {
     "name": "stderr",
     "output_type": "stream",
     "text": [
      "/opt/anaconda/lib/python3.7/site-packages/sklearn/preprocessing/label.py:151: DeprecationWarning: The truth value of an empty array is ambiguous. Returning False, but in future this will result in an error. Use `array.size > 0` to check that an array is not empty.\n",
      "  if diff:\n"
     ]
    },
    {
     "name": "stdout",
     "output_type": "stream",
     "text": [
      "[CV]  boosting_type=gbdt, colsample_bytree=0.9, learning_rate=0.05, n_estimators=40, num_leaves=50, objective=binary, random_state=501, reg_alpha=0.2, reg_lambda=0.2, scale_pos_weight=25, subsample=0.75, score=0.8888802633794123, total=   5.6s\n"
     ]
    },
    {
     "name": "stderr",
     "output_type": "stream",
     "text": [
      "/opt/anaconda/lib/python3.7/site-packages/sklearn/preprocessing/label.py:151: DeprecationWarning: The truth value of an empty array is ambiguous. Returning False, but in future this will result in an error. Use `array.size > 0` to check that an array is not empty.\n",
      "  if diff:\n"
     ]
    },
    {
     "name": "stdout",
     "output_type": "stream",
     "text": [
      "[CV] boosting_type=gbdt, colsample_bytree=0.9, learning_rate=0.05, n_estimators=40, num_leaves=50, objective=binary, random_state=501, reg_alpha=0.2, reg_lambda=0.4, scale_pos_weight=20, subsample=0.75 \n"
     ]
    },
    {
     "name": "stderr",
     "output_type": "stream",
     "text": [
      "/opt/anaconda/lib/python3.7/site-packages/sklearn/preprocessing/label.py:151: DeprecationWarning: The truth value of an empty array is ambiguous. Returning False, but in future this will result in an error. Use `array.size > 0` to check that an array is not empty.\n",
      "  if diff:\n"
     ]
    },
    {
     "name": "stdout",
     "output_type": "stream",
     "text": [
      "Did not meet early stopping. Best iteration is:\n",
      "[4]\tvalid's binary_logloss: 0.662856\tvalid's auc: 0.843107\n",
      "Did not meet early stopping. Best iteration is:\n",
      "[4]\tvalid's binary_logloss: 0.663386\tvalid's auc: 0.84096\n"
     ]
    },
    {
     "name": "stderr",
     "output_type": "stream",
     "text": [
      "/opt/anaconda/lib/python3.7/site-packages/sklearn/preprocessing/label.py:151: DeprecationWarning: The truth value of an empty array is ambiguous. Returning False, but in future this will result in an error. Use `array.size > 0` to check that an array is not empty.\n",
      "  if diff:\n",
      "/opt/anaconda/lib/python3.7/site-packages/sklearn/preprocessing/label.py:151: DeprecationWarning: The truth value of an empty array is ambiguous. Returning False, but in future this will result in an error. Use `array.size > 0` to check that an array is not empty.\n",
      "  if diff:\n"
     ]
    },
    {
     "name": "stdout",
     "output_type": "stream",
     "text": [
      "[CV]  boosting_type=gbdt, colsample_bytree=0.9, learning_rate=0.05, n_estimators=40, num_leaves=50, objective=binary, random_state=501, reg_alpha=0.2, reg_lambda=0.2, scale_pos_weight=20, subsample=0.75, score=0.908084820585592, total=   6.6s\n",
      "[CV]  boosting_type=gbdt, colsample_bytree=0.9, learning_rate=0.05, n_estimators=40, num_leaves=50, objective=binary, random_state=501, reg_alpha=0.2, reg_lambda=0.2, scale_pos_weight=20, subsample=0.75, score=0.906259666661186, total=  10.2s\n",
      "[CV] boosting_type=gbdt, colsample_bytree=0.9, learning_rate=0.05, n_estimators=40, num_leaves=50, objective=binary, random_state=501, reg_alpha=0.2, reg_lambda=0.4, scale_pos_weight=20, subsample=0.75 \n"
     ]
    },
    {
     "name": "stderr",
     "output_type": "stream",
     "text": [
      "/opt/anaconda/lib/python3.7/site-packages/sklearn/preprocessing/label.py:151: DeprecationWarning: The truth value of an empty array is ambiguous. Returning False, but in future this will result in an error. Use `array.size > 0` to check that an array is not empty.\n",
      "  if diff:\n",
      "/opt/anaconda/lib/python3.7/site-packages/sklearn/preprocessing/label.py:151: DeprecationWarning: The truth value of an empty array is ambiguous. Returning False, but in future this will result in an error. Use `array.size > 0` to check that an array is not empty.\n",
      "  if diff:\n"
     ]
    },
    {
     "name": "stdout",
     "output_type": "stream",
     "text": [
      "[CV] boosting_type=gbdt, colsample_bytree=0.9, learning_rate=0.05, n_estimators=40, num_leaves=50, objective=binary, random_state=501, reg_alpha=0.2, reg_lambda=0.4, scale_pos_weight=20, subsample=0.75 \n"
     ]
    },
    {
     "name": "stderr",
     "output_type": "stream",
     "text": [
      "/opt/anaconda/lib/python3.7/site-packages/sklearn/preprocessing/label.py:151: DeprecationWarning: The truth value of an empty array is ambiguous. Returning False, but in future this will result in an error. Use `array.size > 0` to check that an array is not empty.\n",
      "  if diff:\n"
     ]
    },
    {
     "name": "stdout",
     "output_type": "stream",
     "text": [
      "Training until validation scores don't improve for 50 rounds.\n"
     ]
    },
    {
     "name": "stderr",
     "output_type": "stream",
     "text": [
      "/opt/anaconda/lib/python3.7/site-packages/sklearn/preprocessing/label.py:151: DeprecationWarning: The truth value of an empty array is ambiguous. Returning False, but in future this will result in an error. Use `array.size > 0` to check that an array is not empty.\n",
      "  if diff:\n"
     ]
    },
    {
     "name": "stdout",
     "output_type": "stream",
     "text": [
      "[CV]  boosting_type=gbdt, colsample_bytree=0.9, learning_rate=0.05, n_estimators=40, num_leaves=50, objective=binary, random_state=501, reg_alpha=0.2, reg_lambda=0.2, scale_pos_weight=25, subsample=0.75, score=0.8857529762876643, total=   4.8s\n",
      "[CV]  boosting_type=gbdt, colsample_bytree=0.9, learning_rate=0.05, n_estimators=40, num_leaves=50, objective=binary, random_state=501, reg_alpha=0.2, reg_lambda=0.2, scale_pos_weight=25, subsample=0.75, score=0.9005827031898115, total=   4.8s\n",
      "[CV] boosting_type=gbdt, colsample_bytree=0.9, learning_rate=0.05, n_estimators=40, num_leaves=50, objective=binary, random_state=501, reg_alpha=0.2, reg_lambda=0.4, scale_pos_weight=20, subsample=0.75 \n",
      "[CV] boosting_type=gbdt, colsample_bytree=0.9, learning_rate=0.05, n_estimators=40, num_leaves=50, objective=binary, random_state=501, reg_alpha=0.2, reg_lambda=0.4, scale_pos_weight=20, subsample=0.75 \n",
      "Did not meet early stopping. Best iteration is:\n",
      "[6]\tvalid's binary_logloss: 0.650721\tvalid's auc: 0.856426\n",
      "Did not meet early stopping. Best iteration is:\n",
      "[6]\tvalid's binary_logloss: 0.652954\tvalid's auc: 0.85244\n",
      "Training until validation scores don't improve for 50 rounds.\n"
     ]
    },
    {
     "name": "stderr",
     "output_type": "stream",
     "text": [
      "/opt/anaconda/lib/python3.7/site-packages/sklearn/preprocessing/label.py:151: DeprecationWarning: The truth value of an empty array is ambiguous. Returning False, but in future this will result in an error. Use `array.size > 0` to check that an array is not empty.\n",
      "  if diff:\n"
     ]
    },
    {
     "name": "stdout",
     "output_type": "stream",
     "text": [
      "Training until validation scores don't improve for 50 rounds.\n",
      "Did not meet early stopping. Best iteration is:\n",
      "[4]\tvalid's binary_logloss: 0.661313\tvalid's auc: 0.839706\n"
     ]
    },
    {
     "name": "stderr",
     "output_type": "stream",
     "text": [
      "/opt/anaconda/lib/python3.7/site-packages/sklearn/preprocessing/label.py:151: DeprecationWarning: The truth value of an empty array is ambiguous. Returning False, but in future this will result in an error. Use `array.size > 0` to check that an array is not empty.\n",
      "  if diff:\n"
     ]
    },
    {
     "name": "stdout",
     "output_type": "stream",
     "text": [
      "Did not meet early stopping. Best iteration is:\n",
      "[6]\tvalid's binary_logloss: 0.652122\tvalid's auc: 0.855848\n"
     ]
    },
    {
     "name": "stderr",
     "output_type": "stream",
     "text": [
      "/opt/anaconda/lib/python3.7/site-packages/sklearn/preprocessing/label.py:151: DeprecationWarning: The truth value of an empty array is ambiguous. Returning False, but in future this will result in an error. Use `array.size > 0` to check that an array is not empty.\n",
      "  if diff:\n",
      "/opt/anaconda/lib/python3.7/site-packages/sklearn/preprocessing/label.py:151: DeprecationWarning: The truth value of an empty array is ambiguous. Returning False, but in future this will result in an error. Use `array.size > 0` to check that an array is not empty.\n",
      "  if diff:\n"
     ]
    },
    {
     "name": "stdout",
     "output_type": "stream",
     "text": [
      "[CV]  boosting_type=gbdt, colsample_bytree=0.9, learning_rate=0.05, n_estimators=40, num_leaves=50, objective=binary, random_state=501, reg_alpha=0.2, reg_lambda=0.4, scale_pos_weight=15, subsample=0.75, score=0.9069820286423651, total=   5.9s\n",
      "Training until validation scores don't improve for 50 rounds.\n",
      "[CV] boosting_type=gbdt, colsample_bytree=0.9, learning_rate=0.05, n_estimators=40, num_leaves=50, objective=binary, random_state=501, reg_alpha=0.2, reg_lambda=0.4, scale_pos_weight=25, subsample=0.75 \n"
     ]
    },
    {
     "name": "stderr",
     "output_type": "stream",
     "text": [
      "/opt/anaconda/lib/python3.7/site-packages/sklearn/preprocessing/label.py:151: DeprecationWarning: The truth value of an empty array is ambiguous. Returning False, but in future this will result in an error. Use `array.size > 0` to check that an array is not empty.\n",
      "  if diff:\n"
     ]
    },
    {
     "name": "stdout",
     "output_type": "stream",
     "text": [
      "[CV]  boosting_type=gbdt, colsample_bytree=0.9, learning_rate=0.05, n_estimators=40, num_leaves=50, objective=binary, random_state=501, reg_alpha=0.2, reg_lambda=0.4, scale_pos_weight=15, subsample=0.75, score=0.9025037490775787, total=   6.0s\n",
      "[CV] boosting_type=gbdt, colsample_bytree=0.9, learning_rate=0.05, n_estimators=40, num_leaves=50, objective=binary, random_state=501, reg_alpha=0.2, reg_lambda=0.4, scale_pos_weight=25, subsample=0.75 \n"
     ]
    },
    {
     "name": "stderr",
     "output_type": "stream",
     "text": [
      "/opt/anaconda/lib/python3.7/site-packages/sklearn/preprocessing/label.py:151: DeprecationWarning: The truth value of an empty array is ambiguous. Returning False, but in future this will result in an error. Use `array.size > 0` to check that an array is not empty.\n",
      "  if diff:\n"
     ]
    },
    {
     "name": "stdout",
     "output_type": "stream",
     "text": [
      "Training until validation scores don't improve for 50 rounds.\n"
     ]
    },
    {
     "name": "stderr",
     "output_type": "stream",
     "text": [
      "/opt/anaconda/lib/python3.7/site-packages/sklearn/preprocessing/label.py:151: DeprecationWarning: The truth value of an empty array is ambiguous. Returning False, but in future this will result in an error. Use `array.size > 0` to check that an array is not empty.\n",
      "  if diff:\n"
     ]
    },
    {
     "name": "stdout",
     "output_type": "stream",
     "text": [
      "[CV]  boosting_type=gbdt, colsample_bytree=0.9, learning_rate=0.05, n_estimators=40, num_leaves=50, objective=binary, random_state=501, reg_alpha=0.2, reg_lambda=0.2, scale_pos_weight=25, subsample=0.75, score=0.8948337416487172, total=   9.4s\n",
      "[CV] boosting_type=gbdt, colsample_bytree=0.9, learning_rate=0.05, n_estimators=40, num_leaves=50, objective=binary, random_state=501, reg_alpha=0.2, reg_lambda=0.4, scale_pos_weight=25, subsample=0.75 \n"
     ]
    },
    {
     "name": "stderr",
     "output_type": "stream",
     "text": [
      "/opt/anaconda/lib/python3.7/site-packages/sklearn/preprocessing/label.py:151: DeprecationWarning: The truth value of an empty array is ambiguous. Returning False, but in future this will result in an error. Use `array.size > 0` to check that an array is not empty.\n",
      "  if diff:\n"
     ]
    },
    {
     "name": "stdout",
     "output_type": "stream",
     "text": [
      "[CV]  boosting_type=gbdt, colsample_bytree=0.9, learning_rate=0.05, n_estimators=40, num_leaves=50, objective=binary, random_state=501, reg_alpha=0.2, reg_lambda=0.4, scale_pos_weight=15, subsample=0.75, score=0.9031872556538656, total=   5.9s\n",
      "[CV] boosting_type=gbdt, colsample_bytree=0.9, learning_rate=0.05, n_estimators=40, num_leaves=50, objective=binary, random_state=501, reg_alpha=0.2, reg_lambda=0.4, scale_pos_weight=25, subsample=0.75 \n",
      "Did not meet early stopping. Best iteration is:\n",
      "[7]\tvalid's binary_logloss: 0.652176\tvalid's auc: 0.854971\n"
     ]
    },
    {
     "name": "stderr",
     "output_type": "stream",
     "text": [
      "/opt/anaconda/lib/python3.7/site-packages/sklearn/preprocessing/label.py:151: DeprecationWarning: The truth value of an empty array is ambiguous. Returning False, but in future this will result in an error. Use `array.size > 0` to check that an array is not empty.\n",
      "  if diff:\n"
     ]
    },
    {
     "name": "stdout",
     "output_type": "stream",
     "text": [
      "Training until validation scores don't improve for 50 rounds.\n",
      "Did not meet early stopping. Best iteration is:\n",
      "[4]\tvalid's binary_logloss: 0.664204\tvalid's auc: 0.830628Training until validation scores don't improve for 50 rounds.\n",
      "\n"
     ]
    },
    {
     "name": "stderr",
     "output_type": "stream",
     "text": [
      "/opt/anaconda/lib/python3.7/site-packages/sklearn/preprocessing/label.py:151: DeprecationWarning: The truth value of an empty array is ambiguous. Returning False, but in future this will result in an error. Use `array.size > 0` to check that an array is not empty.\n",
      "  if diff:\n"
     ]
    },
    {
     "name": "stdout",
     "output_type": "stream",
     "text": [
      "Did not meet early stopping. Best iteration is:\n",
      "[5]\tvalid's binary_logloss: 0.658506\tvalid's auc: 0.85011"
     ]
    },
    {
     "name": "stderr",
     "output_type": "stream",
     "text": [
      "/opt/anaconda/lib/python3.7/site-packages/sklearn/preprocessing/label.py:151: DeprecationWarning: The truth value of an empty array is ambiguous. Returning False, but in future this will result in an error. Use `array.size > 0` to check that an array is not empty.\n",
      "  if diff:\n"
     ]
    },
    {
     "name": "stdout",
     "output_type": "stream",
     "text": [
      "Training until validation scores don't improve for 50 rounds.\n",
      "\n",
      "[CV]  boosting_type=gbdt, colsample_bytree=0.9, learning_rate=0.05, n_estimators=40, num_leaves=50, objective=binary, random_state=501, reg_alpha=0.2, reg_lambda=0.4, scale_pos_weight=15, subsample=0.75, score=0.9124539811575185, total=   6.5s\n",
      "[CV] boosting_type=gbdt, colsample_bytree=0.9, learning_rate=0.05, n_estimators=40, num_leaves=50, objective=binary, random_state=501, reg_alpha=0.2, reg_lambda=0.4, scale_pos_weight=25, subsample=0.75 \n",
      "Did not meet early stopping. Best iteration is:\n",
      "[5]\tvalid's binary_logloss: 0.65975\tvalid's auc: 0.84492\n"
     ]
    },
    {
     "name": "stderr",
     "output_type": "stream",
     "text": [
      "/opt/anaconda/lib/python3.7/site-packages/sklearn/preprocessing/label.py:151: DeprecationWarning: The truth value of an empty array is ambiguous. Returning False, but in future this will result in an error. Use `array.size > 0` to check that an array is not empty.\n",
      "  if diff:\n"
     ]
    },
    {
     "name": "stdout",
     "output_type": "stream",
     "text": [
      "[CV]  boosting_type=gbdt, colsample_bytree=0.9, learning_rate=0.05, n_estimators=40, num_leaves=50, objective=binary, random_state=501, reg_alpha=0.2, reg_lambda=0.2, scale_pos_weight=25, subsample=0.75, score=0.8933396199811842, total=  11.6s\n",
      "Training until validation scores don't improve for 50 rounds.\n",
      "[CV] boosting_type=gbdt, colsample_bytree=0.9, learning_rate=0.05, n_estimators=40, num_leaves=50, objective=binary, random_state=501, reg_alpha=0.6, reg_lambda=0.2, scale_pos_weight=15, subsample=0.75 \n",
      "Did not meet early stopping. Best iteration is:\n",
      "[6]\tvalid's binary_logloss: 0.651479\tvalid's auc: 0.853351\n"
     ]
    },
    {
     "name": "stderr",
     "output_type": "stream",
     "text": [
      "/opt/anaconda/lib/python3.7/site-packages/sklearn/preprocessing/label.py:151: DeprecationWarning: The truth value of an empty array is ambiguous. Returning False, but in future this will result in an error. Use `array.size > 0` to check that an array is not empty.\n",
      "  if diff:\n"
     ]
    },
    {
     "name": "stdout",
     "output_type": "stream",
     "text": [
      "Did not meet early stopping. Best iteration is:\n",
      "[5]\tvalid's binary_logloss: 0.658935\tvalid's auc: 0.850456\n"
     ]
    },
    {
     "name": "stderr",
     "output_type": "stream",
     "text": [
      "/opt/anaconda/lib/python3.7/site-packages/sklearn/preprocessing/label.py:151: DeprecationWarning: The truth value of an empty array is ambiguous. Returning False, but in future this will result in an error. Use `array.size > 0` to check that an array is not empty.\n",
      "  if diff:\n",
      "/opt/anaconda/lib/python3.7/site-packages/sklearn/preprocessing/label.py:151: DeprecationWarning: The truth value of an empty array is ambiguous. Returning False, but in future this will result in an error. Use `array.size > 0` to check that an array is not empty.\n",
      "  if diff:\n",
      "/opt/anaconda/lib/python3.7/site-packages/sklearn/preprocessing/label.py:151: DeprecationWarning: The truth value of an empty array is ambiguous. Returning False, but in future this will result in an error. Use `array.size > 0` to check that an array is not empty.\n",
      "  if diff:\n",
      "/opt/anaconda/lib/python3.7/site-packages/sklearn/preprocessing/label.py:151: DeprecationWarning: The truth value of an empty array is ambiguous. Returning False, but in future this will result in an error. Use `array.size > 0` to check that an array is not empty.\n",
      "  if diff:\n"
     ]
    },
    {
     "name": "stdout",
     "output_type": "stream",
     "text": [
      "[CV]  boosting_type=gbdt, colsample_bytree=0.9, learning_rate=0.05, n_estimators=40, num_leaves=50, objective=binary, random_state=501, reg_alpha=0.2, reg_lambda=0.4, scale_pos_weight=20, subsample=0.75, score=0.9014133284506044, total=   4.2s\n",
      "[CV] boosting_type=gbdt, colsample_bytree=0.9, learning_rate=0.05, n_estimators=40, num_leaves=50, objective=binary, random_state=501, reg_alpha=0.6, reg_lambda=0.2, scale_pos_weight=15, subsample=0.75 \n"
     ]
    },
    {
     "name": "stderr",
     "output_type": "stream",
     "text": [
      "/opt/anaconda/lib/python3.7/site-packages/sklearn/preprocessing/label.py:151: DeprecationWarning: The truth value of an empty array is ambiguous. Returning False, but in future this will result in an error. Use `array.size > 0` to check that an array is not empty.\n",
      "  if diff:\n"
     ]
    },
    {
     "name": "stdout",
     "output_type": "stream",
     "text": [
      "[CV]  boosting_type=gbdt, colsample_bytree=0.9, learning_rate=0.05, n_estimators=40, num_leaves=50, objective=binary, random_state=501, reg_alpha=0.2, reg_lambda=0.4, scale_pos_weight=20, subsample=0.75, score=0.9054658125853458, total=   5.1s\n",
      "Did not meet early stopping. Best iteration is:\n",
      "[5]\tvalid's binary_logloss: 0.657084\tvalid's auc: 0.847956Training until validation scores don't improve for 50 rounds.\n",
      "\n"
     ]
    },
    {
     "name": "stderr",
     "output_type": "stream",
     "text": [
      "/opt/anaconda/lib/python3.7/site-packages/sklearn/preprocessing/label.py:151: DeprecationWarning: The truth value of an empty array is ambiguous. Returning False, but in future this will result in an error. Use `array.size > 0` to check that an array is not empty.\n",
      "  if diff:\n"
     ]
    },
    {
     "name": "stdout",
     "output_type": "stream",
     "text": [
      "[CV] boosting_type=gbdt, colsample_bytree=0.9, learning_rate=0.05, n_estimators=40, num_leaves=50, objective=binary, random_state=501, reg_alpha=0.6, reg_lambda=0.2, scale_pos_weight=15, subsample=0.75 \n",
      "[CV]  boosting_type=gbdt, colsample_bytree=0.9, learning_rate=0.05, n_estimators=40, num_leaves=50, objective=binary, random_state=501, reg_alpha=0.2, reg_lambda=0.4, scale_pos_weight=15, subsample=0.75, score=0.9024588486245165, total=   8.7s\n",
      "[CV] boosting_type=gbdt, colsample_bytree=0.9, learning_rate=0.05, n_estimators=40, num_leaves=50, objective=binary, random_state=501, reg_alpha=0.6, reg_lambda=0.2, scale_pos_weight=15, subsample=0.75 \n"
     ]
    },
    {
     "name": "stderr",
     "output_type": "stream",
     "text": [
      "/opt/anaconda/lib/python3.7/site-packages/sklearn/preprocessing/label.py:151: DeprecationWarning: The truth value of an empty array is ambiguous. Returning False, but in future this will result in an error. Use `array.size > 0` to check that an array is not empty.\n",
      "  if diff:\n"
     ]
    },
    {
     "name": "stdout",
     "output_type": "stream",
     "text": [
      "[CV]  boosting_type=gbdt, colsample_bytree=0.9, learning_rate=0.05, n_estimators=40, num_leaves=50, objective=binary, random_state=501, reg_alpha=0.2, reg_lambda=0.4, scale_pos_weight=20, subsample=0.75, score=0.908739567212929, total=   4.7s\n",
      "[CV] boosting_type=gbdt, colsample_bytree=0.9, learning_rate=0.05, n_estimators=40, num_leaves=50, objective=binary, random_state=501, reg_alpha=0.6, reg_lambda=0.2, scale_pos_weight=15, subsample=0.75 \n",
      "Training until validation scores don't improve for 50 rounds.\n"
     ]
    },
    {
     "name": "stderr",
     "output_type": "stream",
     "text": [
      "/opt/anaconda/lib/python3.7/site-packages/sklearn/preprocessing/label.py:151: DeprecationWarning: The truth value of an empty array is ambiguous. Returning False, but in future this will result in an error. Use `array.size > 0` to check that an array is not empty.\n",
      "  if diff:\n"
     ]
    },
    {
     "name": "stdout",
     "output_type": "stream",
     "text": [
      "Did not meet early stopping. Best iteration is:\n",
      "[4]\tvalid's binary_logloss: 0.661409\tvalid's auc: 0.839541\n"
     ]
    },
    {
     "name": "stderr",
     "output_type": "stream",
     "text": [
      "/opt/anaconda/lib/python3.7/site-packages/sklearn/preprocessing/label.py:151: DeprecationWarning: The truth value of an empty array is ambiguous. Returning False, but in future this will result in an error. Use `array.size > 0` to check that an array is not empty.\n",
      "  if diff:\n",
      "/opt/anaconda/lib/python3.7/site-packages/sklearn/preprocessing/label.py:151: DeprecationWarning: The truth value of an empty array is ambiguous. Returning False, but in future this will result in an error. Use `array.size > 0` to check that an array is not empty.\n",
      "  if diff:\n"
     ]
    },
    {
     "name": "stdout",
     "output_type": "stream",
     "text": [
      "Did not meet early stopping. Best iteration is:\n",
      "[4]\tvalid's binary_logloss: 0.663277\tvalid's auc: 0.844795[CV]  boosting_type=gbdt, colsample_bytree=0.9, learning_rate=0.05, n_estimators=40, num_leaves=50, objective=binary, random_state=501, reg_alpha=0.2, reg_lambda=0.4, scale_pos_weight=20, subsample=0.75, score=0.9055373046800068, total=   7.3s\n",
      "\n",
      "[CV] boosting_type=gbdt, colsample_bytree=0.9, learning_rate=0.05, n_estimators=40, num_leaves=50, objective=binary, random_state=501, reg_alpha=0.6, reg_lambda=0.2, scale_pos_weight=20, subsample=0.75 \n",
      "Training until validation scores don't improve for 50 rounds.\n",
      "Training until validation scores don't improve for 50 rounds.\n"
     ]
    },
    {
     "name": "stderr",
     "output_type": "stream",
     "text": [
      "/opt/anaconda/lib/python3.7/site-packages/sklearn/preprocessing/label.py:151: DeprecationWarning: The truth value of an empty array is ambiguous. Returning False, but in future this will result in an error. Use `array.size > 0` to check that an array is not empty.\n",
      "  if diff:\n"
     ]
    },
    {
     "name": "stdout",
     "output_type": "stream",
     "text": [
      "Training until validation scores don't improve for 50 rounds.\n"
     ]
    },
    {
     "name": "stderr",
     "output_type": "stream",
     "text": [
      "/opt/anaconda/lib/python3.7/site-packages/sklearn/preprocessing/label.py:151: DeprecationWarning: The truth value of an empty array is ambiguous. Returning False, but in future this will result in an error. Use `array.size > 0` to check that an array is not empty.\n",
      "  if diff:\n"
     ]
    },
    {
     "name": "stdout",
     "output_type": "stream",
     "text": [
      "Training until validation scores don't improve for 50 rounds.\n",
      "[CV]  boosting_type=gbdt, colsample_bytree=0.9, learning_rate=0.05, n_estimators=40, num_leaves=50, objective=binary, random_state=501, reg_alpha=0.2, reg_lambda=0.4, scale_pos_weight=25, subsample=0.75, score=0.8974647177143108, total=   5.0s\n",
      "[CV] boosting_type=gbdt, colsample_bytree=0.9, learning_rate=0.05, n_estimators=40, num_leaves=50, objective=binary, random_state=501, reg_alpha=0.6, reg_lambda=0.2, scale_pos_weight=20, subsample=0.75 \n"
     ]
    },
    {
     "name": "stderr",
     "output_type": "stream",
     "text": [
      "/opt/anaconda/lib/python3.7/site-packages/sklearn/preprocessing/label.py:151: DeprecationWarning: The truth value of an empty array is ambiguous. Returning False, but in future this will result in an error. Use `array.size > 0` to check that an array is not empty.\n",
      "  if diff:\n"
     ]
    },
    {
     "name": "stdout",
     "output_type": "stream",
     "text": [
      "[CV]  boosting_type=gbdt, colsample_bytree=0.9, learning_rate=0.05, n_estimators=40, num_leaves=50, objective=binary, random_state=501, reg_alpha=0.2, reg_lambda=0.4, scale_pos_weight=25, subsample=0.75, score=0.8768658069798144, total=   4.6s\n",
      "[CV] boosting_type=gbdt, colsample_bytree=0.9, learning_rate=0.05, n_estimators=40, num_leaves=50, objective=binary, random_state=501, reg_alpha=0.6, reg_lambda=0.2, scale_pos_weight=20, subsample=0.75 \n",
      "Training until validation scores don't improve for 50 rounds.\n",
      "Did not meet early stopping. Best iteration is:\n",
      "[4]\tvalid's binary_logloss: 0.664242\tvalid's auc: 0.82886\n",
      "Training until validation scores don't improve for 50 rounds.\n"
     ]
    },
    {
     "name": "stderr",
     "output_type": "stream",
     "text": [
      "/opt/anaconda/lib/python3.7/site-packages/sklearn/preprocessing/label.py:151: DeprecationWarning: The truth value of an empty array is ambiguous. Returning False, but in future this will result in an error. Use `array.size > 0` to check that an array is not empty.\n",
      "  if diff:\n"
     ]
    },
    {
     "name": "stdout",
     "output_type": "stream",
     "text": [
      "Did not meet early stopping. Best iteration is:\n",
      "[5]\tvalid's binary_logloss: 0.660702\tvalid's auc: 0.843611\n",
      "Training until validation scores don't improve for 50 rounds.\n",
      "Did not meet early stopping. Best iteration is:\n",
      "[4]\tvalid's binary_logloss: 0.663209\tvalid's auc: 0.830459Did not meet early stopping. Best iteration is:\n",
      "[6]\tvalid's binary_logloss: 0.652125\tvalid's auc: 0.855847\n",
      "\n"
     ]
    },
    {
     "name": "stderr",
     "output_type": "stream",
     "text": [
      "/opt/anaconda/lib/python3.7/site-packages/sklearn/preprocessing/label.py:151: DeprecationWarning: The truth value of an empty array is ambiguous. Returning False, but in future this will result in an error. Use `array.size > 0` to check that an array is not empty.\n",
      "  if diff:\n",
      "/opt/anaconda/lib/python3.7/site-packages/sklearn/preprocessing/label.py:151: DeprecationWarning: The truth value of an empty array is ambiguous. Returning False, but in future this will result in an error. Use `array.size > 0` to check that an array is not empty.\n",
      "  if diff:\n"
     ]
    },
    {
     "name": "stdout",
     "output_type": "stream",
     "text": [
      "[CV]  boosting_type=gbdt, colsample_bytree=0.9, learning_rate=0.05, n_estimators=40, num_leaves=50, objective=binary, random_state=501, reg_alpha=0.2, reg_lambda=0.4, scale_pos_weight=25, subsample=0.75, score=0.8934072942424068, total=   7.3s\n",
      "[CV] boosting_type=gbdt, colsample_bytree=0.9, learning_rate=0.05, n_estimators=40, num_leaves=50, objective=binary, random_state=501, reg_alpha=0.6, reg_lambda=0.2, scale_pos_weight=20, subsample=0.75 \n",
      "Did not meet early stopping. Best iteration is:\n",
      "[6]\tvalid's binary_logloss: 0.653357\tvalid's auc: 0.851596\n"
     ]
    },
    {
     "name": "stderr",
     "output_type": "stream",
     "text": [
      "/opt/anaconda/lib/python3.7/site-packages/sklearn/preprocessing/label.py:151: DeprecationWarning: The truth value of an empty array is ambiguous. Returning False, but in future this will result in an error. Use `array.size > 0` to check that an array is not empty.\n",
      "  if diff:\n",
      "/opt/anaconda/lib/python3.7/site-packages/sklearn/preprocessing/label.py:151: DeprecationWarning: The truth value of an empty array is ambiguous. Returning False, but in future this will result in an error. Use `array.size > 0` to check that an array is not empty.\n",
      "  if diff:\n",
      "/opt/anaconda/lib/python3.7/site-packages/sklearn/preprocessing/label.py:151: DeprecationWarning: The truth value of an empty array is ambiguous. Returning False, but in future this will result in an error. Use `array.size > 0` to check that an array is not empty.\n",
      "  if diff:\n"
     ]
    },
    {
     "name": "stdout",
     "output_type": "stream",
     "text": [
      "Did not meet early stopping. Best iteration is:\n",
      "[6]\tvalid's binary_logloss: 0.650734\tvalid's auc: 0.856226[CV]  boosting_type=gbdt, colsample_bytree=0.9, learning_rate=0.05, n_estimators=40, num_leaves=50, objective=binary, random_state=501, reg_alpha=0.2, reg_lambda=0.4, scale_pos_weight=20, subsample=0.75, score=0.90379223729666, total=  10.3s\n",
      "\n",
      "[CV] boosting_type=gbdt, colsample_bytree=0.9, learning_rate=0.05, n_estimators=40, num_leaves=50, objective=binary, random_state=501, reg_alpha=0.6, reg_lambda=0.2, scale_pos_weight=20, subsample=0.75 \n"
     ]
    },
    {
     "name": "stderr",
     "output_type": "stream",
     "text": [
      "/opt/anaconda/lib/python3.7/site-packages/sklearn/preprocessing/label.py:151: DeprecationWarning: The truth value of an empty array is ambiguous. Returning False, but in future this will result in an error. Use `array.size > 0` to check that an array is not empty.\n",
      "  if diff:\n"
     ]
    },
    {
     "name": "stdout",
     "output_type": "stream",
     "text": [
      "[CV]  boosting_type=gbdt, colsample_bytree=0.9, learning_rate=0.05, n_estimators=40, num_leaves=50, objective=binary, random_state=501, reg_alpha=0.2, reg_lambda=0.4, scale_pos_weight=25, subsample=0.75, score=0.8888802633794123, total=   7.7s\n"
     ]
    },
    {
     "name": "stderr",
     "output_type": "stream",
     "text": [
      "/opt/anaconda/lib/python3.7/site-packages/sklearn/preprocessing/label.py:151: DeprecationWarning: The truth value of an empty array is ambiguous. Returning False, but in future this will result in an error. Use `array.size > 0` to check that an array is not empty.\n",
      "  if diff:\n"
     ]
    },
    {
     "name": "stdout",
     "output_type": "stream",
     "text": [
      "[CV] boosting_type=gbdt, colsample_bytree=0.9, learning_rate=0.05, n_estimators=40, num_leaves=50, objective=binary, random_state=501, reg_alpha=0.6, reg_lambda=0.2, scale_pos_weight=25, subsample=0.75 \n",
      "[CV]  boosting_type=gbdt, colsample_bytree=0.9, learning_rate=0.05, n_estimators=40, num_leaves=50, objective=binary, random_state=501, reg_alpha=0.6, reg_lambda=0.2, scale_pos_weight=15, subsample=0.75, score=0.9029460953721544, total=   4.6s\n",
      "Did not meet early stopping. Best iteration is:\n",
      "[4]\tvalid's binary_logloss: 0.663456\tvalid's auc: 0.840958[CV] boosting_type=gbdt, colsample_bytree=0.9, learning_rate=0.05, n_estimators=40, num_leaves=50, objective=binary, random_state=501, reg_alpha=0.6, reg_lambda=0.2, scale_pos_weight=25, subsample=0.75 \n"
     ]
    },
    {
     "name": "stderr",
     "output_type": "stream",
     "text": [
      "/opt/anaconda/lib/python3.7/site-packages/sklearn/preprocessing/label.py:151: DeprecationWarning: The truth value of an empty array is ambiguous. Returning False, but in future this will result in an error. Use `array.size > 0` to check that an array is not empty.\n",
      "  if diff:\n"
     ]
    },
    {
     "name": "stdout",
     "output_type": "stream",
     "text": [
      "\n"
     ]
    },
    {
     "name": "stderr",
     "output_type": "stream",
     "text": [
      "/opt/anaconda/lib/python3.7/site-packages/sklearn/preprocessing/label.py:151: DeprecationWarning: The truth value of an empty array is ambiguous. Returning False, but in future this will result in an error. Use `array.size > 0` to check that an array is not empty.\n",
      "  if diff:\n",
      "/opt/anaconda/lib/python3.7/site-packages/sklearn/preprocessing/label.py:151: DeprecationWarning: The truth value of an empty array is ambiguous. Returning False, but in future this will result in an error. Use `array.size > 0` to check that an array is not empty.\n",
      "  if diff:\n",
      "/opt/anaconda/lib/python3.7/site-packages/sklearn/preprocessing/label.py:151: DeprecationWarning: The truth value of an empty array is ambiguous. Returning False, but in future this will result in an error. Use `array.size > 0` to check that an array is not empty.\n",
      "  if diff:\n"
     ]
    },
    {
     "name": "stdout",
     "output_type": "stream",
     "text": [
      "[CV]  boosting_type=gbdt, colsample_bytree=0.9, learning_rate=0.05, n_estimators=40, num_leaves=50, objective=binary, random_state=501, reg_alpha=0.6, reg_lambda=0.2, scale_pos_weight=15, subsample=0.75, score=0.9037232244075118, total=   5.6s\n",
      "[CV] boosting_type=gbdt, colsample_bytree=0.9, learning_rate=0.05, n_estimators=40, num_leaves=50, objective=binary, random_state=501, reg_alpha=0.6, reg_lambda=0.2, scale_pos_weight=25, subsample=0.75 \n",
      "Training until validation scores don't improve for 50 rounds.\n"
     ]
    },
    {
     "name": "stderr",
     "output_type": "stream",
     "text": [
      "/opt/anaconda/lib/python3.7/site-packages/sklearn/preprocessing/label.py:151: DeprecationWarning: The truth value of an empty array is ambiguous. Returning False, but in future this will result in an error. Use `array.size > 0` to check that an array is not empty.\n",
      "  if diff:\n"
     ]
    },
    {
     "name": "stdout",
     "output_type": "stream",
     "text": [
      "[CV]  boosting_type=gbdt, colsample_bytree=0.9, learning_rate=0.05, n_estimators=40, num_leaves=50, objective=binary, random_state=501, reg_alpha=0.6, reg_lambda=0.2, scale_pos_weight=15, subsample=0.75, score=0.9070507571647018, total=   6.6s\n",
      "[CV] boosting_type=gbdt, colsample_bytree=0.9, learning_rate=0.05, n_estimators=40, num_leaves=50, objective=binary, random_state=501, reg_alpha=0.6, reg_lambda=0.2, scale_pos_weight=25, subsample=0.75 \n"
     ]
    },
    {
     "name": "stderr",
     "output_type": "stream",
     "text": [
      "/opt/anaconda/lib/python3.7/site-packages/sklearn/preprocessing/label.py:151: DeprecationWarning: The truth value of an empty array is ambiguous. Returning False, but in future this will result in an error. Use `array.size > 0` to check that an array is not empty.\n",
      "  if diff:\n"
     ]
    },
    {
     "name": "stdout",
     "output_type": "stream",
     "text": [
      "[CV]  boosting_type=gbdt, colsample_bytree=0.9, learning_rate=0.05, n_estimators=40, num_leaves=50, objective=binary, random_state=501, reg_alpha=0.2, reg_lambda=0.4, scale_pos_weight=25, subsample=0.75, score=0.9011517880980643, total=   7.2s\n",
      "[CV] boosting_type=gbdt, colsample_bytree=0.9, learning_rate=0.05, n_estimators=40, num_leaves=50, objective=binary, random_state=501, reg_alpha=0.6, reg_lambda=0.2, scale_pos_weight=25, subsample=0.75 \n",
      "Training until validation scores don't improve for 50 rounds.\n",
      "Training until validation scores don't improve for 50 rounds.\n",
      "Training until validation scores don't improve for 50 rounds.\n",
      "Did not meet early stopping. Best iteration is:\n",
      "[6]\tvalid's binary_logloss: 0.651515\tvalid's auc: 0.853672\n",
      "Training until validation scores don't improve for 50 rounds.\n",
      "Did not meet early stopping. Best iteration is:\n",
      "[5]\tvalid's binary_logloss: 0.659752\tvalid's auc: 0.844837\n",
      "Did not meet early stopping. Best iteration is:\n",
      "[4]\tvalid's binary_logloss: 0.660482\tvalid's auc: 0.841245\n",
      "Training until validation scores don't improve for 50 rounds.\n"
     ]
    },
    {
     "name": "stderr",
     "output_type": "stream",
     "text": [
      "/opt/anaconda/lib/python3.7/site-packages/sklearn/preprocessing/label.py:151: DeprecationWarning: The truth value of an empty array is ambiguous. Returning False, but in future this will result in an error. Use `array.size > 0` to check that an array is not empty.\n",
      "  if diff:\n"
     ]
    },
    {
     "name": "stdout",
     "output_type": "stream",
     "text": [
      "Did not meet early stopping. Best iteration is:\n",
      "[7]\tvalid's binary_logloss: 0.652164\tvalid's auc: 0.85497\n",
      "Training until validation scores don't improve for 50 rounds.\n"
     ]
    },
    {
     "name": "stderr",
     "output_type": "stream",
     "text": [
      "/opt/anaconda/lib/python3.7/site-packages/sklearn/preprocessing/label.py:151: DeprecationWarning: The truth value of an empty array is ambiguous. Returning False, but in future this will result in an error. Use `array.size > 0` to check that an array is not empty.\n",
      "  if diff:\n",
      "/opt/anaconda/lib/python3.7/site-packages/sklearn/preprocessing/label.py:151: DeprecationWarning: The truth value of an empty array is ambiguous. Returning False, but in future this will result in an error. Use `array.size > 0` to check that an array is not empty.\n",
      "  if diff:\n",
      "/opt/anaconda/lib/python3.7/site-packages/sklearn/preprocessing/label.py:151: DeprecationWarning: The truth value of an empty array is ambiguous. Returning False, but in future this will result in an error. Use `array.size > 0` to check that an array is not empty.\n",
      "  if diff:\n"
     ]
    },
    {
     "name": "stdout",
     "output_type": "stream",
     "text": [
      "[CV]  boosting_type=gbdt, colsample_bytree=0.9, learning_rate=0.05, n_estimators=40, num_leaves=50, objective=binary, random_state=501, reg_alpha=0.6, reg_lambda=0.2, scale_pos_weight=15, subsample=0.75, score=0.9022128267268766, total=   7.4s\n",
      "Did not meet early stopping. Best iteration is:\n",
      "[5]\tvalid's binary_logloss: 0.657037\tvalid's auc: 0.848067\n",
      "[CV] boosting_type=gbdt, colsample_bytree=0.9, learning_rate=0.05, n_estimators=40, num_leaves=50, objective=binary, random_state=501, reg_alpha=0.6, reg_lambda=0.4, scale_pos_weight=15, subsample=0.75 \n"
     ]
    },
    {
     "name": "stderr",
     "output_type": "stream",
     "text": [
      "/opt/anaconda/lib/python3.7/site-packages/sklearn/preprocessing/label.py:151: DeprecationWarning: The truth value of an empty array is ambiguous. Returning False, but in future this will result in an error. Use `array.size > 0` to check that an array is not empty.\n",
      "  if diff:\n",
      "/opt/anaconda/lib/python3.7/site-packages/sklearn/preprocessing/label.py:151: DeprecationWarning: The truth value of an empty array is ambiguous. Returning False, but in future this will result in an error. Use `array.size > 0` to check that an array is not empty.\n",
      "  if diff:\n"
     ]
    },
    {
     "name": "stdout",
     "output_type": "stream",
     "text": [
      "[CV]  boosting_type=gbdt, colsample_bytree=0.9, learning_rate=0.05, n_estimators=40, num_leaves=50, objective=binary, random_state=501, reg_alpha=0.6, reg_lambda=0.2, scale_pos_weight=20, subsample=0.75, score=0.9046048431975907, total=   5.5s\n",
      "[CV] boosting_type=gbdt, colsample_bytree=0.9, learning_rate=0.05, n_estimators=40, num_leaves=50, objective=binary, random_state=501, reg_alpha=0.6, reg_lambda=0.4, scale_pos_weight=15, subsample=0.75 \n"
     ]
    },
    {
     "name": "stderr",
     "output_type": "stream",
     "text": [
      "/opt/anaconda/lib/python3.7/site-packages/sklearn/preprocessing/label.py:151: DeprecationWarning: The truth value of an empty array is ambiguous. Returning False, but in future this will result in an error. Use `array.size > 0` to check that an array is not empty.\n",
      "  if diff:\n"
     ]
    },
    {
     "name": "stdout",
     "output_type": "stream",
     "text": [
      "[CV]  boosting_type=gbdt, colsample_bytree=0.9, learning_rate=0.05, n_estimators=40, num_leaves=50, objective=binary, random_state=501, reg_alpha=0.6, reg_lambda=0.2, scale_pos_weight=20, subsample=0.75, score=0.8721818480435181, total=   6.2s\n"
     ]
    },
    {
     "name": "stderr",
     "output_type": "stream",
     "text": [
      "/opt/anaconda/lib/python3.7/site-packages/sklearn/preprocessing/label.py:151: DeprecationWarning: The truth value of an empty array is ambiguous. Returning False, but in future this will result in an error. Use `array.size > 0` to check that an array is not empty.\n",
      "  if diff:\n"
     ]
    },
    {
     "name": "stdout",
     "output_type": "stream",
     "text": [
      "[CV] boosting_type=gbdt, colsample_bytree=0.9, learning_rate=0.05, n_estimators=40, num_leaves=50, objective=binary, random_state=501, reg_alpha=0.6, reg_lambda=0.4, scale_pos_weight=15, subsample=0.75 \n"
     ]
    },
    {
     "name": "stderr",
     "output_type": "stream",
     "text": [
      "/opt/anaconda/lib/python3.7/site-packages/sklearn/preprocessing/label.py:151: DeprecationWarning: The truth value of an empty array is ambiguous. Returning False, but in future this will result in an error. Use `array.size > 0` to check that an array is not empty.\n",
      "  if diff:\n"
     ]
    },
    {
     "name": "stdout",
     "output_type": "stream",
     "text": [
      "[CV]  boosting_type=gbdt, colsample_bytree=0.9, learning_rate=0.05, n_estimators=40, num_leaves=50, objective=binary, random_state=501, reg_alpha=0.6, reg_lambda=0.2, scale_pos_weight=15, subsample=0.75, score=0.9125212910071931, total=   8.0s\n",
      "[CV] boosting_type=gbdt, colsample_bytree=0.9, learning_rate=0.05, n_estimators=40, num_leaves=50, objective=binary, random_state=501, reg_alpha=0.6, reg_lambda=0.4, scale_pos_weight=15, subsample=0.75 \n",
      "Did not meet early stopping. Best iteration is:\n",
      "[4]\tvalid's binary_logloss: 0.659314\tvalid's auc: 0.842467\n"
     ]
    },
    {
     "name": "stderr",
     "output_type": "stream",
     "text": [
      "/opt/anaconda/lib/python3.7/site-packages/sklearn/preprocessing/label.py:151: DeprecationWarning: The truth value of an empty array is ambiguous. Returning False, but in future this will result in an error. Use `array.size > 0` to check that an array is not empty.\n",
      "  if diff:\n"
     ]
    },
    {
     "name": "stdout",
     "output_type": "stream",
     "text": [
      "Did not meet early stopping. Best iteration is:\n",
      "[5]\tvalid's binary_logloss: 0.658688\tvalid's auc: 0.850349[CV]  boosting_type=gbdt, colsample_bytree=0.9, learning_rate=0.05, n_estimators=40, num_leaves=50, objective=binary, random_state=501, reg_alpha=0.6, reg_lambda=0.2, scale_pos_weight=20, subsample=0.75, score=0.9058243860197197, total=   7.5s\n",
      "\n",
      "[CV] boosting_type=gbdt, colsample_bytree=0.9, learning_rate=0.05, n_estimators=40, num_leaves=50, objective=binary, random_state=501, reg_alpha=0.6, reg_lambda=0.4, scale_pos_weight=15, subsample=0.75 \n",
      "Training until validation scores don't improve for 50 rounds.\n",
      "Did not meet early stopping. Best iteration is:\n",
      "[4]\tvalid's binary_logloss: 0.663133\tvalid's auc: 0.829982"
     ]
    },
    {
     "name": "stderr",
     "output_type": "stream",
     "text": [
      "/opt/anaconda/lib/python3.7/site-packages/sklearn/preprocessing/label.py:151: DeprecationWarning: The truth value of an empty array is ambiguous. Returning False, but in future this will result in an error. Use `array.size > 0` to check that an array is not empty.\n",
      "  if diff:\n"
     ]
    },
    {
     "name": "stdout",
     "output_type": "stream",
     "text": [
      "\n"
     ]
    },
    {
     "name": "stderr",
     "output_type": "stream",
     "text": [
      "/opt/anaconda/lib/python3.7/site-packages/sklearn/preprocessing/label.py:151: DeprecationWarning: The truth value of an empty array is ambiguous. Returning False, but in future this will result in an error. Use `array.size > 0` to check that an array is not empty.\n",
      "  if diff:\n"
     ]
    },
    {
     "name": "stdout",
     "output_type": "stream",
     "text": [
      "Did not meet early stopping. Best iteration is:\n",
      "[4]\tvalid's binary_logloss: 0.664037\tvalid's auc: 0.827982\n"
     ]
    },
    {
     "name": "stderr",
     "output_type": "stream",
     "text": [
      "/opt/anaconda/lib/python3.7/site-packages/sklearn/preprocessing/label.py:151: DeprecationWarning: The truth value of an empty array is ambiguous. Returning False, but in future this will result in an error. Use `array.size > 0` to check that an array is not empty.\n",
      "  if diff:\n"
     ]
    },
    {
     "name": "stdout",
     "output_type": "stream",
     "text": [
      "Training until validation scores don't improve for 50 rounds.\n"
     ]
    },
    {
     "name": "stderr",
     "output_type": "stream",
     "text": [
      "/opt/anaconda/lib/python3.7/site-packages/sklearn/preprocessing/label.py:151: DeprecationWarning: The truth value of an empty array is ambiguous. Returning False, but in future this will result in an error. Use `array.size > 0` to check that an array is not empty.\n",
      "  if diff:\n"
     ]
    },
    {
     "name": "stdout",
     "output_type": "stream",
     "text": [
      "Training until validation scores don't improve for 50 rounds.\n",
      "[CV]  boosting_type=gbdt, colsample_bytree=0.9, learning_rate=0.05, n_estimators=40, num_leaves=50, objective=binary, random_state=501, reg_alpha=0.6, reg_lambda=0.2, scale_pos_weight=20, subsample=0.75, score=0.9020206567425978, total=   5.5s\n",
      "[CV] boosting_type=gbdt, colsample_bytree=0.9, learning_rate=0.05, n_estimators=40, num_leaves=50, objective=binary, random_state=501, reg_alpha=0.6, reg_lambda=0.4, scale_pos_weight=20, subsample=0.75 \n"
     ]
    },
    {
     "name": "stderr",
     "output_type": "stream",
     "text": [
      "/opt/anaconda/lib/python3.7/site-packages/sklearn/preprocessing/label.py:151: DeprecationWarning: The truth value of an empty array is ambiguous. Returning False, but in future this will result in an error. Use `array.size > 0` to check that an array is not empty.\n",
      "  if diff:\n"
     ]
    },
    {
     "name": "stdout",
     "output_type": "stream",
     "text": [
      "[CV]  boosting_type=gbdt, colsample_bytree=0.9, learning_rate=0.05, n_estimators=40, num_leaves=50, objective=binary, random_state=501, reg_alpha=0.6, reg_lambda=0.2, scale_pos_weight=20, subsample=0.75, score=0.891271212390557, total=   5.0s\n",
      "Training until validation scores don't improve for 50 rounds.\n"
     ]
    },
    {
     "name": "stderr",
     "output_type": "stream",
     "text": [
      "/opt/anaconda/lib/python3.7/site-packages/sklearn/preprocessing/label.py:151: DeprecationWarning: The truth value of an empty array is ambiguous. Returning False, but in future this will result in an error. Use `array.size > 0` to check that an array is not empty.\n",
      "  if diff:\n"
     ]
    },
    {
     "name": "stdout",
     "output_type": "stream",
     "text": [
      "[CV] boosting_type=gbdt, colsample_bytree=0.9, learning_rate=0.05, n_estimators=40, num_leaves=50, objective=binary, random_state=501, reg_alpha=0.6, reg_lambda=0.4, scale_pos_weight=20, subsample=0.75 \n",
      "Training until validation scores don't improve for 50 rounds.\n"
     ]
    },
    {
     "name": "stderr",
     "output_type": "stream",
     "text": [
      "/opt/anaconda/lib/python3.7/site-packages/sklearn/preprocessing/label.py:151: DeprecationWarning: The truth value of an empty array is ambiguous. Returning False, but in future this will result in an error. Use `array.size > 0` to check that an array is not empty.\n",
      "  if diff:\n"
     ]
    },
    {
     "name": "stdout",
     "output_type": "stream",
     "text": [
      "[CV]  boosting_type=gbdt, colsample_bytree=0.9, learning_rate=0.05, n_estimators=40, num_leaves=50, objective=binary, random_state=501, reg_alpha=0.6, reg_lambda=0.2, scale_pos_weight=25, subsample=0.75, score=0.8892589122037449, total=   4.5s\n",
      "[CV] boosting_type=gbdt, colsample_bytree=0.9, learning_rate=0.05, n_estimators=40, num_leaves=50, objective=binary, random_state=501, reg_alpha=0.6, reg_lambda=0.4, scale_pos_weight=20, subsample=0.75 \n"
     ]
    },
    {
     "name": "stderr",
     "output_type": "stream",
     "text": [
      "/opt/anaconda/lib/python3.7/site-packages/sklearn/preprocessing/label.py:151: DeprecationWarning: The truth value of an empty array is ambiguous. Returning False, but in future this will result in an error. Use `array.size > 0` to check that an array is not empty.\n",
      "  if diff:\n"
     ]
    },
    {
     "name": "stdout",
     "output_type": "stream",
     "text": [
      "[CV]  boosting_type=gbdt, colsample_bytree=0.9, learning_rate=0.05, n_estimators=40, num_leaves=50, objective=binary, random_state=501, reg_alpha=0.6, reg_lambda=0.2, scale_pos_weight=25, subsample=0.75, score=0.8952811453300531, total=   5.5s\n",
      "[CV] boosting_type=gbdt, colsample_bytree=0.9, learning_rate=0.05, n_estimators=40, num_leaves=50, objective=binary, random_state=501, reg_alpha=0.6, reg_lambda=0.4, scale_pos_weight=20, subsample=0.75 \n",
      "Training until validation scores don't improve for 50 rounds.\n",
      "Did not meet early stopping. Best iteration is:\n",
      "[4]\tvalid's binary_logloss: 0.663464\tvalid's auc: 0.840968\n",
      "Training until validation scores don't improve for 50 rounds.\n",
      "Training until validation scores don't improve for 50 rounds.\n",
      "Training until validation scores don't improve for 50 rounds.\n",
      "Did not meet early stopping. Best iteration is:\n",
      "[4]\tvalid's binary_logloss: 0.66332\tvalid's auc: 0.843626"
     ]
    },
    {
     "name": "stderr",
     "output_type": "stream",
     "text": [
      "/opt/anaconda/lib/python3.7/site-packages/sklearn/preprocessing/label.py:151: DeprecationWarning: The truth value of an empty array is ambiguous. Returning False, but in future this will result in an error. Use `array.size > 0` to check that an array is not empty.\n",
      "  if diff:\n"
     ]
    },
    {
     "name": "stdout",
     "output_type": "stream",
     "text": [
      "\n",
      "Did not meet early stopping. Best iteration is:\n",
      "[4]\tvalid's binary_logloss: 0.661403\tvalid's auc: 0.839523\n"
     ]
    },
    {
     "name": "stderr",
     "output_type": "stream",
     "text": [
      "/opt/anaconda/lib/python3.7/site-packages/sklearn/preprocessing/label.py:151: DeprecationWarning: The truth value of an empty array is ambiguous. Returning False, but in future this will result in an error. Use `array.size > 0` to check that an array is not empty.\n",
      "  if diff:\n",
      "/opt/anaconda/lib/python3.7/site-packages/sklearn/preprocessing/label.py:151: DeprecationWarning: The truth value of an empty array is ambiguous. Returning False, but in future this will result in an error. Use `array.size > 0` to check that an array is not empty.\n",
      "  if diff:\n"
     ]
    },
    {
     "name": "stdout",
     "output_type": "stream",
     "text": [
      "[CV]  boosting_type=gbdt, colsample_bytree=0.9, learning_rate=0.05, n_estimators=40, num_leaves=50, objective=binary, random_state=501, reg_alpha=0.6, reg_lambda=0.2, scale_pos_weight=25, subsample=0.75, score=0.9005827031898115, total=   6.5s\n",
      "Did not meet early stopping. Best iteration is:\n",
      "[6]\tvalid's binary_logloss: 0.650641\tvalid's auc: 0.855875Did not meet early stopping. Best iteration is:\n",
      "[6]\tvalid's binary_logloss: 0.652173\tvalid's auc: 0.855849"
     ]
    },
    {
     "name": "stderr",
     "output_type": "stream",
     "text": [
      "/opt/anaconda/lib/python3.7/site-packages/sklearn/preprocessing/label.py:151: DeprecationWarning: The truth value of an empty array is ambiguous. Returning False, but in future this will result in an error. Use `array.size > 0` to check that an array is not empty.\n",
      "  if diff:\n"
     ]
    },
    {
     "name": "stdout",
     "output_type": "stream",
     "text": [
      "Did not meet early stopping. Best iteration is:\n",
      "[6]\tvalid's binary_logloss: 0.651578\tvalid's auc: 0.853723\n",
      "[CV] boosting_type=gbdt, colsample_bytree=0.9, learning_rate=0.05, n_estimators=40, num_leaves=50, objective=binary, random_state=501, reg_alpha=0.6, reg_lambda=0.4, scale_pos_weight=20, subsample=0.75 \n",
      "\n",
      "\n"
     ]
    },
    {
     "name": "stderr",
     "output_type": "stream",
     "text": [
      "/opt/anaconda/lib/python3.7/site-packages/sklearn/preprocessing/label.py:151: DeprecationWarning: The truth value of an empty array is ambiguous. Returning False, but in future this will result in an error. Use `array.size > 0` to check that an array is not empty.\n",
      "  if diff:\n"
     ]
    },
    {
     "name": "stdout",
     "output_type": "stream",
     "text": [
      "[CV]  boosting_type=gbdt, colsample_bytree=0.9, learning_rate=0.05, n_estimators=40, num_leaves=50, objective=binary, random_state=501, reg_alpha=0.6, reg_lambda=0.2, scale_pos_weight=25, subsample=0.75, score=0.8767735560573052, total=   7.3s\n",
      "[CV] boosting_type=gbdt, colsample_bytree=0.9, learning_rate=0.05, n_estimators=40, num_leaves=50, objective=binary, random_state=501, reg_alpha=0.6, reg_lambda=0.4, scale_pos_weight=25, subsample=0.75 \n"
     ]
    },
    {
     "name": "stderr",
     "output_type": "stream",
     "text": [
      "/opt/anaconda/lib/python3.7/site-packages/sklearn/preprocessing/label.py:151: DeprecationWarning: The truth value of an empty array is ambiguous. Returning False, but in future this will result in an error. Use `array.size > 0` to check that an array is not empty.\n",
      "  if diff:\n",
      "/opt/anaconda/lib/python3.7/site-packages/sklearn/preprocessing/label.py:151: DeprecationWarning: The truth value of an empty array is ambiguous. Returning False, but in future this will result in an error. Use `array.size > 0` to check that an array is not empty.\n",
      "  if diff:\n",
      "/opt/anaconda/lib/python3.7/site-packages/sklearn/preprocessing/label.py:151: DeprecationWarning: The truth value of an empty array is ambiguous. Returning False, but in future this will result in an error. Use `array.size > 0` to check that an array is not empty.\n",
      "  if diff:\n",
      "/opt/anaconda/lib/python3.7/site-packages/sklearn/preprocessing/label.py:151: DeprecationWarning: The truth value of an empty array is ambiguous. Returning False, but in future this will result in an error. Use `array.size > 0` to check that an array is not empty.\n",
      "  if diff:\n"
     ]
    },
    {
     "name": "stdout",
     "output_type": "stream",
     "text": [
      "[CV]  boosting_type=gbdt, colsample_bytree=0.9, learning_rate=0.05, n_estimators=40, num_leaves=50, objective=binary, random_state=501, reg_alpha=0.6, reg_lambda=0.2, scale_pos_weight=25, subsample=0.75, score=0.8974188986994196, total=   8.7s\n",
      "[CV] boosting_type=gbdt, colsample_bytree=0.9, learning_rate=0.05, n_estimators=40, num_leaves=50, objective=binary, random_state=501, reg_alpha=0.6, reg_lambda=0.4, scale_pos_weight=25, subsample=0.75 \n"
     ]
    },
    {
     "name": "stderr",
     "output_type": "stream",
     "text": [
      "/opt/anaconda/lib/python3.7/site-packages/sklearn/preprocessing/label.py:151: DeprecationWarning: The truth value of an empty array is ambiguous. Returning False, but in future this will result in an error. Use `array.size > 0` to check that an array is not empty.\n",
      "  if diff:\n"
     ]
    },
    {
     "name": "stdout",
     "output_type": "stream",
     "text": [
      "[CV]  boosting_type=gbdt, colsample_bytree=0.9, learning_rate=0.05, n_estimators=40, num_leaves=50, objective=binary, random_state=501, reg_alpha=0.6, reg_lambda=0.4, scale_pos_weight=15, subsample=0.75, score=0.9028086068295329, total=   5.4s\n"
     ]
    },
    {
     "name": "stderr",
     "output_type": "stream",
     "text": [
      "/opt/anaconda/lib/python3.7/site-packages/sklearn/preprocessing/label.py:151: DeprecationWarning: The truth value of an empty array is ambiguous. Returning False, but in future this will result in an error. Use `array.size > 0` to check that an array is not empty.\n",
      "  if diff:\n",
      "/opt/anaconda/lib/python3.7/site-packages/sklearn/preprocessing/label.py:151: DeprecationWarning: The truth value of an empty array is ambiguous. Returning False, but in future this will result in an error. Use `array.size > 0` to check that an array is not empty.\n",
      "  if diff:\n"
     ]
    },
    {
     "name": "stdout",
     "output_type": "stream",
     "text": [
      "[CV] boosting_type=gbdt, colsample_bytree=0.9, learning_rate=0.05, n_estimators=40, num_leaves=50, objective=binary, random_state=501, reg_alpha=0.6, reg_lambda=0.4, scale_pos_weight=25, subsample=0.75 \n",
      "[CV]  boosting_type=gbdt, colsample_bytree=0.9, learning_rate=0.05, n_estimators=40, num_leaves=50, objective=binary, random_state=501, reg_alpha=0.6, reg_lambda=0.4, scale_pos_weight=15, subsample=0.75, score=0.9023127749450693, total=   5.3s\n",
      "[CV]  boosting_type=gbdt, colsample_bytree=0.9, learning_rate=0.05, n_estimators=40, num_leaves=50, objective=binary, random_state=501, reg_alpha=0.6, reg_lambda=0.4, scale_pos_weight=15, subsample=0.75, score=0.9063148029398708, total=   5.9s\n",
      "[CV] boosting_type=gbdt, colsample_bytree=0.9, learning_rate=0.05, n_estimators=40, num_leaves=50, objective=binary, random_state=501, reg_alpha=0.6, reg_lambda=0.4, scale_pos_weight=25, subsample=0.75 \n",
      "[CV] boosting_type=gbdt, colsample_bytree=0.9, learning_rate=0.05, n_estimators=40, num_leaves=50, objective=binary, random_state=501, reg_alpha=0.6, reg_lambda=0.4, scale_pos_weight=25, subsample=0.75 \n",
      "Training until validation scores don't improve for 50 rounds.\n",
      "Training until validation scores don't improve for 50 rounds.\n",
      "Training until validation scores don't improve for 50 rounds.\n",
      "Training until validation scores don't improve for 50 rounds.\n",
      "Did not meet early stopping. Best iteration is:\n",
      "[4]\tvalid's binary_logloss: 0.660543\tvalid's auc: 0.840636\n",
      "Did not meet early stopping. Best iteration is:\n",
      "[6]\tvalid's binary_logloss: 0.653364\tvalid's auc: 0.851642\n",
      "Training until validation scores don't improve for 50 rounds.\n",
      "Training until validation scores don't improve for 50 rounds.\n",
      "Did not meet early stopping. Best iteration is:\n",
      "[5]\tvalid's binary_logloss: 0.659844\tvalid's auc: 0.844637\n",
      "Did not meet early stopping. Best iteration is:\n",
      "[5]\tvalid's binary_logloss: 0.657157\tvalid's auc: 0.847893\n"
     ]
    },
    {
     "name": "stderr",
     "output_type": "stream",
     "text": [
      "/opt/anaconda/lib/python3.7/site-packages/sklearn/preprocessing/label.py:151: DeprecationWarning: The truth value of an empty array is ambiguous. Returning False, but in future this will result in an error. Use `array.size > 0` to check that an array is not empty.\n",
      "  if diff:\n",
      "/opt/anaconda/lib/python3.7/site-packages/sklearn/preprocessing/label.py:151: DeprecationWarning: The truth value of an empty array is ambiguous. Returning False, but in future this will result in an error. Use `array.size > 0` to check that an array is not empty.\n",
      "  if diff:\n",
      "/opt/anaconda/lib/python3.7/site-packages/sklearn/preprocessing/label.py:151: DeprecationWarning: The truth value of an empty array is ambiguous. Returning False, but in future this will result in an error. Use `array.size > 0` to check that an array is not empty.\n",
      "  if diff:\n",
      "/opt/anaconda/lib/python3.7/site-packages/sklearn/preprocessing/label.py:151: DeprecationWarning: The truth value of an empty array is ambiguous. Returning False, but in future this will result in an error. Use `array.size > 0` to check that an array is not empty.\n",
      "  if diff:\n",
      "/opt/anaconda/lib/python3.7/site-packages/sklearn/preprocessing/label.py:151: DeprecationWarning: The truth value of an empty array is ambiguous. Returning False, but in future this will result in an error. Use `array.size > 0` to check that an array is not empty.\n",
      "  if diff:\n"
     ]
    },
    {
     "name": "stdout",
     "output_type": "stream",
     "text": [
      "[CV]  boosting_type=gbdt, colsample_bytree=0.9, learning_rate=0.05, n_estimators=40, num_leaves=50, objective=binary, random_state=501, reg_alpha=0.6, reg_lambda=0.4, scale_pos_weight=20, subsample=0.75, score=0.87486874642864, total=   6.2s\n",
      "[CV] boosting_type=gbdt, colsample_bytree=0.9, learning_rate=0.1, n_estimators=40, num_leaves=30, objective=binary, random_state=501, reg_alpha=0.2, reg_lambda=0.2, scale_pos_weight=15, subsample=0.75 \n"
     ]
    },
    {
     "name": "stderr",
     "output_type": "stream",
     "text": [
      "/opt/anaconda/lib/python3.7/site-packages/sklearn/preprocessing/label.py:151: DeprecationWarning: The truth value of an empty array is ambiguous. Returning False, but in future this will result in an error. Use `array.size > 0` to check that an array is not empty.\n",
      "  if diff:\n"
     ]
    },
    {
     "name": "stdout",
     "output_type": "stream",
     "text": [
      "[CV]  boosting_type=gbdt, colsample_bytree=0.9, learning_rate=0.05, n_estimators=40, num_leaves=50, objective=binary, random_state=501, reg_alpha=0.6, reg_lambda=0.4, scale_pos_weight=15, subsample=0.75, score=0.9035423772457966, total=   8.6s\n"
     ]
    },
    {
     "name": "stderr",
     "output_type": "stream",
     "text": [
      "/opt/anaconda/lib/python3.7/site-packages/sklearn/preprocessing/label.py:151: DeprecationWarning: The truth value of an empty array is ambiguous. Returning False, but in future this will result in an error. Use `array.size > 0` to check that an array is not empty.\n",
      "  if diff:\n"
     ]
    },
    {
     "name": "stdout",
     "output_type": "stream",
     "text": [
      "[CV] boosting_type=gbdt, colsample_bytree=0.9, learning_rate=0.1, n_estimators=40, num_leaves=30, objective=binary, random_state=501, reg_alpha=0.2, reg_lambda=0.2, scale_pos_weight=15, subsample=0.75 \n",
      "[CV]  boosting_type=gbdt, colsample_bytree=0.9, learning_rate=0.05, n_estimators=40, num_leaves=50, objective=binary, random_state=501, reg_alpha=0.6, reg_lambda=0.4, scale_pos_weight=20, subsample=0.75, score=0.9043178534016723, total=   6.3s\n"
     ]
    },
    {
     "name": "stderr",
     "output_type": "stream",
     "text": [
      "/opt/anaconda/lib/python3.7/site-packages/sklearn/preprocessing/label.py:151: DeprecationWarning: The truth value of an empty array is ambiguous. Returning False, but in future this will result in an error. Use `array.size > 0` to check that an array is not empty.\n",
      "  if diff:\n"
     ]
    },
    {
     "name": "stdout",
     "output_type": "stream",
     "text": [
      "[CV] boosting_type=gbdt, colsample_bytree=0.9, learning_rate=0.1, n_estimators=40, num_leaves=30, objective=binary, random_state=501, reg_alpha=0.2, reg_lambda=0.2, scale_pos_weight=15, subsample=0.75 \n",
      "[CV]  boosting_type=gbdt, colsample_bytree=0.9, learning_rate=0.05, n_estimators=40, num_leaves=50, objective=binary, random_state=501, reg_alpha=0.6, reg_lambda=0.4, scale_pos_weight=20, subsample=0.75, score=0.9065130962363736, total=   6.7s\n",
      "[CV] boosting_type=gbdt, colsample_bytree=0.9, learning_rate=0.1, n_estimators=40, num_leaves=30, objective=binary, random_state=501, reg_alpha=0.2, reg_lambda=0.2, scale_pos_weight=15, subsample=0.75 \n",
      "Did not meet early stopping. Best iteration is:\n",
      "[7]\tvalid's binary_logloss: 0.652248\tvalid's auc: 0.854921\n",
      "Did not meet early stopping. Best iteration is:\n",
      "[4]\tvalid's binary_logloss: 0.664096\tvalid's auc: 0.827969\n"
     ]
    },
    {
     "name": "stderr",
     "output_type": "stream",
     "text": [
      "/opt/anaconda/lib/python3.7/site-packages/sklearn/preprocessing/label.py:151: DeprecationWarning: The truth value of an empty array is ambiguous. Returning False, but in future this will result in an error. Use `array.size > 0` to check that an array is not empty.\n",
      "  if diff:\n"
     ]
    },
    {
     "name": "stdout",
     "output_type": "stream",
     "text": [
      "Did not meet early stopping. Best iteration is:\n",
      "[5]\tvalid's binary_logloss: 0.658862\tvalid's auc: 0.849534"
     ]
    },
    {
     "name": "stderr",
     "output_type": "stream",
     "text": [
      "/opt/anaconda/lib/python3.7/site-packages/sklearn/preprocessing/label.py:151: DeprecationWarning: The truth value of an empty array is ambiguous. Returning False, but in future this will result in an error. Use `array.size > 0` to check that an array is not empty.\n",
      "  if diff:\n"
     ]
    },
    {
     "name": "stdout",
     "output_type": "stream",
     "text": [
      "\n",
      "Did not meet early stopping. Best iteration is:\n",
      "[4]\tvalid's binary_logloss: 0.663823\tvalid's auc: 0.840754\n",
      "Training until validation scores don't improve for 50 rounds.\n",
      "Training until validation scores don't improve for 50 rounds.\n"
     ]
    },
    {
     "name": "stderr",
     "output_type": "stream",
     "text": [
      "/opt/anaconda/lib/python3.7/site-packages/sklearn/preprocessing/label.py:151: DeprecationWarning: The truth value of an empty array is ambiguous. Returning False, but in future this will result in an error. Use `array.size > 0` to check that an array is not empty.\n",
      "  if diff:\n"
     ]
    },
    {
     "name": "stdout",
     "output_type": "stream",
     "text": [
      "Training until validation scores don't improve for 50 rounds.\n",
      "[CV]  boosting_type=gbdt, colsample_bytree=0.9, learning_rate=0.05, n_estimators=40, num_leaves=50, objective=binary, random_state=501, reg_alpha=0.6, reg_lambda=0.4, scale_pos_weight=15, subsample=0.75, score=0.9126477412122453, total=   9.6s\n",
      "Training until validation scores don't improve for 50 rounds.\n",
      "[CV] boosting_type=gbdt, colsample_bytree=0.9, learning_rate=0.1, n_estimators=40, num_leaves=30, objective=binary, random_state=501, reg_alpha=0.2, reg_lambda=0.2, scale_pos_weight=15, subsample=0.75 \n"
     ]
    },
    {
     "name": "stderr",
     "output_type": "stream",
     "text": [
      "/opt/anaconda/lib/python3.7/site-packages/sklearn/preprocessing/label.py:151: DeprecationWarning: The truth value of an empty array is ambiguous. Returning False, but in future this will result in an error. Use `array.size > 0` to check that an array is not empty.\n",
      "  if diff:\n",
      "/opt/anaconda/lib/python3.7/site-packages/sklearn/preprocessing/label.py:151: DeprecationWarning: The truth value of an empty array is ambiguous. Returning False, but in future this will result in an error. Use `array.size > 0` to check that an array is not empty.\n",
      "  if diff:\n"
     ]
    },
    {
     "name": "stdout",
     "output_type": "stream",
     "text": [
      "[CV]  boosting_type=gbdt, colsample_bytree=0.9, learning_rate=0.05, n_estimators=40, num_leaves=50, objective=binary, random_state=501, reg_alpha=0.6, reg_lambda=0.4, scale_pos_weight=25, subsample=0.75, score=0.8952811453300531, total=   4.8s\n"
     ]
    },
    {
     "name": "stderr",
     "output_type": "stream",
     "text": [
      "/opt/anaconda/lib/python3.7/site-packages/sklearn/preprocessing/label.py:151: DeprecationWarning: The truth value of an empty array is ambiguous. Returning False, but in future this will result in an error. Use `array.size > 0` to check that an array is not empty.\n",
      "  if diff:\n"
     ]
    },
    {
     "name": "stdout",
     "output_type": "stream",
     "text": [
      "Did not meet early stopping. Best iteration is:\n",
      "[5]\tvalid's binary_logloss: 0.659254\tvalid's auc: 0.848364[CV] boosting_type=gbdt, colsample_bytree=0.9, learning_rate=0.1, n_estimators=40, num_leaves=30, objective=binary, random_state=501, reg_alpha=0.2, reg_lambda=0.2, scale_pos_weight=20, subsample=0.75 \n",
      "\n"
     ]
    },
    {
     "name": "stderr",
     "output_type": "stream",
     "text": [
      "/opt/anaconda/lib/python3.7/site-packages/sklearn/preprocessing/label.py:151: DeprecationWarning: The truth value of an empty array is ambiguous. Returning False, but in future this will result in an error. Use `array.size > 0` to check that an array is not empty.\n",
      "  if diff:\n"
     ]
    },
    {
     "name": "stdout",
     "output_type": "stream",
     "text": [
      "[CV]  boosting_type=gbdt, colsample_bytree=0.9, learning_rate=0.05, n_estimators=40, num_leaves=50, objective=binary, random_state=501, reg_alpha=0.6, reg_lambda=0.4, scale_pos_weight=20, subsample=0.75, score=0.9016208930262501, total=   8.4s\n"
     ]
    },
    {
     "name": "stderr",
     "output_type": "stream",
     "text": [
      "/opt/anaconda/lib/python3.7/site-packages/sklearn/preprocessing/label.py:151: DeprecationWarning: The truth value of an empty array is ambiguous. Returning False, but in future this will result in an error. Use `array.size > 0` to check that an array is not empty.\n",
      "  if diff:\n",
      "/opt/anaconda/lib/python3.7/site-packages/sklearn/preprocessing/label.py:151: DeprecationWarning: The truth value of an empty array is ambiguous. Returning False, but in future this will result in an error. Use `array.size > 0` to check that an array is not empty.\n",
      "  if diff:\n"
     ]
    },
    {
     "name": "stdout",
     "output_type": "stream",
     "text": [
      "[CV] boosting_type=gbdt, colsample_bytree=0.9, learning_rate=0.1, n_estimators=40, num_leaves=30, objective=binary, random_state=501, reg_alpha=0.2, reg_lambda=0.2, scale_pos_weight=20, subsample=0.75 \n",
      "Training until validation scores don't improve for 50 rounds.\n",
      "Did not meet early stopping. Best iteration is:\n",
      "[4]\tvalid's binary_logloss: 0.661466\tvalid's auc: 0.839536[CV]  boosting_type=gbdt, colsample_bytree=0.9, learning_rate=0.05, n_estimators=40, num_leaves=50, objective=binary, random_state=501, reg_alpha=0.6, reg_lambda=0.4, scale_pos_weight=25, subsample=0.75, score=0.9010926477426868, total=   4.9s\n",
      "\n",
      "[CV] boosting_type=gbdt, colsample_bytree=0.9, learning_rate=0.1, n_estimators=40, num_leaves=30, objective=binary, random_state=501, reg_alpha=0.2, reg_lambda=0.2, scale_pos_weight=20, subsample=0.75 \n"
     ]
    },
    {
     "name": "stderr",
     "output_type": "stream",
     "text": [
      "/opt/anaconda/lib/python3.7/site-packages/sklearn/preprocessing/label.py:151: DeprecationWarning: The truth value of an empty array is ambiguous. Returning False, but in future this will result in an error. Use `array.size > 0` to check that an array is not empty.\n",
      "  if diff:\n"
     ]
    },
    {
     "name": "stdout",
     "output_type": "stream",
     "text": [
      "[CV]  boosting_type=gbdt, colsample_bytree=0.9, learning_rate=0.05, n_estimators=40, num_leaves=50, objective=binary, random_state=501, reg_alpha=0.6, reg_lambda=0.4, scale_pos_weight=20, subsample=0.75, score=0.9081337785658571, total=   6.9s\n",
      "Training until validation scores don't improve for 50 rounds.\n"
     ]
    },
    {
     "name": "stderr",
     "output_type": "stream",
     "text": [
      "/opt/anaconda/lib/python3.7/site-packages/sklearn/preprocessing/label.py:151: DeprecationWarning: The truth value of an empty array is ambiguous. Returning False, but in future this will result in an error. Use `array.size > 0` to check that an array is not empty.\n",
      "  if diff:\n"
     ]
    },
    {
     "name": "stdout",
     "output_type": "stream",
     "text": [
      "Did not meet early stopping. Best iteration is:\n",
      "[2]\tvalid's binary_logloss: 0.657871\tvalid's auc: 0.838417[CV] boosting_type=gbdt, colsample_bytree=0.9, learning_rate=0.1, n_estimators=40, num_leaves=30, objective=binary, random_state=501, reg_alpha=0.2, reg_lambda=0.2, scale_pos_weight=20, subsample=0.75 \n",
      "\n"
     ]
    },
    {
     "name": "stderr",
     "output_type": "stream",
     "text": [
      "/opt/anaconda/lib/python3.7/site-packages/sklearn/preprocessing/label.py:151: DeprecationWarning: The truth value of an empty array is ambiguous. Returning False, but in future this will result in an error. Use `array.size > 0` to check that an array is not empty.\n",
      "  if diff:\n",
      "/opt/anaconda/lib/python3.7/site-packages/sklearn/preprocessing/label.py:151: DeprecationWarning: The truth value of an empty array is ambiguous. Returning False, but in future this will result in an error. Use `array.size > 0` to check that an array is not empty.\n",
      "  if diff:\n"
     ]
    },
    {
     "name": "stdout",
     "output_type": "stream",
     "text": [
      "[CV]  boosting_type=gbdt, colsample_bytree=0.9, learning_rate=0.05, n_estimators=40, num_leaves=50, objective=binary, random_state=501, reg_alpha=0.6, reg_lambda=0.4, scale_pos_weight=25, subsample=0.75, score=0.8974188986994196, total=   7.4s\n",
      "[CV] boosting_type=gbdt, colsample_bytree=0.9, learning_rate=0.1, n_estimators=40, num_leaves=30, objective=binary, random_state=501, reg_alpha=0.2, reg_lambda=0.2, scale_pos_weight=20, subsample=0.75 \n",
      "Training until validation scores don't improve for 50 rounds.\n",
      "Training until validation scores don't improve for 50 rounds.\n"
     ]
    },
    {
     "name": "stderr",
     "output_type": "stream",
     "text": [
      "/opt/anaconda/lib/python3.7/site-packages/sklearn/preprocessing/label.py:151: DeprecationWarning: The truth value of an empty array is ambiguous. Returning False, but in future this will result in an error. Use `array.size > 0` to check that an array is not empty.\n",
      "  if diff:\n"
     ]
    },
    {
     "name": "stdout",
     "output_type": "stream",
     "text": [
      "[CV]  boosting_type=gbdt, colsample_bytree=0.9, learning_rate=0.1, n_estimators=40, num_leaves=30, objective=binary, random_state=501, reg_alpha=0.2, reg_lambda=0.2, scale_pos_weight=15, subsample=0.75, score=0.8146245119214782, total=   3.9s\n",
      "[CV] boosting_type=gbdt, colsample_bytree=0.9, learning_rate=0.1, n_estimators=40, num_leaves=30, objective=binary, random_state=501, reg_alpha=0.2, reg_lambda=0.2, scale_pos_weight=25, subsample=0.75 \n",
      "Training until validation scores don't improve for 50 rounds.\n",
      "Did not meet early stopping. Best iteration is:\n",
      "[4]\tvalid's binary_logloss: 0.663303\tvalid's auc: 0.844977\n",
      "Did not meet early stopping. Best iteration is:\n",
      "[4]\tvalid's binary_logloss: 0.663288\tvalid's auc: 0.830145\n",
      "Did not meet early stopping. Best iteration is:\n",
      "[3]\tvalid's binary_logloss: 0.658613\tvalid's auc: 0.839914\n"
     ]
    },
    {
     "name": "stderr",
     "output_type": "stream",
     "text": [
      "/opt/anaconda/lib/python3.7/site-packages/sklearn/preprocessing/label.py:151: DeprecationWarning: The truth value of an empty array is ambiguous. Returning False, but in future this will result in an error. Use `array.size > 0` to check that an array is not empty.\n",
      "  if diff:\n"
     ]
    },
    {
     "name": "stdout",
     "output_type": "stream",
     "text": [
      "Training until validation scores don't improve for 50 rounds.\n"
     ]
    },
    {
     "name": "stderr",
     "output_type": "stream",
     "text": [
      "/opt/anaconda/lib/python3.7/site-packages/sklearn/preprocessing/label.py:151: DeprecationWarning: The truth value of an empty array is ambiguous. Returning False, but in future this will result in an error. Use `array.size > 0` to check that an array is not empty.\n",
      "  if diff:\n"
     ]
    },
    {
     "name": "stdout",
     "output_type": "stream",
     "text": [
      "Did not meet early stopping. Best iteration is:\n",
      "[2]\tvalid's binary_logloss: 0.658868\tvalid's auc: 0.831722\n",
      "Did not meet early stopping. Best iteration is:\n",
      "[2]\tvalid's binary_logloss: 0.657887\tvalid's auc: 0.835333"
     ]
    },
    {
     "name": "stderr",
     "output_type": "stream",
     "text": [
      "/opt/anaconda/lib/python3.7/site-packages/sklearn/preprocessing/label.py:151: DeprecationWarning: The truth value of an empty array is ambiguous. Returning False, but in future this will result in an error. Use `array.size > 0` to check that an array is not empty.\n",
      "  if diff:\n"
     ]
    },
    {
     "name": "stdout",
     "output_type": "stream",
     "text": [
      "\n",
      "[CV]  boosting_type=gbdt, colsample_bytree=0.9, learning_rate=0.05, n_estimators=40, num_leaves=50, objective=binary, random_state=501, reg_alpha=0.6, reg_lambda=0.4, scale_pos_weight=25, subsample=0.75, score=0.8769042351453856, total=   8.6s\n",
      "Training until validation scores don't improve for 50 rounds.\n",
      "[CV] boosting_type=gbdt, colsample_bytree=0.9, learning_rate=0.1, n_estimators=40, num_leaves=30, objective=binary, random_state=501, reg_alpha=0.2, reg_lambda=0.2, scale_pos_weight=25, subsample=0.75 \n"
     ]
    },
    {
     "name": "stderr",
     "output_type": "stream",
     "text": [
      "/opt/anaconda/lib/python3.7/site-packages/sklearn/preprocessing/label.py:151: DeprecationWarning: The truth value of an empty array is ambiguous. Returning False, but in future this will result in an error. Use `array.size > 0` to check that an array is not empty.\n",
      "  if diff:\n",
      "/opt/anaconda/lib/python3.7/site-packages/sklearn/preprocessing/label.py:151: DeprecationWarning: The truth value of an empty array is ambiguous. Returning False, but in future this will result in an error. Use `array.size > 0` to check that an array is not empty.\n",
      "  if diff:\n",
      "/opt/anaconda/lib/python3.7/site-packages/sklearn/preprocessing/label.py:151: DeprecationWarning: The truth value of an empty array is ambiguous. Returning False, but in future this will result in an error. Use `array.size > 0` to check that an array is not empty.\n",
      "  if diff:\n"
     ]
    },
    {
     "name": "stdout",
     "output_type": "stream",
     "text": [
      "[CV]  boosting_type=gbdt, colsample_bytree=0.9, learning_rate=0.05, n_estimators=40, num_leaves=50, objective=binary, random_state=501, reg_alpha=0.6, reg_lambda=0.4, scale_pos_weight=25, subsample=0.75, score=0.8879603411025272, total=   9.0s\n",
      "Did not meet early stopping. Best iteration is:\n",
      "[2]\tvalid's binary_logloss: 0.659844\tvalid's auc: 0.826759\n",
      "[CV] boosting_type=gbdt, colsample_bytree=0.9, learning_rate=0.1, n_estimators=40, num_leaves=30, objective=binary, random_state=501, reg_alpha=0.2, reg_lambda=0.2, scale_pos_weight=25, subsample=0.75 \n"
     ]
    },
    {
     "name": "stderr",
     "output_type": "stream",
     "text": [
      "/opt/anaconda/lib/python3.7/site-packages/sklearn/preprocessing/label.py:151: DeprecationWarning: The truth value of an empty array is ambiguous. Returning False, but in future this will result in an error. Use `array.size > 0` to check that an array is not empty.\n",
      "  if diff:\n",
      "/opt/anaconda/lib/python3.7/site-packages/sklearn/preprocessing/label.py:151: DeprecationWarning: The truth value of an empty array is ambiguous. Returning False, but in future this will result in an error. Use `array.size > 0` to check that an array is not empty.\n",
      "  if diff:\n",
      "/opt/anaconda/lib/python3.7/site-packages/sklearn/preprocessing/label.py:151: DeprecationWarning: The truth value of an empty array is ambiguous. Returning False, but in future this will result in an error. Use `array.size > 0` to check that an array is not empty.\n",
      "  if diff:\n"
     ]
    },
    {
     "name": "stdout",
     "output_type": "stream",
     "text": [
      "[CV]  boosting_type=gbdt, colsample_bytree=0.9, learning_rate=0.1, n_estimators=40, num_leaves=30, objective=binary, random_state=501, reg_alpha=0.2, reg_lambda=0.2, scale_pos_weight=15, subsample=0.75, score=0.9088039373660644, total=   6.7s\n",
      "[CV]  boosting_type=gbdt, colsample_bytree=0.9, learning_rate=0.1, n_estimators=40, num_leaves=30, objective=binary, random_state=501, reg_alpha=0.2, reg_lambda=0.2, scale_pos_weight=15, subsample=0.75, score=0.8583657809632546, total=   6.6s\n",
      "[CV] boosting_type=gbdt, colsample_bytree=0.9, learning_rate=0.1, n_estimators=40, num_leaves=30, objective=binary, random_state=501, reg_alpha=0.2, reg_lambda=0.2, scale_pos_weight=25, subsample=0.75 \n",
      "[CV] boosting_type=gbdt, colsample_bytree=0.9, learning_rate=0.1, n_estimators=40, num_leaves=30, objective=binary, random_state=501, reg_alpha=0.2, reg_lambda=0.2, scale_pos_weight=25, subsample=0.75 \n"
     ]
    },
    {
     "name": "stderr",
     "output_type": "stream",
     "text": [
      "/opt/anaconda/lib/python3.7/site-packages/sklearn/preprocessing/label.py:151: DeprecationWarning: The truth value of an empty array is ambiguous. Returning False, but in future this will result in an error. Use `array.size > 0` to check that an array is not empty.\n",
      "  if diff:\n",
      "/opt/anaconda/lib/python3.7/site-packages/sklearn/preprocessing/label.py:151: DeprecationWarning: The truth value of an empty array is ambiguous. Returning False, but in future this will result in an error. Use `array.size > 0` to check that an array is not empty.\n",
      "  if diff:\n"
     ]
    },
    {
     "name": "stdout",
     "output_type": "stream",
     "text": [
      "[CV]  boosting_type=gbdt, colsample_bytree=0.9, learning_rate=0.1, n_estimators=40, num_leaves=30, objective=binary, random_state=501, reg_alpha=0.2, reg_lambda=0.2, scale_pos_weight=15, subsample=0.75, score=0.855492152677231, total=   5.1s\n",
      "[CV] boosting_type=gbdt, colsample_bytree=0.9, learning_rate=0.1, n_estimators=40, num_leaves=30, objective=binary, random_state=501, reg_alpha=0.2, reg_lambda=0.4, scale_pos_weight=15, subsample=0.75 \n",
      "Did not meet early stopping. Best iteration is:\n",
      "[2]\tvalid's binary_logloss: 0.663895\tvalid's auc: 0.817967\n"
     ]
    },
    {
     "name": "stderr",
     "output_type": "stream",
     "text": [
      "/opt/anaconda/lib/python3.7/site-packages/sklearn/preprocessing/label.py:151: DeprecationWarning: The truth value of an empty array is ambiguous. Returning False, but in future this will result in an error. Use `array.size > 0` to check that an array is not empty.\n",
      "  if diff:\n"
     ]
    },
    {
     "name": "stdout",
     "output_type": "stream",
     "text": [
      "[CV]  boosting_type=gbdt, colsample_bytree=0.9, learning_rate=0.1, n_estimators=40, num_leaves=30, objective=binary, random_state=501, reg_alpha=0.2, reg_lambda=0.2, scale_pos_weight=15, subsample=0.75, score=0.8296812159786005, total=   7.3s\n",
      "Did not meet early stopping. Best iteration is:\n",
      "[2]\tvalid's binary_logloss: 0.664204\tvalid's auc: 0.828421\n",
      "[CV] boosting_type=gbdt, colsample_bytree=0.9, learning_rate=0.1, n_estimators=40, num_leaves=30, objective=binary, random_state=501, reg_alpha=0.2, reg_lambda=0.4, scale_pos_weight=15, subsample=0.75 \n",
      "Training until validation scores don't improve for 50 rounds.\n",
      "Did not meet early stopping. Best iteration is:\n",
      "[2]\tvalid's binary_logloss: 0.662921\tvalid's auc: 0.819314Training until validation scores don't improve for 50 rounds.\n",
      "\n"
     ]
    },
    {
     "name": "stderr",
     "output_type": "stream",
     "text": [
      "/opt/anaconda/lib/python3.7/site-packages/sklearn/preprocessing/label.py:151: DeprecationWarning: The truth value of an empty array is ambiguous. Returning False, but in future this will result in an error. Use `array.size > 0` to check that an array is not empty.\n",
      "  if diff:\n",
      "/opt/anaconda/lib/python3.7/site-packages/sklearn/preprocessing/label.py:151: DeprecationWarning: The truth value of an empty array is ambiguous. Returning False, but in future this will result in an error. Use `array.size > 0` to check that an array is not empty.\n",
      "  if diff:\n",
      "/opt/anaconda/lib/python3.7/site-packages/sklearn/preprocessing/label.py:151: DeprecationWarning: The truth value of an empty array is ambiguous. Returning False, but in future this will result in an error. Use `array.size > 0` to check that an array is not empty.\n",
      "  if diff:\n",
      "/opt/anaconda/lib/python3.7/site-packages/sklearn/preprocessing/label.py:151: DeprecationWarning: The truth value of an empty array is ambiguous. Returning False, but in future this will result in an error. Use `array.size > 0` to check that an array is not empty.\n",
      "  if diff:\n"
     ]
    },
    {
     "name": "stdout",
     "output_type": "stream",
     "text": [
      "[CV]  boosting_type=gbdt, colsample_bytree=0.9, learning_rate=0.1, n_estimators=40, num_leaves=30, objective=binary, random_state=501, reg_alpha=0.2, reg_lambda=0.2, scale_pos_weight=20, subsample=0.75, score=0.8812111852073552, total=   5.3s\n",
      "Training until validation scores don't improve for 50 rounds.\n",
      "Training until validation scores don't improve for 50 rounds.\n",
      "Training until validation scores don't improve for 50 rounds.\n",
      "[CV] boosting_type=gbdt, colsample_bytree=0.9, learning_rate=0.1, n_estimators=40, num_leaves=30, objective=binary, random_state=501, reg_alpha=0.2, reg_lambda=0.4, scale_pos_weight=15, subsample=0.75 \n"
     ]
    },
    {
     "name": "stderr",
     "output_type": "stream",
     "text": [
      "/opt/anaconda/lib/python3.7/site-packages/sklearn/preprocessing/label.py:151: DeprecationWarning: The truth value of an empty array is ambiguous. Returning False, but in future this will result in an error. Use `array.size > 0` to check that an array is not empty.\n",
      "  if diff:\n"
     ]
    },
    {
     "name": "stdout",
     "output_type": "stream",
     "text": [
      "[CV]  boosting_type=gbdt, colsample_bytree=0.9, learning_rate=0.1, n_estimators=40, num_leaves=30, objective=binary, random_state=501, reg_alpha=0.2, reg_lambda=0.2, scale_pos_weight=20, subsample=0.75, score=0.867171529569278, total=   4.9s\n",
      "Did not meet early stopping. Best iteration is:\n",
      "[2]\tvalid's binary_logloss: 0.664383\tvalid's auc: 0.819334\n",
      "[CV] boosting_type=gbdt, colsample_bytree=0.9, learning_rate=0.1, n_estimators=40, num_leaves=30, objective=binary, random_state=501, reg_alpha=0.2, reg_lambda=0.4, scale_pos_weight=15, subsample=0.75 \n"
     ]
    },
    {
     "name": "stderr",
     "output_type": "stream",
     "text": [
      "/opt/anaconda/lib/python3.7/site-packages/sklearn/preprocessing/label.py:151: DeprecationWarning: The truth value of an empty array is ambiguous. Returning False, but in future this will result in an error. Use `array.size > 0` to check that an array is not empty.\n",
      "  if diff:\n"
     ]
    },
    {
     "name": "stdout",
     "output_type": "stream",
     "text": [
      "[CV]  boosting_type=gbdt, colsample_bytree=0.9, learning_rate=0.1, n_estimators=40, num_leaves=30, objective=binary, random_state=501, reg_alpha=0.2, reg_lambda=0.2, scale_pos_weight=20, subsample=0.75, score=0.8880089007272947, total=   6.3s\n",
      "Training until validation scores don't improve for 50 rounds.\n",
      "[CV] boosting_type=gbdt, colsample_bytree=0.9, learning_rate=0.1, n_estimators=40, num_leaves=30, objective=binary, random_state=501, reg_alpha=0.2, reg_lambda=0.4, scale_pos_weight=15, subsample=0.75 \n"
     ]
    },
    {
     "name": "stderr",
     "output_type": "stream",
     "text": [
      "/opt/anaconda/lib/python3.7/site-packages/sklearn/preprocessing/label.py:151: DeprecationWarning: The truth value of an empty array is ambiguous. Returning False, but in future this will result in an error. Use `array.size > 0` to check that an array is not empty.\n",
      "  if diff:\n"
     ]
    },
    {
     "name": "stdout",
     "output_type": "stream",
     "text": [
      "Did not meet early stopping. Best iteration is:\n",
      "[2]\tvalid's binary_logloss: 0.6642\tvalid's auc: 0.825043Training until validation scores don't improve for 50 rounds.\n",
      "\n"
     ]
    },
    {
     "name": "stderr",
     "output_type": "stream",
     "text": [
      "/opt/anaconda/lib/python3.7/site-packages/sklearn/preprocessing/label.py:151: DeprecationWarning: The truth value of an empty array is ambiguous. Returning False, but in future this will result in an error. Use `array.size > 0` to check that an array is not empty.\n",
      "  if diff:\n"
     ]
    },
    {
     "name": "stdout",
     "output_type": "stream",
     "text": [
      "[CV]  boosting_type=gbdt, colsample_bytree=0.9, learning_rate=0.1, n_estimators=40, num_leaves=30, objective=binary, random_state=501, reg_alpha=0.2, reg_lambda=0.2, scale_pos_weight=20, subsample=0.75, score=0.8832571375610859, total=   5.6s\n",
      "[CV] boosting_type=gbdt, colsample_bytree=0.9, learning_rate=0.1, n_estimators=40, num_leaves=30, objective=binary, random_state=501, reg_alpha=0.2, reg_lambda=0.4, scale_pos_weight=20, subsample=0.75 \n",
      "Training until validation scores don't improve for 50 rounds.\n"
     ]
    },
    {
     "name": "stderr",
     "output_type": "stream",
     "text": [
      "/opt/anaconda/lib/python3.7/site-packages/sklearn/preprocessing/label.py:151: DeprecationWarning: The truth value of an empty array is ambiguous. Returning False, but in future this will result in an error. Use `array.size > 0` to check that an array is not empty.\n",
      "  if diff:\n"
     ]
    },
    {
     "name": "stdout",
     "output_type": "stream",
     "text": [
      "Training until validation scores don't improve for 50 rounds.\n",
      "Did not meet early stopping. Best iteration is:\n",
      "[2]\tvalid's binary_logloss: 0.669134\tvalid's auc: 0.814626\n",
      "Did not meet early stopping. Best iteration is:\n",
      "[3]\tvalid's binary_logloss: 0.658012\tvalid's auc: 0.836672\n"
     ]
    },
    {
     "name": "stderr",
     "output_type": "stream",
     "text": [
      "/opt/anaconda/lib/python3.7/site-packages/sklearn/preprocessing/label.py:151: DeprecationWarning: The truth value of an empty array is ambiguous. Returning False, but in future this will result in an error. Use `array.size > 0` to check that an array is not empty.\n",
      "  if diff:\n"
     ]
    },
    {
     "name": "stdout",
     "output_type": "stream",
     "text": [
      "Did not meet early stopping. Best iteration is:\n",
      "[2]\tvalid's binary_logloss: 0.667765\tvalid's auc: 0.821039[CV]  boosting_type=gbdt, colsample_bytree=0.9, learning_rate=0.1, n_estimators=40, num_leaves=30, objective=binary, random_state=501, reg_alpha=0.2, reg_lambda=0.2, scale_pos_weight=20, subsample=0.75, score=0.8688430599239733, total=   8.1s\n",
      "\n",
      "[CV] boosting_type=gbdt, colsample_bytree=0.9, learning_rate=0.1, n_estimators=40, num_leaves=30, objective=binary, random_state=501, reg_alpha=0.2, reg_lambda=0.4, scale_pos_weight=20, subsample=0.75 \n"
     ]
    },
    {
     "name": "stderr",
     "output_type": "stream",
     "text": [
      "/opt/anaconda/lib/python3.7/site-packages/sklearn/preprocessing/label.py:151: DeprecationWarning: The truth value of an empty array is ambiguous. Returning False, but in future this will result in an error. Use `array.size > 0` to check that an array is not empty.\n",
      "  if diff:\n"
     ]
    },
    {
     "name": "stdout",
     "output_type": "stream",
     "text": [
      "Did not meet early stopping. Best iteration is:\n",
      "[2]\tvalid's binary_logloss: 0.658882\tvalid's auc: 0.83173\n",
      "Training until validation scores don't improve for 50 rounds.\n"
     ]
    },
    {
     "name": "stderr",
     "output_type": "stream",
     "text": [
      "/opt/anaconda/lib/python3.7/site-packages/sklearn/preprocessing/label.py:151: DeprecationWarning: The truth value of an empty array is ambiguous. Returning False, but in future this will result in an error. Use `array.size > 0` to check that an array is not empty.\n",
      "  if diff:\n",
      "/opt/anaconda/lib/python3.7/site-packages/sklearn/preprocessing/label.py:151: DeprecationWarning: The truth value of an empty array is ambiguous. Returning False, but in future this will result in an error. Use `array.size > 0` to check that an array is not empty.\n",
      "  if diff:\n",
      "/opt/anaconda/lib/python3.7/site-packages/sklearn/preprocessing/label.py:151: DeprecationWarning: The truth value of an empty array is ambiguous. Returning False, but in future this will result in an error. Use `array.size > 0` to check that an array is not empty.\n",
      "  if diff:\n",
      "/opt/anaconda/lib/python3.7/site-packages/sklearn/preprocessing/label.py:151: DeprecationWarning: The truth value of an empty array is ambiguous. Returning False, but in future this will result in an error. Use `array.size > 0` to check that an array is not empty.\n",
      "  if diff:\n"
     ]
    },
    {
     "name": "stdout",
     "output_type": "stream",
     "text": [
      "[CV]  boosting_type=gbdt, colsample_bytree=0.9, learning_rate=0.1, n_estimators=40, num_leaves=30, objective=binary, random_state=501, reg_alpha=0.2, reg_lambda=0.2, scale_pos_weight=25, subsample=0.75, score=0.8866935700723919, total=   5.4s\n"
     ]
    },
    {
     "name": "stderr",
     "output_type": "stream",
     "text": [
      "/opt/anaconda/lib/python3.7/site-packages/sklearn/preprocessing/label.py:151: DeprecationWarning: The truth value of an empty array is ambiguous. Returning False, but in future this will result in an error. Use `array.size > 0` to check that an array is not empty.\n",
      "  if diff:\n"
     ]
    },
    {
     "name": "stdout",
     "output_type": "stream",
     "text": [
      "Did not meet early stopping. Best iteration is:\n",
      "[2]\tvalid's binary_logloss: 0.66648\tvalid's auc: 0.818607[CV]  boosting_type=gbdt, colsample_bytree=0.9, learning_rate=0.1, n_estimators=40, num_leaves=30, objective=binary, random_state=501, reg_alpha=0.2, reg_lambda=0.4, scale_pos_weight=15, subsample=0.75, score=0.9057928169376894, total=   4.3s\n",
      "[CV] boosting_type=gbdt, colsample_bytree=0.9, learning_rate=0.1, n_estimators=40, num_leaves=30, objective=binary, random_state=501, reg_alpha=0.2, reg_lambda=0.4, scale_pos_weight=20, subsample=0.75 \n",
      "\n",
      "Did not meet early stopping. Best iteration is:\n",
      "[2]\tvalid's binary_logloss: 0.659856\tvalid's auc: 0.826763[CV] boosting_type=gbdt, colsample_bytree=0.9, learning_rate=0.1, n_estimators=40, num_leaves=30, objective=binary, random_state=501, reg_alpha=0.2, reg_lambda=0.4, scale_pos_weight=20, subsample=0.75 \n",
      "\n"
     ]
    },
    {
     "name": "stderr",
     "output_type": "stream",
     "text": [
      "/opt/anaconda/lib/python3.7/site-packages/sklearn/preprocessing/label.py:151: DeprecationWarning: The truth value of an empty array is ambiguous. Returning False, but in future this will result in an error. Use `array.size > 0` to check that an array is not empty.\n",
      "  if diff:\n",
      "/opt/anaconda/lib/python3.7/site-packages/sklearn/preprocessing/label.py:151: DeprecationWarning: The truth value of an empty array is ambiguous. Returning False, but in future this will result in an error. Use `array.size > 0` to check that an array is not empty.\n",
      "  if diff:\n"
     ]
    },
    {
     "name": "stdout",
     "output_type": "stream",
     "text": [
      "[CV]  boosting_type=gbdt, colsample_bytree=0.9, learning_rate=0.1, n_estimators=40, num_leaves=30, objective=binary, random_state=501, reg_alpha=0.2, reg_lambda=0.4, scale_pos_weight=15, subsample=0.75, score=0.8584334552244772, total=   4.4s\n",
      "[CV] boosting_type=gbdt, colsample_bytree=0.9, learning_rate=0.1, n_estimators=40, num_leaves=30, objective=binary, random_state=501, reg_alpha=0.2, reg_lambda=0.4, scale_pos_weight=20, subsample=0.75 \n",
      "[CV]  boosting_type=gbdt, colsample_bytree=0.9, learning_rate=0.1, n_estimators=40, num_leaves=30, objective=binary, random_state=501, reg_alpha=0.2, reg_lambda=0.2, scale_pos_weight=25, subsample=0.75, score=0.8939639206758692, total=   5.3s\n"
     ]
    },
    {
     "name": "stderr",
     "output_type": "stream",
     "text": [
      "/opt/anaconda/lib/python3.7/site-packages/sklearn/preprocessing/label.py:151: DeprecationWarning: The truth value of an empty array is ambiguous. Returning False, but in future this will result in an error. Use `array.size > 0` to check that an array is not empty.\n",
      "  if diff:\n"
     ]
    },
    {
     "name": "stdout",
     "output_type": "stream",
     "text": [
      "Training until validation scores don't improve for 50 rounds.\n"
     ]
    },
    {
     "name": "stderr",
     "output_type": "stream",
     "text": [
      "/opt/anaconda/lib/python3.7/site-packages/sklearn/preprocessing/label.py:151: DeprecationWarning: The truth value of an empty array is ambiguous. Returning False, but in future this will result in an error. Use `array.size > 0` to check that an array is not empty.\n",
      "  if diff:\n"
     ]
    },
    {
     "name": "stdout",
     "output_type": "stream",
     "text": [
      "[CV] boosting_type=gbdt, colsample_bytree=0.9, learning_rate=0.1, n_estimators=40, num_leaves=30, objective=binary, random_state=501, reg_alpha=0.2, reg_lambda=0.4, scale_pos_weight=25, subsample=0.75 \n",
      "Did not meet early stopping. Best iteration is:\n",
      "[2]\tvalid's binary_logloss: 0.669234\tvalid's auc: 0.820489"
     ]
    },
    {
     "name": "stderr",
     "output_type": "stream",
     "text": [
      "/opt/anaconda/lib/python3.7/site-packages/sklearn/preprocessing/label.py:151: DeprecationWarning: The truth value of an empty array is ambiguous. Returning False, but in future this will result in an error. Use `array.size > 0` to check that an array is not empty.\n",
      "  if diff:\n"
     ]
    },
    {
     "name": "stdout",
     "output_type": "stream",
     "text": [
      "\n"
     ]
    },
    {
     "name": "stderr",
     "output_type": "stream",
     "text": [
      "/opt/anaconda/lib/python3.7/site-packages/sklearn/preprocessing/label.py:151: DeprecationWarning: The truth value of an empty array is ambiguous. Returning False, but in future this will result in an error. Use `array.size > 0` to check that an array is not empty.\n",
      "  if diff:\n"
     ]
    },
    {
     "name": "stdout",
     "output_type": "stream",
     "text": [
      "[CV]  boosting_type=gbdt, colsample_bytree=0.9, learning_rate=0.1, n_estimators=40, num_leaves=30, objective=binary, random_state=501, reg_alpha=0.2, reg_lambda=0.2, scale_pos_weight=25, subsample=0.75, score=0.9025203746636193, total=   8.3s\n",
      "[CV]  boosting_type=gbdt, colsample_bytree=0.9, learning_rate=0.1, n_estimators=40, num_leaves=30, objective=binary, random_state=501, reg_alpha=0.2, reg_lambda=0.4, scale_pos_weight=15, subsample=0.75, score=0.8296812159786005, total=   4.2s\n",
      "[CV] boosting_type=gbdt, colsample_bytree=0.9, learning_rate=0.1, n_estimators=40, num_leaves=30, objective=binary, random_state=501, reg_alpha=0.2, reg_lambda=0.4, scale_pos_weight=25, subsample=0.75 \n",
      "[CV] boosting_type=gbdt, colsample_bytree=0.9, learning_rate=0.1, n_estimators=40, num_leaves=30, objective=binary, random_state=501, reg_alpha=0.2, reg_lambda=0.4, scale_pos_weight=25, subsample=0.75 \n",
      "Training until validation scores don't improve for 50 rounds.\n",
      "Did not meet early stopping. Best iteration is:\n",
      "[2]\tvalid's binary_logloss: 0.66803\tvalid's auc: 0.82451"
     ]
    },
    {
     "name": "stderr",
     "output_type": "stream",
     "text": [
      "/opt/anaconda/lib/python3.7/site-packages/sklearn/preprocessing/label.py:151: DeprecationWarning: The truth value of an empty array is ambiguous. Returning False, but in future this will result in an error. Use `array.size > 0` to check that an array is not empty.\n",
      "  if diff:\n"
     ]
    },
    {
     "name": "stdout",
     "output_type": "stream",
     "text": [
      "\n",
      "Training until validation scores don't improve for 50 rounds.\n",
      "Training until validation scores don't improve for 50 rounds.\n"
     ]
    },
    {
     "name": "stderr",
     "output_type": "stream",
     "text": [
      "/opt/anaconda/lib/python3.7/site-packages/sklearn/preprocessing/label.py:151: DeprecationWarning: The truth value of an empty array is ambiguous. Returning False, but in future this will result in an error. Use `array.size > 0` to check that an array is not empty.\n",
      "  if diff:\n",
      "/opt/anaconda/lib/python3.7/site-packages/sklearn/preprocessing/label.py:151: DeprecationWarning: The truth value of an empty array is ambiguous. Returning False, but in future this will result in an error. Use `array.size > 0` to check that an array is not empty.\n",
      "  if diff:\n"
     ]
    },
    {
     "name": "stdout",
     "output_type": "stream",
     "text": [
      "[CV]  boosting_type=gbdt, colsample_bytree=0.9, learning_rate=0.1, n_estimators=40, num_leaves=30, objective=binary, random_state=501, reg_alpha=0.2, reg_lambda=0.2, scale_pos_weight=25, subsample=0.75, score=0.8978153003847966, total=   7.7s\n",
      "Training until validation scores don't improve for 50 rounds.\n",
      "[CV] boosting_type=gbdt, colsample_bytree=0.9, learning_rate=0.1, n_estimators=40, num_leaves=30, objective=binary, random_state=501, reg_alpha=0.2, reg_lambda=0.4, scale_pos_weight=25, subsample=0.75 \n"
     ]
    },
    {
     "name": "stderr",
     "output_type": "stream",
     "text": [
      "/opt/anaconda/lib/python3.7/site-packages/sklearn/preprocessing/label.py:151: DeprecationWarning: The truth value of an empty array is ambiguous. Returning False, but in future this will result in an error. Use `array.size > 0` to check that an array is not empty.\n",
      "  if diff:\n"
     ]
    },
    {
     "name": "stdout",
     "output_type": "stream",
     "text": [
      "[CV]  boosting_type=gbdt, colsample_bytree=0.9, learning_rate=0.1, n_estimators=40, num_leaves=30, objective=binary, random_state=501, reg_alpha=0.2, reg_lambda=0.2, scale_pos_weight=25, subsample=0.75, score=0.9049396685058105, total=   7.3s\n",
      "[CV] boosting_type=gbdt, colsample_bytree=0.9, learning_rate=0.1, n_estimators=40, num_leaves=30, objective=binary, random_state=501, reg_alpha=0.2, reg_lambda=0.4, scale_pos_weight=25, subsample=0.75 \n",
      "Training until validation scores don't improve for 50 rounds.\n"
     ]
    },
    {
     "name": "stderr",
     "output_type": "stream",
     "text": [
      "[Parallel(n_jobs=12)]: Done 138 tasks      | elapsed:  1.4min\n"
     ]
    },
    {
     "name": "stdout",
     "output_type": "stream",
     "text": [
      "Training until validation scores don't improve for 50 rounds.\n",
      "Did not meet early stopping. Best iteration is:\n",
      "[2]\tvalid's binary_logloss: 0.664221\tvalid's auc: 0.825048\n",
      "Did not meet early stopping. Best iteration is:\n",
      "[2]\tvalid's binary_logloss: 0.662917\tvalid's auc: 0.820347\n",
      "Did not meet early stopping. Best iteration is:\n",
      "[2]\tvalid's binary_logloss: 0.658617\tvalid's auc: 0.836015\n"
     ]
    },
    {
     "name": "stderr",
     "output_type": "stream",
     "text": [
      "/opt/anaconda/lib/python3.7/site-packages/sklearn/preprocessing/label.py:151: DeprecationWarning: The truth value of an empty array is ambiguous. Returning False, but in future this will result in an error. Use `array.size > 0` to check that an array is not empty.\n",
      "  if diff:\n"
     ]
    },
    {
     "name": "stdout",
     "output_type": "stream",
     "text": [
      "Did not meet early stopping. Best iteration is:\n",
      "[2]\tvalid's binary_logloss: 0.657896\tvalid's auc: 0.835332"
     ]
    },
    {
     "name": "stderr",
     "output_type": "stream",
     "text": [
      "/opt/anaconda/lib/python3.7/site-packages/sklearn/preprocessing/label.py:151: DeprecationWarning: The truth value of an empty array is ambiguous. Returning False, but in future this will result in an error. Use `array.size > 0` to check that an array is not empty.\n",
      "  if diff:\n"
     ]
    },
    {
     "name": "stdout",
     "output_type": "stream",
     "text": [
      "\n",
      "Training until validation scores don't improve for 50 rounds.\n"
     ]
    },
    {
     "name": "stderr",
     "output_type": "stream",
     "text": [
      "/opt/anaconda/lib/python3.7/site-packages/sklearn/preprocessing/label.py:151: DeprecationWarning: The truth value of an empty array is ambiguous. Returning False, but in future this will result in an error. Use `array.size > 0` to check that an array is not empty.\n",
      "  if diff:\n",
      "/opt/anaconda/lib/python3.7/site-packages/sklearn/preprocessing/label.py:151: DeprecationWarning: The truth value of an empty array is ambiguous. Returning False, but in future this will result in an error. Use `array.size > 0` to check that an array is not empty.\n",
      "  if diff:\n",
      "/opt/anaconda/lib/python3.7/site-packages/sklearn/preprocessing/label.py:151: DeprecationWarning: The truth value of an empty array is ambiguous. Returning False, but in future this will result in an error. Use `array.size > 0` to check that an array is not empty.\n",
      "  if diff:\n"
     ]
    },
    {
     "name": "stdout",
     "output_type": "stream",
     "text": [
      "[CV]  boosting_type=gbdt, colsample_bytree=0.9, learning_rate=0.1, n_estimators=40, num_leaves=30, objective=binary, random_state=501, reg_alpha=0.2, reg_lambda=0.4, scale_pos_weight=20, subsample=0.75, score=0.8860558926212752, total=   5.6s\n",
      "Training until validation scores don't improve for 50 rounds.\n"
     ]
    },
    {
     "name": "stderr",
     "output_type": "stream",
     "text": [
      "/opt/anaconda/lib/python3.7/site-packages/sklearn/preprocessing/label.py:151: DeprecationWarning: The truth value of an empty array is ambiguous. Returning False, but in future this will result in an error. Use `array.size > 0` to check that an array is not empty.\n",
      "  if diff:\n"
     ]
    },
    {
     "name": "stdout",
     "output_type": "stream",
     "text": [
      "Did not meet early stopping. Best iteration is:\n",
      "[2]\tvalid's binary_logloss: 0.664396\tvalid's auc: 0.819354\n",
      "[CV]  boosting_type=gbdt, colsample_bytree=0.9, learning_rate=0.1, n_estimators=40, num_leaves=30, objective=binary, random_state=501, reg_alpha=0.2, reg_lambda=0.4, scale_pos_weight=20, subsample=0.75, score=0.8688430599239733, total=   4.2s\n",
      "[CV] boosting_type=gbdt, colsample_bytree=0.9, learning_rate=0.1, n_estimators=40, num_leaves=30, objective=binary, random_state=501, reg_alpha=0.6, reg_lambda=0.2, scale_pos_weight=15, subsample=0.75 \n"
     ]
    },
    {
     "name": "stderr",
     "output_type": "stream",
     "text": [
      "/opt/anaconda/lib/python3.7/site-packages/sklearn/preprocessing/label.py:151: DeprecationWarning: The truth value of an empty array is ambiguous. Returning False, but in future this will result in an error. Use `array.size > 0` to check that an array is not empty.\n",
      "  if diff:\n",
      "/opt/anaconda/lib/python3.7/site-packages/sklearn/preprocessing/label.py:151: DeprecationWarning: The truth value of an empty array is ambiguous. Returning False, but in future this will result in an error. Use `array.size > 0` to check that an array is not empty.\n",
      "  if diff:\n"
     ]
    },
    {
     "name": "stdout",
     "output_type": "stream",
     "text": [
      "Did not meet early stopping. Best iteration is:\n",
      "[2]\tvalid's binary_logloss: 0.664217\tvalid's auc: 0.828363[CV]  boosting_type=gbdt, colsample_bytree=0.9, learning_rate=0.1, n_estimators=40, num_leaves=30, objective=binary, random_state=501, reg_alpha=0.2, reg_lambda=0.4, scale_pos_weight=15, subsample=0.75, score=0.8164619205452485, total=   7.0s\n",
      "[CV] boosting_type=gbdt, colsample_bytree=0.9, learning_rate=0.1, n_estimators=40, num_leaves=30, objective=binary, random_state=501, reg_alpha=0.6, reg_lambda=0.2, scale_pos_weight=15, subsample=0.75 \n",
      "[CV]  boosting_type=gbdt, colsample_bytree=0.9, learning_rate=0.1, n_estimators=40, num_leaves=30, objective=binary, random_state=501, reg_alpha=0.2, reg_lambda=0.4, scale_pos_weight=15, subsample=0.75, score=0.855492152677231, total=   7.1s\n",
      "\n",
      "[CV] boosting_type=gbdt, colsample_bytree=0.9, learning_rate=0.1, n_estimators=40, num_leaves=30, objective=binary, random_state=501, reg_alpha=0.6, reg_lambda=0.2, scale_pos_weight=15, subsample=0.75 \n",
      "[CV] boosting_type=gbdt, colsample_bytree=0.9, learning_rate=0.1, n_estimators=40, num_leaves=30, objective=binary, random_state=501, reg_alpha=0.6, reg_lambda=0.2, scale_pos_weight=15, subsample=0.75 \n"
     ]
    },
    {
     "name": "stderr",
     "output_type": "stream",
     "text": [
      "/opt/anaconda/lib/python3.7/site-packages/sklearn/preprocessing/label.py:151: DeprecationWarning: The truth value of an empty array is ambiguous. Returning False, but in future this will result in an error. Use `array.size > 0` to check that an array is not empty.\n",
      "  if diff:\n",
      "/opt/anaconda/lib/python3.7/site-packages/sklearn/preprocessing/label.py:151: DeprecationWarning: The truth value of an empty array is ambiguous. Returning False, but in future this will result in an error. Use `array.size > 0` to check that an array is not empty.\n",
      "  if diff:\n"
     ]
    },
    {
     "name": "stdout",
     "output_type": "stream",
     "text": [
      "Did not meet early stopping. Best iteration is:\n",
      "[2]\tvalid's binary_logloss: 0.666921\tvalid's auc: 0.818806\n"
     ]
    },
    {
     "name": "stderr",
     "output_type": "stream",
     "text": [
      "/opt/anaconda/lib/python3.7/site-packages/sklearn/preprocessing/label.py:151: DeprecationWarning: The truth value of an empty array is ambiguous. Returning False, but in future this will result in an error. Use `array.size > 0` to check that an array is not empty.\n",
      "  if diff:\n"
     ]
    },
    {
     "name": "stdout",
     "output_type": "stream",
     "text": [
      "[CV]  boosting_type=gbdt, colsample_bytree=0.9, learning_rate=0.1, n_estimators=40, num_leaves=30, objective=binary, random_state=501, reg_alpha=0.2, reg_lambda=0.4, scale_pos_weight=20, subsample=0.75, score=0.8832571375610859, total=   4.1s\n"
     ]
    },
    {
     "name": "stderr",
     "output_type": "stream",
     "text": [
      "/opt/anaconda/lib/python3.7/site-packages/sklearn/preprocessing/label.py:151: DeprecationWarning: The truth value of an empty array is ambiguous. Returning False, but in future this will result in an error. Use `array.size > 0` to check that an array is not empty.\n",
      "  if diff:\n"
     ]
    },
    {
     "name": "stdout",
     "output_type": "stream",
     "text": [
      "[CV] boosting_type=gbdt, colsample_bytree=0.9, learning_rate=0.1, n_estimators=40, num_leaves=30, objective=binary, random_state=501, reg_alpha=0.6, reg_lambda=0.2, scale_pos_weight=15, subsample=0.75 \n",
      "Training until validation scores don't improve for 50 rounds.\n"
     ]
    },
    {
     "name": "stderr",
     "output_type": "stream",
     "text": [
      "/opt/anaconda/lib/python3.7/site-packages/sklearn/preprocessing/label.py:151: DeprecationWarning: The truth value of an empty array is ambiguous. Returning False, but in future this will result in an error. Use `array.size > 0` to check that an array is not empty.\n",
      "  if diff:\n"
     ]
    },
    {
     "name": "stdout",
     "output_type": "stream",
     "text": [
      "[CV]  boosting_type=gbdt, colsample_bytree=0.9, learning_rate=0.1, n_estimators=40, num_leaves=30, objective=binary, random_state=501, reg_alpha=0.2, reg_lambda=0.4, scale_pos_weight=20, subsample=0.75, score=0.867171529569278, total=   4.7s\n",
      "Did not meet early stopping. Best iteration is:\n",
      "[1]\tvalid's binary_logloss: 0.669156\tvalid's auc: 0.788116\n",
      "[CV] boosting_type=gbdt, colsample_bytree=0.9, learning_rate=0.1, n_estimators=40, num_leaves=30, objective=binary, random_state=501, reg_alpha=0.6, reg_lambda=0.2, scale_pos_weight=20, subsample=0.75 \n",
      "Did not meet early stopping. Best iteration is:\n",
      "[2]\tvalid's binary_logloss: 0.664197\tvalid's auc: 0.818273\n"
     ]
    },
    {
     "name": "stderr",
     "output_type": "stream",
     "text": [
      "/opt/anaconda/lib/python3.7/site-packages/sklearn/preprocessing/label.py:151: DeprecationWarning: The truth value of an empty array is ambiguous. Returning False, but in future this will result in an error. Use `array.size > 0` to check that an array is not empty.\n",
      "  if diff:\n"
     ]
    },
    {
     "name": "stdout",
     "output_type": "stream",
     "text": [
      "Training until validation scores don't improve for 50 rounds.\n",
      "[CV]  boosting_type=gbdt, colsample_bytree=0.9, learning_rate=0.1, n_estimators=40, num_leaves=30, objective=binary, random_state=501, reg_alpha=0.2, reg_lambda=0.4, scale_pos_weight=25, subsample=0.75, score=0.9027387274809955, total=   4.8s\n",
      "Training until validation scores don't improve for 50 rounds.\n",
      "[CV] boosting_type=gbdt, colsample_bytree=0.9, learning_rate=0.1, n_estimators=40, num_leaves=30, objective=binary, random_state=501, reg_alpha=0.6, reg_lambda=0.2, scale_pos_weight=20, subsample=0.75 \n",
      "Training until validation scores don't improve for 50 rounds.\n"
     ]
    },
    {
     "name": "stderr",
     "output_type": "stream",
     "text": [
      "/opt/anaconda/lib/python3.7/site-packages/sklearn/preprocessing/label.py:151: DeprecationWarning: The truth value of an empty array is ambiguous. Returning False, but in future this will result in an error. Use `array.size > 0` to check that an array is not empty.\n",
      "  if diff:\n",
      "/opt/anaconda/lib/python3.7/site-packages/sklearn/preprocessing/label.py:151: DeprecationWarning: The truth value of an empty array is ambiguous. Returning False, but in future this will result in an error. Use `array.size > 0` to check that an array is not empty.\n",
      "  if diff:\n",
      "/opt/anaconda/lib/python3.7/site-packages/sklearn/preprocessing/label.py:151: DeprecationWarning: The truth value of an empty array is ambiguous. Returning False, but in future this will result in an error. Use `array.size > 0` to check that an array is not empty.\n",
      "  if diff:\n"
     ]
    },
    {
     "name": "stdout",
     "output_type": "stream",
     "text": [
      "[CV]  boosting_type=gbdt, colsample_bytree=0.9, learning_rate=0.1, n_estimators=40, num_leaves=30, objective=binary, random_state=501, reg_alpha=0.2, reg_lambda=0.4, scale_pos_weight=25, subsample=0.75, score=0.09999999999999998, total=   5.2s\n",
      "[CV] boosting_type=gbdt, colsample_bytree=0.9, learning_rate=0.1, n_estimators=40, num_leaves=30, objective=binary, random_state=501, reg_alpha=0.6, reg_lambda=0.2, scale_pos_weight=20, subsample=0.75 \n",
      "Training until validation scores don't improve for 50 rounds.\n"
     ]
    },
    {
     "name": "stderr",
     "output_type": "stream",
     "text": [
      "/opt/anaconda/lib/python3.7/site-packages/sklearn/preprocessing/label.py:151: DeprecationWarning: The truth value of an empty array is ambiguous. Returning False, but in future this will result in an error. Use `array.size > 0` to check that an array is not empty.\n",
      "  if diff:\n"
     ]
    },
    {
     "name": "stdout",
     "output_type": "stream",
     "text": [
      "Training until validation scores don't improve for 50 rounds.\n",
      "[CV]  boosting_type=gbdt, colsample_bytree=0.9, learning_rate=0.1, n_estimators=40, num_leaves=30, objective=binary, random_state=501, reg_alpha=0.2, reg_lambda=0.4, scale_pos_weight=20, subsample=0.75, score=0.8790298406255261, total=   6.3s\n",
      "[CV] boosting_type=gbdt, colsample_bytree=0.9, learning_rate=0.1, n_estimators=40, num_leaves=30, objective=binary, random_state=501, reg_alpha=0.6, reg_lambda=0.2, scale_pos_weight=20, subsample=0.75 \n",
      "Training until validation scores don't improve for 50 rounds.\n",
      "Did not meet early stopping. Best iteration is:\n",
      "[2]\tvalid's binary_logloss: 0.667207\tvalid's auc: 0.82595\n",
      "Training until validation scores don't improve for 50 rounds.\n",
      "Training until validation scores don't improve for 50 rounds.\n",
      "Did not meet early stopping. Best iteration is:\n",
      "[2]\tvalid's binary_logloss: 0.659853\tvalid's auc: 0.826763\n"
     ]
    },
    {
     "name": "stderr",
     "output_type": "stream",
     "text": [
      "/opt/anaconda/lib/python3.7/site-packages/sklearn/preprocessing/label.py:151: DeprecationWarning: The truth value of an empty array is ambiguous. Returning False, but in future this will result in an error. Use `array.size > 0` to check that an array is not empty.\n",
      "  if diff:\n"
     ]
    },
    {
     "name": "stdout",
     "output_type": "stream",
     "text": [
      "Did not meet early stopping. Best iteration is:\n",
      "[2]\tvalid's binary_logloss: 0.668042\tvalid's auc: 0.824511\n",
      "Did not meet early stopping. Best iteration is:\n",
      "[3]\tvalid's binary_logloss: 0.658021\tvalid's auc: 0.836672\n"
     ]
    },
    {
     "name": "stderr",
     "output_type": "stream",
     "text": [
      "/opt/anaconda/lib/python3.7/site-packages/sklearn/preprocessing/label.py:151: DeprecationWarning: The truth value of an empty array is ambiguous. Returning False, but in future this will result in an error. Use `array.size > 0` to check that an array is not empty.\n",
      "  if diff:\n"
     ]
    },
    {
     "name": "stdout",
     "output_type": "stream",
     "text": [
      "Did not meet early stopping. Best iteration is:\n",
      "[2]\tvalid's binary_logloss: 0.662917\tvalid's auc: 0.820347Did not meet early stopping. Best iteration is:\n",
      "[2]\tvalid's binary_logloss: 0.658883\tvalid's auc: 0.831727\n",
      "\n"
     ]
    },
    {
     "name": "stderr",
     "output_type": "stream",
     "text": [
      "/opt/anaconda/lib/python3.7/site-packages/sklearn/preprocessing/label.py:151: DeprecationWarning: The truth value of an empty array is ambiguous. Returning False, but in future this will result in an error. Use `array.size > 0` to check that an array is not empty.\n",
      "  if diff:\n",
      "/opt/anaconda/lib/python3.7/site-packages/sklearn/preprocessing/label.py:151: DeprecationWarning: The truth value of an empty array is ambiguous. Returning False, but in future this will result in an error. Use `array.size > 0` to check that an array is not empty.\n",
      "  if diff:\n",
      "/opt/anaconda/lib/python3.7/site-packages/sklearn/preprocessing/label.py:151: DeprecationWarning: The truth value of an empty array is ambiguous. Returning False, but in future this will result in an error. Use `array.size > 0` to check that an array is not empty.\n",
      "  if diff:\n"
     ]
    },
    {
     "name": "stdout",
     "output_type": "stream",
     "text": [
      "[CV]  boosting_type=gbdt, colsample_bytree=0.9, learning_rate=0.1, n_estimators=40, num_leaves=30, objective=binary, random_state=501, reg_alpha=0.2, reg_lambda=0.4, scale_pos_weight=25, subsample=0.75, score=0.8813941785119495, total=   6.8s\n",
      "[CV] boosting_type=gbdt, colsample_bytree=0.9, learning_rate=0.1, n_estimators=40, num_leaves=30, objective=binary, random_state=501, reg_alpha=0.6, reg_lambda=0.2, scale_pos_weight=20, subsample=0.75 \n"
     ]
    },
    {
     "name": "stderr",
     "output_type": "stream",
     "text": [
      "/opt/anaconda/lib/python3.7/site-packages/sklearn/preprocessing/label.py:151: DeprecationWarning: The truth value of an empty array is ambiguous. Returning False, but in future this will result in an error. Use `array.size > 0` to check that an array is not empty.\n",
      "  if diff:\n",
      "/opt/anaconda/lib/python3.7/site-packages/sklearn/preprocessing/label.py:151: DeprecationWarning: The truth value of an empty array is ambiguous. Returning False, but in future this will result in an error. Use `array.size > 0` to check that an array is not empty.\n",
      "  if diff:\n",
      "/opt/anaconda/lib/python3.7/site-packages/sklearn/preprocessing/label.py:151: DeprecationWarning: The truth value of an empty array is ambiguous. Returning False, but in future this will result in an error. Use `array.size > 0` to check that an array is not empty.\n",
      "  if diff:\n",
      "/opt/anaconda/lib/python3.7/site-packages/sklearn/preprocessing/label.py:151: DeprecationWarning: The truth value of an empty array is ambiguous. Returning False, but in future this will result in an error. Use `array.size > 0` to check that an array is not empty.\n",
      "  if diff:\n"
     ]
    },
    {
     "name": "stdout",
     "output_type": "stream",
     "text": [
      "[CV]  boosting_type=gbdt, colsample_bytree=0.9, learning_rate=0.1, n_estimators=40, num_leaves=30, objective=binary, random_state=501, reg_alpha=0.6, reg_lambda=0.2, scale_pos_weight=15, subsample=0.75, score=0.8296812159786005, total=   4.8s\n",
      "[CV]  boosting_type=gbdt, colsample_bytree=0.9, learning_rate=0.1, n_estimators=40, num_leaves=30, objective=binary, random_state=501, reg_alpha=0.2, reg_lambda=0.4, scale_pos_weight=25, subsample=0.75, score=0.9049396685058105, total=   7.0s\n",
      "[CV] boosting_type=gbdt, colsample_bytree=0.9, learning_rate=0.1, n_estimators=40, num_leaves=30, objective=binary, random_state=501, reg_alpha=0.6, reg_lambda=0.2, scale_pos_weight=25, subsample=0.75 \n",
      "[CV] boosting_type=gbdt, colsample_bytree=0.9, learning_rate=0.1, n_estimators=40, num_leaves=30, objective=binary, random_state=501, reg_alpha=0.6, reg_lambda=0.2, scale_pos_weight=25, subsample=0.75 \n"
     ]
    },
    {
     "name": "stderr",
     "output_type": "stream",
     "text": [
      "/opt/anaconda/lib/python3.7/site-packages/sklearn/preprocessing/label.py:151: DeprecationWarning: The truth value of an empty array is ambiguous. Returning False, but in future this will result in an error. Use `array.size > 0` to check that an array is not empty.\n",
      "  if diff:\n"
     ]
    },
    {
     "name": "stdout",
     "output_type": "stream",
     "text": [
      "Did not meet early stopping. Best iteration is:\n",
      "[2]\tvalid's binary_logloss: 0.669157\tvalid's auc: 0.814602\n",
      "[CV]  boosting_type=gbdt, colsample_bytree=0.9, learning_rate=0.1, n_estimators=40, num_leaves=30, objective=binary, random_state=501, reg_alpha=0.6, reg_lambda=0.2, scale_pos_weight=15, subsample=0.75, score=0.905815726445135, total=   5.4s\n",
      "[CV] boosting_type=gbdt, colsample_bytree=0.9, learning_rate=0.1, n_estimators=40, num_leaves=30, objective=binary, random_state=501, reg_alpha=0.6, reg_lambda=0.2, scale_pos_weight=25, subsample=0.75 \n"
     ]
    },
    {
     "name": "stderr",
     "output_type": "stream",
     "text": [
      "/opt/anaconda/lib/python3.7/site-packages/sklearn/preprocessing/label.py:151: DeprecationWarning: The truth value of an empty array is ambiguous. Returning False, but in future this will result in an error. Use `array.size > 0` to check that an array is not empty.\n",
      "  if diff:\n"
     ]
    },
    {
     "name": "stdout",
     "output_type": "stream",
     "text": [
      "Did not meet early stopping. Best iteration is:\n",
      "[2]\tvalid's binary_logloss: 0.6579\tvalid's auc: 0.83533[CV]  boosting_type=gbdt, colsample_bytree=0.9, learning_rate=0.1, n_estimators=40, num_leaves=30, objective=binary, random_state=501, reg_alpha=0.6, reg_lambda=0.2, scale_pos_weight=15, subsample=0.75, score=0.8584334552244772, total=   5.6s\n",
      "\n"
     ]
    },
    {
     "name": "stderr",
     "output_type": "stream",
     "text": [
      "/opt/anaconda/lib/python3.7/site-packages/sklearn/preprocessing/label.py:151: DeprecationWarning: The truth value of an empty array is ambiguous. Returning False, but in future this will result in an error. Use `array.size > 0` to check that an array is not empty.\n",
      "  if diff:\n"
     ]
    },
    {
     "name": "stdout",
     "output_type": "stream",
     "text": [
      "[CV] boosting_type=gbdt, colsample_bytree=0.9, learning_rate=0.1, n_estimators=40, num_leaves=30, objective=binary, random_state=501, reg_alpha=0.6, reg_lambda=0.2, scale_pos_weight=25, subsample=0.75 \n",
      "[CV]  boosting_type=gbdt, colsample_bytree=0.9, learning_rate=0.1, n_estimators=40, num_leaves=30, objective=binary, random_state=501, reg_alpha=0.6, reg_lambda=0.2, scale_pos_weight=20, subsample=0.75, score=0.8860558926212752, total=   4.3s\n"
     ]
    },
    {
     "name": "stderr",
     "output_type": "stream",
     "text": [
      "/opt/anaconda/lib/python3.7/site-packages/sklearn/preprocessing/label.py:151: DeprecationWarning: The truth value of an empty array is ambiguous. Returning False, but in future this will result in an error. Use `array.size > 0` to check that an array is not empty.\n",
      "  if diff:\n"
     ]
    },
    {
     "name": "stdout",
     "output_type": "stream",
     "text": [
      "[CV] boosting_type=gbdt, colsample_bytree=0.9, learning_rate=0.1, n_estimators=40, num_leaves=30, objective=binary, random_state=501, reg_alpha=0.6, reg_lambda=0.2, scale_pos_weight=25, subsample=0.75 \n"
     ]
    },
    {
     "name": "stderr",
     "output_type": "stream",
     "text": [
      "/opt/anaconda/lib/python3.7/site-packages/sklearn/preprocessing/label.py:151: DeprecationWarning: The truth value of an empty array is ambiguous. Returning False, but in future this will result in an error. Use `array.size > 0` to check that an array is not empty.\n",
      "  if diff:\n"
     ]
    },
    {
     "name": "stdout",
     "output_type": "stream",
     "text": [
      "Did not meet early stopping. Best iteration is:\n",
      "[2]\tvalid's binary_logloss: 0.664008\tvalid's auc: 0.825174\n",
      "Training until validation scores don't improve for 50 rounds.\n",
      "Training until validation scores don't improve for 50 rounds.\n"
     ]
    },
    {
     "name": "stderr",
     "output_type": "stream",
     "text": [
      "/opt/anaconda/lib/python3.7/site-packages/sklearn/preprocessing/label.py:151: DeprecationWarning: The truth value of an empty array is ambiguous. Returning False, but in future this will result in an error. Use `array.size > 0` to check that an array is not empty.\n",
      "  if diff:\n"
     ]
    },
    {
     "name": "stdout",
     "output_type": "stream",
     "text": [
      "[CV]  boosting_type=gbdt, colsample_bytree=0.9, learning_rate=0.1, n_estimators=40, num_leaves=30, objective=binary, random_state=501, reg_alpha=0.2, reg_lambda=0.4, scale_pos_weight=25, subsample=0.75, score=0.8866935700723919, total=   9.5s\n",
      "[CV] boosting_type=gbdt, colsample_bytree=0.9, learning_rate=0.1, n_estimators=40, num_leaves=30, objective=binary, random_state=501, reg_alpha=0.6, reg_lambda=0.4, scale_pos_weight=15, subsample=0.75 \n",
      "Training until validation scores don't improve for 50 rounds.\n"
     ]
    },
    {
     "name": "stderr",
     "output_type": "stream",
     "text": [
      "/opt/anaconda/lib/python3.7/site-packages/sklearn/preprocessing/label.py:151: DeprecationWarning: The truth value of an empty array is ambiguous. Returning False, but in future this will result in an error. Use `array.size > 0` to check that an array is not empty.\n",
      "  if diff:\n"
     ]
    },
    {
     "name": "stdout",
     "output_type": "stream",
     "text": [
      "[CV]  boosting_type=gbdt, colsample_bytree=0.9, learning_rate=0.1, n_estimators=40, num_leaves=30, objective=binary, random_state=501, reg_alpha=0.6, reg_lambda=0.2, scale_pos_weight=15, subsample=0.75, score=0.855492152677231, total=   5.5s\n",
      "[CV] boosting_type=gbdt, colsample_bytree=0.9, learning_rate=0.1, n_estimators=40, num_leaves=30, objective=binary, random_state=501, reg_alpha=0.6, reg_lambda=0.4, scale_pos_weight=15, subsample=0.75 \n"
     ]
    },
    {
     "name": "stderr",
     "output_type": "stream",
     "text": [
      "/opt/anaconda/lib/python3.7/site-packages/sklearn/preprocessing/label.py:151: DeprecationWarning: The truth value of an empty array is ambiguous. Returning False, but in future this will result in an error. Use `array.size > 0` to check that an array is not empty.\n",
      "  if diff:\n"
     ]
    },
    {
     "name": "stdout",
     "output_type": "stream",
     "text": [
      "Did not meet early stopping. Best iteration is:\n",
      "[2]\tvalid's binary_logloss: 0.664227\tvalid's auc: 0.818146\n",
      "Training until validation scores don't improve for 50 rounds.\n"
     ]
    },
    {
     "name": "stderr",
     "output_type": "stream",
     "text": [
      "/opt/anaconda/lib/python3.7/site-packages/sklearn/preprocessing/label.py:151: DeprecationWarning: The truth value of an empty array is ambiguous. Returning False, but in future this will result in an error. Use `array.size > 0` to check that an array is not empty.\n",
      "  if diff:\n",
      "/opt/anaconda/lib/python3.7/site-packages/sklearn/preprocessing/label.py:151: DeprecationWarning: The truth value of an empty array is ambiguous. Returning False, but in future this will result in an error. Use `array.size > 0` to check that an array is not empty.\n",
      "  if diff:\n"
     ]
    },
    {
     "name": "stdout",
     "output_type": "stream",
     "text": [
      "[CV]  boosting_type=gbdt, colsample_bytree=0.9, learning_rate=0.1, n_estimators=40, num_leaves=30, objective=binary, random_state=501, reg_alpha=0.6, reg_lambda=0.2, scale_pos_weight=20, subsample=0.75, score=0.8703555991533105, total=   5.7s\n",
      "Training until validation scores don't improve for 50 rounds.\n",
      "Training until validation scores don't improve for 50 rounds.\n",
      "[CV] boosting_type=gbdt, colsample_bytree=0.9, learning_rate=0.1, n_estimators=40, num_leaves=30, objective=binary, random_state=501, reg_alpha=0.6, reg_lambda=0.4, scale_pos_weight=15, subsample=0.75 \n"
     ]
    },
    {
     "name": "stderr",
     "output_type": "stream",
     "text": [
      "/opt/anaconda/lib/python3.7/site-packages/sklearn/preprocessing/label.py:151: DeprecationWarning: The truth value of an empty array is ambiguous. Returning False, but in future this will result in an error. Use `array.size > 0` to check that an array is not empty.\n",
      "  if diff:\n"
     ]
    },
    {
     "name": "stdout",
     "output_type": "stream",
     "text": [
      "[CV]  boosting_type=gbdt, colsample_bytree=0.9, learning_rate=0.1, n_estimators=40, num_leaves=30, objective=binary, random_state=501, reg_alpha=0.6, reg_lambda=0.2, scale_pos_weight=20, subsample=0.75, score=0.8785016905478965, total=   5.2s\n",
      "[CV] boosting_type=gbdt, colsample_bytree=0.9, learning_rate=0.1, n_estimators=40, num_leaves=30, objective=binary, random_state=501, reg_alpha=0.6, reg_lambda=0.4, scale_pos_weight=15, subsample=0.75 \n",
      "Training until validation scores don't improve for 50 rounds.\n",
      "Training until validation scores don't improve for 50 rounds.\n",
      "Training until validation scores don't improve for 50 rounds.\n",
      "Did not meet early stopping. Best iteration is:\n",
      "[2]\tvalid's binary_logloss: 0.667205\tvalid's auc: 0.82595Did not meet early stopping. Best iteration is:\n",
      "[2]\tvalid's binary_logloss: 0.658646\tvalid's auc: 0.834324\n",
      "\n",
      "Training until validation scores don't improve for 50 rounds.\n"
     ]
    },
    {
     "name": "stderr",
     "output_type": "stream",
     "text": [
      "/opt/anaconda/lib/python3.7/site-packages/sklearn/preprocessing/label.py:151: DeprecationWarning: The truth value of an empty array is ambiguous. Returning False, but in future this will result in an error. Use `array.size > 0` to check that an array is not empty.\n",
      "  if diff:\n",
      "/opt/anaconda/lib/python3.7/site-packages/sklearn/preprocessing/label.py:151: DeprecationWarning: The truth value of an empty array is ambiguous. Returning False, but in future this will result in an error. Use `array.size > 0` to check that an array is not empty.\n",
      "  if diff:\n"
     ]
    },
    {
     "name": "stdout",
     "output_type": "stream",
     "text": [
      "Did not meet early stopping. Best iteration is:\n",
      "[2]\tvalid's binary_logloss: 0.66637\tvalid's auc: 0.819351\n",
      "Did not meet early stopping. Best iteration is:\n",
      "[2]\tvalid's binary_logloss: 0.664218\tvalid's auc: 0.828415\n"
     ]
    },
    {
     "name": "stderr",
     "output_type": "stream",
     "text": [
      "/opt/anaconda/lib/python3.7/site-packages/sklearn/preprocessing/label.py:151: DeprecationWarning: The truth value of an empty array is ambiguous. Returning False, but in future this will result in an error. Use `array.size > 0` to check that an array is not empty.\n",
      "  if diff:\n"
     ]
    },
    {
     "name": "stdout",
     "output_type": "stream",
     "text": [
      "Did not meet early stopping. Best iteration is:\n",
      "[1]\tvalid's binary_logloss: 0.669157\tvalid's auc: 0.788116\n"
     ]
    },
    {
     "name": "stderr",
     "output_type": "stream",
     "text": [
      "/opt/anaconda/lib/python3.7/site-packages/sklearn/preprocessing/label.py:151: DeprecationWarning: The truth value of an empty array is ambiguous. Returning False, but in future this will result in an error. Use `array.size > 0` to check that an array is not empty.\n",
      "  if diff:\n"
     ]
    },
    {
     "name": "stdout",
     "output_type": "stream",
     "text": [
      "[CV]  boosting_type=gbdt, colsample_bytree=0.9, learning_rate=0.1, n_estimators=40, num_leaves=30, objective=binary, random_state=501, reg_alpha=0.6, reg_lambda=0.2, scale_pos_weight=25, subsample=0.75, score=0.8813941785119495, total=   3.6s\n",
      "[CV]  boosting_type=gbdt, colsample_bytree=0.9, learning_rate=0.1, n_estimators=40, num_leaves=30, objective=binary, random_state=501, reg_alpha=0.6, reg_lambda=0.2, scale_pos_weight=15, subsample=0.75, score=0.8162006206819337, total=   9.8s\n"
     ]
    },
    {
     "name": "stderr",
     "output_type": "stream",
     "text": [
      "/opt/anaconda/lib/python3.7/site-packages/sklearn/preprocessing/label.py:151: DeprecationWarning: The truth value of an empty array is ambiguous. Returning False, but in future this will result in an error. Use `array.size > 0` to check that an array is not empty.\n",
      "  if diff:\n"
     ]
    },
    {
     "name": "stdout",
     "output_type": "stream",
     "text": [
      "[CV] boosting_type=gbdt, colsample_bytree=0.9, learning_rate=0.1, n_estimators=40, num_leaves=30, objective=binary, random_state=501, reg_alpha=0.6, reg_lambda=0.4, scale_pos_weight=15, subsample=0.75 \n",
      "[CV] boosting_type=gbdt, colsample_bytree=0.9, learning_rate=0.1, n_estimators=40, num_leaves=30, objective=binary, random_state=501, reg_alpha=0.6, reg_lambda=0.4, scale_pos_weight=20, subsample=0.75 \n"
     ]
    },
    {
     "name": "stderr",
     "output_type": "stream",
     "text": [
      "/opt/anaconda/lib/python3.7/site-packages/sklearn/preprocessing/label.py:151: DeprecationWarning: The truth value of an empty array is ambiguous. Returning False, but in future this will result in an error. Use `array.size > 0` to check that an array is not empty.\n",
      "  if diff:\n"
     ]
    },
    {
     "name": "stdout",
     "output_type": "stream",
     "text": [
      "Did not meet early stopping. Best iteration is:\n",
      "[2]\tvalid's binary_logloss: 0.66917\tvalid's auc: 0.814601\n"
     ]
    },
    {
     "name": "stderr",
     "output_type": "stream",
     "text": [
      "/opt/anaconda/lib/python3.7/site-packages/sklearn/preprocessing/label.py:151: DeprecationWarning: The truth value of an empty array is ambiguous. Returning False, but in future this will result in an error. Use `array.size > 0` to check that an array is not empty.\n",
      "  if diff:\n",
      "/opt/anaconda/lib/python3.7/site-packages/sklearn/preprocessing/label.py:151: DeprecationWarning: The truth value of an empty array is ambiguous. Returning False, but in future this will result in an error. Use `array.size > 0` to check that an array is not empty.\n",
      "  if diff:\n"
     ]
    },
    {
     "name": "stdout",
     "output_type": "stream",
     "text": [
      "[CV]  boosting_type=gbdt, colsample_bytree=0.9, learning_rate=0.1, n_estimators=40, num_leaves=30, objective=binary, random_state=501, reg_alpha=0.6, reg_lambda=0.2, scale_pos_weight=20, subsample=0.75, score=0.867171529569278, total=   8.0s\n"
     ]
    },
    {
     "name": "stderr",
     "output_type": "stream",
     "text": [
      "/opt/anaconda/lib/python3.7/site-packages/sklearn/preprocessing/label.py:151: DeprecationWarning: The truth value of an empty array is ambiguous. Returning False, but in future this will result in an error. Use `array.size > 0` to check that an array is not empty.\n",
      "  if diff:\n",
      "/opt/anaconda/lib/python3.7/site-packages/sklearn/preprocessing/label.py:151: DeprecationWarning: The truth value of an empty array is ambiguous. Returning False, but in future this will result in an error. Use `array.size > 0` to check that an array is not empty.\n",
      "  if diff:\n"
     ]
    },
    {
     "name": "stdout",
     "output_type": "stream",
     "text": [
      "[CV]  boosting_type=gbdt, colsample_bytree=0.9, learning_rate=0.1, n_estimators=40, num_leaves=30, objective=binary, random_state=501, reg_alpha=0.6, reg_lambda=0.2, scale_pos_weight=25, subsample=0.75, score=0.9027373024877094, total=   4.9s\n"
     ]
    },
    {
     "name": "stderr",
     "output_type": "stream",
     "text": [
      "/opt/anaconda/lib/python3.7/site-packages/sklearn/preprocessing/label.py:151: DeprecationWarning: The truth value of an empty array is ambiguous. Returning False, but in future this will result in an error. Use `array.size > 0` to check that an array is not empty.\n",
      "  if diff:\n"
     ]
    },
    {
     "name": "stdout",
     "output_type": "stream",
     "text": [
      "[CV] boosting_type=gbdt, colsample_bytree=0.9, learning_rate=0.1, n_estimators=40, num_leaves=30, objective=binary, random_state=501, reg_alpha=0.6, reg_lambda=0.4, scale_pos_weight=20, subsample=0.75 \n",
      "[CV]  boosting_type=gbdt, colsample_bytree=0.9, learning_rate=0.1, n_estimators=40, num_leaves=30, objective=binary, random_state=501, reg_alpha=0.6, reg_lambda=0.2, scale_pos_weight=25, subsample=0.75, score=0.09999999999999998, total=   5.2s\n",
      "[CV] boosting_type=gbdt, colsample_bytree=0.9, learning_rate=0.1, n_estimators=40, num_leaves=30, objective=binary, random_state=501, reg_alpha=0.6, reg_lambda=0.4, scale_pos_weight=20, subsample=0.75 \n",
      "[CV] boosting_type=gbdt, colsample_bytree=0.9, learning_rate=0.1, n_estimators=40, num_leaves=30, objective=binary, random_state=501, reg_alpha=0.6, reg_lambda=0.4, scale_pos_weight=20, subsample=0.75 \n",
      "Did not meet early stopping. Best iteration is:\n",
      "[2]\tvalid's binary_logloss: 0.664345\tvalid's auc: 0.819289Did not meet early stopping. Best iteration is:\n",
      "[3]\tvalid's binary_logloss: 0.658027\tvalid's auc: 0.836663\n",
      "\n"
     ]
    },
    {
     "name": "stderr",
     "output_type": "stream",
     "text": [
      "/opt/anaconda/lib/python3.7/site-packages/sklearn/preprocessing/label.py:151: DeprecationWarning: The truth value of an empty array is ambiguous. Returning False, but in future this will result in an error. Use `array.size > 0` to check that an array is not empty.\n",
      "  if diff:\n"
     ]
    },
    {
     "name": "stdout",
     "output_type": "stream",
     "text": [
      "[CV]  boosting_type=gbdt, colsample_bytree=0.9, learning_rate=0.1, n_estimators=40, num_leaves=30, objective=binary, random_state=501, reg_alpha=0.6, reg_lambda=0.2, scale_pos_weight=25, subsample=0.75, score=0.8866935700723919, total=   5.4s\n",
      "[CV] boosting_type=gbdt, colsample_bytree=0.9, learning_rate=0.1, n_estimators=40, num_leaves=30, objective=binary, random_state=501, reg_alpha=0.6, reg_lambda=0.4, scale_pos_weight=20, subsample=0.75 \n"
     ]
    },
    {
     "name": "stderr",
     "output_type": "stream",
     "text": [
      "/opt/anaconda/lib/python3.7/site-packages/sklearn/preprocessing/label.py:151: DeprecationWarning: The truth value of an empty array is ambiguous. Returning False, but in future this will result in an error. Use `array.size > 0` to check that an array is not empty.\n",
      "  if diff:\n",
      "/opt/anaconda/lib/python3.7/site-packages/sklearn/preprocessing/label.py:151: DeprecationWarning: The truth value of an empty array is ambiguous. Returning False, but in future this will result in an error. Use `array.size > 0` to check that an array is not empty.\n",
      "  if diff:\n"
     ]
    },
    {
     "name": "stdout",
     "output_type": "stream",
     "text": [
      "Did not meet early stopping. Best iteration is:\n",
      "[2]\tvalid's binary_logloss: 0.659865\tvalid's auc: 0.826764Training until validation scores don't improve for 50 rounds.\n",
      "Training until validation scores don't improve for 50 rounds.\n",
      "\n"
     ]
    },
    {
     "name": "stderr",
     "output_type": "stream",
     "text": [
      "/opt/anaconda/lib/python3.7/site-packages/sklearn/preprocessing/label.py:151: DeprecationWarning: The truth value of an empty array is ambiguous. Returning False, but in future this will result in an error. Use `array.size > 0` to check that an array is not empty.\n",
      "  if diff:\n"
     ]
    },
    {
     "name": "stdout",
     "output_type": "stream",
     "text": [
      "[CV]  boosting_type=gbdt, colsample_bytree=0.9, learning_rate=0.1, n_estimators=40, num_leaves=30, objective=binary, random_state=501, reg_alpha=0.6, reg_lambda=0.4, scale_pos_weight=15, subsample=0.75, score=0.905815726445135, total=   4.9s\n",
      "Training until validation scores don't improve for 50 rounds.\n",
      "Training until validation scores don't improve for 50 rounds.\n",
      "Training until validation scores don't improve for 50 rounds.\n"
     ]
    },
    {
     "name": "stderr",
     "output_type": "stream",
     "text": [
      "/opt/anaconda/lib/python3.7/site-packages/sklearn/preprocessing/label.py:151: DeprecationWarning: The truth value of an empty array is ambiguous. Returning False, but in future this will result in an error. Use `array.size > 0` to check that an array is not empty.\n",
      "  if diff:\n"
     ]
    },
    {
     "name": "stdout",
     "output_type": "stream",
     "text": [
      "[CV] boosting_type=gbdt, colsample_bytree=0.9, learning_rate=0.1, n_estimators=40, num_leaves=30, objective=binary, random_state=501, reg_alpha=0.6, reg_lambda=0.4, scale_pos_weight=25, subsample=0.75 \n"
     ]
    },
    {
     "name": "stderr",
     "output_type": "stream",
     "text": [
      "/opt/anaconda/lib/python3.7/site-packages/sklearn/preprocessing/label.py:151: DeprecationWarning: The truth value of an empty array is ambiguous. Returning False, but in future this will result in an error. Use `array.size > 0` to check that an array is not empty.\n",
      "  if diff:\n"
     ]
    },
    {
     "name": "stdout",
     "output_type": "stream",
     "text": [
      "[CV]  boosting_type=gbdt, colsample_bytree=0.9, learning_rate=0.1, n_estimators=40, num_leaves=30, objective=binary, random_state=501, reg_alpha=0.6, reg_lambda=0.2, scale_pos_weight=20, subsample=0.75, score=0.883646729536873, total=   7.0s\n",
      "Did not meet early stopping. Best iteration is:\n",
      "[2]\tvalid's binary_logloss: 0.658653\tvalid's auc: 0.834312Did not meet early stopping. Best iteration is:\n",
      "[2]\tvalid's binary_logloss: 0.658896\tvalid's auc: 0.831733\n",
      "[CV] boosting_type=gbdt, colsample_bytree=0.9, learning_rate=0.1, n_estimators=40, num_leaves=30, objective=binary, random_state=501, reg_alpha=0.6, reg_lambda=0.4, scale_pos_weight=25, subsample=0.75 \n",
      "\n",
      "Did not meet early stopping. Best iteration is:\n",
      "[2]\tvalid's binary_logloss: 0.66803\tvalid's auc: 0.824462\n"
     ]
    },
    {
     "name": "stderr",
     "output_type": "stream",
     "text": [
      "/opt/anaconda/lib/python3.7/site-packages/sklearn/preprocessing/label.py:151: DeprecationWarning: The truth value of an empty array is ambiguous. Returning False, but in future this will result in an error. Use `array.size > 0` to check that an array is not empty.\n",
      "  if diff:\n"
     ]
    },
    {
     "name": "stdout",
     "output_type": "stream",
     "text": [
      "Training until validation scores don't improve for 50 rounds.\n"
     ]
    },
    {
     "name": "stderr",
     "output_type": "stream",
     "text": [
      "/opt/anaconda/lib/python3.7/site-packages/sklearn/preprocessing/label.py:151: DeprecationWarning: The truth value of an empty array is ambiguous. Returning False, but in future this will result in an error. Use `array.size > 0` to check that an array is not empty.\n",
      "  if diff:\n",
      "/opt/anaconda/lib/python3.7/site-packages/sklearn/preprocessing/label.py:151: DeprecationWarning: The truth value of an empty array is ambiguous. Returning False, but in future this will result in an error. Use `array.size > 0` to check that an array is not empty.\n",
      "  if diff:\n"
     ]
    },
    {
     "name": "stdout",
     "output_type": "stream",
     "text": [
      "[CV]  boosting_type=gbdt, colsample_bytree=0.9, learning_rate=0.1, n_estimators=40, num_leaves=30, objective=binary, random_state=501, reg_alpha=0.6, reg_lambda=0.4, scale_pos_weight=15, subsample=0.75, score=0.8296812159786005, total=   5.0s\n",
      "[CV] boosting_type=gbdt, colsample_bytree=0.9, learning_rate=0.1, n_estimators=40, num_leaves=30, objective=binary, random_state=501, reg_alpha=0.6, reg_lambda=0.4, scale_pos_weight=25, subsample=0.75 \n"
     ]
    },
    {
     "name": "stderr",
     "output_type": "stream",
     "text": [
      "/opt/anaconda/lib/python3.7/site-packages/sklearn/preprocessing/label.py:151: DeprecationWarning: The truth value of an empty array is ambiguous. Returning False, but in future this will result in an error. Use `array.size > 0` to check that an array is not empty.\n",
      "  if diff:\n",
      "/opt/anaconda/lib/python3.7/site-packages/sklearn/preprocessing/label.py:151: DeprecationWarning: The truth value of an empty array is ambiguous. Returning False, but in future this will result in an error. Use `array.size > 0` to check that an array is not empty.\n",
      "  if diff:\n",
      "/opt/anaconda/lib/python3.7/site-packages/sklearn/preprocessing/label.py:151: DeprecationWarning: The truth value of an empty array is ambiguous. Returning False, but in future this will result in an error. Use `array.size > 0` to check that an array is not empty.\n",
      "  if diff:\n",
      "/opt/anaconda/lib/python3.7/site-packages/sklearn/preprocessing/label.py:151: DeprecationWarning: The truth value of an empty array is ambiguous. Returning False, but in future this will result in an error. Use `array.size > 0` to check that an array is not empty.\n",
      "  if diff:\n"
     ]
    },
    {
     "name": "stdout",
     "output_type": "stream",
     "text": [
      "[CV]  boosting_type=gbdt, colsample_bytree=0.9, learning_rate=0.1, n_estimators=40, num_leaves=30, objective=binary, random_state=501, reg_alpha=0.6, reg_lambda=0.4, scale_pos_weight=15, subsample=0.75, score=0.8584334552244772, total=   6.1s\n",
      "[CV]  boosting_type=gbdt, colsample_bytree=0.9, learning_rate=0.1, n_estimators=40, num_leaves=30, objective=binary, random_state=501, reg_alpha=0.6, reg_lambda=0.2, scale_pos_weight=25, subsample=0.75, score=0.901647524514197, total=   7.3s\n",
      "[CV]  boosting_type=gbdt, colsample_bytree=0.9, learning_rate=0.1, n_estimators=40, num_leaves=30, objective=binary, random_state=501, reg_alpha=0.6, reg_lambda=0.4, scale_pos_weight=15, subsample=0.75, score=0.8162006206819337, total=   5.1s\n",
      "Training until validation scores don't improve for 50 rounds.\n",
      "Training until validation scores don't improve for 50 rounds.\n",
      "[CV] boosting_type=gbdt, colsample_bytree=0.9, learning_rate=0.1, n_estimators=40, num_leaves=30, objective=binary, random_state=501, reg_alpha=0.6, reg_lambda=0.4, scale_pos_weight=25, subsample=0.75 \n",
      "[CV] boosting_type=gbdt, colsample_bytree=0.9, learning_rate=0.1, n_estimators=40, num_leaves=30, objective=binary, random_state=501, reg_alpha=0.6, reg_lambda=0.4, scale_pos_weight=25, subsample=0.75 \n",
      "[CV] boosting_type=gbdt, colsample_bytree=0.9, learning_rate=0.1, n_estimators=40, num_leaves=50, objective=binary, random_state=501, reg_alpha=0.2, reg_lambda=0.2, scale_pos_weight=15, subsample=0.75 \n",
      "Did not meet early stopping. Best iteration is:\n",
      "[2]\tvalid's binary_logloss: 0.662935\tvalid's auc: 0.820344\n",
      "Did not meet early stopping. Best iteration is:\n",
      "[2]\tvalid's binary_logloss: 0.664302\tvalid's auc: 0.818129\n",
      "Training until validation scores don't improve for 50 rounds.\n"
     ]
    },
    {
     "name": "stderr",
     "output_type": "stream",
     "text": [
      "/opt/anaconda/lib/python3.7/site-packages/sklearn/preprocessing/label.py:151: DeprecationWarning: The truth value of an empty array is ambiguous. Returning False, but in future this will result in an error. Use `array.size > 0` to check that an array is not empty.\n",
      "  if diff:\n"
     ]
    },
    {
     "name": "stdout",
     "output_type": "stream",
     "text": [
      "Did not meet early stopping. Best iteration is:\n",
      "[2]\tvalid's binary_logloss: 0.657909\tvalid's auc: 0.835338\n"
     ]
    },
    {
     "name": "stderr",
     "output_type": "stream",
     "text": [
      "/opt/anaconda/lib/python3.7/site-packages/sklearn/preprocessing/label.py:151: DeprecationWarning: The truth value of an empty array is ambiguous. Returning False, but in future this will result in an error. Use `array.size > 0` to check that an array is not empty.\n",
      "  if diff:\n",
      "/opt/anaconda/lib/python3.7/site-packages/sklearn/preprocessing/label.py:151: DeprecationWarning: The truth value of an empty array is ambiguous. Returning False, but in future this will result in an error. Use `array.size > 0` to check that an array is not empty.\n",
      "  if diff:\n",
      "/opt/anaconda/lib/python3.7/site-packages/sklearn/preprocessing/label.py:151: DeprecationWarning: The truth value of an empty array is ambiguous. Returning False, but in future this will result in an error. Use `array.size > 0` to check that an array is not empty.\n",
      "  if diff:\n"
     ]
    },
    {
     "name": "stdout",
     "output_type": "stream",
     "text": [
      "[CV]  boosting_type=gbdt, colsample_bytree=0.9, learning_rate=0.1, n_estimators=40, num_leaves=30, objective=binary, random_state=501, reg_alpha=0.6, reg_lambda=0.4, scale_pos_weight=20, subsample=0.75, score=0.8860558926212752, total=   4.1s\n",
      "[CV] boosting_type=gbdt, colsample_bytree=0.9, learning_rate=0.1, n_estimators=40, num_leaves=50, objective=binary, random_state=501, reg_alpha=0.2, reg_lambda=0.2, scale_pos_weight=15, subsample=0.75 \n",
      "Did not meet early stopping. Best iteration is:\n",
      "[2]\tvalid's binary_logloss: 0.66403\tvalid's auc: 0.825176Training until validation scores don't improve for 50 rounds.\n",
      "\n",
      "Training until validation scores don't improve for 50 rounds.\n",
      "Training until validation scores don't improve for 50 rounds.\n"
     ]
    },
    {
     "name": "stderr",
     "output_type": "stream",
     "text": [
      "/opt/anaconda/lib/python3.7/site-packages/sklearn/preprocessing/label.py:151: DeprecationWarning: The truth value of an empty array is ambiguous. Returning False, but in future this will result in an error. Use `array.size > 0` to check that an array is not empty.\n",
      "  if diff:\n"
     ]
    },
    {
     "name": "stdout",
     "output_type": "stream",
     "text": [
      "[CV]  boosting_type=gbdt, colsample_bytree=0.9, learning_rate=0.1, n_estimators=40, num_leaves=30, objective=binary, random_state=501, reg_alpha=0.6, reg_lambda=0.4, scale_pos_weight=20, subsample=0.75, score=0.8785016905478965, total=   3.4s\n",
      "[CV] boosting_type=gbdt, colsample_bytree=0.9, learning_rate=0.1, n_estimators=40, num_leaves=50, objective=binary, random_state=501, reg_alpha=0.2, reg_lambda=0.2, scale_pos_weight=15, subsample=0.75 \n"
     ]
    },
    {
     "name": "stderr",
     "output_type": "stream",
     "text": [
      "/opt/anaconda/lib/python3.7/site-packages/sklearn/preprocessing/label.py:151: DeprecationWarning: The truth value of an empty array is ambiguous. Returning False, but in future this will result in an error. Use `array.size > 0` to check that an array is not empty.\n",
      "  if diff:\n"
     ]
    },
    {
     "name": "stdout",
     "output_type": "stream",
     "text": [
      "[CV]  boosting_type=gbdt, colsample_bytree=0.9, learning_rate=0.1, n_estimators=40, num_leaves=30, objective=binary, random_state=501, reg_alpha=0.6, reg_lambda=0.4, scale_pos_weight=15, subsample=0.75, score=0.855492152677231, total=   4.7s\n"
     ]
    },
    {
     "name": "stderr",
     "output_type": "stream",
     "text": [
      "/opt/anaconda/lib/python3.7/site-packages/sklearn/preprocessing/label.py:151: DeprecationWarning: The truth value of an empty array is ambiguous. Returning False, but in future this will result in an error. Use `array.size > 0` to check that an array is not empty.\n",
      "  if diff:\n"
     ]
    },
    {
     "name": "stdout",
     "output_type": "stream",
     "text": [
      "[CV] boosting_type=gbdt, colsample_bytree=0.9, learning_rate=0.1, n_estimators=40, num_leaves=50, objective=binary, random_state=501, reg_alpha=0.2, reg_lambda=0.2, scale_pos_weight=15, subsample=0.75 \n",
      "Did not meet early stopping. Best iteration is:\n",
      "[2]\tvalid's binary_logloss: 0.666388\tvalid's auc: 0.819357\n",
      "Did not meet early stopping. Best iteration is:\n",
      "[1]\tvalid's binary_logloss: 0.669167\tvalid's auc: 0.788116Did not meet early stopping. Best iteration is:\n",
      "[2]\tvalid's binary_logloss: 0.664231\tvalid's auc: 0.828357Did not meet early stopping. Best iteration is:\n",
      "[2]\tvalid's binary_logloss: 0.664358\tvalid's auc: 0.819359\n",
      "\n",
      "\n"
     ]
    },
    {
     "name": "stderr",
     "output_type": "stream",
     "text": [
      "/opt/anaconda/lib/python3.7/site-packages/sklearn/preprocessing/label.py:151: DeprecationWarning: The truth value of an empty array is ambiguous. Returning False, but in future this will result in an error. Use `array.size > 0` to check that an array is not empty.\n",
      "  if diff:\n"
     ]
    },
    {
     "name": "stdout",
     "output_type": "stream",
     "text": [
      "[CV]  boosting_type=gbdt, colsample_bytree=0.9, learning_rate=0.1, n_estimators=40, num_leaves=30, objective=binary, random_state=501, reg_alpha=0.6, reg_lambda=0.4, scale_pos_weight=20, subsample=0.75, score=0.8703555991533105, total=   4.5s\n",
      "[CV] boosting_type=gbdt, colsample_bytree=0.9, learning_rate=0.1, n_estimators=40, num_leaves=50, objective=binary, random_state=501, reg_alpha=0.2, reg_lambda=0.2, scale_pos_weight=15, subsample=0.75 \n"
     ]
    },
    {
     "name": "stderr",
     "output_type": "stream",
     "text": [
      "/opt/anaconda/lib/python3.7/site-packages/sklearn/preprocessing/label.py:151: DeprecationWarning: The truth value of an empty array is ambiguous. Returning False, but in future this will result in an error. Use `array.size > 0` to check that an array is not empty.\n",
      "  if diff:\n",
      "/opt/anaconda/lib/python3.7/site-packages/sklearn/preprocessing/label.py:151: DeprecationWarning: The truth value of an empty array is ambiguous. Returning False, but in future this will result in an error. Use `array.size > 0` to check that an array is not empty.\n",
      "  if diff:\n",
      "/opt/anaconda/lib/python3.7/site-packages/sklearn/preprocessing/label.py:151: DeprecationWarning: The truth value of an empty array is ambiguous. Returning False, but in future this will result in an error. Use `array.size > 0` to check that an array is not empty.\n",
      "  if diff:\n",
      "/opt/anaconda/lib/python3.7/site-packages/sklearn/preprocessing/label.py:151: DeprecationWarning: The truth value of an empty array is ambiguous. Returning False, but in future this will result in an error. Use `array.size > 0` to check that an array is not empty.\n",
      "  if diff:\n"
     ]
    },
    {
     "name": "stdout",
     "output_type": "stream",
     "text": [
      "Training until validation scores don't improve for 50 rounds.\n",
      "Training until validation scores don't improve for 50 rounds.\n"
     ]
    },
    {
     "name": "stderr",
     "output_type": "stream",
     "text": [
      "/opt/anaconda/lib/python3.7/site-packages/sklearn/preprocessing/label.py:151: DeprecationWarning: The truth value of an empty array is ambiguous. Returning False, but in future this will result in an error. Use `array.size > 0` to check that an array is not empty.\n",
      "  if diff:\n"
     ]
    },
    {
     "name": "stdout",
     "output_type": "stream",
     "text": [
      "Training until validation scores don't improve for 50 rounds.\n",
      "[CV]  boosting_type=gbdt, colsample_bytree=0.9, learning_rate=0.1, n_estimators=40, num_leaves=30, objective=binary, random_state=501, reg_alpha=0.6, reg_lambda=0.4, scale_pos_weight=20, subsample=0.75, score=0.867171529569278, total=   5.5s\n",
      "[CV] boosting_type=gbdt, colsample_bytree=0.9, learning_rate=0.1, n_estimators=40, num_leaves=50, objective=binary, random_state=501, reg_alpha=0.2, reg_lambda=0.2, scale_pos_weight=20, subsample=0.75 \n"
     ]
    },
    {
     "name": "stderr",
     "output_type": "stream",
     "text": [
      "/opt/anaconda/lib/python3.7/site-packages/sklearn/preprocessing/label.py:151: DeprecationWarning: The truth value of an empty array is ambiguous. Returning False, but in future this will result in an error. Use `array.size > 0` to check that an array is not empty.\n",
      "  if diff:\n"
     ]
    },
    {
     "name": "stdout",
     "output_type": "stream",
     "text": [
      "[CV]  boosting_type=gbdt, colsample_bytree=0.9, learning_rate=0.1, n_estimators=40, num_leaves=30, objective=binary, random_state=501, reg_alpha=0.6, reg_lambda=0.4, scale_pos_weight=20, subsample=0.75, score=0.883646729536873, total=   5.1s\n"
     ]
    },
    {
     "name": "stderr",
     "output_type": "stream",
     "text": [
      "/opt/anaconda/lib/python3.7/site-packages/sklearn/preprocessing/label.py:151: DeprecationWarning: The truth value of an empty array is ambiguous. Returning False, but in future this will result in an error. Use `array.size > 0` to check that an array is not empty.\n",
      "  if diff:\n"
     ]
    },
    {
     "name": "stdout",
     "output_type": "stream",
     "text": [
      "Did not meet early stopping. Best iteration is:\n",
      "[2]\tvalid's binary_logloss: 0.669193\tvalid's auc: 0.814592"
     ]
    },
    {
     "name": "stderr",
     "output_type": "stream",
     "text": [
      "/opt/anaconda/lib/python3.7/site-packages/sklearn/preprocessing/label.py:151: DeprecationWarning: The truth value of an empty array is ambiguous. Returning False, but in future this will result in an error. Use `array.size > 0` to check that an array is not empty.\n",
      "  if diff:\n"
     ]
    },
    {
     "name": "stdout",
     "output_type": "stream",
     "text": [
      "[CV]  boosting_type=gbdt, colsample_bytree=0.9, learning_rate=0.1, n_estimators=40, num_leaves=30, objective=binary, random_state=501, reg_alpha=0.6, reg_lambda=0.4, scale_pos_weight=25, subsample=0.75, score=0.9027373024877094, total=   4.0s\n",
      "\n",
      "[CV]  boosting_type=gbdt, colsample_bytree=0.9, learning_rate=0.1, n_estimators=40, num_leaves=30, objective=binary, random_state=501, reg_alpha=0.6, reg_lambda=0.4, scale_pos_weight=25, subsample=0.75, score=0.09999999999999998, total=   4.0s\n",
      "[CV] boosting_type=gbdt, colsample_bytree=0.9, learning_rate=0.1, n_estimators=40, num_leaves=50, objective=binary, random_state=501, reg_alpha=0.2, reg_lambda=0.2, scale_pos_weight=20, subsample=0.75 \n",
      "[CV] boosting_type=gbdt, colsample_bytree=0.9, learning_rate=0.1, n_estimators=40, num_leaves=50, objective=binary, random_state=501, reg_alpha=0.2, reg_lambda=0.2, scale_pos_weight=20, subsample=0.75 \n",
      "[CV] boosting_type=gbdt, colsample_bytree=0.9, learning_rate=0.1, n_estimators=40, num_leaves=50, objective=binary, random_state=501, reg_alpha=0.2, reg_lambda=0.2, scale_pos_weight=20, subsample=0.75 \n",
      "Training until validation scores don't improve for 50 rounds.\n"
     ]
    },
    {
     "name": "stderr",
     "output_type": "stream",
     "text": [
      "/opt/anaconda/lib/python3.7/site-packages/sklearn/preprocessing/label.py:151: DeprecationWarning: The truth value of an empty array is ambiguous. Returning False, but in future this will result in an error. Use `array.size > 0` to check that an array is not empty.\n",
      "  if diff:\n"
     ]
    },
    {
     "name": "stdout",
     "output_type": "stream",
     "text": [
      "Did not meet early stopping. Best iteration is:\n",
      "[2]\tvalid's binary_logloss: 0.668045\tvalid's auc: 0.824472\n"
     ]
    },
    {
     "name": "stderr",
     "output_type": "stream",
     "text": [
      "/opt/anaconda/lib/python3.7/site-packages/sklearn/preprocessing/label.py:151: DeprecationWarning: The truth value of an empty array is ambiguous. Returning False, but in future this will result in an error. Use `array.size > 0` to check that an array is not empty.\n",
      "  if diff:\n"
     ]
    },
    {
     "name": "stdout",
     "output_type": "stream",
     "text": [
      "Training until validation scores don't improve for 50 rounds.\n"
     ]
    },
    {
     "name": "stderr",
     "output_type": "stream",
     "text": [
      "/opt/anaconda/lib/python3.7/site-packages/sklearn/preprocessing/label.py:151: DeprecationWarning: The truth value of an empty array is ambiguous. Returning False, but in future this will result in an error. Use `array.size > 0` to check that an array is not empty.\n",
      "  if diff:\n"
     ]
    },
    {
     "name": "stdout",
     "output_type": "stream",
     "text": [
      "[CV]  boosting_type=gbdt, colsample_bytree=0.9, learning_rate=0.1, n_estimators=40, num_leaves=30, objective=binary, random_state=501, reg_alpha=0.6, reg_lambda=0.4, scale_pos_weight=25, subsample=0.75, score=0.8866935700723919, total=   4.6s\n",
      "[CV] boosting_type=gbdt, colsample_bytree=0.9, learning_rate=0.1, n_estimators=40, num_leaves=50, objective=binary, random_state=501, reg_alpha=0.2, reg_lambda=0.2, scale_pos_weight=20, subsample=0.75 \n",
      "Training until validation scores don't improve for 50 rounds.\n",
      "Training until validation scores don't improve for 50 rounds.\n",
      "Training until validation scores don't improve for 50 rounds.\n"
     ]
    },
    {
     "name": "stderr",
     "output_type": "stream",
     "text": [
      "/opt/anaconda/lib/python3.7/site-packages/sklearn/preprocessing/label.py:151: DeprecationWarning: The truth value of an empty array is ambiguous. Returning False, but in future this will result in an error. Use `array.size > 0` to check that an array is not empty.\n",
      "  if diff:\n"
     ]
    },
    {
     "name": "stdout",
     "output_type": "stream",
     "text": [
      "[CV]  boosting_type=gbdt, colsample_bytree=0.9, learning_rate=0.1, n_estimators=40, num_leaves=30, objective=binary, random_state=501, reg_alpha=0.6, reg_lambda=0.4, scale_pos_weight=25, subsample=0.75, score=0.9010784396059444, total=   4.5s\n",
      "[CV] boosting_type=gbdt, colsample_bytree=0.9, learning_rate=0.1, n_estimators=40, num_leaves=50, objective=binary, random_state=501, reg_alpha=0.2, reg_lambda=0.2, scale_pos_weight=25, subsample=0.75 \n",
      "Did not meet early stopping. Best iteration is:\n",
      "[3]\tvalid's binary_logloss: 0.652063\tvalid's auc: 0.848753Did not meet early stopping. Best iteration is:\n",
      "[3]\tvalid's binary_logloss: 0.653496\tvalid's auc: 0.845076\n",
      "\n",
      "Training until validation scores don't improve for 50 rounds.\n"
     ]
    },
    {
     "name": "stderr",
     "output_type": "stream",
     "text": [
      "/opt/anaconda/lib/python3.7/site-packages/sklearn/preprocessing/label.py:151: DeprecationWarning: The truth value of an empty array is ambiguous. Returning False, but in future this will result in an error. Use `array.size > 0` to check that an array is not empty.\n",
      "  if diff:\n",
      "/opt/anaconda/lib/python3.7/site-packages/sklearn/preprocessing/label.py:151: DeprecationWarning: The truth value of an empty array is ambiguous. Returning False, but in future this will result in an error. Use `array.size > 0` to check that an array is not empty.\n",
      "  if diff:\n"
     ]
    },
    {
     "name": "stdout",
     "output_type": "stream",
     "text": [
      "Did not meet early stopping. Best iteration is:\n",
      "[3]\tvalid's binary_logloss: 0.651336\tvalid's auc: 0.850543\n",
      "Training until validation scores don't improve for 50 rounds.\n"
     ]
    },
    {
     "name": "stderr",
     "output_type": "stream",
     "text": [
      "/opt/anaconda/lib/python3.7/site-packages/sklearn/preprocessing/label.py:151: DeprecationWarning: The truth value of an empty array is ambiguous. Returning False, but in future this will result in an error. Use `array.size > 0` to check that an array is not empty.\n",
      "  if diff:\n"
     ]
    },
    {
     "name": "stdout",
     "output_type": "stream",
     "text": [
      "[CV]  boosting_type=gbdt, colsample_bytree=0.9, learning_rate=0.1, n_estimators=40, num_leaves=50, objective=binary, random_state=501, reg_alpha=0.2, reg_lambda=0.2, scale_pos_weight=15, subsample=0.75, score=0.9079570528946546, total=   6.4s\n",
      "Did not meet early stopping. Best iteration is:\n",
      "[2]\tvalid's binary_logloss: 0.66723\tvalid's auc: 0.825487[CV] boosting_type=gbdt, colsample_bytree=0.9, learning_rate=0.1, n_estimators=40, num_leaves=50, objective=binary, random_state=501, reg_alpha=0.2, reg_lambda=0.2, scale_pos_weight=25, subsample=0.75 \n"
     ]
    },
    {
     "name": "stderr",
     "output_type": "stream",
     "text": [
      "/opt/anaconda/lib/python3.7/site-packages/sklearn/preprocessing/label.py:151: DeprecationWarning: The truth value of an empty array is ambiguous. Returning False, but in future this will result in an error. Use `array.size > 0` to check that an array is not empty.\n",
      "  if diff:\n"
     ]
    },
    {
     "name": "stdout",
     "output_type": "stream",
     "text": [
      "\n",
      "[CV]  boosting_type=gbdt, colsample_bytree=0.9, learning_rate=0.1, n_estimators=40, num_leaves=50, objective=binary, random_state=501, reg_alpha=0.2, reg_lambda=0.2, scale_pos_weight=15, subsample=0.75, score=0.9040640817369153, total=   5.3s\n",
      "[CV] boosting_type=gbdt, colsample_bytree=0.9, learning_rate=0.1, n_estimators=40, num_leaves=50, objective=binary, random_state=501, reg_alpha=0.2, reg_lambda=0.2, scale_pos_weight=25, subsample=0.75 \n"
     ]
    },
    {
     "name": "stderr",
     "output_type": "stream",
     "text": [
      "/opt/anaconda/lib/python3.7/site-packages/sklearn/preprocessing/label.py:151: DeprecationWarning: The truth value of an empty array is ambiguous. Returning False, but in future this will result in an error. Use `array.size > 0` to check that an array is not empty.\n",
      "  if diff:\n",
      "/opt/anaconda/lib/python3.7/site-packages/sklearn/preprocessing/label.py:151: DeprecationWarning: The truth value of an empty array is ambiguous. Returning False, but in future this will result in an error. Use `array.size > 0` to check that an array is not empty.\n",
      "  if diff:\n"
     ]
    },
    {
     "name": "stdout",
     "output_type": "stream",
     "text": [
      "Did not meet early stopping. Best iteration is:\n",
      "[2]\tvalid's binary_logloss: 0.659099\tvalid's auc: 0.841243Did not meet early stopping. Best iteration is:\n",
      "[2]\tvalid's binary_logloss: 0.657955\tvalid's auc: 0.830718\n",
      "\n"
     ]
    },
    {
     "name": "stderr",
     "output_type": "stream",
     "text": [
      "/opt/anaconda/lib/python3.7/site-packages/sklearn/preprocessing/label.py:151: DeprecationWarning: The truth value of an empty array is ambiguous. Returning False, but in future this will result in an error. Use `array.size > 0` to check that an array is not empty.\n",
      "  if diff:\n"
     ]
    },
    {
     "name": "stdout",
     "output_type": "stream",
     "text": [
      "[CV]  boosting_type=gbdt, colsample_bytree=0.9, learning_rate=0.1, n_estimators=40, num_leaves=50, objective=binary, random_state=501, reg_alpha=0.2, reg_lambda=0.2, scale_pos_weight=15, subsample=0.75, score=0.9089705566777538, total=   5.6s\n"
     ]
    },
    {
     "name": "stderr",
     "output_type": "stream",
     "text": [
      "/opt/anaconda/lib/python3.7/site-packages/sklearn/preprocessing/label.py:151: DeprecationWarning: The truth value of an empty array is ambiguous. Returning False, but in future this will result in an error. Use `array.size > 0` to check that an array is not empty.\n",
      "  if diff:\n"
     ]
    },
    {
     "name": "stdout",
     "output_type": "stream",
     "text": [
      "Did not meet early stopping. Best iteration is:\n",
      "[3]\tvalid's binary_logloss: 0.652783\tvalid's auc: 0.846099\n",
      "[CV] boosting_type=gbdt, colsample_bytree=0.9, learning_rate=0.1, n_estimators=40, num_leaves=50, objective=binary, random_state=501, reg_alpha=0.2, reg_lambda=0.2, scale_pos_weight=25, subsample=0.75 \n"
     ]
    },
    {
     "name": "stderr",
     "output_type": "stream",
     "text": [
      "/opt/anaconda/lib/python3.7/site-packages/sklearn/preprocessing/label.py:151: DeprecationWarning: The truth value of an empty array is ambiguous. Returning False, but in future this will result in an error. Use `array.size > 0` to check that an array is not empty.\n",
      "  if diff:\n"
     ]
    },
    {
     "name": "stdout",
     "output_type": "stream",
     "text": [
      "Did not meet early stopping. Best iteration is:\n",
      "[3]\tvalid's binary_logloss: 0.654481\tvalid's auc: 0.84494\n"
     ]
    },
    {
     "name": "stderr",
     "output_type": "stream",
     "text": [
      "/opt/anaconda/lib/python3.7/site-packages/sklearn/preprocessing/label.py:151: DeprecationWarning: The truth value of an empty array is ambiguous. Returning False, but in future this will result in an error. Use `array.size > 0` to check that an array is not empty.\n",
      "  if diff:\n",
      "/opt/anaconda/lib/python3.7/site-packages/sklearn/preprocessing/label.py:151: DeprecationWarning: The truth value of an empty array is ambiguous. Returning False, but in future this will result in an error. Use `array.size > 0` to check that an array is not empty.\n",
      "  if diff:\n"
     ]
    },
    {
     "name": "stdout",
     "output_type": "stream",
     "text": [
      "[CV]  boosting_type=gbdt, colsample_bytree=0.9, learning_rate=0.1, n_estimators=40, num_leaves=30, objective=binary, random_state=501, reg_alpha=0.6, reg_lambda=0.4, scale_pos_weight=25, subsample=0.75, score=0.8811404884750491, total=   7.6s\n"
     ]
    },
    {
     "name": "stderr",
     "output_type": "stream",
     "text": [
      "/opt/anaconda/lib/python3.7/site-packages/sklearn/preprocessing/label.py:151: DeprecationWarning: The truth value of an empty array is ambiguous. Returning False, but in future this will result in an error. Use `array.size > 0` to check that an array is not empty.\n",
      "  if diff:\n"
     ]
    },
    {
     "name": "stdout",
     "output_type": "stream",
     "text": [
      "[CV]  boosting_type=gbdt, colsample_bytree=0.9, learning_rate=0.1, n_estimators=40, num_leaves=50, objective=binary, random_state=501, reg_alpha=0.2, reg_lambda=0.2, scale_pos_weight=20, subsample=0.75, score=0.8827276563793113, total=   4.8s\n",
      "[CV] boosting_type=gbdt, colsample_bytree=0.9, learning_rate=0.1, n_estimators=40, num_leaves=50, objective=binary, random_state=501, reg_alpha=0.2, reg_lambda=0.2, scale_pos_weight=25, subsample=0.75 \n",
      "[CV] boosting_type=gbdt, colsample_bytree=0.9, learning_rate=0.1, n_estimators=40, num_leaves=50, objective=binary, random_state=501, reg_alpha=0.2, reg_lambda=0.4, scale_pos_weight=15, subsample=0.75 \n",
      "Training until validation scores don't improve for 50 rounds.\n"
     ]
    },
    {
     "name": "stderr",
     "output_type": "stream",
     "text": [
      "/opt/anaconda/lib/python3.7/site-packages/sklearn/preprocessing/label.py:151: DeprecationWarning: The truth value of an empty array is ambiguous. Returning False, but in future this will result in an error. Use `array.size > 0` to check that an array is not empty.\n",
      "  if diff:\n",
      "/opt/anaconda/lib/python3.7/site-packages/sklearn/preprocessing/label.py:151: DeprecationWarning: The truth value of an empty array is ambiguous. Returning False, but in future this will result in an error. Use `array.size > 0` to check that an array is not empty.\n",
      "  if diff:\n"
     ]
    },
    {
     "name": "stdout",
     "output_type": "stream",
     "text": [
      "[CV]  boosting_type=gbdt, colsample_bytree=0.9, learning_rate=0.1, n_estimators=40, num_leaves=50, objective=binary, random_state=501, reg_alpha=0.2, reg_lambda=0.2, scale_pos_weight=20, subsample=0.75, score=0.8629276081003541, total=   4.7s\n"
     ]
    },
    {
     "name": "stderr",
     "output_type": "stream",
     "text": [
      "/opt/anaconda/lib/python3.7/site-packages/sklearn/preprocessing/label.py:151: DeprecationWarning: The truth value of an empty array is ambiguous. Returning False, but in future this will result in an error. Use `array.size > 0` to check that an array is not empty.\n",
      "  if diff:\n"
     ]
    },
    {
     "name": "stdout",
     "output_type": "stream",
     "text": [
      "[CV] boosting_type=gbdt, colsample_bytree=0.9, learning_rate=0.1, n_estimators=40, num_leaves=50, objective=binary, random_state=501, reg_alpha=0.2, reg_lambda=0.4, scale_pos_weight=15, subsample=0.75 \n",
      "[CV]  boosting_type=gbdt, colsample_bytree=0.9, learning_rate=0.1, n_estimators=40, num_leaves=50, objective=binary, random_state=501, reg_alpha=0.2, reg_lambda=0.2, scale_pos_weight=15, subsample=0.75, score=0.9074464129468494, total=   6.0s\n",
      "Did not meet early stopping. Best iteration is:\n",
      "[2]\tvalid's binary_logloss: 0.659934\tvalid's auc: 0.833608Training until validation scores don't improve for 50 rounds.\n",
      "\n",
      "[CV] boosting_type=gbdt, colsample_bytree=0.9, learning_rate=0.1, n_estimators=40, num_leaves=50, objective=binary, random_state=501, reg_alpha=0.2, reg_lambda=0.4, scale_pos_weight=15, subsample=0.75 \n"
     ]
    },
    {
     "name": "stderr",
     "output_type": "stream",
     "text": [
      "/opt/anaconda/lib/python3.7/site-packages/sklearn/preprocessing/label.py:151: DeprecationWarning: The truth value of an empty array is ambiguous. Returning False, but in future this will result in an error. Use `array.size > 0` to check that an array is not empty.\n",
      "  if diff:\n"
     ]
    },
    {
     "name": "stdout",
     "output_type": "stream",
     "text": [
      "Training until validation scores don't improve for 50 rounds.\n",
      "[CV]  boosting_type=gbdt, colsample_bytree=0.9, learning_rate=0.1, n_estimators=40, num_leaves=50, objective=binary, random_state=501, reg_alpha=0.2, reg_lambda=0.2, scale_pos_weight=15, subsample=0.75, score=0.9042513304588563, total=   7.5s\n",
      "[CV] boosting_type=gbdt, colsample_bytree=0.9, learning_rate=0.1, n_estimators=40, num_leaves=50, objective=binary, random_state=501, reg_alpha=0.2, reg_lambda=0.4, scale_pos_weight=15, subsample=0.75 \n"
     ]
    },
    {
     "name": "stderr",
     "output_type": "stream",
     "text": [
      "/opt/anaconda/lib/python3.7/site-packages/sklearn/preprocessing/label.py:151: DeprecationWarning: The truth value of an empty array is ambiguous. Returning False, but in future this will result in an error. Use `array.size > 0` to check that an array is not empty.\n",
      "  if diff:\n"
     ]
    },
    {
     "name": "stdout",
     "output_type": "stream",
     "text": [
      "Training until validation scores don't improve for 50 rounds.\n",
      "Training until validation scores don't improve for 50 rounds.\n"
     ]
    },
    {
     "name": "stderr",
     "output_type": "stream",
     "text": [
      "/opt/anaconda/lib/python3.7/site-packages/sklearn/preprocessing/label.py:151: DeprecationWarning: The truth value of an empty array is ambiguous. Returning False, but in future this will result in an error. Use `array.size > 0` to check that an array is not empty.\n",
      "  if diff:\n"
     ]
    },
    {
     "name": "stdout",
     "output_type": "stream",
     "text": [
      "[CV]  boosting_type=gbdt, colsample_bytree=0.9, learning_rate=0.1, n_estimators=40, num_leaves=50, objective=binary, random_state=501, reg_alpha=0.2, reg_lambda=0.2, scale_pos_weight=20, subsample=0.75, score=0.8864239417123403, total=   6.3s\n",
      "[CV] boosting_type=gbdt, colsample_bytree=0.9, learning_rate=0.1, n_estimators=40, num_leaves=50, objective=binary, random_state=501, reg_alpha=0.2, reg_lambda=0.4, scale_pos_weight=15, subsample=0.75 \n",
      "Training until validation scores don't improve for 50 rounds.\n",
      "Training until validation scores don't improve for 50 rounds.\n",
      "Training until validation scores don't improve for 50 rounds.\n",
      "Did not meet early stopping. Best iteration is:\n",
      "[2]\tvalid's binary_logloss: 0.661637\tvalid's auc: 0.826094\n"
     ]
    },
    {
     "name": "stderr",
     "output_type": "stream",
     "text": [
      "/opt/anaconda/lib/python3.7/site-packages/sklearn/preprocessing/label.py:151: DeprecationWarning: The truth value of an empty array is ambiguous. Returning False, but in future this will result in an error. Use `array.size > 0` to check that an array is not empty.\n",
      "  if diff:\n"
     ]
    },
    {
     "name": "stdout",
     "output_type": "stream",
     "text": [
      "Training until validation scores don't improve for 50 rounds.\n"
     ]
    },
    {
     "name": "stderr",
     "output_type": "stream",
     "text": [
      "/opt/anaconda/lib/python3.7/site-packages/sklearn/preprocessing/label.py:151: DeprecationWarning: The truth value of an empty array is ambiguous. Returning False, but in future this will result in an error. Use `array.size > 0` to check that an array is not empty.\n",
      "  if diff:\n"
     ]
    },
    {
     "name": "stdout",
     "output_type": "stream",
     "text": [
      "[CV]  boosting_type=gbdt, colsample_bytree=0.9, learning_rate=0.1, n_estimators=40, num_leaves=50, objective=binary, random_state=501, reg_alpha=0.2, reg_lambda=0.2, scale_pos_weight=25, subsample=0.75, score=0.9043488602794083, total=   6.4s\n",
      "[CV] boosting_type=gbdt, colsample_bytree=0.9, learning_rate=0.1, n_estimators=40, num_leaves=50, objective=binary, random_state=501, reg_alpha=0.2, reg_lambda=0.4, scale_pos_weight=20, subsample=0.75 \n",
      "Did not meet early stopping. Best iteration is:\n",
      "[2]\tvalid's binary_logloss: 0.660632\tvalid's auc: 0.832665\n",
      "Did not meet early stopping. Best iteration is:\n",
      "[2]\tvalid's binary_logloss: 0.665424\tvalid's auc: 0.823538\n"
     ]
    },
    {
     "name": "stderr",
     "output_type": "stream",
     "text": [
      "/opt/anaconda/lib/python3.7/site-packages/sklearn/preprocessing/label.py:151: DeprecationWarning: The truth value of an empty array is ambiguous. Returning False, but in future this will result in an error. Use `array.size > 0` to check that an array is not empty.\n",
      "  if diff:\n"
     ]
    },
    {
     "name": "stdout",
     "output_type": "stream",
     "text": [
      "Did not meet early stopping. Best iteration is:\n",
      "[2]\tvalid's binary_logloss: 0.66305\tvalid's auc: 0.836479\n"
     ]
    },
    {
     "name": "stderr",
     "output_type": "stream",
     "text": [
      "/opt/anaconda/lib/python3.7/site-packages/sklearn/preprocessing/label.py:151: DeprecationWarning: The truth value of an empty array is ambiguous. Returning False, but in future this will result in an error. Use `array.size > 0` to check that an array is not empty.\n",
      "  if diff:\n",
      "/opt/anaconda/lib/python3.7/site-packages/sklearn/preprocessing/label.py:151: DeprecationWarning: The truth value of an empty array is ambiguous. Returning False, but in future this will result in an error. Use `array.size > 0` to check that an array is not empty.\n",
      "  if diff:\n",
      "/opt/anaconda/lib/python3.7/site-packages/sklearn/preprocessing/label.py:151: DeprecationWarning: The truth value of an empty array is ambiguous. Returning False, but in future this will result in an error. Use `array.size > 0` to check that an array is not empty.\n",
      "  if diff:\n"
     ]
    },
    {
     "name": "stdout",
     "output_type": "stream",
     "text": [
      "Did not meet early stopping. Best iteration is:\n",
      "[2]\tvalid's binary_logloss: 0.664301\tvalid's auc: 0.818532[CV]  boosting_type=gbdt, colsample_bytree=0.9, learning_rate=0.1, n_estimators=40, num_leaves=50, objective=binary, random_state=501, reg_alpha=0.2, reg_lambda=0.2, scale_pos_weight=20, subsample=0.75, score=0.8811246033855077, total=   9.7s\n",
      "\n",
      "[CV] boosting_type=gbdt, colsample_bytree=0.9, learning_rate=0.1, n_estimators=40, num_leaves=50, objective=binary, random_state=501, reg_alpha=0.2, reg_lambda=0.4, scale_pos_weight=20, subsample=0.75 \n",
      "Training until validation scores don't improve for 50 rounds.\n"
     ]
    },
    {
     "name": "stderr",
     "output_type": "stream",
     "text": [
      "/opt/anaconda/lib/python3.7/site-packages/sklearn/preprocessing/label.py:151: DeprecationWarning: The truth value of an empty array is ambiguous. Returning False, but in future this will result in an error. Use `array.size > 0` to check that an array is not empty.\n",
      "  if diff:\n"
     ]
    },
    {
     "name": "stdout",
     "output_type": "stream",
     "text": [
      "[CV]  boosting_type=gbdt, colsample_bytree=0.9, learning_rate=0.1, n_estimators=40, num_leaves=50, objective=binary, random_state=501, reg_alpha=0.2, reg_lambda=0.2, scale_pos_weight=25, subsample=0.75, score=0.8897969430073568, total=   5.5s\n"
     ]
    },
    {
     "name": "stderr",
     "output_type": "stream",
     "text": [
      "/opt/anaconda/lib/python3.7/site-packages/sklearn/preprocessing/label.py:151: DeprecationWarning: The truth value of an empty array is ambiguous. Returning False, but in future this will result in an error. Use `array.size > 0` to check that an array is not empty.\n",
      "  if diff:\n",
      "/opt/anaconda/lib/python3.7/site-packages/sklearn/preprocessing/label.py:151: DeprecationWarning: The truth value of an empty array is ambiguous. Returning False, but in future this will result in an error. Use `array.size > 0` to check that an array is not empty.\n",
      "  if diff:\n"
     ]
    },
    {
     "name": "stdout",
     "output_type": "stream",
     "text": [
      "[CV] boosting_type=gbdt, colsample_bytree=0.9, learning_rate=0.1, n_estimators=40, num_leaves=50, objective=binary, random_state=501, reg_alpha=0.2, reg_lambda=0.4, scale_pos_weight=20, subsample=0.75 \n",
      "[CV]  boosting_type=gbdt, colsample_bytree=0.9, learning_rate=0.1, n_estimators=40, num_leaves=50, objective=binary, random_state=501, reg_alpha=0.2, reg_lambda=0.2, scale_pos_weight=25, subsample=0.75, score=0.8974289444161232, total=   6.7s\n",
      "[CV] boosting_type=gbdt, colsample_bytree=0.9, learning_rate=0.1, n_estimators=40, num_leaves=50, objective=binary, random_state=501, reg_alpha=0.2, reg_lambda=0.4, scale_pos_weight=20, subsample=0.75 \n",
      "Did not meet early stopping. Best iteration is:\n",
      "[3]\tvalid's binary_logloss: 0.654451\tvalid's auc: 0.84491\n"
     ]
    },
    {
     "name": "stderr",
     "output_type": "stream",
     "text": [
      "/opt/anaconda/lib/python3.7/site-packages/sklearn/preprocessing/label.py:151: DeprecationWarning: The truth value of an empty array is ambiguous. Returning False, but in future this will result in an error. Use `array.size > 0` to check that an array is not empty.\n",
      "  if diff:\n"
     ]
    },
    {
     "name": "stdout",
     "output_type": "stream",
     "text": [
      "[CV]  boosting_type=gbdt, colsample_bytree=0.9, learning_rate=0.1, n_estimators=40, num_leaves=50, objective=binary, random_state=501, reg_alpha=0.2, reg_lambda=0.2, scale_pos_weight=25, subsample=0.75, score=0.8958347460203147, total=   7.2s\n"
     ]
    },
    {
     "name": "stderr",
     "output_type": "stream",
     "text": [
      "/opt/anaconda/lib/python3.7/site-packages/sklearn/preprocessing/label.py:151: DeprecationWarning: The truth value of an empty array is ambiguous. Returning False, but in future this will result in an error. Use `array.size > 0` to check that an array is not empty.\n",
      "  if diff:\n"
     ]
    },
    {
     "name": "stdout",
     "output_type": "stream",
     "text": [
      "[CV] boosting_type=gbdt, colsample_bytree=0.9, learning_rate=0.1, n_estimators=40, num_leaves=50, objective=binary, random_state=501, reg_alpha=0.2, reg_lambda=0.4, scale_pos_weight=20, subsample=0.75 \n",
      "Training until validation scores don't improve for 50 rounds.\n"
     ]
    },
    {
     "name": "stderr",
     "output_type": "stream",
     "text": [
      "/opt/anaconda/lib/python3.7/site-packages/sklearn/preprocessing/label.py:151: DeprecationWarning: The truth value of an empty array is ambiguous. Returning False, but in future this will result in an error. Use `array.size > 0` to check that an array is not empty.\n",
      "  if diff:\n"
     ]
    },
    {
     "name": "stdout",
     "output_type": "stream",
     "text": [
      "Did not meet early stopping. Best iteration is:\n",
      "[2]\tvalid's binary_logloss: 0.664733\tvalid's auc: 0.827208[CV]  boosting_type=gbdt, colsample_bytree=0.9, learning_rate=0.1, n_estimators=40, num_leaves=50, objective=binary, random_state=501, reg_alpha=0.2, reg_lambda=0.4, scale_pos_weight=15, subsample=0.75, score=0.9045263075440992, total=   5.8s\n",
      "\n",
      "Did not meet early stopping. Best iteration is:\n",
      "[2]\tvalid's binary_logloss: 0.659511\tvalid's auc: 0.831963[CV] boosting_type=gbdt, colsample_bytree=0.9, learning_rate=0.1, n_estimators=40, num_leaves=50, objective=binary, random_state=501, reg_alpha=0.2, reg_lambda=0.4, scale_pos_weight=25, subsample=0.75 \n",
      "\n",
      "Training until validation scores don't improve for 50 rounds.\n",
      "Did not meet early stopping. Best iteration is:\n",
      "[3]\tvalid's binary_logloss: 0.651778\tvalid's auc: 0.849883\n"
     ]
    },
    {
     "name": "stderr",
     "output_type": "stream",
     "text": [
      "/opt/anaconda/lib/python3.7/site-packages/sklearn/preprocessing/label.py:151: DeprecationWarning: The truth value of an empty array is ambiguous. Returning False, but in future this will result in an error. Use `array.size > 0` to check that an array is not empty.\n",
      "  if diff:\n"
     ]
    },
    {
     "name": "stdout",
     "output_type": "stream",
     "text": [
      "Training until validation scores don't improve for 50 rounds.\n",
      "Training until validation scores don't improve for 50 rounds.\n"
     ]
    },
    {
     "name": "stderr",
     "output_type": "stream",
     "text": [
      "/opt/anaconda/lib/python3.7/site-packages/sklearn/preprocessing/label.py:151: DeprecationWarning: The truth value of an empty array is ambiguous. Returning False, but in future this will result in an error. Use `array.size > 0` to check that an array is not empty.\n",
      "  if diff:\n",
      "/opt/anaconda/lib/python3.7/site-packages/sklearn/preprocessing/label.py:151: DeprecationWarning: The truth value of an empty array is ambiguous. Returning False, but in future this will result in an error. Use `array.size > 0` to check that an array is not empty.\n",
      "  if diff:\n"
     ]
    },
    {
     "name": "stdout",
     "output_type": "stream",
     "text": [
      "Did not meet early stopping. Best iteration is:\n",
      "[3]\tvalid's binary_logloss: 0.653849\tvalid's auc: 0.844706\n"
     ]
    },
    {
     "name": "stderr",
     "output_type": "stream",
     "text": [
      "/opt/anaconda/lib/python3.7/site-packages/sklearn/preprocessing/label.py:151: DeprecationWarning: The truth value of an empty array is ambiguous. Returning False, but in future this will result in an error. Use `array.size > 0` to check that an array is not empty.\n",
      "  if diff:\n"
     ]
    },
    {
     "name": "stdout",
     "output_type": "stream",
     "text": [
      "[CV]  boosting_type=gbdt, colsample_bytree=0.9, learning_rate=0.1, n_estimators=40, num_leaves=50, objective=binary, random_state=501, reg_alpha=0.2, reg_lambda=0.2, scale_pos_weight=25, subsample=0.75, score=0.9030692008516624, total=   7.7s\n"
     ]
    },
    {
     "name": "stderr",
     "output_type": "stream",
     "text": [
      "/opt/anaconda/lib/python3.7/site-packages/sklearn/preprocessing/label.py:151: DeprecationWarning: The truth value of an empty array is ambiguous. Returning False, but in future this will result in an error. Use `array.size > 0` to check that an array is not empty.\n",
      "  if diff:\n",
      "/opt/anaconda/lib/python3.7/site-packages/sklearn/preprocessing/label.py:151: DeprecationWarning: The truth value of an empty array is ambiguous. Returning False, but in future this will result in an error. Use `array.size > 0` to check that an array is not empty.\n",
      "  if diff:\n"
     ]
    },
    {
     "name": "stdout",
     "output_type": "stream",
     "text": [
      "[CV]  boosting_type=gbdt, colsample_bytree=0.9, learning_rate=0.1, n_estimators=40, num_leaves=50, objective=binary, random_state=501, reg_alpha=0.2, reg_lambda=0.4, scale_pos_weight=15, subsample=0.75, score=0.9083478337943935, total=   7.1s\n",
      "[CV] boosting_type=gbdt, colsample_bytree=0.9, learning_rate=0.1, n_estimators=40, num_leaves=50, objective=binary, random_state=501, reg_alpha=0.2, reg_lambda=0.4, scale_pos_weight=25, subsample=0.75 \n"
     ]
    },
    {
     "name": "stderr",
     "output_type": "stream",
     "text": [
      "/opt/anaconda/lib/python3.7/site-packages/sklearn/preprocessing/label.py:151: DeprecationWarning: The truth value of an empty array is ambiguous. Returning False, but in future this will result in an error. Use `array.size > 0` to check that an array is not empty.\n",
      "  if diff:\n"
     ]
    },
    {
     "name": "stdout",
     "output_type": "stream",
     "text": [
      "[CV]  boosting_type=gbdt, colsample_bytree=0.9, learning_rate=0.1, n_estimators=40, num_leaves=50, objective=binary, random_state=501, reg_alpha=0.2, reg_lambda=0.2, scale_pos_weight=20, subsample=0.75, score=0.8935965689893517, total=  12.1s\n",
      "[CV] boosting_type=gbdt, colsample_bytree=0.9, learning_rate=0.1, n_estimators=40, num_leaves=50, objective=binary, random_state=501, reg_alpha=0.2, reg_lambda=0.4, scale_pos_weight=25, subsample=0.75 \n",
      "Training until validation scores don't improve for 50 rounds.\n",
      "[CV] boosting_type=gbdt, colsample_bytree=0.9, learning_rate=0.1, n_estimators=40, num_leaves=50, objective=binary, random_state=501, reg_alpha=0.2, reg_lambda=0.4, scale_pos_weight=25, subsample=0.75 \n",
      "Did not meet early stopping. Best iteration is:\n",
      "[3]\tvalid's binary_logloss: 0.652111\tvalid's auc: 0.848679\n"
     ]
    },
    {
     "name": "stderr",
     "output_type": "stream",
     "text": [
      "/opt/anaconda/lib/python3.7/site-packages/sklearn/preprocessing/label.py:151: DeprecationWarning: The truth value of an empty array is ambiguous. Returning False, but in future this will result in an error. Use `array.size > 0` to check that an array is not empty.\n",
      "  if diff:\n"
     ]
    },
    {
     "name": "stdout",
     "output_type": "stream",
     "text": [
      "[CV]  boosting_type=gbdt, colsample_bytree=0.9, learning_rate=0.1, n_estimators=40, num_leaves=50, objective=binary, random_state=501, reg_alpha=0.2, reg_lambda=0.4, scale_pos_weight=15, subsample=0.75, score=0.9017618182274199, total=   8.3s\n",
      "[CV] boosting_type=gbdt, colsample_bytree=0.9, learning_rate=0.1, n_estimators=40, num_leaves=50, objective=binary, random_state=501, reg_alpha=0.2, reg_lambda=0.4, scale_pos_weight=25, subsample=0.75 \n",
      "Did not meet early stopping. Best iteration is:\n",
      "[2]\tvalid's binary_logloss: 0.660686\tvalid's auc: 0.832668\n"
     ]
    },
    {
     "name": "stderr",
     "output_type": "stream",
     "text": [
      "/opt/anaconda/lib/python3.7/site-packages/sklearn/preprocessing/label.py:151: DeprecationWarning: The truth value of an empty array is ambiguous. Returning False, but in future this will result in an error. Use `array.size > 0` to check that an array is not empty.\n",
      "  if diff:\n"
     ]
    },
    {
     "name": "stdout",
     "output_type": "stream",
     "text": [
      "Training until validation scores don't improve for 50 rounds.\n",
      "Training until validation scores don't improve for 50 rounds.\n",
      "Training until validation scores don't improve for 50 rounds.\n"
     ]
    },
    {
     "name": "stderr",
     "output_type": "stream",
     "text": [
      "/opt/anaconda/lib/python3.7/site-packages/sklearn/preprocessing/label.py:151: DeprecationWarning: The truth value of an empty array is ambiguous. Returning False, but in future this will result in an error. Use `array.size > 0` to check that an array is not empty.\n",
      "  if diff:\n"
     ]
    },
    {
     "name": "stdout",
     "output_type": "stream",
     "text": [
      "Did not meet early stopping. Best iteration is:\n",
      "[3]\tvalid's binary_logloss: 0.652843\tvalid's auc: 0.846055\n"
     ]
    },
    {
     "name": "stderr",
     "output_type": "stream",
     "text": [
      "/opt/anaconda/lib/python3.7/site-packages/sklearn/preprocessing/label.py:151: DeprecationWarning: The truth value of an empty array is ambiguous. Returning False, but in future this will result in an error. Use `array.size > 0` to check that an array is not empty.\n",
      "  if diff:\n"
     ]
    },
    {
     "name": "stdout",
     "output_type": "stream",
     "text": [
      "[CV]  boosting_type=gbdt, colsample_bytree=0.9, learning_rate=0.1, n_estimators=40, num_leaves=50, objective=binary, random_state=501, reg_alpha=0.2, reg_lambda=0.4, scale_pos_weight=20, subsample=0.75, score=0.8811246033855077, total=   5.1s\n"
     ]
    },
    {
     "name": "stderr",
     "output_type": "stream",
     "text": [
      "/opt/anaconda/lib/python3.7/site-packages/sklearn/preprocessing/label.py:151: DeprecationWarning: The truth value of an empty array is ambiguous. Returning False, but in future this will result in an error. Use `array.size > 0` to check that an array is not empty.\n",
      "  if diff:\n",
      "/opt/anaconda/lib/python3.7/site-packages/sklearn/preprocessing/label.py:151: DeprecationWarning: The truth value of an empty array is ambiguous. Returning False, but in future this will result in an error. Use `array.size > 0` to check that an array is not empty.\n",
      "  if diff:\n"
     ]
    },
    {
     "name": "stdout",
     "output_type": "stream",
     "text": [
      "[CV]  boosting_type=gbdt, colsample_bytree=0.9, learning_rate=0.1, n_estimators=40, num_leaves=50, objective=binary, random_state=501, reg_alpha=0.2, reg_lambda=0.4, scale_pos_weight=15, subsample=0.75, score=0.9074974377524567, total=  10.3s\n",
      "[CV] boosting_type=gbdt, colsample_bytree=0.9, learning_rate=0.1, n_estimators=40, num_leaves=50, objective=binary, random_state=501, reg_alpha=0.6, reg_lambda=0.2, scale_pos_weight=15, subsample=0.75 \n",
      "[CV] boosting_type=gbdt, colsample_bytree=0.9, learning_rate=0.1, n_estimators=40, num_leaves=50, objective=binary, random_state=501, reg_alpha=0.6, reg_lambda=0.2, scale_pos_weight=15, subsample=0.75 \n",
      "Training until validation scores don't improve for 50 rounds.\n",
      "Did not meet early stopping. Best iteration is:\n",
      "[2]\tvalid's binary_logloss: 0.659491\tvalid's auc: 0.832566\n"
     ]
    },
    {
     "name": "stderr",
     "output_type": "stream",
     "text": [
      "/opt/anaconda/lib/python3.7/site-packages/sklearn/preprocessing/label.py:151: DeprecationWarning: The truth value of an empty array is ambiguous. Returning False, but in future this will result in an error. Use `array.size > 0` to check that an array is not empty.\n",
      "  if diff:\n"
     ]
    },
    {
     "name": "stdout",
     "output_type": "stream",
     "text": [
      "Did not meet early stopping. Best iteration is:\n",
      "[2]\tvalid's binary_logloss: 0.659956\tvalid's auc: 0.833591[CV]  boosting_type=gbdt, colsample_bytree=0.9, learning_rate=0.1, n_estimators=40, num_leaves=50, objective=binary, random_state=501, reg_alpha=0.2, reg_lambda=0.4, scale_pos_weight=15, subsample=0.75, score=0.9074464129468494, total=   9.2s\n",
      "\n",
      "[CV] boosting_type=gbdt, colsample_bytree=0.9, learning_rate=0.1, n_estimators=40, num_leaves=50, objective=binary, random_state=501, reg_alpha=0.6, reg_lambda=0.2, scale_pos_weight=15, subsample=0.75 \n",
      "Did not meet early stopping. Best iteration is:\n",
      "[2]\tvalid's binary_logloss: 0.659091\tvalid's auc: 0.841518"
     ]
    },
    {
     "name": "stderr",
     "output_type": "stream",
     "text": [
      "/opt/anaconda/lib/python3.7/site-packages/sklearn/preprocessing/label.py:151: DeprecationWarning: The truth value of an empty array is ambiguous. Returning False, but in future this will result in an error. Use `array.size > 0` to check that an array is not empty.\n",
      "  if diff:\n"
     ]
    },
    {
     "name": "stdout",
     "output_type": "stream",
     "text": [
      "\n"
     ]
    },
    {
     "name": "stderr",
     "output_type": "stream",
     "text": [
      "/opt/anaconda/lib/python3.7/site-packages/sklearn/preprocessing/label.py:151: DeprecationWarning: The truth value of an empty array is ambiguous. Returning False, but in future this will result in an error. Use `array.size > 0` to check that an array is not empty.\n",
      "  if diff:\n",
      "/opt/anaconda/lib/python3.7/site-packages/sklearn/preprocessing/label.py:151: DeprecationWarning: The truth value of an empty array is ambiguous. Returning False, but in future this will result in an error. Use `array.size > 0` to check that an array is not empty.\n",
      "  if diff:\n"
     ]
    },
    {
     "name": "stdout",
     "output_type": "stream",
     "text": [
      "Training until validation scores don't improve for 50 rounds.\n"
     ]
    },
    {
     "name": "stderr",
     "output_type": "stream",
     "text": [
      "/opt/anaconda/lib/python3.7/site-packages/sklearn/preprocessing/label.py:151: DeprecationWarning: The truth value of an empty array is ambiguous. Returning False, but in future this will result in an error. Use `array.size > 0` to check that an array is not empty.\n",
      "  if diff:\n"
     ]
    },
    {
     "name": "stdout",
     "output_type": "stream",
     "text": [
      "Training until validation scores don't improve for 50 rounds.\n",
      "[CV]  boosting_type=gbdt, colsample_bytree=0.9, learning_rate=0.1, n_estimators=40, num_leaves=50, objective=binary, random_state=501, reg_alpha=0.2, reg_lambda=0.4, scale_pos_weight=20, subsample=0.75, score=0.8931845403970065, total=   5.4s\n",
      "Did not meet early stopping. Best iteration is:\n",
      "[2]\tvalid's binary_logloss: 0.657995\tvalid's auc: 0.830538"
     ]
    },
    {
     "name": "stderr",
     "output_type": "stream",
     "text": [
      "/opt/anaconda/lib/python3.7/site-packages/sklearn/preprocessing/label.py:151: DeprecationWarning: The truth value of an empty array is ambiguous. Returning False, but in future this will result in an error. Use `array.size > 0` to check that an array is not empty.\n",
      "  if diff:\n"
     ]
    },
    {
     "name": "stdout",
     "output_type": "stream",
     "text": [
      "\n",
      "[CV]  boosting_type=gbdt, colsample_bytree=0.9, learning_rate=0.1, n_estimators=40, num_leaves=50, objective=binary, random_state=501, reg_alpha=0.2, reg_lambda=0.4, scale_pos_weight=20, subsample=0.75, score=0.8861827814306291, total=   6.1s\n",
      "[CV] boosting_type=gbdt, colsample_bytree=0.9, learning_rate=0.1, n_estimators=40, num_leaves=50, objective=binary, random_state=501, reg_alpha=0.6, reg_lambda=0.2, scale_pos_weight=15, subsample=0.75 \n",
      "[CV] boosting_type=gbdt, colsample_bytree=0.9, learning_rate=0.1, n_estimators=40, num_leaves=50, objective=binary, random_state=501, reg_alpha=0.6, reg_lambda=0.2, scale_pos_weight=15, subsample=0.75 \n"
     ]
    },
    {
     "name": "stderr",
     "output_type": "stream",
     "text": [
      "/opt/anaconda/lib/python3.7/site-packages/sklearn/preprocessing/label.py:151: DeprecationWarning: The truth value of an empty array is ambiguous. Returning False, but in future this will result in an error. Use `array.size > 0` to check that an array is not empty.\n",
      "  if diff:\n"
     ]
    },
    {
     "name": "stdout",
     "output_type": "stream",
     "text": [
      "[CV]  boosting_type=gbdt, colsample_bytree=0.9, learning_rate=0.1, n_estimators=40, num_leaves=50, objective=binary, random_state=501, reg_alpha=0.2, reg_lambda=0.4, scale_pos_weight=20, subsample=0.75, score=0.8626892834983976, total=   6.6s\n",
      "[CV] boosting_type=gbdt, colsample_bytree=0.9, learning_rate=0.1, n_estimators=40, num_leaves=50, objective=binary, random_state=501, reg_alpha=0.6, reg_lambda=0.2, scale_pos_weight=20, subsample=0.75 \n"
     ]
    },
    {
     "name": "stderr",
     "output_type": "stream",
     "text": [
      "/opt/anaconda/lib/python3.7/site-packages/sklearn/preprocessing/label.py:151: DeprecationWarning: The truth value of an empty array is ambiguous. Returning False, but in future this will result in an error. Use `array.size > 0` to check that an array is not empty.\n",
      "  if diff:\n"
     ]
    },
    {
     "name": "stdout",
     "output_type": "stream",
     "text": [
      "Training until validation scores don't improve for 50 rounds.\n",
      "Did not meet early stopping. Best iteration is:\n",
      "[2]\tvalid's binary_logloss: 0.661603\tvalid's auc: 0.826063\n"
     ]
    },
    {
     "name": "stderr",
     "output_type": "stream",
     "text": [
      "/opt/anaconda/lib/python3.7/site-packages/sklearn/preprocessing/label.py:151: DeprecationWarning: The truth value of an empty array is ambiguous. Returning False, but in future this will result in an error. Use `array.size > 0` to check that an array is not empty.\n",
      "  if diff:\n",
      "/opt/anaconda/lib/python3.7/site-packages/sklearn/preprocessing/label.py:151: DeprecationWarning: The truth value of an empty array is ambiguous. Returning False, but in future this will result in an error. Use `array.size > 0` to check that an array is not empty.\n",
      "  if diff:\n"
     ]
    },
    {
     "name": "stdout",
     "output_type": "stream",
     "text": [
      "[CV]  boosting_type=gbdt, colsample_bytree=0.9, learning_rate=0.1, n_estimators=40, num_leaves=50, objective=binary, random_state=501, reg_alpha=0.2, reg_lambda=0.4, scale_pos_weight=20, subsample=0.75, score=0.8818177433587091, total=   9.4s\n",
      "Training until validation scores don't improve for 50 rounds.\n",
      "[CV] boosting_type=gbdt, colsample_bytree=0.9, learning_rate=0.1, n_estimators=40, num_leaves=50, objective=binary, random_state=501, reg_alpha=0.6, reg_lambda=0.2, scale_pos_weight=20, subsample=0.75 \n",
      "Training until validation scores don't improve for 50 rounds.\n",
      "Did not meet early stopping. Best iteration is:\n",
      "[2]\tvalid's binary_logloss: 0.665567\tvalid's auc: 0.82349\n"
     ]
    },
    {
     "name": "stderr",
     "output_type": "stream",
     "text": [
      "/opt/anaconda/lib/python3.7/site-packages/sklearn/preprocessing/label.py:151: DeprecationWarning: The truth value of an empty array is ambiguous. Returning False, but in future this will result in an error. Use `array.size > 0` to check that an array is not empty.\n",
      "  if diff:\n"
     ]
    },
    {
     "name": "stdout",
     "output_type": "stream",
     "text": [
      "[CV]  boosting_type=gbdt, colsample_bytree=0.9, learning_rate=0.1, n_estimators=40, num_leaves=50, objective=binary, random_state=501, reg_alpha=0.2, reg_lambda=0.4, scale_pos_weight=25, subsample=0.75, score=0.9043488602794083, total=   6.8s\n",
      "Training until validation scores don't improve for 50 rounds.\n",
      "[CV] boosting_type=gbdt, colsample_bytree=0.9, learning_rate=0.1, n_estimators=40, num_leaves=50, objective=binary, random_state=501, reg_alpha=0.6, reg_lambda=0.2, scale_pos_weight=20, subsample=0.75 \n"
     ]
    },
    {
     "name": "stderr",
     "output_type": "stream",
     "text": [
      "/opt/anaconda/lib/python3.7/site-packages/sklearn/preprocessing/label.py:151: DeprecationWarning: The truth value of an empty array is ambiguous. Returning False, but in future this will result in an error. Use `array.size > 0` to check that an array is not empty.\n",
      "  if diff:\n",
      "/opt/anaconda/lib/python3.7/site-packages/sklearn/preprocessing/label.py:151: DeprecationWarning: The truth value of an empty array is ambiguous. Returning False, but in future this will result in an error. Use `array.size > 0` to check that an array is not empty.\n",
      "  if diff:\n"
     ]
    },
    {
     "name": "stdout",
     "output_type": "stream",
     "text": [
      "[CV]  boosting_type=gbdt, colsample_bytree=0.9, learning_rate=0.1, n_estimators=40, num_leaves=50, objective=binary, random_state=501, reg_alpha=0.2, reg_lambda=0.4, scale_pos_weight=25, subsample=0.75, score=0.8981739349872547, total=   6.1s\n",
      "Did not meet early stopping. Best iteration is:\n",
      "[2]\tvalid's binary_logloss: 0.664355\tvalid's auc: 0.818593\n",
      "Did not meet early stopping. Best iteration is:\n",
      "[2]\tvalid's binary_logloss: 0.66309\tvalid's auc: 0.829845[CV] boosting_type=gbdt, colsample_bytree=0.9, learning_rate=0.1, n_estimators=40, num_leaves=50, objective=binary, random_state=501, reg_alpha=0.6, reg_lambda=0.2, scale_pos_weight=20, subsample=0.75 \n",
      "\n",
      "Training until validation scores don't improve for 50 rounds.\n",
      "Did not meet early stopping. Best iteration is:\n",
      "[3]\tvalid's binary_logloss: 0.651872\tvalid's auc: 0.848866\n"
     ]
    },
    {
     "name": "stderr",
     "output_type": "stream",
     "text": [
      "/opt/anaconda/lib/python3.7/site-packages/sklearn/preprocessing/label.py:151: DeprecationWarning: The truth value of an empty array is ambiguous. Returning False, but in future this will result in an error. Use `array.size > 0` to check that an array is not empty.\n",
      "  if diff:\n",
      "/opt/anaconda/lib/python3.7/site-packages/sklearn/preprocessing/label.py:151: DeprecationWarning: The truth value of an empty array is ambiguous. Returning False, but in future this will result in an error. Use `array.size > 0` to check that an array is not empty.\n",
      "  if diff:\n"
     ]
    },
    {
     "name": "stdout",
     "output_type": "stream",
     "text": [
      "Training until validation scores don't improve for 50 rounds.\n"
     ]
    },
    {
     "name": "stderr",
     "output_type": "stream",
     "text": [
      "/opt/anaconda/lib/python3.7/site-packages/sklearn/preprocessing/label.py:151: DeprecationWarning: The truth value of an empty array is ambiguous. Returning False, but in future this will result in an error. Use `array.size > 0` to check that an array is not empty.\n",
      "  if diff:\n",
      "/opt/anaconda/lib/python3.7/site-packages/sklearn/preprocessing/label.py:151: DeprecationWarning: The truth value of an empty array is ambiguous. Returning False, but in future this will result in an error. Use `array.size > 0` to check that an array is not empty.\n",
      "  if diff:\n"
     ]
    },
    {
     "name": "stdout",
     "output_type": "stream",
     "text": [
      "Did not meet early stopping. Best iteration is:\n",
      "[3]\tvalid's binary_logloss: 0.651564\tvalid's auc: 0.850192[CV]  boosting_type=gbdt, colsample_bytree=0.9, learning_rate=0.1, n_estimators=40, num_leaves=50, objective=binary, random_state=501, reg_alpha=0.2, reg_lambda=0.4, scale_pos_weight=25, subsample=0.75, score=0.8857147813734775, total=   7.3s\n"
     ]
    },
    {
     "name": "stderr",
     "output_type": "stream",
     "text": [
      "/opt/anaconda/lib/python3.7/site-packages/sklearn/preprocessing/label.py:151: DeprecationWarning: The truth value of an empty array is ambiguous. Returning False, but in future this will result in an error. Use `array.size > 0` to check that an array is not empty.\n",
      "  if diff:\n"
     ]
    },
    {
     "name": "stdout",
     "output_type": "stream",
     "text": [
      "\n",
      "[CV] boosting_type=gbdt, colsample_bytree=0.9, learning_rate=0.1, n_estimators=40, num_leaves=50, objective=binary, random_state=501, reg_alpha=0.6, reg_lambda=0.2, scale_pos_weight=20, subsample=0.75 \n",
      "[CV]  boosting_type=gbdt, colsample_bytree=0.9, learning_rate=0.1, n_estimators=40, num_leaves=50, objective=binary, random_state=501, reg_alpha=0.2, reg_lambda=0.4, scale_pos_weight=25, subsample=0.75, score=0.8958347460203147, total=   7.2s\n",
      "[CV] boosting_type=gbdt, colsample_bytree=0.9, learning_rate=0.1, n_estimators=40, num_leaves=50, objective=binary, random_state=501, reg_alpha=0.6, reg_lambda=0.2, scale_pos_weight=25, subsample=0.75 \n"
     ]
    },
    {
     "name": "stderr",
     "output_type": "stream",
     "text": [
      "/opt/anaconda/lib/python3.7/site-packages/sklearn/preprocessing/label.py:151: DeprecationWarning: The truth value of an empty array is ambiguous. Returning False, but in future this will result in an error. Use `array.size > 0` to check that an array is not empty.\n",
      "  if diff:\n"
     ]
    },
    {
     "name": "stdout",
     "output_type": "stream",
     "text": [
      "[CV]  boosting_type=gbdt, colsample_bytree=0.9, learning_rate=0.1, n_estimators=40, num_leaves=50, objective=binary, random_state=501, reg_alpha=0.6, reg_lambda=0.2, scale_pos_weight=15, subsample=0.75, score=0.9071280356467551, total=   5.4s\n",
      "[CV] boosting_type=gbdt, colsample_bytree=0.9, learning_rate=0.1, n_estimators=40, num_leaves=50, objective=binary, random_state=501, reg_alpha=0.6, reg_lambda=0.2, scale_pos_weight=25, subsample=0.75 \n",
      "Training until validation scores don't improve for 50 rounds.\n"
     ]
    },
    {
     "name": "stderr",
     "output_type": "stream",
     "text": [
      "/opt/anaconda/lib/python3.7/site-packages/sklearn/preprocessing/label.py:151: DeprecationWarning: The truth value of an empty array is ambiguous. Returning False, but in future this will result in an error. Use `array.size > 0` to check that an array is not empty.\n",
      "  if diff:\n"
     ]
    },
    {
     "name": "stdout",
     "output_type": "stream",
     "text": [
      "Did not meet early stopping. Best iteration is:\n",
      "[3]\tvalid's binary_logloss: 0.652881\tvalid's auc: 0.846041\n"
     ]
    },
    {
     "name": "stderr",
     "output_type": "stream",
     "text": [
      "/opt/anaconda/lib/python3.7/site-packages/sklearn/preprocessing/label.py:151: DeprecationWarning: The truth value of an empty array is ambiguous. Returning False, but in future this will result in an error. Use `array.size > 0` to check that an array is not empty.\n",
      "  if diff:\n",
      "/opt/anaconda/lib/python3.7/site-packages/sklearn/preprocessing/label.py:151: DeprecationWarning: The truth value of an empty array is ambiguous. Returning False, but in future this will result in an error. Use `array.size > 0` to check that an array is not empty.\n",
      "  if diff:\n"
     ]
    },
    {
     "name": "stdout",
     "output_type": "stream",
     "text": [
      "[CV]  boosting_type=gbdt, colsample_bytree=0.9, learning_rate=0.1, n_estimators=40, num_leaves=50, objective=binary, random_state=501, reg_alpha=0.6, reg_lambda=0.2, scale_pos_weight=15, subsample=0.75, score=0.9094472058816669, total=   4.9s\n",
      "[CV] boosting_type=gbdt, colsample_bytree=0.9, learning_rate=0.1, n_estimators=40, num_leaves=50, objective=binary, random_state=501, reg_alpha=0.6, reg_lambda=0.2, scale_pos_weight=25, subsample=0.75 \n",
      "Did not meet early stopping. Best iteration is:\n",
      "[2]\tvalid's binary_logloss: 0.664968\tvalid's auc: 0.82823Training until validation scores don't improve for 50 rounds.\n",
      "\n",
      "Training until validation scores don't improve for 50 rounds.\n",
      "Did not meet early stopping. Best iteration is:\n",
      "[3]\tvalid's binary_logloss: 0.653706\tvalid's auc: 0.845076\n"
     ]
    },
    {
     "name": "stderr",
     "output_type": "stream",
     "text": [
      "/opt/anaconda/lib/python3.7/site-packages/sklearn/preprocessing/label.py:151: DeprecationWarning: The truth value of an empty array is ambiguous. Returning False, but in future this will result in an error. Use `array.size > 0` to check that an array is not empty.\n",
      "  if diff:\n"
     ]
    },
    {
     "name": "stdout",
     "output_type": "stream",
     "text": [
      "Training until validation scores don't improve for 50 rounds.\n",
      "[CV]  boosting_type=gbdt, colsample_bytree=0.9, learning_rate=0.1, n_estimators=40, num_leaves=50, objective=binary, random_state=501, reg_alpha=0.6, reg_lambda=0.2, scale_pos_weight=15, subsample=0.75, score=0.9069670745048295, total=   5.5s\n",
      "Did not meet early stopping. Best iteration is:\n",
      "[2]\tvalid's binary_logloss: 0.657891\tvalid's auc: 0.830529[CV] boosting_type=gbdt, colsample_bytree=0.9, learning_rate=0.1, n_estimators=40, num_leaves=50, objective=binary, random_state=501, reg_alpha=0.6, reg_lambda=0.2, scale_pos_weight=25, subsample=0.75 \n",
      "\n"
     ]
    },
    {
     "name": "stderr",
     "output_type": "stream",
     "text": [
      "/opt/anaconda/lib/python3.7/site-packages/sklearn/preprocessing/label.py:151: DeprecationWarning: The truth value of an empty array is ambiguous. Returning False, but in future this will result in an error. Use `array.size > 0` to check that an array is not empty.\n",
      "  if diff:\n",
      "/opt/anaconda/lib/python3.7/site-packages/sklearn/preprocessing/label.py:151: DeprecationWarning: The truth value of an empty array is ambiguous. Returning False, but in future this will result in an error. Use `array.size > 0` to check that an array is not empty.\n",
      "  if diff:\n"
     ]
    },
    {
     "name": "stdout",
     "output_type": "stream",
     "text": [
      "Did not meet early stopping. Best iteration is:\n",
      "[3]\tvalid's binary_logloss: 0.653998\tvalid's auc: 0.844664\n"
     ]
    },
    {
     "name": "stderr",
     "output_type": "stream",
     "text": [
      "/opt/anaconda/lib/python3.7/site-packages/sklearn/preprocessing/label.py:151: DeprecationWarning: The truth value of an empty array is ambiguous. Returning False, but in future this will result in an error. Use `array.size > 0` to check that an array is not empty.\n",
      "  if diff:\n",
      "/opt/anaconda/lib/python3.7/site-packages/sklearn/preprocessing/label.py:151: DeprecationWarning: The truth value of an empty array is ambiguous. Returning False, but in future this will result in an error. Use `array.size > 0` to check that an array is not empty.\n",
      "  if diff:\n",
      "/opt/anaconda/lib/python3.7/site-packages/sklearn/preprocessing/label.py:151: DeprecationWarning: The truth value of an empty array is ambiguous. Returning False, but in future this will result in an error. Use `array.size > 0` to check that an array is not empty.\n",
      "  if diff:\n",
      "/opt/anaconda/lib/python3.7/site-packages/sklearn/preprocessing/label.py:151: DeprecationWarning: The truth value of an empty array is ambiguous. Returning False, but in future this will result in an error. Use `array.size > 0` to check that an array is not empty.\n",
      "  if diff:\n"
     ]
    },
    {
     "name": "stdout",
     "output_type": "stream",
     "text": [
      "[CV]  boosting_type=gbdt, colsample_bytree=0.9, learning_rate=0.1, n_estimators=40, num_leaves=50, objective=binary, random_state=501, reg_alpha=0.2, reg_lambda=0.4, scale_pos_weight=25, subsample=0.75, score=0.903754553589855, total=   9.3s\n",
      "[CV]  boosting_type=gbdt, colsample_bytree=0.9, learning_rate=0.1, n_estimators=40, num_leaves=50, objective=binary, random_state=501, reg_alpha=0.6, reg_lambda=0.2, scale_pos_weight=15, subsample=0.75, score=0.9001592378823465, total=   8.1s\n",
      "Training until validation scores don't improve for 50 rounds.\n",
      "[CV] boosting_type=gbdt, colsample_bytree=0.9, learning_rate=0.1, n_estimators=40, num_leaves=50, objective=binary, random_state=501, reg_alpha=0.6, reg_lambda=0.2, scale_pos_weight=25, subsample=0.75 \n",
      "[CV] boosting_type=gbdt, colsample_bytree=0.9, learning_rate=0.1, n_estimators=40, num_leaves=50, objective=binary, random_state=501, reg_alpha=0.6, reg_lambda=0.4, scale_pos_weight=15, subsample=0.75 \n",
      "Did not meet early stopping. Best iteration is:\n",
      "[2]\tvalid's binary_logloss: 0.660205\tvalid's auc: 0.832612\n"
     ]
    },
    {
     "name": "stderr",
     "output_type": "stream",
     "text": [
      "/opt/anaconda/lib/python3.7/site-packages/sklearn/preprocessing/label.py:151: DeprecationWarning: The truth value of an empty array is ambiguous. Returning False, but in future this will result in an error. Use `array.size > 0` to check that an array is not empty.\n",
      "  if diff:\n"
     ]
    },
    {
     "name": "stdout",
     "output_type": "stream",
     "text": [
      "[CV]  boosting_type=gbdt, colsample_bytree=0.9, learning_rate=0.1, n_estimators=40, num_leaves=50, objective=binary, random_state=501, reg_alpha=0.6, reg_lambda=0.2, scale_pos_weight=20, subsample=0.75, score=0.8818406528661548, total=   6.5s\n"
     ]
    },
    {
     "name": "stderr",
     "output_type": "stream",
     "text": [
      "/opt/anaconda/lib/python3.7/site-packages/sklearn/preprocessing/label.py:151: DeprecationWarning: The truth value of an empty array is ambiguous. Returning False, but in future this will result in an error. Use `array.size > 0` to check that an array is not empty.\n",
      "  if diff:\n"
     ]
    },
    {
     "name": "stdout",
     "output_type": "stream",
     "text": [
      "[CV]  boosting_type=gbdt, colsample_bytree=0.9, learning_rate=0.1, n_estimators=40, num_leaves=50, objective=binary, random_state=501, reg_alpha=0.6, reg_lambda=0.2, scale_pos_weight=15, subsample=0.75, score=0.9054549105389177, total=   8.0s\n",
      "[CV] boosting_type=gbdt, colsample_bytree=0.9, learning_rate=0.1, n_estimators=40, num_leaves=50, objective=binary, random_state=501, reg_alpha=0.6, reg_lambda=0.4, scale_pos_weight=15, subsample=0.75 \n",
      "[CV] boosting_type=gbdt, colsample_bytree=0.9, learning_rate=0.1, n_estimators=40, num_leaves=50, objective=binary, random_state=501, reg_alpha=0.6, reg_lambda=0.4, scale_pos_weight=15, subsample=0.75 \n",
      "Training until validation scores don't improve for 50 rounds.\n"
     ]
    },
    {
     "name": "stderr",
     "output_type": "stream",
     "text": [
      "/opt/anaconda/lib/python3.7/site-packages/sklearn/preprocessing/label.py:151: DeprecationWarning: The truth value of an empty array is ambiguous. Returning False, but in future this will result in an error. Use `array.size > 0` to check that an array is not empty.\n",
      "  if diff:\n",
      "/opt/anaconda/lib/python3.7/site-packages/sklearn/preprocessing/label.py:151: DeprecationWarning: The truth value of an empty array is ambiguous. Returning False, but in future this will result in an error. Use `array.size > 0` to check that an array is not empty.\n",
      "  if diff:\n"
     ]
    },
    {
     "name": "stdout",
     "output_type": "stream",
     "text": [
      "Training until validation scores don't improve for 50 rounds.\n",
      "[CV]  boosting_type=gbdt, colsample_bytree=0.9, learning_rate=0.1, n_estimators=40, num_leaves=50, objective=binary, random_state=501, reg_alpha=0.6, reg_lambda=0.2, scale_pos_weight=20, subsample=0.75, score=0.8775118672675389, total=   6.4s\n",
      "Training until validation scores don't improve for 50 rounds.\n",
      "Did not meet early stopping. Best iteration is:\n",
      "[2]\tvalid's binary_logloss: 0.66559\tvalid's auc: 0.82349[CV] boosting_type=gbdt, colsample_bytree=0.9, learning_rate=0.1, n_estimators=40, num_leaves=50, objective=binary, random_state=501, reg_alpha=0.6, reg_lambda=0.4, scale_pos_weight=15, subsample=0.75 \n",
      "\n",
      "Did not meet early stopping. Best iteration is:\n",
      "[2]\tvalid's binary_logloss: 0.659968\tvalid's auc: 0.833588"
     ]
    },
    {
     "name": "stderr",
     "output_type": "stream",
     "text": [
      "/opt/anaconda/lib/python3.7/site-packages/sklearn/preprocessing/label.py:151: DeprecationWarning: The truth value of an empty array is ambiguous. Returning False, but in future this will result in an error. Use `array.size > 0` to check that an array is not empty.\n",
      "  if diff:\n"
     ]
    },
    {
     "name": "stdout",
     "output_type": "stream",
     "text": [
      "\n",
      "Training until validation scores don't improve for 50 rounds.\n",
      "Training until validation scores don't improve for 50 rounds.\n"
     ]
    },
    {
     "name": "stderr",
     "output_type": "stream",
     "text": [
      "/opt/anaconda/lib/python3.7/site-packages/sklearn/preprocessing/label.py:151: DeprecationWarning: The truth value of an empty array is ambiguous. Returning False, but in future this will result in an error. Use `array.size > 0` to check that an array is not empty.\n",
      "  if diff:\n",
      "/opt/anaconda/lib/python3.7/site-packages/sklearn/preprocessing/label.py:151: DeprecationWarning: The truth value of an empty array is ambiguous. Returning False, but in future this will result in an error. Use `array.size > 0` to check that an array is not empty.\n",
      "  if diff:\n"
     ]
    },
    {
     "name": "stdout",
     "output_type": "stream",
     "text": [
      "[CV]  boosting_type=gbdt, colsample_bytree=0.9, learning_rate=0.1, n_estimators=40, num_leaves=50, objective=binary, random_state=501, reg_alpha=0.6, reg_lambda=0.2, scale_pos_weight=25, subsample=0.75, score=0.8981739349872547, total=   4.5s\n",
      "Did not meet early stopping. Best iteration is:\n",
      "[2]\tvalid's binary_logloss: 0.661602\tvalid's auc: 0.825969"
     ]
    },
    {
     "name": "stderr",
     "output_type": "stream",
     "text": [
      "/opt/anaconda/lib/python3.7/site-packages/sklearn/preprocessing/label.py:151: DeprecationWarning: The truth value of an empty array is ambiguous. Returning False, but in future this will result in an error. Use `array.size > 0` to check that an array is not empty.\n",
      "  if diff:\n"
     ]
    },
    {
     "name": "stdout",
     "output_type": "stream",
     "text": [
      "\n",
      "[CV] boosting_type=gbdt, colsample_bytree=0.9, learning_rate=0.1, n_estimators=40, num_leaves=50, objective=binary, random_state=501, reg_alpha=0.6, reg_lambda=0.4, scale_pos_weight=15, subsample=0.75 \n",
      "[CV]  boosting_type=gbdt, colsample_bytree=0.9, learning_rate=0.1, n_estimators=40, num_leaves=50, objective=binary, random_state=501, reg_alpha=0.6, reg_lambda=0.2, scale_pos_weight=20, subsample=0.75, score=0.8861827814306291, total=   7.8s\n",
      "Training until validation scores don't improve for 50 rounds.\n",
      "Did not meet early stopping. Best iteration is:\n",
      "[2]\tvalid's binary_logloss: 0.663086\tvalid's auc: 0.829889[CV] boosting_type=gbdt, colsample_bytree=0.9, learning_rate=0.1, n_estimators=40, num_leaves=50, objective=binary, random_state=501, reg_alpha=0.6, reg_lambda=0.4, scale_pos_weight=20, subsample=0.75 \n",
      "\n",
      "Did not meet early stopping. Best iteration is:\n",
      "[2]\tvalid's binary_logloss: 0.664342\tvalid's auc: 0.81864\n",
      "Did not meet early stopping. Best iteration is:\n",
      "[2]\tvalid's binary_logloss: 0.659436\tvalid's auc: 0.829792\n"
     ]
    },
    {
     "name": "stderr",
     "output_type": "stream",
     "text": [
      "/opt/anaconda/lib/python3.7/site-packages/sklearn/preprocessing/label.py:151: DeprecationWarning: The truth value of an empty array is ambiguous. Returning False, but in future this will result in an error. Use `array.size > 0` to check that an array is not empty.\n",
      "  if diff:\n",
      "/opt/anaconda/lib/python3.7/site-packages/sklearn/preprocessing/label.py:151: DeprecationWarning: The truth value of an empty array is ambiguous. Returning False, but in future this will result in an error. Use `array.size > 0` to check that an array is not empty.\n",
      "  if diff:\n",
      "/opt/anaconda/lib/python3.7/site-packages/sklearn/preprocessing/label.py:151: DeprecationWarning: The truth value of an empty array is ambiguous. Returning False, but in future this will result in an error. Use `array.size > 0` to check that an array is not empty.\n",
      "  if diff:\n",
      "/opt/anaconda/lib/python3.7/site-packages/sklearn/preprocessing/label.py:151: DeprecationWarning: The truth value of an empty array is ambiguous. Returning False, but in future this will result in an error. Use `array.size > 0` to check that an array is not empty.\n",
      "  if diff:\n",
      "/opt/anaconda/lib/python3.7/site-packages/sklearn/preprocessing/label.py:151: DeprecationWarning: The truth value of an empty array is ambiguous. Returning False, but in future this will result in an error. Use `array.size > 0` to check that an array is not empty.\n",
      "  if diff:\n"
     ]
    },
    {
     "name": "stdout",
     "output_type": "stream",
     "text": [
      "Did not meet early stopping. Best iteration is:\n",
      "[2]\tvalid's binary_logloss: 0.659098\tvalid's auc: 0.84152[CV]  boosting_type=gbdt, colsample_bytree=0.9, learning_rate=0.1, n_estimators=40, num_leaves=50, objective=binary, random_state=501, reg_alpha=0.6, reg_lambda=0.2, scale_pos_weight=25, subsample=0.75, score=0.9041884937272892, total=   6.3s\n",
      "\n"
     ]
    },
    {
     "name": "stderr",
     "output_type": "stream",
     "text": [
      "/opt/anaconda/lib/python3.7/site-packages/sklearn/preprocessing/label.py:151: DeprecationWarning: The truth value of an empty array is ambiguous. Returning False, but in future this will result in an error. Use `array.size > 0` to check that an array is not empty.\n",
      "  if diff:\n"
     ]
    },
    {
     "name": "stdout",
     "output_type": "stream",
     "text": [
      "[CV] boosting_type=gbdt, colsample_bytree=0.9, learning_rate=0.1, n_estimators=40, num_leaves=50, objective=binary, random_state=501, reg_alpha=0.6, reg_lambda=0.4, scale_pos_weight=20, subsample=0.75 \n",
      "[CV]  boosting_type=gbdt, colsample_bytree=0.9, learning_rate=0.1, n_estimators=40, num_leaves=50, objective=binary, random_state=501, reg_alpha=0.6, reg_lambda=0.2, scale_pos_weight=25, subsample=0.75, score=0.8857147813734775, total=   4.6s\n"
     ]
    },
    {
     "name": "stderr",
     "output_type": "stream",
     "text": [
      "/opt/anaconda/lib/python3.7/site-packages/sklearn/preprocessing/label.py:151: DeprecationWarning: The truth value of an empty array is ambiguous. Returning False, but in future this will result in an error. Use `array.size > 0` to check that an array is not empty.\n",
      "  if diff:\n"
     ]
    },
    {
     "name": "stdout",
     "output_type": "stream",
     "text": [
      "Training until validation scores don't improve for 50 rounds.\n",
      "[CV] boosting_type=gbdt, colsample_bytree=0.9, learning_rate=0.1, n_estimators=40, num_leaves=50, objective=binary, random_state=501, reg_alpha=0.6, reg_lambda=0.4, scale_pos_weight=20, subsample=0.75 \n",
      "[CV]  boosting_type=gbdt, colsample_bytree=0.9, learning_rate=0.1, n_estimators=40, num_leaves=50, objective=binary, random_state=501, reg_alpha=0.6, reg_lambda=0.2, scale_pos_weight=25, subsample=0.75, score=0.8958347460203147, total=   5.4s\n",
      "Training until validation scores don't improve for 50 rounds.\n",
      "[CV] boosting_type=gbdt, colsample_bytree=0.9, learning_rate=0.1, n_estimators=40, num_leaves=50, objective=binary, random_state=501, reg_alpha=0.6, reg_lambda=0.4, scale_pos_weight=20, subsample=0.75 \n"
     ]
    },
    {
     "name": "stderr",
     "output_type": "stream",
     "text": [
      "/opt/anaconda/lib/python3.7/site-packages/sklearn/preprocessing/label.py:151: DeprecationWarning: The truth value of an empty array is ambiguous. Returning False, but in future this will result in an error. Use `array.size > 0` to check that an array is not empty.\n",
      "  if diff:\n",
      "/opt/anaconda/lib/python3.7/site-packages/sklearn/preprocessing/label.py:151: DeprecationWarning: The truth value of an empty array is ambiguous. Returning False, but in future this will result in an error. Use `array.size > 0` to check that an array is not empty.\n",
      "  if diff:\n"
     ]
    },
    {
     "name": "stdout",
     "output_type": "stream",
     "text": [
      "[CV]  boosting_type=gbdt, colsample_bytree=0.9, learning_rate=0.1, n_estimators=40, num_leaves=50, objective=binary, random_state=501, reg_alpha=0.6, reg_lambda=0.2, scale_pos_weight=20, subsample=0.75, score=0.8912937079926336, total=   7.1s\n",
      "[CV] boosting_type=gbdt, colsample_bytree=0.9, learning_rate=0.1, n_estimators=40, num_leaves=50, objective=binary, random_state=501, reg_alpha=0.6, reg_lambda=0.4, scale_pos_weight=20, subsample=0.75 \n"
     ]
    },
    {
     "name": "stderr",
     "output_type": "stream",
     "text": [
      "/opt/anaconda/lib/python3.7/site-packages/sklearn/preprocessing/label.py:151: DeprecationWarning: The truth value of an empty array is ambiguous. Returning False, but in future this will result in an error. Use `array.size > 0` to check that an array is not empty.\n",
      "  if diff:\n"
     ]
    },
    {
     "name": "stdout",
     "output_type": "stream",
     "text": [
      "[CV]  boosting_type=gbdt, colsample_bytree=0.9, learning_rate=0.1, n_estimators=40, num_leaves=50, objective=binary, random_state=501, reg_alpha=0.6, reg_lambda=0.2, scale_pos_weight=20, subsample=0.75, score=0.8626892834983976, total=   9.1s\n",
      "[CV] boosting_type=gbdt, colsample_bytree=0.9, learning_rate=0.1, n_estimators=40, num_leaves=50, objective=binary, random_state=501, reg_alpha=0.6, reg_lambda=0.4, scale_pos_weight=25, subsample=0.75 \n",
      "Training until validation scores don't improve for 50 rounds.\n",
      "Training until validation scores don't improve for 50 rounds.\n",
      "Training until validation scores don't improve for 50 rounds.\n",
      "Training until validation scores don't improve for 50 rounds.\n",
      "Did not meet early stopping. Best iteration is:\n",
      "[3]\tvalid's binary_logloss: 0.651893\tvalid's auc: 0.848714\n",
      "Training until validation scores don't improve for 50 rounds.\n"
     ]
    },
    {
     "name": "stderr",
     "output_type": "stream",
     "text": [
      "/opt/anaconda/lib/python3.7/site-packages/sklearn/preprocessing/label.py:151: DeprecationWarning: The truth value of an empty array is ambiguous. Returning False, but in future this will result in an error. Use `array.size > 0` to check that an array is not empty.\n",
      "  if diff:\n"
     ]
    },
    {
     "name": "stdout",
     "output_type": "stream",
     "text": [
      "Did not meet early stopping. Best iteration is:\n",
      "[3]\tvalid's binary_logloss: 0.654034\tvalid's auc: 0.844332\n",
      "Did not meet early stopping. Best iteration is:\n",
      "[2]\tvalid's binary_logloss: 0.664979\tvalid's auc: 0.828233"
     ]
    },
    {
     "name": "stderr",
     "output_type": "stream",
     "text": [
      "/opt/anaconda/lib/python3.7/site-packages/sklearn/preprocessing/label.py:151: DeprecationWarning: The truth value of an empty array is ambiguous. Returning False, but in future this will result in an error. Use `array.size > 0` to check that an array is not empty.\n",
      "  if diff:\n"
     ]
    },
    {
     "name": "stdout",
     "output_type": "stream",
     "text": [
      "\n",
      "[CV]  boosting_type=gbdt, colsample_bytree=0.9, learning_rate=0.1, n_estimators=40, num_leaves=50, objective=binary, random_state=501, reg_alpha=0.6, reg_lambda=0.4, scale_pos_weight=15, subsample=0.75, score=0.908033673687499, total=   7.0s\n",
      "Did not meet early stopping. Best iteration is:\n",
      "[3]\tvalid's binary_logloss: 0.652939\tvalid's auc: 0.84608[CV] boosting_type=gbdt, colsample_bytree=0.9, learning_rate=0.1, n_estimators=40, num_leaves=50, objective=binary, random_state=501, reg_alpha=0.6, reg_lambda=0.4, scale_pos_weight=25, subsample=0.75 \n",
      "\n",
      "Did not meet early stopping. Best iteration is:\n",
      "[3]\tvalid's binary_logloss: 0.652217\tvalid's auc: 0.850369\n"
     ]
    },
    {
     "name": "stderr",
     "output_type": "stream",
     "text": [
      "/opt/anaconda/lib/python3.7/site-packages/sklearn/preprocessing/label.py:151: DeprecationWarning: The truth value of an empty array is ambiguous. Returning False, but in future this will result in an error. Use `array.size > 0` to check that an array is not empty.\n",
      "  if diff:\n",
      "/opt/anaconda/lib/python3.7/site-packages/sklearn/preprocessing/label.py:151: DeprecationWarning: The truth value of an empty array is ambiguous. Returning False, but in future this will result in an error. Use `array.size > 0` to check that an array is not empty.\n",
      "  if diff:\n",
      "/opt/anaconda/lib/python3.7/site-packages/sklearn/preprocessing/label.py:151: DeprecationWarning: The truth value of an empty array is ambiguous. Returning False, but in future this will result in an error. Use `array.size > 0` to check that an array is not empty.\n",
      "  if diff:\n",
      "/opt/anaconda/lib/python3.7/site-packages/sklearn/preprocessing/label.py:151: DeprecationWarning: The truth value of an empty array is ambiguous. Returning False, but in future this will result in an error. Use `array.size > 0` to check that an array is not empty.\n",
      "  if diff:\n",
      "/opt/anaconda/lib/python3.7/site-packages/sklearn/preprocessing/label.py:151: DeprecationWarning: The truth value of an empty array is ambiguous. Returning False, but in future this will result in an error. Use `array.size > 0` to check that an array is not empty.\n",
      "  if diff:\n",
      "/opt/anaconda/lib/python3.7/site-packages/sklearn/preprocessing/label.py:151: DeprecationWarning: The truth value of an empty array is ambiguous. Returning False, but in future this will result in an error. Use `array.size > 0` to check that an array is not empty.\n",
      "  if diff:\n"
     ]
    },
    {
     "name": "stdout",
     "output_type": "stream",
     "text": [
      "[CV]  boosting_type=gbdt, colsample_bytree=0.9, learning_rate=0.1, n_estimators=40, num_leaves=50, objective=binary, random_state=501, reg_alpha=0.6, reg_lambda=0.2, scale_pos_weight=25, subsample=0.75, score=0.903754553589855, total=   8.3s\n",
      "[CV]  boosting_type=gbdt, colsample_bytree=0.9, learning_rate=0.1, n_estimators=40, num_leaves=50, objective=binary, random_state=501, reg_alpha=0.6, reg_lambda=0.4, scale_pos_weight=15, subsample=0.75, score=0.9025295581181862, total=   7.6s\n",
      "[CV] boosting_type=gbdt, colsample_bytree=0.9, learning_rate=0.1, n_estimators=40, num_leaves=50, objective=binary, random_state=501, reg_alpha=0.6, reg_lambda=0.4, scale_pos_weight=25, subsample=0.75 \n"
     ]
    },
    {
     "name": "stderr",
     "output_type": "stream",
     "text": [
      "/opt/anaconda/lib/python3.7/site-packages/sklearn/preprocessing/label.py:151: DeprecationWarning: The truth value of an empty array is ambiguous. Returning False, but in future this will result in an error. Use `array.size > 0` to check that an array is not empty.\n",
      "  if diff:\n"
     ]
    },
    {
     "name": "stdout",
     "output_type": "stream",
     "text": [
      "[CV] boosting_type=gbdt, colsample_bytree=0.9, learning_rate=0.1, n_estimators=40, num_leaves=50, objective=binary, random_state=501, reg_alpha=0.6, reg_lambda=0.4, scale_pos_weight=25, subsample=0.75 \n",
      "[CV]  boosting_type=gbdt, colsample_bytree=0.9, learning_rate=0.1, n_estimators=40, num_leaves=50, objective=binary, random_state=501, reg_alpha=0.6, reg_lambda=0.4, scale_pos_weight=15, subsample=0.75, score=0.9069670745048295, total=   5.2s\n"
     ]
    },
    {
     "name": "stderr",
     "output_type": "stream",
     "text": [
      "/opt/anaconda/lib/python3.7/site-packages/sklearn/preprocessing/label.py:151: DeprecationWarning: The truth value of an empty array is ambiguous. Returning False, but in future this will result in an error. Use `array.size > 0` to check that an array is not empty.\n",
      "  if diff:\n"
     ]
    },
    {
     "name": "stdout",
     "output_type": "stream",
     "text": [
      "[CV] boosting_type=gbdt, colsample_bytree=0.9, learning_rate=0.1, n_estimators=40, num_leaves=50, objective=binary, random_state=501, reg_alpha=0.6, reg_lambda=0.4, scale_pos_weight=25, subsample=0.75 \n",
      "[CV]  boosting_type=gbdt, colsample_bytree=0.9, learning_rate=0.1, n_estimators=40, num_leaves=50, objective=binary, random_state=501, reg_alpha=0.6, reg_lambda=0.4, scale_pos_weight=15, subsample=0.75, score=0.9080710810268658, total=   7.1s\n",
      "[CV] boosting_type=gbdt, colsample_bytree=0.9, learning_rate=1, n_estimators=40, num_leaves=30, objective=binary, random_state=501, reg_alpha=0.2, reg_lambda=0.2, scale_pos_weight=15, subsample=0.75 \n",
      "Training until validation scores don't improve for 50 rounds.\n",
      "Did not meet early stopping. Best iteration is:\n",
      "[3]\tvalid's binary_logloss: 0.654063\tvalid's auc: 0.844629\n",
      "Training until validation scores don't improve for 50 rounds.\n",
      "Did not meet early stopping. Best iteration is:\n",
      "[2]\tvalid's binary_logloss: 0.660233\tvalid's auc: 0.832606Training until validation scores don't improve for 50 rounds.\n",
      "\n",
      "Training until validation scores don't improve for 50 rounds.\n"
     ]
    },
    {
     "name": "stderr",
     "output_type": "stream",
     "text": [
      "/opt/anaconda/lib/python3.7/site-packages/sklearn/preprocessing/label.py:151: DeprecationWarning: The truth value of an empty array is ambiguous. Returning False, but in future this will result in an error. Use `array.size > 0` to check that an array is not empty.\n",
      "  if diff:\n"
     ]
    },
    {
     "name": "stdout",
     "output_type": "stream",
     "text": [
      "Training until validation scores don't improve for 50 rounds.\n"
     ]
    },
    {
     "name": "stderr",
     "output_type": "stream",
     "text": [
      "/opt/anaconda/lib/python3.7/site-packages/sklearn/preprocessing/label.py:151: DeprecationWarning: The truth value of an empty array is ambiguous. Returning False, but in future this will result in an error. Use `array.size > 0` to check that an array is not empty.\n",
      "  if diff:\n"
     ]
    },
    {
     "name": "stdout",
     "output_type": "stream",
     "text": [
      "Did not meet early stopping. Best iteration is:\n",
      "[2]\tvalid's binary_logloss: 0.659476\tvalid's auc: 0.829806\n",
      "Did not meet early stopping. Best iteration is:\n",
      "[2]\tvalid's binary_logloss: 0.65793\tvalid's auc: 0.830527\n"
     ]
    },
    {
     "name": "stderr",
     "output_type": "stream",
     "text": [
      "/opt/anaconda/lib/python3.7/site-packages/sklearn/preprocessing/label.py:151: DeprecationWarning: The truth value of an empty array is ambiguous. Returning False, but in future this will result in an error. Use `array.size > 0` to check that an array is not empty.\n",
      "  if diff:\n"
     ]
    },
    {
     "name": "stdout",
     "output_type": "stream",
     "text": [
      "[CV]  boosting_type=gbdt, colsample_bytree=0.9, learning_rate=0.1, n_estimators=40, num_leaves=50, objective=binary, random_state=501, reg_alpha=0.6, reg_lambda=0.4, scale_pos_weight=15, subsample=0.75, score=0.9053861662676069, total=  10.1s\n",
      "[CV] boosting_type=gbdt, colsample_bytree=0.9, learning_rate=1, n_estimators=40, num_leaves=30, objective=binary, random_state=501, reg_alpha=0.2, reg_lambda=0.2, scale_pos_weight=15, subsample=0.75 \n"
     ]
    },
    {
     "name": "stderr",
     "output_type": "stream",
     "text": [
      "/opt/anaconda/lib/python3.7/site-packages/sklearn/preprocessing/label.py:151: DeprecationWarning: The truth value of an empty array is ambiguous. Returning False, but in future this will result in an error. Use `array.size > 0` to check that an array is not empty.\n",
      "  if diff:\n",
      "/opt/anaconda/lib/python3.7/site-packages/sklearn/preprocessing/label.py:151: DeprecationWarning: The truth value of an empty array is ambiguous. Returning False, but in future this will result in an error. Use `array.size > 0` to check that an array is not empty.\n",
      "  if diff:\n"
     ]
    },
    {
     "name": "stdout",
     "output_type": "stream",
     "text": [
      "Did not meet early stopping. Best iteration is:\n",
      "[2]\tvalid's binary_logloss: 0.659129\tvalid's auc: 0.841535[CV]  boosting_type=gbdt, colsample_bytree=0.9, learning_rate=0.1, n_estimators=40, num_leaves=50, objective=binary, random_state=501, reg_alpha=0.6, reg_lambda=0.4, scale_pos_weight=20, subsample=0.75, score=0.8775118672675389, total=   6.4s\n",
      "\n",
      "[CV] boosting_type=gbdt, colsample_bytree=0.9, learning_rate=1, n_estimators=40, num_leaves=30, objective=binary, random_state=501, reg_alpha=0.2, reg_lambda=0.2, scale_pos_weight=15, subsample=0.75 \n"
     ]
    },
    {
     "name": "stderr",
     "output_type": "stream",
     "text": [
      "/opt/anaconda/lib/python3.7/site-packages/sklearn/preprocessing/label.py:151: DeprecationWarning: The truth value of an empty array is ambiguous. Returning False, but in future this will result in an error. Use `array.size > 0` to check that an array is not empty.\n",
      "  if diff:\n"
     ]
    },
    {
     "name": "stdout",
     "output_type": "stream",
     "text": [
      "Did not meet early stopping. Best iteration is:\n",
      "[2]\tvalid's binary_logloss: 0.661671\tvalid's auc: 0.826024\n"
     ]
    },
    {
     "name": "stderr",
     "output_type": "stream",
     "text": [
      "/opt/anaconda/lib/python3.7/site-packages/sklearn/preprocessing/label.py:151: DeprecationWarning: The truth value of an empty array is ambiguous. Returning False, but in future this will result in an error. Use `array.size > 0` to check that an array is not empty.\n",
      "  if diff:\n",
      "/opt/anaconda/lib/python3.7/site-packages/sklearn/preprocessing/label.py:151: DeprecationWarning: The truth value of an empty array is ambiguous. Returning False, but in future this will result in an error. Use `array.size > 0` to check that an array is not empty.\n",
      "  if diff:\n"
     ]
    },
    {
     "name": "stdout",
     "output_type": "stream",
     "text": [
      "[CV]  boosting_type=gbdt, colsample_bytree=0.9, learning_rate=0.1, n_estimators=40, num_leaves=50, objective=binary, random_state=501, reg_alpha=0.6, reg_lambda=0.4, scale_pos_weight=20, subsample=0.75, score=0.8819093813884915, total=   8.2s\n",
      "[CV] boosting_type=gbdt, colsample_bytree=0.9, learning_rate=1, n_estimators=40, num_leaves=30, objective=binary, random_state=501, reg_alpha=0.2, reg_lambda=0.2, scale_pos_weight=15, subsample=0.75 \n"
     ]
    },
    {
     "name": "stderr",
     "output_type": "stream",
     "text": [
      "/opt/anaconda/lib/python3.7/site-packages/sklearn/preprocessing/label.py:151: DeprecationWarning: The truth value of an empty array is ambiguous. Returning False, but in future this will result in an error. Use `array.size > 0` to check that an array is not empty.\n",
      "  if diff:\n",
      "/opt/anaconda/lib/python3.7/site-packages/sklearn/preprocessing/label.py:151: DeprecationWarning: The truth value of an empty array is ambiguous. Returning False, but in future this will result in an error. Use `array.size > 0` to check that an array is not empty.\n",
      "  if diff:\n"
     ]
    },
    {
     "name": "stdout",
     "output_type": "stream",
     "text": [
      "[CV]  boosting_type=gbdt, colsample_bytree=0.9, learning_rate=0.1, n_estimators=40, num_leaves=50, objective=binary, random_state=501, reg_alpha=0.6, reg_lambda=0.4, scale_pos_weight=20, subsample=0.75, score=0.8912937079926336, total=   6.8s\n",
      "[CV] boosting_type=gbdt, colsample_bytree=0.9, learning_rate=1, n_estimators=40, num_leaves=30, objective=binary, random_state=501, reg_alpha=0.2, reg_lambda=0.2, scale_pos_weight=15, subsample=0.75 \n"
     ]
    },
    {
     "name": "stderr",
     "output_type": "stream",
     "text": [
      "/opt/anaconda/lib/python3.7/site-packages/sklearn/preprocessing/label.py:151: DeprecationWarning: The truth value of an empty array is ambiguous. Returning False, but in future this will result in an error. Use `array.size > 0` to check that an array is not empty.\n",
      "  if diff:\n",
      "/opt/anaconda/lib/python3.7/site-packages/sklearn/preprocessing/label.py:151: DeprecationWarning: The truth value of an empty array is ambiguous. Returning False, but in future this will result in an error. Use `array.size > 0` to check that an array is not empty.\n",
      "  if diff:\n"
     ]
    },
    {
     "name": "stdout",
     "output_type": "stream",
     "text": [
      "[CV]  boosting_type=gbdt, colsample_bytree=0.9, learning_rate=0.1, n_estimators=40, num_leaves=50, objective=binary, random_state=501, reg_alpha=0.6, reg_lambda=0.4, scale_pos_weight=20, subsample=0.75, score=0.8626892834983976, total=   7.4s\n",
      "Training until validation scores don't improve for 50 rounds.\n",
      "[CV] boosting_type=gbdt, colsample_bytree=0.9, learning_rate=1, n_estimators=40, num_leaves=30, objective=binary, random_state=501, reg_alpha=0.2, reg_lambda=0.2, scale_pos_weight=20, subsample=0.75 \n",
      "[CV]  boosting_type=gbdt, colsample_bytree=0.9, learning_rate=0.1, n_estimators=40, num_leaves=50, objective=binary, random_state=501, reg_alpha=0.6, reg_lambda=0.4, scale_pos_weight=25, subsample=0.75, score=0.9042114032347348, total=   6.7s\n",
      "[CV] boosting_type=gbdt, colsample_bytree=0.9, learning_rate=1, n_estimators=40, num_leaves=30, objective=binary, random_state=501, reg_alpha=0.2, reg_lambda=0.2, scale_pos_weight=20, subsample=0.75 \n",
      "Training until validation scores don't improve for 50 rounds.\n",
      "Did not meet early stopping. Best iteration is:\n",
      "[1]\tvalid's binary_logloss: 0.917248\tvalid's auc: 0.799336Training until validation scores don't improve for 50 rounds.\n",
      "\n",
      "Training until validation scores don't improve for 50 rounds.\n",
      "Did not meet early stopping. Best iteration is:\n",
      "[2]\tvalid's binary_logloss: 0.665551\tvalid's auc: 0.82357"
     ]
    },
    {
     "name": "stderr",
     "output_type": "stream",
     "text": [
      "/opt/anaconda/lib/python3.7/site-packages/sklearn/preprocessing/label.py:151: DeprecationWarning: The truth value of an empty array is ambiguous. Returning False, but in future this will result in an error. Use `array.size > 0` to check that an array is not empty.\n",
      "  if diff:\n"
     ]
    },
    {
     "name": "stdout",
     "output_type": "stream",
     "text": [
      "Training until validation scores don't improve for 50 rounds.\n",
      "\n",
      "Training until validation scores don't improve for 50 rounds.\n",
      "Did not meet early stopping. Best iteration is:\n",
      "[2]\tvalid's binary_logloss: 0.660442\tvalid's auc: 0.833586\n"
     ]
    },
    {
     "name": "stderr",
     "output_type": "stream",
     "text": [
      "/opt/anaconda/lib/python3.7/site-packages/sklearn/preprocessing/label.py:151: DeprecationWarning: The truth value of an empty array is ambiguous. Returning False, but in future this will result in an error. Use `array.size > 0` to check that an array is not empty.\n",
      "  if diff:\n",
      "/opt/anaconda/lib/python3.7/site-packages/sklearn/preprocessing/label.py:151: DeprecationWarning: The truth value of an empty array is ambiguous. Returning False, but in future this will result in an error. Use `array.size > 0` to check that an array is not empty.\n",
      "  if diff:\n"
     ]
    },
    {
     "name": "stdout",
     "output_type": "stream",
     "text": [
      "[CV]  boosting_type=gbdt, colsample_bytree=0.9, learning_rate=1, n_estimators=40, num_leaves=30, objective=binary, random_state=501, reg_alpha=0.2, reg_lambda=0.2, scale_pos_weight=15, subsample=0.75, score=0.9100630833566264, total=   5.1s\n",
      "[CV] boosting_type=gbdt, colsample_bytree=0.9, learning_rate=1, n_estimators=40, num_leaves=30, objective=binary, random_state=501, reg_alpha=0.2, reg_lambda=0.2, scale_pos_weight=20, subsample=0.75 \n",
      "Did not meet early stopping. Best iteration is:\n",
      "[2]\tvalid's binary_logloss: 0.665029\tvalid's auc: 0.828242\n"
     ]
    },
    {
     "name": "stderr",
     "output_type": "stream",
     "text": [
      "/opt/anaconda/lib/python3.7/site-packages/sklearn/preprocessing/label.py:151: DeprecationWarning: The truth value of an empty array is ambiguous. Returning False, but in future this will result in an error. Use `array.size > 0` to check that an array is not empty.\n",
      "  if diff:\n",
      "/opt/anaconda/lib/python3.7/site-packages/sklearn/preprocessing/label.py:151: DeprecationWarning: The truth value of an empty array is ambiguous. Returning False, but in future this will result in an error. Use `array.size > 0` to check that an array is not empty.\n",
      "  if diff:\n"
     ]
    },
    {
     "name": "stdout",
     "output_type": "stream",
     "text": [
      "[CV]  boosting_type=gbdt, colsample_bytree=0.9, learning_rate=0.1, n_estimators=40, num_leaves=50, objective=binary, random_state=501, reg_alpha=0.6, reg_lambda=0.4, scale_pos_weight=25, subsample=0.75, score=0.8984446320321453, total=   7.1s\n"
     ]
    },
    {
     "name": "stderr",
     "output_type": "stream",
     "text": [
      "/opt/anaconda/lib/python3.7/site-packages/sklearn/preprocessing/label.py:151: DeprecationWarning: The truth value of an empty array is ambiguous. Returning False, but in future this will result in an error. Use `array.size > 0` to check that an array is not empty.\n",
      "  if diff:\n"
     ]
    },
    {
     "name": "stdout",
     "output_type": "stream",
     "text": [
      "[CV] boosting_type=gbdt, colsample_bytree=0.9, learning_rate=1, n_estimators=40, num_leaves=30, objective=binary, random_state=501, reg_alpha=0.2, reg_lambda=0.2, scale_pos_weight=20, subsample=0.75 \n",
      "[CV]  boosting_type=gbdt, colsample_bytree=0.9, learning_rate=0.1, n_estimators=40, num_leaves=50, objective=binary, random_state=501, reg_alpha=0.6, reg_lambda=0.4, scale_pos_weight=20, subsample=0.75, score=0.8854134710712882, total=  10.7s\n"
     ]
    },
    {
     "name": "stderr",
     "output_type": "stream",
     "text": [
      "/opt/anaconda/lib/python3.7/site-packages/sklearn/preprocessing/label.py:151: DeprecationWarning: The truth value of an empty array is ambiguous. Returning False, but in future this will result in an error. Use `array.size > 0` to check that an array is not empty.\n",
      "  if diff:\n"
     ]
    },
    {
     "name": "stdout",
     "output_type": "stream",
     "text": [
      "Did not meet early stopping. Best iteration is:\n",
      "[1]\tvalid's binary_logloss: 0.90753\tvalid's auc: 0.816015[CV] boosting_type=gbdt, colsample_bytree=0.9, learning_rate=1, n_estimators=40, num_leaves=30, objective=binary, random_state=501, reg_alpha=0.2, reg_lambda=0.2, scale_pos_weight=20, subsample=0.75 \n",
      "\n",
      "Did not meet early stopping. Best iteration is:\n",
      "[2]\tvalid's binary_logloss: 0.664189\tvalid's auc: 0.823005Did not meet early stopping. Best iteration is:\n",
      "[5]\tvalid's binary_logloss: 0.928978\tvalid's auc: 0.863596\n",
      "\n",
      "Did not meet early stopping. Best iteration is:\n",
      "[2]\tvalid's binary_logloss: 0.663158\tvalid's auc: 0.829694\n",
      "Did not meet early stopping. Best iteration is:\n",
      "[11]\tvalid's binary_logloss: 0.900332\tvalid's auc: 0.873485"
     ]
    },
    {
     "name": "stderr",
     "output_type": "stream",
     "text": [
      "/opt/anaconda/lib/python3.7/site-packages/sklearn/preprocessing/label.py:151: DeprecationWarning: The truth value of an empty array is ambiguous. Returning False, but in future this will result in an error. Use `array.size > 0` to check that an array is not empty.\n",
      "  if diff:\n"
     ]
    },
    {
     "name": "stdout",
     "output_type": "stream",
     "text": [
      "\n",
      "[CV]  boosting_type=gbdt, colsample_bytree=0.9, learning_rate=0.1, n_estimators=40, num_leaves=50, objective=binary, random_state=501, reg_alpha=0.6, reg_lambda=0.4, scale_pos_weight=25, subsample=0.75, score=0.9037994268229714, total=   6.7s\n"
     ]
    },
    {
     "name": "stderr",
     "output_type": "stream",
     "text": [
      "/opt/anaconda/lib/python3.7/site-packages/sklearn/preprocessing/label.py:151: DeprecationWarning: The truth value of an empty array is ambiguous. Returning False, but in future this will result in an error. Use `array.size > 0` to check that an array is not empty.\n",
      "  if diff:\n"
     ]
    },
    {
     "name": "stdout",
     "output_type": "stream",
     "text": [
      "[CV] boosting_type=gbdt, colsample_bytree=0.9, learning_rate=1, n_estimators=40, num_leaves=30, objective=binary, random_state=501, reg_alpha=0.2, reg_lambda=0.2, scale_pos_weight=25, subsample=0.75 \n",
      "Training until validation scores don't improve for 50 rounds.\n"
     ]
    },
    {
     "name": "stderr",
     "output_type": "stream",
     "text": [
      "/opt/anaconda/lib/python3.7/site-packages/sklearn/preprocessing/label.py:151: DeprecationWarning: The truth value of an empty array is ambiguous. Returning False, but in future this will result in an error. Use `array.size > 0` to check that an array is not empty.\n",
      "  if diff:\n",
      "/opt/anaconda/lib/python3.7/site-packages/sklearn/preprocessing/label.py:151: DeprecationWarning: The truth value of an empty array is ambiguous. Returning False, but in future this will result in an error. Use `array.size > 0` to check that an array is not empty.\n",
      "  if diff:\n"
     ]
    },
    {
     "name": "stdout",
     "output_type": "stream",
     "text": [
      "Did not meet early stopping. Best iteration is:\n",
      "[1]\tvalid's binary_logloss: 0.967529\tvalid's auc: 0.794847"
     ]
    },
    {
     "name": "stderr",
     "output_type": "stream",
     "text": [
      "/opt/anaconda/lib/python3.7/site-packages/sklearn/preprocessing/label.py:151: DeprecationWarning: The truth value of an empty array is ambiguous. Returning False, but in future this will result in an error. Use `array.size > 0` to check that an array is not empty.\n",
      "  if diff:\n"
     ]
    },
    {
     "name": "stdout",
     "output_type": "stream",
     "text": [
      "\n"
     ]
    },
    {
     "name": "stderr",
     "output_type": "stream",
     "text": [
      "/opt/anaconda/lib/python3.7/site-packages/sklearn/preprocessing/label.py:151: DeprecationWarning: The truth value of an empty array is ambiguous. Returning False, but in future this will result in an error. Use `array.size > 0` to check that an array is not empty.\n",
      "  if diff:\n"
     ]
    },
    {
     "name": "stdout",
     "output_type": "stream",
     "text": [
      "[CV]  boosting_type=gbdt, colsample_bytree=0.9, learning_rate=1, n_estimators=40, num_leaves=30, objective=binary, random_state=501, reg_alpha=0.2, reg_lambda=0.2, scale_pos_weight=15, subsample=0.75, score=0.9092017379560647, total=   4.4s\n"
     ]
    },
    {
     "name": "stderr",
     "output_type": "stream",
     "text": [
      "/opt/anaconda/lib/python3.7/site-packages/sklearn/preprocessing/label.py:151: DeprecationWarning: The truth value of an empty array is ambiguous. Returning False, but in future this will result in an error. Use `array.size > 0` to check that an array is not empty.\n",
      "  if diff:\n",
      "/opt/anaconda/lib/python3.7/site-packages/sklearn/preprocessing/label.py:151: DeprecationWarning: The truth value of an empty array is ambiguous. Returning False, but in future this will result in an error. Use `array.size > 0` to check that an array is not empty.\n",
      "  if diff:\n"
     ]
    },
    {
     "name": "stdout",
     "output_type": "stream",
     "text": [
      "[CV]  boosting_type=gbdt, colsample_bytree=0.9, learning_rate=0.1, n_estimators=40, num_leaves=50, objective=binary, random_state=501, reg_alpha=0.6, reg_lambda=0.4, scale_pos_weight=25, subsample=0.75, score=0.8861173691520605, total=   7.7s\n",
      "Did not meet early stopping. Best iteration is:\n",
      "[1]\tvalid's binary_logloss: 0.971272\tvalid's auc: 0.801695[CV] boosting_type=gbdt, colsample_bytree=0.9, learning_rate=1, n_estimators=40, num_leaves=30, objective=binary, random_state=501, reg_alpha=0.2, reg_lambda=0.2, scale_pos_weight=25, subsample=0.75 \n",
      "Training until validation scores don't improve for 50 rounds.\n",
      "\n"
     ]
    },
    {
     "name": "stderr",
     "output_type": "stream",
     "text": [
      "/opt/anaconda/lib/python3.7/site-packages/sklearn/preprocessing/label.py:151: DeprecationWarning: The truth value of an empty array is ambiguous. Returning False, but in future this will result in an error. Use `array.size > 0` to check that an array is not empty.\n",
      "  if diff:\n"
     ]
    },
    {
     "name": "stdout",
     "output_type": "stream",
     "text": [
      "[CV]  boosting_type=gbdt, colsample_bytree=0.9, learning_rate=1, n_estimators=40, num_leaves=30, objective=binary, random_state=501, reg_alpha=0.2, reg_lambda=0.2, scale_pos_weight=15, subsample=0.75, score=0.905440881095793, total=   5.1s\n",
      "[CV] boosting_type=gbdt, colsample_bytree=0.9, learning_rate=1, n_estimators=40, num_leaves=30, objective=binary, random_state=501, reg_alpha=0.2, reg_lambda=0.2, scale_pos_weight=25, subsample=0.75 \n",
      "[CV] boosting_type=gbdt, colsample_bytree=0.9, learning_rate=1, n_estimators=40, num_leaves=30, objective=binary, random_state=501, reg_alpha=0.2, reg_lambda=0.2, scale_pos_weight=25, subsample=0.75 \n"
     ]
    },
    {
     "name": "stderr",
     "output_type": "stream",
     "text": [
      "/opt/anaconda/lib/python3.7/site-packages/sklearn/preprocessing/label.py:151: DeprecationWarning: The truth value of an empty array is ambiguous. Returning False, but in future this will result in an error. Use `array.size > 0` to check that an array is not empty.\n",
      "  if diff:\n",
      "/opt/anaconda/lib/python3.7/site-packages/sklearn/preprocessing/label.py:151: DeprecationWarning: The truth value of an empty array is ambiguous. Returning False, but in future this will result in an error. Use `array.size > 0` to check that an array is not empty.\n",
      "  if diff:\n"
     ]
    },
    {
     "name": "stdout",
     "output_type": "stream",
     "text": [
      "[CV]  boosting_type=gbdt, colsample_bytree=0.9, learning_rate=0.1, n_estimators=40, num_leaves=50, objective=binary, random_state=501, reg_alpha=0.6, reg_lambda=0.4, scale_pos_weight=25, subsample=0.75, score=0.8846000438512602, total=   7.9s\n",
      "Training until validation scores don't improve for 50 rounds.\n"
     ]
    },
    {
     "name": "stderr",
     "output_type": "stream",
     "text": [
      "/opt/anaconda/lib/python3.7/site-packages/sklearn/preprocessing/label.py:151: DeprecationWarning: The truth value of an empty array is ambiguous. Returning False, but in future this will result in an error. Use `array.size > 0` to check that an array is not empty.\n",
      "  if diff:\n"
     ]
    },
    {
     "name": "stdout",
     "output_type": "stream",
     "text": [
      "[CV] boosting_type=gbdt, colsample_bytree=0.9, learning_rate=1, n_estimators=40, num_leaves=30, objective=binary, random_state=501, reg_alpha=0.2, reg_lambda=0.2, scale_pos_weight=25, subsample=0.75 \n",
      "Did not meet early stopping. Best iteration is:\n",
      "[1]\tvalid's binary_logloss: 0.906017\tvalid's auc: 0.81477"
     ]
    },
    {
     "name": "stderr",
     "output_type": "stream",
     "text": [
      "/opt/anaconda/lib/python3.7/site-packages/sklearn/preprocessing/label.py:151: DeprecationWarning: The truth value of an empty array is ambiguous. Returning False, but in future this will result in an error. Use `array.size > 0` to check that an array is not empty.\n",
      "  if diff:\n"
     ]
    },
    {
     "name": "stdout",
     "output_type": "stream",
     "text": [
      "\n"
     ]
    },
    {
     "name": "stderr",
     "output_type": "stream",
     "text": [
      "/opt/anaconda/lib/python3.7/site-packages/sklearn/preprocessing/label.py:151: DeprecationWarning: The truth value of an empty array is ambiguous. Returning False, but in future this will result in an error. Use `array.size > 0` to check that an array is not empty.\n",
      "  if diff:\n"
     ]
    },
    {
     "name": "stdout",
     "output_type": "stream",
     "text": [
      "[CV]  boosting_type=gbdt, colsample_bytree=0.9, learning_rate=1, n_estimators=40, num_leaves=30, objective=binary, random_state=501, reg_alpha=0.2, reg_lambda=0.2, scale_pos_weight=15, subsample=0.75, score=0.9090482715849524, total=   5.8s\n",
      "[CV]  boosting_type=gbdt, colsample_bytree=0.9, learning_rate=1, n_estimators=40, num_leaves=30, objective=binary, random_state=501, reg_alpha=0.2, reg_lambda=0.2, scale_pos_weight=20, subsample=0.75, score=0.9110861189211704, total=   4.5s\n",
      "[CV] boosting_type=gbdt, colsample_bytree=0.9, learning_rate=1, n_estimators=40, num_leaves=30, objective=binary, random_state=501, reg_alpha=0.2, reg_lambda=0.4, scale_pos_weight=15, subsample=0.75 \n",
      "[CV] boosting_type=gbdt, colsample_bytree=0.9, learning_rate=1, n_estimators=40, num_leaves=30, objective=binary, random_state=501, reg_alpha=0.2, reg_lambda=0.4, scale_pos_weight=15, subsample=0.75 \n",
      "Training until validation scores don't improve for 50 rounds.\n"
     ]
    },
    {
     "name": "stderr",
     "output_type": "stream",
     "text": [
      "/opt/anaconda/lib/python3.7/site-packages/sklearn/preprocessing/label.py:151: DeprecationWarning: The truth value of an empty array is ambiguous. Returning False, but in future this will result in an error. Use `array.size > 0` to check that an array is not empty.\n",
      "  if diff:\n"
     ]
    },
    {
     "name": "stdout",
     "output_type": "stream",
     "text": [
      "[CV]  boosting_type=gbdt, colsample_bytree=0.9, learning_rate=1, n_estimators=40, num_leaves=30, objective=binary, random_state=501, reg_alpha=0.2, reg_lambda=0.2, scale_pos_weight=20, subsample=0.75, score=0.9093350321649489, total=   4.6s\n"
     ]
    },
    {
     "name": "stderr",
     "output_type": "stream",
     "text": [
      "/opt/anaconda/lib/python3.7/site-packages/sklearn/preprocessing/label.py:151: DeprecationWarning: The truth value of an empty array is ambiguous. Returning False, but in future this will result in an error. Use `array.size > 0` to check that an array is not empty.\n",
      "  if diff:\n"
     ]
    },
    {
     "name": "stdout",
     "output_type": "stream",
     "text": [
      "[CV] boosting_type=gbdt, colsample_bytree=0.9, learning_rate=1, n_estimators=40, num_leaves=30, objective=binary, random_state=501, reg_alpha=0.2, reg_lambda=0.4, scale_pos_weight=15, subsample=0.75 \n"
     ]
    },
    {
     "name": "stderr",
     "output_type": "stream",
     "text": [
      "/opt/anaconda/lib/python3.7/site-packages/sklearn/preprocessing/label.py:151: DeprecationWarning: The truth value of an empty array is ambiguous. Returning False, but in future this will result in an error. Use `array.size > 0` to check that an array is not empty.\n",
      "  if diff:\n"
     ]
    },
    {
     "name": "stdout",
     "output_type": "stream",
     "text": [
      "[CV]  boosting_type=gbdt, colsample_bytree=0.9, learning_rate=1, n_estimators=40, num_leaves=30, objective=binary, random_state=501, reg_alpha=0.2, reg_lambda=0.2, scale_pos_weight=15, subsample=0.75, score=0.9115404134486687, total=   5.8s\n",
      "[CV] boosting_type=gbdt, colsample_bytree=0.9, learning_rate=1, n_estimators=40, num_leaves=30, objective=binary, random_state=501, reg_alpha=0.2, reg_lambda=0.4, scale_pos_weight=15, subsample=0.75 \n",
      "Training until validation scores don't improve for 50 rounds.\n",
      "Training until validation scores don't improve for 50 rounds.\n",
      "Training until validation scores don't improve for 50 rounds.\n",
      "Training until validation scores don't improve for 50 rounds.\n",
      "Training until validation scores don't improve for 50 rounds.\n",
      "Training until validation scores don't improve for 50 rounds.\n",
      "Training until validation scores don't improve for 50 rounds.\n",
      "Training until validation scores don't improve for 50 rounds.\n",
      "Did not meet early stopping. Best iteration is:\n",
      "[1]\tvalid's binary_logloss: 1.00711\tvalid's auc: 0.793559\n",
      "Did not meet early stopping. Best iteration is:\n",
      "[1]\tvalid's binary_logloss: 0.971925\tvalid's auc: 0.793085\n"
     ]
    },
    {
     "name": "stderr",
     "output_type": "stream",
     "text": [
      "/opt/anaconda/lib/python3.7/site-packages/sklearn/preprocessing/label.py:151: DeprecationWarning: The truth value of an empty array is ambiguous. Returning False, but in future this will result in an error. Use `array.size > 0` to check that an array is not empty.\n",
      "  if diff:\n",
      "/opt/anaconda/lib/python3.7/site-packages/sklearn/preprocessing/label.py:151: DeprecationWarning: The truth value of an empty array is ambiguous. Returning False, but in future this will result in an error. Use `array.size > 0` to check that an array is not empty.\n",
      "  if diff:\n"
     ]
    },
    {
     "name": "stdout",
     "output_type": "stream",
     "text": [
      "Did not meet early stopping. Best iteration is:\n",
      "[1]\tvalid's binary_logloss: 0.987129\tvalid's auc: 0.804072\n",
      "Did not meet early stopping. Best iteration is:\n",
      "[1]\tvalid's binary_logloss: 1.02149\tvalid's auc: 0.782963\n",
      "Did not meet early stopping. Best iteration is:\n",
      "[1]\tvalid's binary_logloss: 1.0331\tvalid's auc: 0.786027Did not meet early stopping. Best iteration is:\n",
      "[1]\tvalid's binary_logloss: 1.03093\tvalid's auc: 0.785557\n",
      "\n"
     ]
    },
    {
     "name": "stderr",
     "output_type": "stream",
     "text": [
      "/opt/anaconda/lib/python3.7/site-packages/sklearn/preprocessing/label.py:151: DeprecationWarning: The truth value of an empty array is ambiguous. Returning False, but in future this will result in an error. Use `array.size > 0` to check that an array is not empty.\n",
      "  if diff:\n"
     ]
    },
    {
     "name": "stdout",
     "output_type": "stream",
     "text": [
      "[CV]  boosting_type=gbdt, colsample_bytree=0.9, learning_rate=1, n_estimators=40, num_leaves=30, objective=binary, random_state=501, reg_alpha=0.2, reg_lambda=0.2, scale_pos_weight=25, subsample=0.75, score=0.9103007283907989, total=   4.9s\n"
     ]
    },
    {
     "name": "stderr",
     "output_type": "stream",
     "text": [
      "/opt/anaconda/lib/python3.7/site-packages/sklearn/preprocessing/label.py:151: DeprecationWarning: The truth value of an empty array is ambiguous. Returning False, but in future this will result in an error. Use `array.size > 0` to check that an array is not empty.\n",
      "  if diff:\n",
      "/opt/anaconda/lib/python3.7/site-packages/sklearn/preprocessing/label.py:151: DeprecationWarning: The truth value of an empty array is ambiguous. Returning False, but in future this will result in an error. Use `array.size > 0` to check that an array is not empty.\n",
      "  if diff:\n"
     ]
    },
    {
     "name": "stdout",
     "output_type": "stream",
     "text": [
      "[CV]  boosting_type=gbdt, colsample_bytree=0.9, learning_rate=1, n_estimators=40, num_leaves=30, objective=binary, random_state=501, reg_alpha=0.2, reg_lambda=0.2, scale_pos_weight=20, subsample=0.75, score=0.90869427972839, total=   6.5s\n",
      "[CV] boosting_type=gbdt, colsample_bytree=0.9, learning_rate=1, n_estimators=40, num_leaves=30, objective=binary, random_state=501, reg_alpha=0.2, reg_lambda=0.4, scale_pos_weight=15, subsample=0.75 \n",
      "[CV] boosting_type=gbdt, colsample_bytree=0.9, learning_rate=1, n_estimators=40, num_leaves=30, objective=binary, random_state=501, reg_alpha=0.2, reg_lambda=0.4, scale_pos_weight=20, subsample=0.75 \n"
     ]
    },
    {
     "name": "stderr",
     "output_type": "stream",
     "text": [
      "/opt/anaconda/lib/python3.7/site-packages/sklearn/preprocessing/label.py:151: DeprecationWarning: The truth value of an empty array is ambiguous. Returning False, but in future this will result in an error. Use `array.size > 0` to check that an array is not empty.\n",
      "  if diff:\n",
      "/opt/anaconda/lib/python3.7/site-packages/sklearn/preprocessing/label.py:151: DeprecationWarning: The truth value of an empty array is ambiguous. Returning False, but in future this will result in an error. Use `array.size > 0` to check that an array is not empty.\n",
      "  if diff:\n",
      "/opt/anaconda/lib/python3.7/site-packages/sklearn/preprocessing/label.py:151: DeprecationWarning: The truth value of an empty array is ambiguous. Returning False, but in future this will result in an error. Use `array.size > 0` to check that an array is not empty.\n",
      "  if diff:\n"
     ]
    },
    {
     "name": "stdout",
     "output_type": "stream",
     "text": [
      "Did not meet early stopping. Best iteration is:\n",
      "[9]\tvalid's binary_logloss: 0.903018\tvalid's auc: 0.874758Did not meet early stopping. Best iteration is:\n",
      "[1]\tvalid's binary_logloss: 0.912026\tvalid's auc: 0.810449\n"
     ]
    },
    {
     "name": "stderr",
     "output_type": "stream",
     "text": [
      "/opt/anaconda/lib/python3.7/site-packages/sklearn/preprocessing/label.py:151: DeprecationWarning: The truth value of an empty array is ambiguous. Returning False, but in future this will result in an error. Use `array.size > 0` to check that an array is not empty.\n",
      "  if diff:\n"
     ]
    },
    {
     "name": "stdout",
     "output_type": "stream",
     "text": [
      "\n",
      "[CV]  boosting_type=gbdt, colsample_bytree=0.9, learning_rate=1, n_estimators=40, num_leaves=30, objective=binary, random_state=501, reg_alpha=0.2, reg_lambda=0.2, scale_pos_weight=20, subsample=0.75, score=0.9093556838697338, total=   6.5s\n",
      "[CV] boosting_type=gbdt, colsample_bytree=0.9, learning_rate=1, n_estimators=40, num_leaves=30, objective=binary, random_state=501, reg_alpha=0.2, reg_lambda=0.4, scale_pos_weight=20, subsample=0.75 \n"
     ]
    },
    {
     "name": "stderr",
     "output_type": "stream",
     "text": [
      "/opt/anaconda/lib/python3.7/site-packages/sklearn/preprocessing/label.py:151: DeprecationWarning: The truth value of an empty array is ambiguous. Returning False, but in future this will result in an error. Use `array.size > 0` to check that an array is not empty.\n",
      "  if diff:\n",
      "/opt/anaconda/lib/python3.7/site-packages/sklearn/preprocessing/label.py:151: DeprecationWarning: The truth value of an empty array is ambiguous. Returning False, but in future this will result in an error. Use `array.size > 0` to check that an array is not empty.\n",
      "  if diff:\n"
     ]
    },
    {
     "name": "stdout",
     "output_type": "stream",
     "text": [
      "[CV]  boosting_type=gbdt, colsample_bytree=0.9, learning_rate=1, n_estimators=40, num_leaves=30, objective=binary, random_state=501, reg_alpha=0.2, reg_lambda=0.2, scale_pos_weight=25, subsample=0.75, score=0.9111468546967698, total=   4.9s\n",
      "[CV]  boosting_type=gbdt, colsample_bytree=0.9, learning_rate=1, n_estimators=40, num_leaves=30, objective=binary, random_state=501, reg_alpha=0.2, reg_lambda=0.2, scale_pos_weight=25, subsample=0.75, score=0.9089174628313919, total=   5.2s\n"
     ]
    },
    {
     "name": "stderr",
     "output_type": "stream",
     "text": [
      "/opt/anaconda/lib/python3.7/site-packages/sklearn/preprocessing/label.py:151: DeprecationWarning: The truth value of an empty array is ambiguous. Returning False, but in future this will result in an error. Use `array.size > 0` to check that an array is not empty.\n",
      "  if diff:\n"
     ]
    },
    {
     "name": "stdout",
     "output_type": "stream",
     "text": [
      "[CV]  boosting_type=gbdt, colsample_bytree=0.9, learning_rate=1, n_estimators=40, num_leaves=30, objective=binary, random_state=501, reg_alpha=0.2, reg_lambda=0.2, scale_pos_weight=25, subsample=0.75, score=0.9072081525093997, total=   5.0s\n",
      "[CV] boosting_type=gbdt, colsample_bytree=0.9, learning_rate=1, n_estimators=40, num_leaves=30, objective=binary, random_state=501, reg_alpha=0.2, reg_lambda=0.4, scale_pos_weight=20, subsample=0.75 \n",
      "[CV] boosting_type=gbdt, colsample_bytree=0.9, learning_rate=1, n_estimators=40, num_leaves=30, objective=binary, random_state=501, reg_alpha=0.2, reg_lambda=0.4, scale_pos_weight=20, subsample=0.75 \n"
     ]
    },
    {
     "name": "stderr",
     "output_type": "stream",
     "text": [
      "/opt/anaconda/lib/python3.7/site-packages/sklearn/preprocessing/label.py:151: DeprecationWarning: The truth value of an empty array is ambiguous. Returning False, but in future this will result in an error. Use `array.size > 0` to check that an array is not empty.\n",
      "  if diff:\n"
     ]
    },
    {
     "name": "stdout",
     "output_type": "stream",
     "text": [
      "[CV] boosting_type=gbdt, colsample_bytree=0.9, learning_rate=1, n_estimators=40, num_leaves=30, objective=binary, random_state=501, reg_alpha=0.2, reg_lambda=0.4, scale_pos_weight=20, subsample=0.75 \n"
     ]
    },
    {
     "name": "stderr",
     "output_type": "stream",
     "text": [
      "/opt/anaconda/lib/python3.7/site-packages/sklearn/preprocessing/label.py:151: DeprecationWarning: The truth value of an empty array is ambiguous. Returning False, but in future this will result in an error. Use `array.size > 0` to check that an array is not empty.\n",
      "  if diff:\n",
      "/opt/anaconda/lib/python3.7/site-packages/sklearn/preprocessing/label.py:151: DeprecationWarning: The truth value of an empty array is ambiguous. Returning False, but in future this will result in an error. Use `array.size > 0` to check that an array is not empty.\n",
      "  if diff:\n"
     ]
    },
    {
     "name": "stdout",
     "output_type": "stream",
     "text": [
      "[CV]  boosting_type=gbdt, colsample_bytree=0.9, learning_rate=1, n_estimators=40, num_leaves=30, objective=binary, random_state=501, reg_alpha=0.2, reg_lambda=0.4, scale_pos_weight=15, subsample=0.75, score=0.9097638270519198, total=   5.2s\n"
     ]
    },
    {
     "name": "stderr",
     "output_type": "stream",
     "text": [
      "/opt/anaconda/lib/python3.7/site-packages/sklearn/preprocessing/label.py:151: DeprecationWarning: The truth value of an empty array is ambiguous. Returning False, but in future this will result in an error. Use `array.size > 0` to check that an array is not empty.\n",
      "  if diff:\n"
     ]
    },
    {
     "name": "stdout",
     "output_type": "stream",
     "text": [
      "[CV] boosting_type=gbdt, colsample_bytree=0.9, learning_rate=1, n_estimators=40, num_leaves=30, objective=binary, random_state=501, reg_alpha=0.2, reg_lambda=0.4, scale_pos_weight=25, subsample=0.75 \n",
      "Training until validation scores don't improve for 50 rounds.\n",
      "[CV]  boosting_type=gbdt, colsample_bytree=0.9, learning_rate=1, n_estimators=40, num_leaves=30, objective=binary, random_state=501, reg_alpha=0.2, reg_lambda=0.4, scale_pos_weight=15, subsample=0.75, score=0.909905926738248, total=   4.9s\n",
      "Training until validation scores don't improve for 50 rounds.\n",
      "[CV] boosting_type=gbdt, colsample_bytree=0.9, learning_rate=1, n_estimators=40, num_leaves=30, objective=binary, random_state=501, reg_alpha=0.2, reg_lambda=0.4, scale_pos_weight=25, subsample=0.75 \n",
      "Did not meet early stopping. Best iteration is:\n",
      "[8]\tvalid's binary_logloss: 0.912709\tvalid's auc: 0.871514Training until validation scores don't improve for 50 rounds.\n",
      "\n",
      "Did not meet early stopping. Best iteration is:\n",
      "[1]\tvalid's binary_logloss: 0.967672\tvalid's auc: 0.80167Training until validation scores don't improve for 50 rounds.\n",
      "\n",
      "Training until validation scores don't improve for 50 rounds.\n",
      "Training until validation scores don't improve for 50 rounds.\n"
     ]
    },
    {
     "name": "stderr",
     "output_type": "stream",
     "text": [
      "/opt/anaconda/lib/python3.7/site-packages/sklearn/preprocessing/label.py:151: DeprecationWarning: The truth value of an empty array is ambiguous. Returning False, but in future this will result in an error. Use `array.size > 0` to check that an array is not empty.\n",
      "  if diff:\n",
      "/opt/anaconda/lib/python3.7/site-packages/sklearn/preprocessing/label.py:151: DeprecationWarning: The truth value of an empty array is ambiguous. Returning False, but in future this will result in an error. Use `array.size > 0` to check that an array is not empty.\n",
      "  if diff:\n"
     ]
    },
    {
     "name": "stdout",
     "output_type": "stream",
     "text": [
      "Training until validation scores don't improve for 50 rounds.\n"
     ]
    },
    {
     "name": "stderr",
     "output_type": "stream",
     "text": [
      "/opt/anaconda/lib/python3.7/site-packages/sklearn/preprocessing/label.py:151: DeprecationWarning: The truth value of an empty array is ambiguous. Returning False, but in future this will result in an error. Use `array.size > 0` to check that an array is not empty.\n",
      "  if diff:\n",
      "/opt/anaconda/lib/python3.7/site-packages/sklearn/preprocessing/label.py:151: DeprecationWarning: The truth value of an empty array is ambiguous. Returning False, but in future this will result in an error. Use `array.size > 0` to check that an array is not empty.\n",
      "  if diff:\n"
     ]
    },
    {
     "name": "stdout",
     "output_type": "stream",
     "text": [
      "[CV]  boosting_type=gbdt, colsample_bytree=0.9, learning_rate=1, n_estimators=40, num_leaves=30, objective=binary, random_state=501, reg_alpha=0.2, reg_lambda=0.2, scale_pos_weight=20, subsample=0.75, score=0.9090724446127826, total=   9.1s\n",
      "[CV]  boosting_type=gbdt, colsample_bytree=0.9, learning_rate=1, n_estimators=40, num_leaves=30, objective=binary, random_state=501, reg_alpha=0.2, reg_lambda=0.4, scale_pos_weight=15, subsample=0.75, score=0.9045980148747376, total=   6.9s\n",
      "[CV] boosting_type=gbdt, colsample_bytree=0.9, learning_rate=1, n_estimators=40, num_leaves=30, objective=binary, random_state=501, reg_alpha=0.2, reg_lambda=0.4, scale_pos_weight=25, subsample=0.75 \n",
      "[CV] boosting_type=gbdt, colsample_bytree=0.9, learning_rate=1, n_estimators=40, num_leaves=30, objective=binary, random_state=501, reg_alpha=0.2, reg_lambda=0.4, scale_pos_weight=25, subsample=0.75 \n",
      "Training until validation scores don't improve for 50 rounds.\n",
      "Did not meet early stopping. Best iteration is:\n",
      "[1]\tvalid's binary_logloss: 0.971862\tvalid's auc: 0.793085\n",
      "Did not meet early stopping. Best iteration is:\n",
      "[1]\tvalid's binary_logloss: 0.971177\tvalid's auc: 0.801701\n",
      "Did not meet early stopping. Best iteration is:\n",
      "[1]\tvalid's binary_logloss: 1.0235\tvalid's auc: 0.788112Did not meet early stopping. Best iteration is:\n",
      "[1]\tvalid's binary_logloss: 0.905926\tvalid's auc: 0.81477\n",
      "\n"
     ]
    },
    {
     "name": "stderr",
     "output_type": "stream",
     "text": [
      "/opt/anaconda/lib/python3.7/site-packages/sklearn/preprocessing/label.py:151: DeprecationWarning: The truth value of an empty array is ambiguous. Returning False, but in future this will result in an error. Use `array.size > 0` to check that an array is not empty.\n",
      "  if diff:\n"
     ]
    },
    {
     "name": "stdout",
     "output_type": "stream",
     "text": [
      "Did not meet early stopping. Best iteration is:\n",
      "[1]\tvalid's binary_logloss: 0.964841\tvalid's auc: 0.795011"
     ]
    },
    {
     "name": "stderr",
     "output_type": "stream",
     "text": [
      "/opt/anaconda/lib/python3.7/site-packages/sklearn/preprocessing/label.py:151: DeprecationWarning: The truth value of an empty array is ambiguous. Returning False, but in future this will result in an error. Use `array.size > 0` to check that an array is not empty.\n",
      "  if diff:\n"
     ]
    },
    {
     "name": "stdout",
     "output_type": "stream",
     "text": [
      "\n"
     ]
    },
    {
     "name": "stderr",
     "output_type": "stream",
     "text": [
      "/opt/anaconda/lib/python3.7/site-packages/sklearn/preprocessing/label.py:151: DeprecationWarning: The truth value of an empty array is ambiguous. Returning False, but in future this will result in an error. Use `array.size > 0` to check that an array is not empty.\n",
      "  if diff:\n",
      "/opt/anaconda/lib/python3.7/site-packages/sklearn/preprocessing/label.py:151: DeprecationWarning: The truth value of an empty array is ambiguous. Returning False, but in future this will result in an error. Use `array.size > 0` to check that an array is not empty.\n",
      "  if diff:\n",
      "/opt/anaconda/lib/python3.7/site-packages/sklearn/preprocessing/label.py:151: DeprecationWarning: The truth value of an empty array is ambiguous. Returning False, but in future this will result in an error. Use `array.size > 0` to check that an array is not empty.\n",
      "  if diff:\n",
      "/opt/anaconda/lib/python3.7/site-packages/sklearn/preprocessing/label.py:151: DeprecationWarning: The truth value of an empty array is ambiguous. Returning False, but in future this will result in an error. Use `array.size > 0` to check that an array is not empty.\n",
      "  if diff:\n"
     ]
    },
    {
     "name": "stdout",
     "output_type": "stream",
     "text": [
      "[CV]  boosting_type=gbdt, colsample_bytree=0.9, learning_rate=1, n_estimators=40, num_leaves=30, objective=binary, random_state=501, reg_alpha=0.2, reg_lambda=0.4, scale_pos_weight=20, subsample=0.75, score=0.90869427972839, total=   3.4s\n",
      "Training until validation scores don't improve for 50 rounds.\n",
      "[CV]  boosting_type=gbdt, colsample_bytree=0.9, learning_rate=1, n_estimators=40, num_leaves=30, objective=binary, random_state=501, reg_alpha=0.2, reg_lambda=0.4, scale_pos_weight=20, subsample=0.75, score=0.9093350321649489, total=   3.7s\n",
      "Training until validation scores don't improve for 50 rounds.\n"
     ]
    },
    {
     "name": "stderr",
     "output_type": "stream",
     "text": [
      "/opt/anaconda/lib/python3.7/site-packages/sklearn/preprocessing/label.py:151: DeprecationWarning: The truth value of an empty array is ambiguous. Returning False, but in future this will result in an error. Use `array.size > 0` to check that an array is not empty.\n",
      "  if diff:\n"
     ]
    },
    {
     "name": "stdout",
     "output_type": "stream",
     "text": [
      "[CV] boosting_type=gbdt, colsample_bytree=0.9, learning_rate=1, n_estimators=40, num_leaves=30, objective=binary, random_state=501, reg_alpha=0.6, reg_lambda=0.2, scale_pos_weight=15, subsample=0.75 \n",
      "[CV] boosting_type=gbdt, colsample_bytree=0.9, learning_rate=1, n_estimators=40, num_leaves=30, objective=binary, random_state=501, reg_alpha=0.2, reg_lambda=0.4, scale_pos_weight=25, subsample=0.75 \n",
      "Did not meet early stopping. Best iteration is:\n",
      "[1]\tvalid's binary_logloss: 0.967582\tvalid's auc: 0.801784\n"
     ]
    },
    {
     "name": "stderr",
     "output_type": "stream",
     "text": [
      "/opt/anaconda/lib/python3.7/site-packages/sklearn/preprocessing/label.py:151: DeprecationWarning: The truth value of an empty array is ambiguous. Returning False, but in future this will result in an error. Use `array.size > 0` to check that an array is not empty.\n",
      "  if diff:\n"
     ]
    },
    {
     "name": "stdout",
     "output_type": "stream",
     "text": [
      "[CV]  boosting_type=gbdt, colsample_bytree=0.9, learning_rate=1, n_estimators=40, num_leaves=30, objective=binary, random_state=501, reg_alpha=0.2, reg_lambda=0.2, scale_pos_weight=25, subsample=0.75, score=0.9088855915165117, total=   9.8s\n"
     ]
    },
    {
     "name": "stderr",
     "output_type": "stream",
     "text": [
      "/opt/anaconda/lib/python3.7/site-packages/sklearn/preprocessing/label.py:151: DeprecationWarning: The truth value of an empty array is ambiguous. Returning False, but in future this will result in an error. Use `array.size > 0` to check that an array is not empty.\n",
      "  if diff:\n"
     ]
    },
    {
     "name": "stdout",
     "output_type": "stream",
     "text": [
      "[CV] boosting_type=gbdt, colsample_bytree=0.9, learning_rate=1, n_estimators=40, num_leaves=30, objective=binary, random_state=501, reg_alpha=0.6, reg_lambda=0.2, scale_pos_weight=15, subsample=0.75 \n",
      "[CV]  boosting_type=gbdt, colsample_bytree=0.9, learning_rate=1, n_estimators=40, num_leaves=30, objective=binary, random_state=501, reg_alpha=0.2, reg_lambda=0.4, scale_pos_weight=20, subsample=0.75, score=0.9107653858169322, total=   4.7s\n"
     ]
    },
    {
     "name": "stderr",
     "output_type": "stream",
     "text": [
      "/opt/anaconda/lib/python3.7/site-packages/sklearn/preprocessing/label.py:151: DeprecationWarning: The truth value of an empty array is ambiguous. Returning False, but in future this will result in an error. Use `array.size > 0` to check that an array is not empty.\n",
      "  if diff:\n"
     ]
    },
    {
     "name": "stdout",
     "output_type": "stream",
     "text": [
      "[CV] boosting_type=gbdt, colsample_bytree=0.9, learning_rate=1, n_estimators=40, num_leaves=30, objective=binary, random_state=501, reg_alpha=0.6, reg_lambda=0.2, scale_pos_weight=15, subsample=0.75 \n"
     ]
    },
    {
     "name": "stderr",
     "output_type": "stream",
     "text": [
      "/opt/anaconda/lib/python3.7/site-packages/sklearn/preprocessing/label.py:151: DeprecationWarning: The truth value of an empty array is ambiguous. Returning False, but in future this will result in an error. Use `array.size > 0` to check that an array is not empty.\n",
      "  if diff:\n"
     ]
    },
    {
     "name": "stdout",
     "output_type": "stream",
     "text": [
      "[CV]  boosting_type=gbdt, colsample_bytree=0.9, learning_rate=1, n_estimators=40, num_leaves=30, objective=binary, random_state=501, reg_alpha=0.2, reg_lambda=0.4, scale_pos_weight=15, subsample=0.75, score=0.9115404134486687, total=   5.0s\n",
      "[CV] boosting_type=gbdt, colsample_bytree=0.9, learning_rate=1, n_estimators=40, num_leaves=30, objective=binary, random_state=501, reg_alpha=0.6, reg_lambda=0.2, scale_pos_weight=15, subsample=0.75 \n",
      "Did not meet early stopping. Best iteration is:\n",
      "[1]\tvalid's binary_logloss: 1.01208\tvalid's auc: 0.794278\n"
     ]
    },
    {
     "name": "stderr",
     "output_type": "stream",
     "text": [
      "/opt/anaconda/lib/python3.7/site-packages/sklearn/preprocessing/label.py:151: DeprecationWarning: The truth value of an empty array is ambiguous. Returning False, but in future this will result in an error. Use `array.size > 0` to check that an array is not empty.\n",
      "  if diff:\n"
     ]
    },
    {
     "name": "stdout",
     "output_type": "stream",
     "text": [
      "[CV]  boosting_type=gbdt, colsample_bytree=0.9, learning_rate=1, n_estimators=40, num_leaves=30, objective=binary, random_state=501, reg_alpha=0.2, reg_lambda=0.4, scale_pos_weight=20, subsample=0.75, score=0.9090724446127826, total=   4.7s\n",
      "[CV] boosting_type=gbdt, colsample_bytree=0.9, learning_rate=1, n_estimators=40, num_leaves=30, objective=binary, random_state=501, reg_alpha=0.6, reg_lambda=0.2, scale_pos_weight=15, subsample=0.75 \n"
     ]
    },
    {
     "name": "stderr",
     "output_type": "stream",
     "text": [
      "/opt/anaconda/lib/python3.7/site-packages/sklearn/preprocessing/label.py:151: DeprecationWarning: The truth value of an empty array is ambiguous. Returning False, but in future this will result in an error. Use `array.size > 0` to check that an array is not empty.\n",
      "  if diff:\n"
     ]
    },
    {
     "name": "stdout",
     "output_type": "stream",
     "text": [
      "Training until validation scores don't improve for 50 rounds.\n",
      "Training until validation scores don't improve for 50 rounds.\n",
      "Did not meet early stopping. Best iteration is:\n",
      "[11]\tvalid's binary_logloss: 0.90469\tvalid's auc: 0.873756\n",
      "Did not meet early stopping. Best iteration is:\n",
      "[1]\tvalid's binary_logloss: 1.03305\tvalid's auc: 0.786027"
     ]
    },
    {
     "name": "stderr",
     "output_type": "stream",
     "text": [
      "/opt/anaconda/lib/python3.7/site-packages/sklearn/preprocessing/label.py:151: DeprecationWarning: The truth value of an empty array is ambiguous. Returning False, but in future this will result in an error. Use `array.size > 0` to check that an array is not empty.\n",
      "  if diff:\n"
     ]
    },
    {
     "name": "stdout",
     "output_type": "stream",
     "text": [
      "Training until validation scores don't improve for 50 rounds.\n",
      "\n",
      "[CV]  boosting_type=gbdt, colsample_bytree=0.9, learning_rate=1, n_estimators=40, num_leaves=30, objective=binary, random_state=501, reg_alpha=0.2, reg_lambda=0.4, scale_pos_weight=25, subsample=0.75, score=0.9102455921121141, total=   4.9s\n",
      "[CV] boosting_type=gbdt, colsample_bytree=0.9, learning_rate=1, n_estimators=40, num_leaves=30, objective=binary, random_state=501, reg_alpha=0.6, reg_lambda=0.2, scale_pos_weight=20, subsample=0.75 \n"
     ]
    },
    {
     "name": "stderr",
     "output_type": "stream",
     "text": [
      "[Parallel(n_jobs=12)]: Done 264 tasks      | elapsed:  2.6min\n"
     ]
    },
    {
     "name": "stdout",
     "output_type": "stream",
     "text": [
      "Did not meet early stopping. Best iteration is:\n",
      "[1]\tvalid's binary_logloss: 0.987043\tvalid's auc: 0.803946\n"
     ]
    },
    {
     "name": "stderr",
     "output_type": "stream",
     "text": [
      "/opt/anaconda/lib/python3.7/site-packages/sklearn/preprocessing/label.py:151: DeprecationWarning: The truth value of an empty array is ambiguous. Returning False, but in future this will result in an error. Use `array.size > 0` to check that an array is not empty.\n",
      "  if diff:\n"
     ]
    },
    {
     "name": "stdout",
     "output_type": "stream",
     "text": [
      "Training until validation scores don't improve for 50 rounds.\n",
      "Training until validation scores don't improve for 50 rounds.\n"
     ]
    },
    {
     "name": "stderr",
     "output_type": "stream",
     "text": [
      "/opt/anaconda/lib/python3.7/site-packages/sklearn/preprocessing/label.py:151: DeprecationWarning: The truth value of an empty array is ambiguous. Returning False, but in future this will result in an error. Use `array.size > 0` to check that an array is not empty.\n",
      "  if diff:\n"
     ]
    },
    {
     "name": "stdout",
     "output_type": "stream",
     "text": [
      "Training until validation scores don't improve for 50 rounds.\n"
     ]
    },
    {
     "name": "stderr",
     "output_type": "stream",
     "text": [
      "/opt/anaconda/lib/python3.7/site-packages/sklearn/preprocessing/label.py:151: DeprecationWarning: The truth value of an empty array is ambiguous. Returning False, but in future this will result in an error. Use `array.size > 0` to check that an array is not empty.\n",
      "  if diff:\n"
     ]
    },
    {
     "name": "stdout",
     "output_type": "stream",
     "text": [
      "[CV]  boosting_type=gbdt, colsample_bytree=0.9, learning_rate=1, n_estimators=40, num_leaves=30, objective=binary, random_state=501, reg_alpha=0.2, reg_lambda=0.4, scale_pos_weight=25, subsample=0.75, score=0.9072081525093997, total=   4.0s\n"
     ]
    },
    {
     "name": "stderr",
     "output_type": "stream",
     "text": [
      "/opt/anaconda/lib/python3.7/site-packages/sklearn/preprocessing/label.py:151: DeprecationWarning: The truth value of an empty array is ambiguous. Returning False, but in future this will result in an error. Use `array.size > 0` to check that an array is not empty.\n",
      "  if diff:\n"
     ]
    },
    {
     "name": "stdout",
     "output_type": "stream",
     "text": [
      "[CV] boosting_type=gbdt, colsample_bytree=0.9, learning_rate=1, n_estimators=40, num_leaves=30, objective=binary, random_state=501, reg_alpha=0.6, reg_lambda=0.2, scale_pos_weight=20, subsample=0.75 \n"
     ]
    },
    {
     "name": "stderr",
     "output_type": "stream",
     "text": [
      "/opt/anaconda/lib/python3.7/site-packages/sklearn/preprocessing/label.py:151: DeprecationWarning: The truth value of an empty array is ambiguous. Returning False, but in future this will result in an error. Use `array.size > 0` to check that an array is not empty.\n",
      "  if diff:\n"
     ]
    },
    {
     "name": "stdout",
     "output_type": "stream",
     "text": [
      "[CV]  boosting_type=gbdt, colsample_bytree=0.9, learning_rate=1, n_estimators=40, num_leaves=30, objective=binary, random_state=501, reg_alpha=0.2, reg_lambda=0.4, scale_pos_weight=15, subsample=0.75, score=0.9008904663161676, total=  11.0s\n",
      "[CV] boosting_type=gbdt, colsample_bytree=0.9, learning_rate=1, n_estimators=40, num_leaves=30, objective=binary, random_state=501, reg_alpha=0.6, reg_lambda=0.2, scale_pos_weight=20, subsample=0.75 \n"
     ]
    },
    {
     "name": "stderr",
     "output_type": "stream",
     "text": [
      "/opt/anaconda/lib/python3.7/site-packages/sklearn/preprocessing/label.py:151: DeprecationWarning: The truth value of an empty array is ambiguous. Returning False, but in future this will result in an error. Use `array.size > 0` to check that an array is not empty.\n",
      "  if diff:\n"
     ]
    },
    {
     "name": "stdout",
     "output_type": "stream",
     "text": [
      "[CV]  boosting_type=gbdt, colsample_bytree=0.9, learning_rate=1, n_estimators=40, num_leaves=30, objective=binary, random_state=501, reg_alpha=0.2, reg_lambda=0.4, scale_pos_weight=20, subsample=0.75, score=0.9093556838697338, total=   7.3s\n",
      "Training until validation scores don't improve for 50 rounds.\n",
      "Did not meet early stopping. Best iteration is:\n",
      "[1]\tvalid's binary_logloss: 1.02142\tvalid's auc: 0.782969[CV] boosting_type=gbdt, colsample_bytree=0.9, learning_rate=1, n_estimators=40, num_leaves=30, objective=binary, random_state=501, reg_alpha=0.6, reg_lambda=0.2, scale_pos_weight=20, subsample=0.75 \n",
      "Did not meet early stopping. Best iteration is:\n",
      "[1]\tvalid's binary_logloss: 1.02098\tvalid's auc: 0.788116\n",
      "\n",
      "Did not meet early stopping. Best iteration is:\n",
      "[12]\tvalid's binary_logloss: 0.894489\tvalid's auc: 0.876741\n"
     ]
    },
    {
     "name": "stderr",
     "output_type": "stream",
     "text": [
      "/opt/anaconda/lib/python3.7/site-packages/sklearn/preprocessing/label.py:151: DeprecationWarning: The truth value of an empty array is ambiguous. Returning False, but in future this will result in an error. Use `array.size > 0` to check that an array is not empty.\n",
      "  if diff:\n"
     ]
    },
    {
     "name": "stdout",
     "output_type": "stream",
     "text": [
      "Training until validation scores don't improve for 50 rounds.\n"
     ]
    },
    {
     "name": "stderr",
     "output_type": "stream",
     "text": [
      "/opt/anaconda/lib/python3.7/site-packages/sklearn/preprocessing/label.py:151: DeprecationWarning: The truth value of an empty array is ambiguous. Returning False, but in future this will result in an error. Use `array.size > 0` to check that an array is not empty.\n",
      "  if diff:\n",
      "/opt/anaconda/lib/python3.7/site-packages/sklearn/preprocessing/label.py:151: DeprecationWarning: The truth value of an empty array is ambiguous. Returning False, but in future this will result in an error. Use `array.size > 0` to check that an array is not empty.\n",
      "  if diff:\n"
     ]
    },
    {
     "name": "stdout",
     "output_type": "stream",
     "text": [
      "Did not meet early stopping. Best iteration is:\n",
      "[1]\tvalid's binary_logloss: 0.918829\tvalid's auc: 0.812323Did not meet early stopping. Best iteration is:\n",
      "[6]\tvalid's binary_logloss: 0.906619\tvalid's auc: 0.874192\n",
      "Training until validation scores don't improve for 50 rounds.\n",
      "\n"
     ]
    },
    {
     "name": "stderr",
     "output_type": "stream",
     "text": [
      "/opt/anaconda/lib/python3.7/site-packages/sklearn/preprocessing/label.py:151: DeprecationWarning: The truth value of an empty array is ambiguous. Returning False, but in future this will result in an error. Use `array.size > 0` to check that an array is not empty.\n",
      "  if diff:\n"
     ]
    },
    {
     "name": "stdout",
     "output_type": "stream",
     "text": [
      "[CV]  boosting_type=gbdt, colsample_bytree=0.9, learning_rate=1, n_estimators=40, num_leaves=30, objective=binary, random_state=501, reg_alpha=0.2, reg_lambda=0.4, scale_pos_weight=25, subsample=0.75, score=0.9111468546967698, total=   4.3s\n"
     ]
    },
    {
     "name": "stderr",
     "output_type": "stream",
     "text": [
      "/opt/anaconda/lib/python3.7/site-packages/sklearn/preprocessing/label.py:151: DeprecationWarning: The truth value of an empty array is ambiguous. Returning False, but in future this will result in an error. Use `array.size > 0` to check that an array is not empty.\n",
      "  if diff:\n",
      "/opt/anaconda/lib/python3.7/site-packages/sklearn/preprocessing/label.py:151: DeprecationWarning: The truth value of an empty array is ambiguous. Returning False, but in future this will result in an error. Use `array.size > 0` to check that an array is not empty.\n",
      "  if diff:\n"
     ]
    },
    {
     "name": "stdout",
     "output_type": "stream",
     "text": [
      "[CV]  boosting_type=gbdt, colsample_bytree=0.9, learning_rate=1, n_estimators=40, num_leaves=30, objective=binary, random_state=501, reg_alpha=0.6, reg_lambda=0.2, scale_pos_weight=15, subsample=0.75, score=0.904837118165323, total=   4.1s\n"
     ]
    },
    {
     "name": "stderr",
     "output_type": "stream",
     "text": [
      "/opt/anaconda/lib/python3.7/site-packages/sklearn/preprocessing/label.py:151: DeprecationWarning: The truth value of an empty array is ambiguous. Returning False, but in future this will result in an error. Use `array.size > 0` to check that an array is not empty.\n",
      "  if diff:\n"
     ]
    },
    {
     "name": "stdout",
     "output_type": "stream",
     "text": [
      "[CV] boosting_type=gbdt, colsample_bytree=0.9, learning_rate=1, n_estimators=40, num_leaves=30, objective=binary, random_state=501, reg_alpha=0.6, reg_lambda=0.2, scale_pos_weight=20, subsample=0.75 \n"
     ]
    },
    {
     "name": "stderr",
     "output_type": "stream",
     "text": [
      "/opt/anaconda/lib/python3.7/site-packages/sklearn/preprocessing/label.py:151: DeprecationWarning: The truth value of an empty array is ambiguous. Returning False, but in future this will result in an error. Use `array.size > 0` to check that an array is not empty.\n",
      "  if diff:\n"
     ]
    },
    {
     "name": "stdout",
     "output_type": "stream",
     "text": [
      "[CV]  boosting_type=gbdt, colsample_bytree=0.9, learning_rate=1, n_estimators=40, num_leaves=30, objective=binary, random_state=501, reg_alpha=0.2, reg_lambda=0.4, scale_pos_weight=25, subsample=0.75, score=0.9094946598675155, total=   7.9s\n",
      "[CV] boosting_type=gbdt, colsample_bytree=0.9, learning_rate=1, n_estimators=40, num_leaves=30, objective=binary, random_state=501, reg_alpha=0.6, reg_lambda=0.2, scale_pos_weight=25, subsample=0.75 \n",
      "[CV] boosting_type=gbdt, colsample_bytree=0.9, learning_rate=1, n_estimators=40, num_leaves=30, objective=binary, random_state=501, reg_alpha=0.6, reg_lambda=0.2, scale_pos_weight=25, subsample=0.75 \n",
      "Training until validation scores don't improve for 50 rounds.\n",
      "Did not meet early stopping. Best iteration is:\n",
      "[1]\tvalid's binary_logloss: 0.905904\tvalid's auc: 0.81477\n",
      "Did not meet early stopping. Best iteration is:\n",
      "[1]\tvalid's binary_logloss: 0.964761\tvalid's auc: 0.795022\n"
     ]
    },
    {
     "name": "stderr",
     "output_type": "stream",
     "text": [
      "/opt/anaconda/lib/python3.7/site-packages/sklearn/preprocessing/label.py:151: DeprecationWarning: The truth value of an empty array is ambiguous. Returning False, but in future this will result in an error. Use `array.size > 0` to check that an array is not empty.\n",
      "  if diff:\n",
      "/opt/anaconda/lib/python3.7/site-packages/sklearn/preprocessing/label.py:151: DeprecationWarning: The truth value of an empty array is ambiguous. Returning False, but in future this will result in an error. Use `array.size > 0` to check that an array is not empty.\n",
      "  if diff:\n"
     ]
    },
    {
     "name": "stdout",
     "output_type": "stream",
     "text": [
      "[CV]  boosting_type=gbdt, colsample_bytree=0.9, learning_rate=1, n_estimators=40, num_leaves=30, objective=binary, random_state=501, reg_alpha=0.6, reg_lambda=0.2, scale_pos_weight=15, subsample=0.75, score=0.911450697972673, total=   5.1s\n",
      "[CV]  boosting_type=gbdt, colsample_bytree=0.9, learning_rate=1, n_estimators=40, num_leaves=30, objective=binary, random_state=501, reg_alpha=0.6, reg_lambda=0.2, scale_pos_weight=15, subsample=0.75, score=0.9100628145978046, total=   4.7s\n",
      "[CV] boosting_type=gbdt, colsample_bytree=0.9, learning_rate=1, n_estimators=40, num_leaves=30, objective=binary, random_state=501, reg_alpha=0.6, reg_lambda=0.2, scale_pos_weight=25, subsample=0.75 \n",
      "[CV] boosting_type=gbdt, colsample_bytree=0.9, learning_rate=1, n_estimators=40, num_leaves=30, objective=binary, random_state=501, reg_alpha=0.6, reg_lambda=0.2, scale_pos_weight=25, subsample=0.75 \n"
     ]
    },
    {
     "name": "stderr",
     "output_type": "stream",
     "text": [
      "/opt/anaconda/lib/python3.7/site-packages/sklearn/preprocessing/label.py:151: DeprecationWarning: The truth value of an empty array is ambiguous. Returning False, but in future this will result in an error. Use `array.size > 0` to check that an array is not empty.\n",
      "  if diff:\n",
      "/opt/anaconda/lib/python3.7/site-packages/sklearn/preprocessing/label.py:151: DeprecationWarning: The truth value of an empty array is ambiguous. Returning False, but in future this will result in an error. Use `array.size > 0` to check that an array is not empty.\n",
      "  if diff:\n"
     ]
    },
    {
     "name": "stdout",
     "output_type": "stream",
     "text": [
      "Did not meet early stopping. Best iteration is:\n",
      "[1]\tvalid's binary_logloss: 0.911994\tvalid's auc: 0.810449\n"
     ]
    },
    {
     "name": "stderr",
     "output_type": "stream",
     "text": [
      "/opt/anaconda/lib/python3.7/site-packages/sklearn/preprocessing/label.py:151: DeprecationWarning: The truth value of an empty array is ambiguous. Returning False, but in future this will result in an error. Use `array.size > 0` to check that an array is not empty.\n",
      "  if diff:\n",
      "/opt/anaconda/lib/python3.7/site-packages/sklearn/preprocessing/label.py:151: DeprecationWarning: The truth value of an empty array is ambiguous. Returning False, but in future this will result in an error. Use `array.size > 0` to check that an array is not empty.\n",
      "  if diff:\n"
     ]
    },
    {
     "name": "stdout",
     "output_type": "stream",
     "text": [
      "[CV]  boosting_type=gbdt, colsample_bytree=0.9, learning_rate=1, n_estimators=40, num_leaves=30, objective=binary, random_state=501, reg_alpha=0.6, reg_lambda=0.2, scale_pos_weight=15, subsample=0.75, score=0.9115404134486687, total=   4.9s\n",
      "[CV]  boosting_type=gbdt, colsample_bytree=0.9, learning_rate=1, n_estimators=40, num_leaves=30, objective=binary, random_state=501, reg_alpha=0.6, reg_lambda=0.2, scale_pos_weight=20, subsample=0.75, score=0.9107653858169322, total=   3.9s\n",
      "[CV] boosting_type=gbdt, colsample_bytree=0.9, learning_rate=1, n_estimators=40, num_leaves=30, objective=binary, random_state=501, reg_alpha=0.6, reg_lambda=0.4, scale_pos_weight=15, subsample=0.75 \n",
      "[CV] boosting_type=gbdt, colsample_bytree=0.9, learning_rate=1, n_estimators=40, num_leaves=30, objective=binary, random_state=501, reg_alpha=0.6, reg_lambda=0.2, scale_pos_weight=25, subsample=0.75 \n",
      "Training until validation scores don't improve for 50 rounds.\n",
      "Training until validation scores don't improve for 50 rounds.\n",
      "Training until validation scores don't improve for 50 rounds.\n"
     ]
    },
    {
     "name": "stderr",
     "output_type": "stream",
     "text": [
      "/opt/anaconda/lib/python3.7/site-packages/sklearn/preprocessing/label.py:151: DeprecationWarning: The truth value of an empty array is ambiguous. Returning False, but in future this will result in an error. Use `array.size > 0` to check that an array is not empty.\n",
      "  if diff:\n"
     ]
    },
    {
     "name": "stdout",
     "output_type": "stream",
     "text": [
      "Did not meet early stopping. Best iteration is:\n",
      "[1]\tvalid's binary_logloss: 0.971861\tvalid's auc: 0.793085\n",
      "Training until validation scores don't improve for 50 rounds.\n",
      "Training until validation scores don't improve for 50 rounds.\n",
      "Did not meet early stopping. Best iteration is:\n",
      "[1]\tvalid's binary_logloss: 0.987008\tvalid's auc: 0.804066\n"
     ]
    },
    {
     "name": "stderr",
     "output_type": "stream",
     "text": [
      "/opt/anaconda/lib/python3.7/site-packages/sklearn/preprocessing/label.py:151: DeprecationWarning: The truth value of an empty array is ambiguous. Returning False, but in future this will result in an error. Use `array.size > 0` to check that an array is not empty.\n",
      "  if diff:\n"
     ]
    },
    {
     "name": "stdout",
     "output_type": "stream",
     "text": [
      "[CV]  boosting_type=gbdt, colsample_bytree=0.9, learning_rate=1, n_estimators=40, num_leaves=30, objective=binary, random_state=501, reg_alpha=0.6, reg_lambda=0.2, scale_pos_weight=15, subsample=0.75, score=0.9097638270519198, total=   6.8s\n",
      "[CV] boosting_type=gbdt, colsample_bytree=0.9, learning_rate=1, n_estimators=40, num_leaves=30, objective=binary, random_state=501, reg_alpha=0.6, reg_lambda=0.4, scale_pos_weight=15, subsample=0.75 \n",
      "Training until validation scores don't improve for 50 rounds.\n"
     ]
    },
    {
     "name": "stderr",
     "output_type": "stream",
     "text": [
      "/opt/anaconda/lib/python3.7/site-packages/sklearn/preprocessing/label.py:151: DeprecationWarning: The truth value of an empty array is ambiguous. Returning False, but in future this will result in an error. Use `array.size > 0` to check that an array is not empty.\n",
      "  if diff:\n",
      "/opt/anaconda/lib/python3.7/site-packages/sklearn/preprocessing/label.py:151: DeprecationWarning: The truth value of an empty array is ambiguous. Returning False, but in future this will result in an error. Use `array.size > 0` to check that an array is not empty.\n",
      "  if diff:\n"
     ]
    },
    {
     "name": "stdout",
     "output_type": "stream",
     "text": [
      "Training until validation scores don't improve for 50 rounds.\n"
     ]
    },
    {
     "name": "stderr",
     "output_type": "stream",
     "text": [
      "/opt/anaconda/lib/python3.7/site-packages/sklearn/preprocessing/label.py:151: DeprecationWarning: The truth value of an empty array is ambiguous. Returning False, but in future this will result in an error. Use `array.size > 0` to check that an array is not empty.\n",
      "  if diff:\n"
     ]
    },
    {
     "name": "stdout",
     "output_type": "stream",
     "text": [
      "[CV]  boosting_type=gbdt, colsample_bytree=0.9, learning_rate=1, n_estimators=40, num_leaves=30, objective=binary, random_state=501, reg_alpha=0.6, reg_lambda=0.2, scale_pos_weight=20, subsample=0.75, score=0.90869427972839, total=   4.7s\n",
      "[CV] boosting_type=gbdt, colsample_bytree=0.9, learning_rate=1, n_estimators=40, num_leaves=30, objective=binary, random_state=501, reg_alpha=0.6, reg_lambda=0.4, scale_pos_weight=15, subsample=0.75 \n"
     ]
    },
    {
     "name": "stderr",
     "output_type": "stream",
     "text": [
      "/opt/anaconda/lib/python3.7/site-packages/sklearn/preprocessing/label.py:151: DeprecationWarning: The truth value of an empty array is ambiguous. Returning False, but in future this will result in an error. Use `array.size > 0` to check that an array is not empty.\n",
      "  if diff:\n"
     ]
    },
    {
     "name": "stdout",
     "output_type": "stream",
     "text": [
      "[CV]  boosting_type=gbdt, colsample_bytree=0.9, learning_rate=1, n_estimators=40, num_leaves=30, objective=binary, random_state=501, reg_alpha=0.6, reg_lambda=0.2, scale_pos_weight=20, subsample=0.75, score=0.9093556838697338, total=   4.3s\n",
      "[CV] boosting_type=gbdt, colsample_bytree=0.9, learning_rate=1, n_estimators=40, num_leaves=30, objective=binary, random_state=501, reg_alpha=0.6, reg_lambda=0.4, scale_pos_weight=15, subsample=0.75 \n",
      "Did not meet early stopping. Best iteration is:\n",
      "[1]\tvalid's binary_logloss: 0.968381\tvalid's auc: 0.801921\n",
      "Did not meet early stopping. Best iteration is:\n",
      "[1]\tvalid's binary_logloss: 1.01424\tvalid's auc: 0.795241Did not meet early stopping. Best iteration is:\n",
      "[1]\tvalid's binary_logloss: 0.966767\tvalid's auc: 0.801759Training until validation scores don't improve for 50 rounds.\n",
      "\n",
      "\n"
     ]
    },
    {
     "name": "stderr",
     "output_type": "stream",
     "text": [
      "/opt/anaconda/lib/python3.7/site-packages/sklearn/preprocessing/label.py:151: DeprecationWarning: The truth value of an empty array is ambiguous. Returning False, but in future this will result in an error. Use `array.size > 0` to check that an array is not empty.\n",
      "  if diff:\n",
      "/opt/anaconda/lib/python3.7/site-packages/sklearn/preprocessing/label.py:151: DeprecationWarning: The truth value of an empty array is ambiguous. Returning False, but in future this will result in an error. Use `array.size > 0` to check that an array is not empty.\n",
      "  if diff:\n"
     ]
    },
    {
     "name": "stdout",
     "output_type": "stream",
     "text": [
      "Did not meet early stopping. Best iteration is:\n",
      "[1]\tvalid's binary_logloss: 1.01417\tvalid's auc: 0.795241"
     ]
    },
    {
     "name": "stderr",
     "output_type": "stream",
     "text": [
      "/opt/anaconda/lib/python3.7/site-packages/sklearn/preprocessing/label.py:151: DeprecationWarning: The truth value of an empty array is ambiguous. Returning False, but in future this will result in an error. Use `array.size > 0` to check that an array is not empty.\n",
      "  if diff:\n"
     ]
    },
    {
     "name": "stdout",
     "output_type": "stream",
     "text": [
      "\n"
     ]
    },
    {
     "name": "stderr",
     "output_type": "stream",
     "text": [
      "/opt/anaconda/lib/python3.7/site-packages/sklearn/preprocessing/label.py:151: DeprecationWarning: The truth value of an empty array is ambiguous. Returning False, but in future this will result in an error. Use `array.size > 0` to check that an array is not empty.\n",
      "  if diff:\n"
     ]
    },
    {
     "name": "stdout",
     "output_type": "stream",
     "text": [
      "Training until validation scores don't improve for 50 rounds.\n",
      "[CV]  boosting_type=gbdt, colsample_bytree=0.9, learning_rate=1, n_estimators=40, num_leaves=30, objective=binary, random_state=501, reg_alpha=0.6, reg_lambda=0.2, scale_pos_weight=20, subsample=0.75, score=0.9107571478134285, total=   6.5s\n",
      "[CV] boosting_type=gbdt, colsample_bytree=0.9, learning_rate=1, n_estimators=40, num_leaves=30, objective=binary, random_state=501, reg_alpha=0.6, reg_lambda=0.4, scale_pos_weight=15, subsample=0.75 \n",
      "Training until validation scores don't improve for 50 rounds.\n"
     ]
    },
    {
     "name": "stderr",
     "output_type": "stream",
     "text": [
      "/opt/anaconda/lib/python3.7/site-packages/sklearn/preprocessing/label.py:151: DeprecationWarning: The truth value of an empty array is ambiguous. Returning False, but in future this will result in an error. Use `array.size > 0` to check that an array is not empty.\n",
      "  if diff:\n",
      "/opt/anaconda/lib/python3.7/site-packages/sklearn/preprocessing/label.py:151: DeprecationWarning: The truth value of an empty array is ambiguous. Returning False, but in future this will result in an error. Use `array.size > 0` to check that an array is not empty.\n",
      "  if diff:\n",
      "/opt/anaconda/lib/python3.7/site-packages/sklearn/preprocessing/label.py:151: DeprecationWarning: The truth value of an empty array is ambiguous. Returning False, but in future this will result in an error. Use `array.size > 0` to check that an array is not empty.\n",
      "  if diff:\n"
     ]
    },
    {
     "name": "stdout",
     "output_type": "stream",
     "text": [
      "[CV]  boosting_type=gbdt, colsample_bytree=0.9, learning_rate=1, n_estimators=40, num_leaves=30, objective=binary, random_state=501, reg_alpha=0.6, reg_lambda=0.2, scale_pos_weight=20, subsample=0.75, score=0.909194810070686, total=   4.6s\n",
      "[CV]  boosting_type=gbdt, colsample_bytree=0.9, learning_rate=1, n_estimators=40, num_leaves=30, objective=binary, random_state=501, reg_alpha=0.2, reg_lambda=0.4, scale_pos_weight=25, subsample=0.75, score=0.9075336115244844, total=  11.6s\n",
      "Did not meet early stopping. Best iteration is:\n",
      "[1]\tvalid's binary_logloss: 1.03307\tvalid's auc: 0.786027Did not meet early stopping. Best iteration is:\n",
      "[1]\tvalid's binary_logloss: 1.02143\tvalid's auc: 0.78297\n",
      "\n",
      "[CV] boosting_type=gbdt, colsample_bytree=0.9, learning_rate=1, n_estimators=40, num_leaves=30, objective=binary, random_state=501, reg_alpha=0.6, reg_lambda=0.4, scale_pos_weight=20, subsample=0.75 \n",
      "[CV] boosting_type=gbdt, colsample_bytree=0.9, learning_rate=1, n_estimators=40, num_leaves=30, objective=binary, random_state=501, reg_alpha=0.6, reg_lambda=0.4, scale_pos_weight=20, subsample=0.75 \n",
      "Did not meet early stopping. Best iteration is:\n",
      "[1]\tvalid's binary_logloss: 1.02094\tvalid's auc: 0.788116Did not meet early stopping. Best iteration is:\n",
      "[36]\tvalid's binary_logloss: 0.871712\tvalid's auc: 0.876898\n",
      "\n",
      "Did not meet early stopping. Best iteration is:\n",
      "[1]\tvalid's binary_logloss: 1.00381\tvalid's auc: 0.794682"
     ]
    },
    {
     "name": "stderr",
     "output_type": "stream",
     "text": [
      "/opt/anaconda/lib/python3.7/site-packages/sklearn/preprocessing/label.py:151: DeprecationWarning: The truth value of an empty array is ambiguous. Returning False, but in future this will result in an error. Use `array.size > 0` to check that an array is not empty.\n",
      "  if diff:\n"
     ]
    },
    {
     "name": "stdout",
     "output_type": "stream",
     "text": [
      "\n",
      "[CV]  boosting_type=gbdt, colsample_bytree=0.9, learning_rate=1, n_estimators=40, num_leaves=30, objective=binary, random_state=501, reg_alpha=0.6, reg_lambda=0.2, scale_pos_weight=25, subsample=0.75, score=0.9075336115244844, total=   4.6s\n"
     ]
    },
    {
     "name": "stderr",
     "output_type": "stream",
     "text": [
      "/opt/anaconda/lib/python3.7/site-packages/sklearn/preprocessing/label.py:151: DeprecationWarning: The truth value of an empty array is ambiguous. Returning False, but in future this will result in an error. Use `array.size > 0` to check that an array is not empty.\n",
      "  if diff:\n"
     ]
    },
    {
     "name": "stdout",
     "output_type": "stream",
     "text": [
      "[CV] boosting_type=gbdt, colsample_bytree=0.9, learning_rate=1, n_estimators=40, num_leaves=30, objective=binary, random_state=501, reg_alpha=0.6, reg_lambda=0.4, scale_pos_weight=20, subsample=0.75 \n"
     ]
    },
    {
     "name": "stderr",
     "output_type": "stream",
     "text": [
      "/opt/anaconda/lib/python3.7/site-packages/sklearn/preprocessing/label.py:151: DeprecationWarning: The truth value of an empty array is ambiguous. Returning False, but in future this will result in an error. Use `array.size > 0` to check that an array is not empty.\n",
      "  if diff:\n",
      "/opt/anaconda/lib/python3.7/site-packages/sklearn/preprocessing/label.py:151: DeprecationWarning: The truth value of an empty array is ambiguous. Returning False, but in future this will result in an error. Use `array.size > 0` to check that an array is not empty.\n",
      "  if diff:\n"
     ]
    },
    {
     "name": "stdout",
     "output_type": "stream",
     "text": [
      "Training until validation scores don't improve for 50 rounds.\n"
     ]
    },
    {
     "name": "stderr",
     "output_type": "stream",
     "text": [
      "/opt/anaconda/lib/python3.7/site-packages/sklearn/preprocessing/label.py:151: DeprecationWarning: The truth value of an empty array is ambiguous. Returning False, but in future this will result in an error. Use `array.size > 0` to check that an array is not empty.\n",
      "  if diff:\n",
      "/opt/anaconda/lib/python3.7/site-packages/sklearn/preprocessing/label.py:151: DeprecationWarning: The truth value of an empty array is ambiguous. Returning False, but in future this will result in an error. Use `array.size > 0` to check that an array is not empty.\n",
      "  if diff:\n"
     ]
    },
    {
     "name": "stdout",
     "output_type": "stream",
     "text": [
      "[CV]  boosting_type=gbdt, colsample_bytree=0.9, learning_rate=1, n_estimators=40, num_leaves=30, objective=binary, random_state=501, reg_alpha=0.6, reg_lambda=0.2, scale_pos_weight=25, subsample=0.75, score=0.9111468546967698, total=   4.4s\n"
     ]
    },
    {
     "name": "stderr",
     "output_type": "stream",
     "text": [
      "/opt/anaconda/lib/python3.7/site-packages/sklearn/preprocessing/label.py:151: DeprecationWarning: The truth value of an empty array is ambiguous. Returning False, but in future this will result in an error. Use `array.size > 0` to check that an array is not empty.\n",
      "  if diff:\n"
     ]
    },
    {
     "name": "stdout",
     "output_type": "stream",
     "text": [
      "[CV] boosting_type=gbdt, colsample_bytree=0.9, learning_rate=1, n_estimators=40, num_leaves=30, objective=binary, random_state=501, reg_alpha=0.6, reg_lambda=0.4, scale_pos_weight=20, subsample=0.75 \n"
     ]
    },
    {
     "name": "stderr",
     "output_type": "stream",
     "text": [
      "/opt/anaconda/lib/python3.7/site-packages/sklearn/preprocessing/label.py:151: DeprecationWarning: The truth value of an empty array is ambiguous. Returning False, but in future this will result in an error. Use `array.size > 0` to check that an array is not empty.\n",
      "  if diff:\n"
     ]
    },
    {
     "name": "stdout",
     "output_type": "stream",
     "text": [
      "[CV]  boosting_type=gbdt, colsample_bytree=0.9, learning_rate=1, n_estimators=40, num_leaves=30, objective=binary, random_state=501, reg_alpha=0.6, reg_lambda=0.2, scale_pos_weight=25, subsample=0.75, score=0.9072081525093997, total=   5.3s\n"
     ]
    },
    {
     "name": "stderr",
     "output_type": "stream",
     "text": [
      "/opt/anaconda/lib/python3.7/site-packages/sklearn/preprocessing/label.py:151: DeprecationWarning: The truth value of an empty array is ambiguous. Returning False, but in future this will result in an error. Use `array.size > 0` to check that an array is not empty.\n",
      "  if diff:\n"
     ]
    },
    {
     "name": "stdout",
     "output_type": "stream",
     "text": [
      "[CV]  boosting_type=gbdt, colsample_bytree=0.9, learning_rate=1, n_estimators=40, num_leaves=30, objective=binary, random_state=501, reg_alpha=0.6, reg_lambda=0.2, scale_pos_weight=25, subsample=0.75, score=0.9094946598675155, total=   5.9s\n",
      "[CV] boosting_type=gbdt, colsample_bytree=0.9, learning_rate=1, n_estimators=40, num_leaves=30, objective=binary, random_state=501, reg_alpha=0.6, reg_lambda=0.4, scale_pos_weight=20, subsample=0.75 \n",
      "[CV] boosting_type=gbdt, colsample_bytree=0.9, learning_rate=1, n_estimators=40, num_leaves=30, objective=binary, random_state=501, reg_alpha=0.6, reg_lambda=0.4, scale_pos_weight=25, subsample=0.75 \n",
      "Did not meet early stopping. Best iteration is:\n",
      "[11]\tvalid's binary_logloss: 0.900782\tvalid's auc: 0.871135\n",
      "Training until validation scores don't improve for 50 rounds.\n"
     ]
    },
    {
     "name": "stderr",
     "output_type": "stream",
     "text": [
      "/opt/anaconda/lib/python3.7/site-packages/sklearn/preprocessing/label.py:151: DeprecationWarning: The truth value of an empty array is ambiguous. Returning False, but in future this will result in an error. Use `array.size > 0` to check that an array is not empty.\n",
      "  if diff:\n"
     ]
    },
    {
     "name": "stdout",
     "output_type": "stream",
     "text": [
      "[CV]  boosting_type=gbdt, colsample_bytree=0.9, learning_rate=1, n_estimators=40, num_leaves=30, objective=binary, random_state=501, reg_alpha=0.6, reg_lambda=0.2, scale_pos_weight=25, subsample=0.75, score=0.9103236378982444, total=   6.3s\n",
      "[CV] boosting_type=gbdt, colsample_bytree=0.9, learning_rate=1, n_estimators=40, num_leaves=30, objective=binary, random_state=501, reg_alpha=0.6, reg_lambda=0.4, scale_pos_weight=25, subsample=0.75 \n",
      "Did not meet early stopping. Best iteration is:\n",
      "[29]\tvalid's binary_logloss: 0.882372\tvalid's auc: 0.875898\n"
     ]
    },
    {
     "name": "stderr",
     "output_type": "stream",
     "text": [
      "/opt/anaconda/lib/python3.7/site-packages/sklearn/preprocessing/label.py:151: DeprecationWarning: The truth value of an empty array is ambiguous. Returning False, but in future this will result in an error. Use `array.size > 0` to check that an array is not empty.\n",
      "  if diff:\n"
     ]
    },
    {
     "name": "stdout",
     "output_type": "stream",
     "text": [
      "[CV]  boosting_type=gbdt, colsample_bytree=0.9, learning_rate=1, n_estimators=40, num_leaves=30, objective=binary, random_state=501, reg_alpha=0.6, reg_lambda=0.4, scale_pos_weight=15, subsample=0.75, score=0.8913537984292189, total=   4.8s\n",
      "[CV] boosting_type=gbdt, colsample_bytree=0.9, learning_rate=1, n_estimators=40, num_leaves=30, objective=binary, random_state=501, reg_alpha=0.6, reg_lambda=0.4, scale_pos_weight=25, subsample=0.75 \n",
      "Training until validation scores don't improve for 50 rounds.\n"
     ]
    },
    {
     "name": "stderr",
     "output_type": "stream",
     "text": [
      "/opt/anaconda/lib/python3.7/site-packages/sklearn/preprocessing/label.py:151: DeprecationWarning: The truth value of an empty array is ambiguous. Returning False, but in future this will result in an error. Use `array.size > 0` to check that an array is not empty.\n",
      "  if diff:\n"
     ]
    },
    {
     "name": "stdout",
     "output_type": "stream",
     "text": [
      "Training until validation scores don't improve for 50 rounds.\n"
     ]
    },
    {
     "name": "stderr",
     "output_type": "stream",
     "text": [
      "/opt/anaconda/lib/python3.7/site-packages/sklearn/preprocessing/label.py:151: DeprecationWarning: The truth value of an empty array is ambiguous. Returning False, but in future this will result in an error. Use `array.size > 0` to check that an array is not empty.\n",
      "  if diff:\n"
     ]
    },
    {
     "name": "stdout",
     "output_type": "stream",
     "text": [
      "Training until validation scores don't improve for 50 rounds.\n",
      "Training until validation scores don't improve for 50 rounds.\n",
      "Training until validation scores don't improve for 50 rounds.\n"
     ]
    },
    {
     "name": "stderr",
     "output_type": "stream",
     "text": [
      "/opt/anaconda/lib/python3.7/site-packages/sklearn/preprocessing/label.py:151: DeprecationWarning: The truth value of an empty array is ambiguous. Returning False, but in future this will result in an error. Use `array.size > 0` to check that an array is not empty.\n",
      "  if diff:\n"
     ]
    },
    {
     "name": "stdout",
     "output_type": "stream",
     "text": [
      "[CV]  boosting_type=gbdt, colsample_bytree=0.9, learning_rate=1, n_estimators=40, num_leaves=30, objective=binary, random_state=501, reg_alpha=0.6, reg_lambda=0.4, scale_pos_weight=15, subsample=0.75, score=0.8952281886209124, total=   4.9s\n"
     ]
    },
    {
     "name": "stderr",
     "output_type": "stream",
     "text": [
      "/opt/anaconda/lib/python3.7/site-packages/sklearn/preprocessing/label.py:151: DeprecationWarning: The truth value of an empty array is ambiguous. Returning False, but in future this will result in an error. Use `array.size > 0` to check that an array is not empty.\n",
      "  if diff:\n"
     ]
    },
    {
     "name": "stdout",
     "output_type": "stream",
     "text": [
      "[CV]  boosting_type=gbdt, colsample_bytree=0.9, learning_rate=1, n_estimators=40, num_leaves=30, objective=binary, random_state=501, reg_alpha=0.6, reg_lambda=0.4, scale_pos_weight=15, subsample=0.75, score=0.8995360346246656, total=   4.3s\n",
      "Training until validation scores don't improve for 50 rounds.\n",
      "[CV] boosting_type=gbdt, colsample_bytree=0.9, learning_rate=1, n_estimators=40, num_leaves=30, objective=binary, random_state=501, reg_alpha=0.6, reg_lambda=0.4, scale_pos_weight=25, subsample=0.75 \n",
      "[CV] boosting_type=gbdt, colsample_bytree=0.9, learning_rate=1, n_estimators=40, num_leaves=30, objective=binary, random_state=501, reg_alpha=0.6, reg_lambda=0.4, scale_pos_weight=25, subsample=0.75 \n",
      "Training until validation scores don't improve for 50 rounds.\n",
      "Did not meet early stopping. Best iteration is:\n",
      "[1]\tvalid's binary_logloss: 0.968299\tvalid's auc: 0.801921\n"
     ]
    },
    {
     "name": "stderr",
     "output_type": "stream",
     "text": [
      "/opt/anaconda/lib/python3.7/site-packages/sklearn/preprocessing/label.py:151: DeprecationWarning: The truth value of an empty array is ambiguous. Returning False, but in future this will result in an error. Use `array.size > 0` to check that an array is not empty.\n",
      "  if diff:\n"
     ]
    },
    {
     "name": "stdout",
     "output_type": "stream",
     "text": [
      "Did not meet early stopping. Best iteration is:\n",
      "[9]\tvalid's binary_logloss: 0.904889\tvalid's auc: 0.871509\n",
      "Did not meet early stopping. Best iteration is:\n",
      "[13]\tvalid's binary_logloss: 0.893783\tvalid's auc: 0.874902\n"
     ]
    },
    {
     "name": "stderr",
     "output_type": "stream",
     "text": [
      "/opt/anaconda/lib/python3.7/site-packages/sklearn/preprocessing/label.py:151: DeprecationWarning: The truth value of an empty array is ambiguous. Returning False, but in future this will result in an error. Use `array.size > 0` to check that an array is not empty.\n",
      "  if diff:\n"
     ]
    },
    {
     "name": "stdout",
     "output_type": "stream",
     "text": [
      "[CV]  boosting_type=gbdt, colsample_bytree=0.9, learning_rate=1, n_estimators=40, num_leaves=30, objective=binary, random_state=501, reg_alpha=0.6, reg_lambda=0.4, scale_pos_weight=20, subsample=0.75, score=0.9107571478134285, total=   3.6s\n"
     ]
    },
    {
     "name": "stderr",
     "output_type": "stream",
     "text": [
      "/opt/anaconda/lib/python3.7/site-packages/sklearn/preprocessing/label.py:151: DeprecationWarning: The truth value of an empty array is ambiguous. Returning False, but in future this will result in an error. Use `array.size > 0` to check that an array is not empty.\n",
      "  if diff:\n"
     ]
    },
    {
     "name": "stdout",
     "output_type": "stream",
     "text": [
      "Training until validation scores don't improve for 50 rounds.\n",
      "[CV] boosting_type=gbdt, colsample_bytree=0.9, learning_rate=1, n_estimators=40, num_leaves=50, objective=binary, random_state=501, reg_alpha=0.2, reg_lambda=0.2, scale_pos_weight=15, subsample=0.75 \n"
     ]
    },
    {
     "name": "stderr",
     "output_type": "stream",
     "text": [
      "/opt/anaconda/lib/python3.7/site-packages/sklearn/preprocessing/label.py:151: DeprecationWarning: The truth value of an empty array is ambiguous. Returning False, but in future this will result in an error. Use `array.size > 0` to check that an array is not empty.\n",
      "  if diff:\n"
     ]
    },
    {
     "name": "stdout",
     "output_type": "stream",
     "text": [
      "Training until validation scores don't improve for 50 rounds.\n",
      "Did not meet early stopping. Best iteration is:\n",
      "[1]\tvalid's binary_logloss: 0.966682\tvalid's auc: 0.801759\n"
     ]
    },
    {
     "name": "stderr",
     "output_type": "stream",
     "text": [
      "/opt/anaconda/lib/python3.7/site-packages/sklearn/preprocessing/label.py:151: DeprecationWarning: The truth value of an empty array is ambiguous. Returning False, but in future this will result in an error. Use `array.size > 0` to check that an array is not empty.\n",
      "  if diff:\n",
      "/opt/anaconda/lib/python3.7/site-packages/sklearn/preprocessing/label.py:151: DeprecationWarning: The truth value of an empty array is ambiguous. Returning False, but in future this will result in an error. Use `array.size > 0` to check that an array is not empty.\n",
      "  if diff:\n"
     ]
    },
    {
     "name": "stdout",
     "output_type": "stream",
     "text": [
      "[CV]  boosting_type=gbdt, colsample_bytree=0.9, learning_rate=1, n_estimators=40, num_leaves=30, objective=binary, random_state=501, reg_alpha=0.6, reg_lambda=0.4, scale_pos_weight=15, subsample=0.75, score=0.9065180933098838, total=   6.1s\n",
      "[CV]  boosting_type=gbdt, colsample_bytree=0.9, learning_rate=1, n_estimators=40, num_leaves=30, objective=binary, random_state=501, reg_alpha=0.6, reg_lambda=0.4, scale_pos_weight=15, subsample=0.75, score=0.9050639288734923, total=   4.9s\n",
      "[CV] boosting_type=gbdt, colsample_bytree=0.9, learning_rate=1, n_estimators=40, num_leaves=50, objective=binary, random_state=501, reg_alpha=0.2, reg_lambda=0.2, scale_pos_weight=15, subsample=0.75 \n",
      "Did not meet early stopping. Best iteration is:\n",
      "[1]\tvalid's binary_logloss: 1.02087\tvalid's auc: 0.788116\n"
     ]
    },
    {
     "name": "stderr",
     "output_type": "stream",
     "text": [
      "/opt/anaconda/lib/python3.7/site-packages/sklearn/preprocessing/label.py:151: DeprecationWarning: The truth value of an empty array is ambiguous. Returning False, but in future this will result in an error. Use `array.size > 0` to check that an array is not empty.\n",
      "  if diff:\n"
     ]
    },
    {
     "name": "stdout",
     "output_type": "stream",
     "text": [
      "[CV] boosting_type=gbdt, colsample_bytree=0.9, learning_rate=1, n_estimators=40, num_leaves=50, objective=binary, random_state=501, reg_alpha=0.2, reg_lambda=0.2, scale_pos_weight=15, subsample=0.75 \n"
     ]
    },
    {
     "name": "stderr",
     "output_type": "stream",
     "text": [
      "/opt/anaconda/lib/python3.7/site-packages/sklearn/preprocessing/label.py:151: DeprecationWarning: The truth value of an empty array is ambiguous. Returning False, but in future this will result in an error. Use `array.size > 0` to check that an array is not empty.\n",
      "  if diff:\n",
      "/opt/anaconda/lib/python3.7/site-packages/sklearn/preprocessing/label.py:151: DeprecationWarning: The truth value of an empty array is ambiguous. Returning False, but in future this will result in an error. Use `array.size > 0` to check that an array is not empty.\n",
      "  if diff:\n"
     ]
    },
    {
     "name": "stdout",
     "output_type": "stream",
     "text": [
      "[CV]  boosting_type=gbdt, colsample_bytree=0.9, learning_rate=1, n_estimators=40, num_leaves=30, objective=binary, random_state=501, reg_alpha=0.6, reg_lambda=0.4, scale_pos_weight=20, subsample=0.75, score=0.909194810070686, total=   4.2s\n",
      "Training until validation scores don't improve for 50 rounds.\n",
      "[CV] boosting_type=gbdt, colsample_bytree=0.9, learning_rate=1, n_estimators=40, num_leaves=50, objective=binary, random_state=501, reg_alpha=0.2, reg_lambda=0.2, scale_pos_weight=15, subsample=0.75 \n"
     ]
    },
    {
     "name": "stderr",
     "output_type": "stream",
     "text": [
      "/opt/anaconda/lib/python3.7/site-packages/sklearn/preprocessing/label.py:151: DeprecationWarning: The truth value of an empty array is ambiguous. Returning False, but in future this will result in an error. Use `array.size > 0` to check that an array is not empty.\n",
      "  if diff:\n"
     ]
    },
    {
     "name": "stdout",
     "output_type": "stream",
     "text": [
      "[CV]  boosting_type=gbdt, colsample_bytree=0.9, learning_rate=1, n_estimators=40, num_leaves=30, objective=binary, random_state=501, reg_alpha=0.6, reg_lambda=0.4, scale_pos_weight=25, subsample=0.75, score=0.9094946598675155, total=   4.1s\n",
      "[CV] boosting_type=gbdt, colsample_bytree=0.9, learning_rate=1, n_estimators=40, num_leaves=50, objective=binary, random_state=501, reg_alpha=0.2, reg_lambda=0.2, scale_pos_weight=15, subsample=0.75 \n",
      "Training until validation scores don't improve for 50 rounds.\n",
      "Training until validation scores don't improve for 50 rounds.\n",
      "Did not meet early stopping. Best iteration is:\n",
      "[1]\tvalid's binary_logloss: 1.00372\tvalid's auc: 0.794682Did not meet early stopping. Best iteration is:\n",
      "[1]\tvalid's binary_logloss: 0.986923\tvalid's auc: 0.803946Did not meet early stopping. Best iteration is:\n",
      "[1]\tvalid's binary_logloss: 0.964663\tvalid's auc: 0.795022\n",
      "\n",
      "\n",
      "Did not meet early stopping. Best iteration is:\n",
      "[1]\tvalid's binary_logloss: 1.03302\tvalid's auc: 0.785965Did not meet early stopping. Best iteration is:\n",
      "[1]\tvalid's binary_logloss: 1.01444\tvalid's auc: 0.79504\n",
      "\n"
     ]
    },
    {
     "name": "stderr",
     "output_type": "stream",
     "text": [
      "/opt/anaconda/lib/python3.7/site-packages/sklearn/preprocessing/label.py:151: DeprecationWarning: The truth value of an empty array is ambiguous. Returning False, but in future this will result in an error. Use `array.size > 0` to check that an array is not empty.\n",
      "  if diff:\n",
      "/opt/anaconda/lib/python3.7/site-packages/sklearn/preprocessing/label.py:151: DeprecationWarning: The truth value of an empty array is ambiguous. Returning False, but in future this will result in an error. Use `array.size > 0` to check that an array is not empty.\n",
      "  if diff:\n",
      "/opt/anaconda/lib/python3.7/site-packages/sklearn/preprocessing/label.py:151: DeprecationWarning: The truth value of an empty array is ambiguous. Returning False, but in future this will result in an error. Use `array.size > 0` to check that an array is not empty.\n",
      "  if diff:\n"
     ]
    },
    {
     "name": "stdout",
     "output_type": "stream",
     "text": [
      "Training until validation scores don't improve for 50 rounds.\n"
     ]
    },
    {
     "name": "stderr",
     "output_type": "stream",
     "text": [
      "/opt/anaconda/lib/python3.7/site-packages/sklearn/preprocessing/label.py:151: DeprecationWarning: The truth value of an empty array is ambiguous. Returning False, but in future this will result in an error. Use `array.size > 0` to check that an array is not empty.\n",
      "  if diff:\n",
      "/opt/anaconda/lib/python3.7/site-packages/sklearn/preprocessing/label.py:151: DeprecationWarning: The truth value of an empty array is ambiguous. Returning False, but in future this will result in an error. Use `array.size > 0` to check that an array is not empty.\n",
      "  if diff:\n"
     ]
    },
    {
     "name": "stdout",
     "output_type": "stream",
     "text": [
      "Training until validation scores don't improve for 50 rounds.\n",
      "[CV]  boosting_type=gbdt, colsample_bytree=0.9, learning_rate=1, n_estimators=40, num_leaves=30, objective=binary, random_state=501, reg_alpha=0.6, reg_lambda=0.4, scale_pos_weight=20, subsample=0.75, score=0.9107653858169322, total=   7.2s\n"
     ]
    },
    {
     "name": "stderr",
     "output_type": "stream",
     "text": [
      "/opt/anaconda/lib/python3.7/site-packages/sklearn/preprocessing/label.py:151: DeprecationWarning: The truth value of an empty array is ambiguous. Returning False, but in future this will result in an error. Use `array.size > 0` to check that an array is not empty.\n",
      "  if diff:\n",
      "/opt/anaconda/lib/python3.7/site-packages/sklearn/preprocessing/label.py:151: DeprecationWarning: The truth value of an empty array is ambiguous. Returning False, but in future this will result in an error. Use `array.size > 0` to check that an array is not empty.\n",
      "  if diff:\n"
     ]
    },
    {
     "name": "stdout",
     "output_type": "stream",
     "text": [
      "[CV]  boosting_type=gbdt, colsample_bytree=0.9, learning_rate=1, n_estimators=40, num_leaves=30, objective=binary, random_state=501, reg_alpha=0.6, reg_lambda=0.4, scale_pos_weight=25, subsample=0.75, score=0.9103236378982444, total=   6.0s\n",
      "Did not meet early stopping. Best iteration is:\n",
      "[1]\tvalid's binary_logloss: 1.02136\tvalid's auc: 0.782898[CV] boosting_type=gbdt, colsample_bytree=0.9, learning_rate=1, n_estimators=40, num_leaves=50, objective=binary, random_state=501, reg_alpha=0.2, reg_lambda=0.2, scale_pos_weight=20, subsample=0.75 \n"
     ]
    },
    {
     "name": "stderr",
     "output_type": "stream",
     "text": [
      "/opt/anaconda/lib/python3.7/site-packages/sklearn/preprocessing/label.py:151: DeprecationWarning: The truth value of an empty array is ambiguous. Returning False, but in future this will result in an error. Use `array.size > 0` to check that an array is not empty.\n",
      "  if diff:\n"
     ]
    },
    {
     "name": "stdout",
     "output_type": "stream",
     "text": [
      "[CV] boosting_type=gbdt, colsample_bytree=0.9, learning_rate=1, n_estimators=40, num_leaves=50, objective=binary, random_state=501, reg_alpha=0.2, reg_lambda=0.2, scale_pos_weight=20, subsample=0.75 \n",
      "\n",
      "[CV]  boosting_type=gbdt, colsample_bytree=0.9, learning_rate=1, n_estimators=40, num_leaves=30, objective=binary, random_state=501, reg_alpha=0.6, reg_lambda=0.4, scale_pos_weight=20, subsample=0.75, score=0.9093556838697338, total=   6.6s\n"
     ]
    },
    {
     "name": "stderr",
     "output_type": "stream",
     "text": [
      "/opt/anaconda/lib/python3.7/site-packages/sklearn/preprocessing/label.py:151: DeprecationWarning: The truth value of an empty array is ambiguous. Returning False, but in future this will result in an error. Use `array.size > 0` to check that an array is not empty.\n",
      "  if diff:\n"
     ]
    },
    {
     "name": "stdout",
     "output_type": "stream",
     "text": [
      "[CV] boosting_type=gbdt, colsample_bytree=0.9, learning_rate=1, n_estimators=40, num_leaves=50, objective=binary, random_state=501, reg_alpha=0.2, reg_lambda=0.2, scale_pos_weight=20, subsample=0.75 \n",
      "[CV]  boosting_type=gbdt, colsample_bytree=0.9, learning_rate=1, n_estimators=40, num_leaves=30, objective=binary, random_state=501, reg_alpha=0.6, reg_lambda=0.4, scale_pos_weight=25, subsample=0.75, score=0.9075336115244844, total=   4.8s\n"
     ]
    },
    {
     "name": "stderr",
     "output_type": "stream",
     "text": [
      "/opt/anaconda/lib/python3.7/site-packages/sklearn/preprocessing/label.py:151: DeprecationWarning: The truth value of an empty array is ambiguous. Returning False, but in future this will result in an error. Use `array.size > 0` to check that an array is not empty.\n",
      "  if diff:\n"
     ]
    },
    {
     "name": "stdout",
     "output_type": "stream",
     "text": [
      "[CV]  boosting_type=gbdt, colsample_bytree=0.9, learning_rate=1, n_estimators=40, num_leaves=30, objective=binary, random_state=501, reg_alpha=0.6, reg_lambda=0.4, scale_pos_weight=25, subsample=0.75, score=0.9072081525093997, total=   6.2s\n",
      "[CV] boosting_type=gbdt, colsample_bytree=0.9, learning_rate=1, n_estimators=40, num_leaves=50, objective=binary, random_state=501, reg_alpha=0.2, reg_lambda=0.2, scale_pos_weight=20, subsample=0.75 \n",
      "[CV] boosting_type=gbdt, colsample_bytree=0.9, learning_rate=1, n_estimators=40, num_leaves=50, objective=binary, random_state=501, reg_alpha=0.2, reg_lambda=0.2, scale_pos_weight=20, subsample=0.75 \n"
     ]
    },
    {
     "name": "stderr",
     "output_type": "stream",
     "text": [
      "/opt/anaconda/lib/python3.7/site-packages/sklearn/preprocessing/label.py:151: DeprecationWarning: The truth value of an empty array is ambiguous. Returning False, but in future this will result in an error. Use `array.size > 0` to check that an array is not empty.\n",
      "  if diff:\n"
     ]
    },
    {
     "name": "stdout",
     "output_type": "stream",
     "text": [
      "Did not meet early stopping. Best iteration is:\n",
      "[1]\tvalid's binary_logloss: 0.893666\tvalid's auc: 0.814211\n",
      "Training until validation scores don't improve for 50 rounds.\n"
     ]
    },
    {
     "name": "stderr",
     "output_type": "stream",
     "text": [
      "/opt/anaconda/lib/python3.7/site-packages/sklearn/preprocessing/label.py:151: DeprecationWarning: The truth value of an empty array is ambiguous. Returning False, but in future this will result in an error. Use `array.size > 0` to check that an array is not empty.\n",
      "  if diff:\n"
     ]
    },
    {
     "name": "stdout",
     "output_type": "stream",
     "text": [
      "[CV]  boosting_type=gbdt, colsample_bytree=0.9, learning_rate=1, n_estimators=40, num_leaves=30, objective=binary, random_state=501, reg_alpha=0.6, reg_lambda=0.4, scale_pos_weight=25, subsample=0.75, score=0.9111468546967698, total=   5.7s\n"
     ]
    },
    {
     "name": "stderr",
     "output_type": "stream",
     "text": [
      "/opt/anaconda/lib/python3.7/site-packages/sklearn/preprocessing/label.py:151: DeprecationWarning: The truth value of an empty array is ambiguous. Returning False, but in future this will result in an error. Use `array.size > 0` to check that an array is not empty.\n",
      "  if diff:\n"
     ]
    },
    {
     "name": "stdout",
     "output_type": "stream",
     "text": [
      "[CV] boosting_type=gbdt, colsample_bytree=0.9, learning_rate=1, n_estimators=40, num_leaves=50, objective=binary, random_state=501, reg_alpha=0.2, reg_lambda=0.2, scale_pos_weight=25, subsample=0.75 \n",
      "Did not meet early stopping. Best iteration is:\n",
      "[1]\tvalid's binary_logloss: 0.971798\tvalid's auc: 0.793074\n",
      "Training until validation scores don't improve for 50 rounds.\n"
     ]
    },
    {
     "name": "stderr",
     "output_type": "stream",
     "text": [
      "/opt/anaconda/lib/python3.7/site-packages/sklearn/preprocessing/label.py:151: DeprecationWarning: The truth value of an empty array is ambiguous. Returning False, but in future this will result in an error. Use `array.size > 0` to check that an array is not empty.\n",
      "  if diff:\n"
     ]
    },
    {
     "name": "stdout",
     "output_type": "stream",
     "text": [
      "[CV]  boosting_type=gbdt, colsample_bytree=0.9, learning_rate=1, n_estimators=40, num_leaves=50, objective=binary, random_state=501, reg_alpha=0.2, reg_lambda=0.2, scale_pos_weight=15, subsample=0.75, score=0.9096772390207007, total=   4.9s\n",
      "Training until validation scores don't improve for 50 rounds.\n"
     ]
    },
    {
     "name": "stderr",
     "output_type": "stream",
     "text": [
      "/opt/anaconda/lib/python3.7/site-packages/sklearn/preprocessing/label.py:151: DeprecationWarning: The truth value of an empty array is ambiguous. Returning False, but in future this will result in an error. Use `array.size > 0` to check that an array is not empty.\n",
      "  if diff:\n"
     ]
    },
    {
     "name": "stdout",
     "output_type": "stream",
     "text": [
      "[CV] boosting_type=gbdt, colsample_bytree=0.9, learning_rate=1, n_estimators=40, num_leaves=50, objective=binary, random_state=501, reg_alpha=0.2, reg_lambda=0.2, scale_pos_weight=25, subsample=0.75 \n",
      "Training until validation scores don't improve for 50 rounds.\n",
      "Did not meet early stopping. Best iteration is:\n",
      "[1]\tvalid's binary_logloss: 0.894149\tvalid's auc: 0.821502Training until validation scores don't improve for 50 rounds.\n",
      "\n"
     ]
    },
    {
     "name": "stderr",
     "output_type": "stream",
     "text": [
      "/opt/anaconda/lib/python3.7/site-packages/sklearn/preprocessing/label.py:151: DeprecationWarning: The truth value of an empty array is ambiguous. Returning False, but in future this will result in an error. Use `array.size > 0` to check that an array is not empty.\n",
      "  if diff:\n"
     ]
    },
    {
     "name": "stdout",
     "output_type": "stream",
     "text": [
      "[CV]  boosting_type=gbdt, colsample_bytree=0.9, learning_rate=1, n_estimators=40, num_leaves=30, objective=binary, random_state=501, reg_alpha=0.6, reg_lambda=0.4, scale_pos_weight=20, subsample=0.75, score=0.90869427972839, total=   9.5s\n"
     ]
    },
    {
     "name": "stderr",
     "output_type": "stream",
     "text": [
      "/opt/anaconda/lib/python3.7/site-packages/sklearn/preprocessing/label.py:151: DeprecationWarning: The truth value of an empty array is ambiguous. Returning False, but in future this will result in an error. Use `array.size > 0` to check that an array is not empty.\n",
      "  if diff:\n"
     ]
    },
    {
     "name": "stdout",
     "output_type": "stream",
     "text": [
      "[CV] boosting_type=gbdt, colsample_bytree=0.9, learning_rate=1, n_estimators=40, num_leaves=50, objective=binary, random_state=501, reg_alpha=0.2, reg_lambda=0.2, scale_pos_weight=25, subsample=0.75 \n",
      "Did not meet early stopping. Best iteration is:\n",
      "[1]\tvalid's binary_logloss: 0.894892\tvalid's auc: 0.819486\n",
      "Training until validation scores don't improve for 50 rounds.\n"
     ]
    },
    {
     "name": "stderr",
     "output_type": "stream",
     "text": [
      "/opt/anaconda/lib/python3.7/site-packages/sklearn/preprocessing/label.py:151: DeprecationWarning: The truth value of an empty array is ambiguous. Returning False, but in future this will result in an error. Use `array.size > 0` to check that an array is not empty.\n",
      "  if diff:\n"
     ]
    },
    {
     "name": "stdout",
     "output_type": "stream",
     "text": [
      "[CV]  boosting_type=gbdt, colsample_bytree=0.9, learning_rate=1, n_estimators=40, num_leaves=50, objective=binary, random_state=501, reg_alpha=0.2, reg_lambda=0.2, scale_pos_weight=15, subsample=0.75, score=0.911269773886108, total=   4.7s\n",
      "[CV] boosting_type=gbdt, colsample_bytree=0.9, learning_rate=1, n_estimators=40, num_leaves=50, objective=binary, random_state=501, reg_alpha=0.2, reg_lambda=0.2, scale_pos_weight=25, subsample=0.75 \n"
     ]
    },
    {
     "name": "stderr",
     "output_type": "stream",
     "text": [
      "/opt/anaconda/lib/python3.7/site-packages/sklearn/preprocessing/label.py:151: DeprecationWarning: The truth value of an empty array is ambiguous. Returning False, but in future this will result in an error. Use `array.size > 0` to check that an array is not empty.\n",
      "  if diff:\n"
     ]
    },
    {
     "name": "stdout",
     "output_type": "stream",
     "text": [
      "Training until validation scores don't improve for 50 rounds.\n",
      "Did not meet early stopping. Best iteration is:\n",
      "[6]\tvalid's binary_logloss: 0.902403\tvalid's auc: 0.869952\n",
      "Did not meet early stopping. Best iteration is:\n",
      "[1]\tvalid's binary_logloss: 0.888729\tvalid's auc: 0.817335\n"
     ]
    },
    {
     "name": "stderr",
     "output_type": "stream",
     "text": [
      "/opt/anaconda/lib/python3.7/site-packages/sklearn/preprocessing/label.py:151: DeprecationWarning: The truth value of an empty array is ambiguous. Returning False, but in future this will result in an error. Use `array.size > 0` to check that an array is not empty.\n",
      "  if diff:\n"
     ]
    },
    {
     "name": "stdout",
     "output_type": "stream",
     "text": [
      "[CV]  boosting_type=gbdt, colsample_bytree=0.9, learning_rate=1, n_estimators=40, num_leaves=50, objective=binary, random_state=501, reg_alpha=0.2, reg_lambda=0.2, scale_pos_weight=15, subsample=0.75, score=0.9103933499318293, total=   6.3s\n",
      "[CV] boosting_type=gbdt, colsample_bytree=0.9, learning_rate=1, n_estimators=40, num_leaves=50, objective=binary, random_state=501, reg_alpha=0.2, reg_lambda=0.2, scale_pos_weight=25, subsample=0.75 \n"
     ]
    },
    {
     "name": "stderr",
     "output_type": "stream",
     "text": [
      "/opt/anaconda/lib/python3.7/site-packages/sklearn/preprocessing/label.py:151: DeprecationWarning: The truth value of an empty array is ambiguous. Returning False, but in future this will result in an error. Use `array.size > 0` to check that an array is not empty.\n",
      "  if diff:\n"
     ]
    },
    {
     "name": "stdout",
     "output_type": "stream",
     "text": [
      "Training until validation scores don't improve for 50 rounds.\n"
     ]
    },
    {
     "name": "stderr",
     "output_type": "stream",
     "text": [
      "/opt/anaconda/lib/python3.7/site-packages/sklearn/preprocessing/label.py:151: DeprecationWarning: The truth value of an empty array is ambiguous. Returning False, but in future this will result in an error. Use `array.size > 0` to check that an array is not empty.\n",
      "  if diff:\n"
     ]
    },
    {
     "name": "stdout",
     "output_type": "stream",
     "text": [
      "Training until validation scores don't improve for 50 rounds.\n"
     ]
    },
    {
     "name": "stderr",
     "output_type": "stream",
     "text": [
      "/opt/anaconda/lib/python3.7/site-packages/sklearn/preprocessing/label.py:151: DeprecationWarning: The truth value of an empty array is ambiguous. Returning False, but in future this will result in an error. Use `array.size > 0` to check that an array is not empty.\n",
      "  if diff:\n"
     ]
    },
    {
     "name": "stdout",
     "output_type": "stream",
     "text": [
      "[CV]  boosting_type=gbdt, colsample_bytree=0.9, learning_rate=1, n_estimators=40, num_leaves=50, objective=binary, random_state=501, reg_alpha=0.2, reg_lambda=0.2, scale_pos_weight=15, subsample=0.75, score=0.9039652467311398, total=   6.9s\n",
      "[CV] boosting_type=gbdt, colsample_bytree=0.9, learning_rate=1, n_estimators=40, num_leaves=50, objective=binary, random_state=501, reg_alpha=0.2, reg_lambda=0.4, scale_pos_weight=15, subsample=0.75 \n"
     ]
    },
    {
     "name": "stderr",
     "output_type": "stream",
     "text": [
      "/opt/anaconda/lib/python3.7/site-packages/sklearn/preprocessing/label.py:151: DeprecationWarning: The truth value of an empty array is ambiguous. Returning False, but in future this will result in an error. Use `array.size > 0` to check that an array is not empty.\n",
      "  if diff:\n"
     ]
    },
    {
     "name": "stdout",
     "output_type": "stream",
     "text": [
      "[CV]  boosting_type=gbdt, colsample_bytree=0.9, learning_rate=1, n_estimators=40, num_leaves=50, objective=binary, random_state=501, reg_alpha=0.2, reg_lambda=0.2, scale_pos_weight=15, subsample=0.75, score=0.9106959325282351, total=   6.1s\n",
      "Did not meet early stopping. Best iteration is:\n",
      "[1]\tvalid's binary_logloss: 0.942389\tvalid's auc: 0.809163\n",
      "[CV] boosting_type=gbdt, colsample_bytree=0.9, learning_rate=1, n_estimators=40, num_leaves=50, objective=binary, random_state=501, reg_alpha=0.2, reg_lambda=0.4, scale_pos_weight=15, subsample=0.75 \n",
      "Did not meet early stopping. Best iteration is:\n",
      "[1]\tvalid's binary_logloss: 0.960271\tvalid's auc: 0.815535\n",
      "Training until validation scores don't improve for 50 rounds.\n"
     ]
    },
    {
     "name": "stderr",
     "output_type": "stream",
     "text": [
      "/opt/anaconda/lib/python3.7/site-packages/sklearn/preprocessing/label.py:151: DeprecationWarning: The truth value of an empty array is ambiguous. Returning False, but in future this will result in an error. Use `array.size > 0` to check that an array is not empty.\n",
      "  if diff:\n",
      "/opt/anaconda/lib/python3.7/site-packages/sklearn/preprocessing/label.py:151: DeprecationWarning: The truth value of an empty array is ambiguous. Returning False, but in future this will result in an error. Use `array.size > 0` to check that an array is not empty.\n",
      "  if diff:\n"
     ]
    },
    {
     "name": "stdout",
     "output_type": "stream",
     "text": [
      "Did not meet early stopping. Best iteration is:\n",
      "[1]\tvalid's binary_logloss: 0.954335\tvalid's auc: 0.812872\n",
      "Training until validation scores don't improve for 50 rounds.\n"
     ]
    },
    {
     "name": "stderr",
     "output_type": "stream",
     "text": [
      "/opt/anaconda/lib/python3.7/site-packages/sklearn/preprocessing/label.py:151: DeprecationWarning: The truth value of an empty array is ambiguous. Returning False, but in future this will result in an error. Use `array.size > 0` to check that an array is not empty.\n",
      "  if diff:\n"
     ]
    },
    {
     "name": "stdout",
     "output_type": "stream",
     "text": [
      "Did not meet early stopping. Best iteration is:\n",
      "[1]\tvalid's binary_logloss: 0.960685\tvalid's auc: 0.804365[CV]  boosting_type=gbdt, colsample_bytree=0.9, learning_rate=1, n_estimators=40, num_leaves=50, objective=binary, random_state=501, reg_alpha=0.2, reg_lambda=0.2, scale_pos_weight=20, subsample=0.75, score=0.9091437802240875, total=   5.4s\n",
      "\n",
      "[CV] boosting_type=gbdt, colsample_bytree=0.9, learning_rate=1, n_estimators=40, num_leaves=50, objective=binary, random_state=501, reg_alpha=0.2, reg_lambda=0.4, scale_pos_weight=15, subsample=0.75 \n"
     ]
    },
    {
     "name": "stderr",
     "output_type": "stream",
     "text": [
      "/opt/anaconda/lib/python3.7/site-packages/sklearn/preprocessing/label.py:151: DeprecationWarning: The truth value of an empty array is ambiguous. Returning False, but in future this will result in an error. Use `array.size > 0` to check that an array is not empty.\n",
      "  if diff:\n"
     ]
    },
    {
     "name": "stdout",
     "output_type": "stream",
     "text": [
      "[CV]  boosting_type=gbdt, colsample_bytree=0.9, learning_rate=1, n_estimators=40, num_leaves=50, objective=binary, random_state=501, reg_alpha=0.2, reg_lambda=0.2, scale_pos_weight=20, subsample=0.75, score=0.9090865700850435, total=   5.6s\n",
      "[CV] boosting_type=gbdt, colsample_bytree=0.9, learning_rate=1, n_estimators=40, num_leaves=50, objective=binary, random_state=501, reg_alpha=0.2, reg_lambda=0.4, scale_pos_weight=15, subsample=0.75 \n"
     ]
    },
    {
     "name": "stderr",
     "output_type": "stream",
     "text": [
      "/opt/anaconda/lib/python3.7/site-packages/sklearn/preprocessing/label.py:151: DeprecationWarning: The truth value of an empty array is ambiguous. Returning False, but in future this will result in an error. Use `array.size > 0` to check that an array is not empty.\n",
      "  if diff:\n",
      "/opt/anaconda/lib/python3.7/site-packages/sklearn/preprocessing/label.py:151: DeprecationWarning: The truth value of an empty array is ambiguous. Returning False, but in future this will result in an error. Use `array.size > 0` to check that an array is not empty.\n",
      "  if diff:\n",
      "/opt/anaconda/lib/python3.7/site-packages/sklearn/preprocessing/label.py:151: DeprecationWarning: The truth value of an empty array is ambiguous. Returning False, but in future this will result in an error. Use `array.size > 0` to check that an array is not empty.\n",
      "  if diff:\n"
     ]
    },
    {
     "name": "stdout",
     "output_type": "stream",
     "text": [
      "[CV]  boosting_type=gbdt, colsample_bytree=0.9, learning_rate=1, n_estimators=40, num_leaves=50, objective=binary, random_state=501, reg_alpha=0.2, reg_lambda=0.2, scale_pos_weight=20, subsample=0.75, score=0.9103509110135318, total=   7.1s\n",
      "Training until validation scores don't improve for 50 rounds.\n",
      "[CV] boosting_type=gbdt, colsample_bytree=0.9, learning_rate=1, n_estimators=40, num_leaves=50, objective=binary, random_state=501, reg_alpha=0.2, reg_lambda=0.4, scale_pos_weight=15, subsample=0.75 \n",
      "Training until validation scores don't improve for 50 rounds.\n"
     ]
    },
    {
     "name": "stderr",
     "output_type": "stream",
     "text": [
      "/opt/anaconda/lib/python3.7/site-packages/sklearn/preprocessing/label.py:151: DeprecationWarning: The truth value of an empty array is ambiguous. Returning False, but in future this will result in an error. Use `array.size > 0` to check that an array is not empty.\n",
      "  if diff:\n"
     ]
    },
    {
     "name": "stdout",
     "output_type": "stream",
     "text": [
      "[CV]  boosting_type=gbdt, colsample_bytree=0.9, learning_rate=1, n_estimators=40, num_leaves=50, objective=binary, random_state=501, reg_alpha=0.2, reg_lambda=0.2, scale_pos_weight=20, subsample=0.75, score=0.9094493560485606, total=   7.1s\n",
      "Did not meet early stopping. Best iteration is:\n",
      "[1]\tvalid's binary_logloss: 1.00121\tvalid's auc: 0.802755Did not meet early stopping. Best iteration is:\n",
      "[1]\tvalid's binary_logloss: 1.00362\tvalid's auc: 0.807025\n",
      "\n",
      "[CV] boosting_type=gbdt, colsample_bytree=0.9, learning_rate=1, n_estimators=40, num_leaves=50, objective=binary, random_state=501, reg_alpha=0.2, reg_lambda=0.4, scale_pos_weight=20, subsample=0.75 \n",
      "Did not meet early stopping. Best iteration is:\n",
      "[1]\tvalid's binary_logloss: 0.944386\tvalid's auc: 0.809119Training until validation scores don't improve for 50 rounds.\n",
      "\n"
     ]
    },
    {
     "name": "stderr",
     "output_type": "stream",
     "text": [
      "/opt/anaconda/lib/python3.7/site-packages/sklearn/preprocessing/label.py:151: DeprecationWarning: The truth value of an empty array is ambiguous. Returning False, but in future this will result in an error. Use `array.size > 0` to check that an array is not empty.\n",
      "  if diff:\n",
      "/opt/anaconda/lib/python3.7/site-packages/sklearn/preprocessing/label.py:151: DeprecationWarning: The truth value of an empty array is ambiguous. Returning False, but in future this will result in an error. Use `array.size > 0` to check that an array is not empty.\n",
      "  if diff:\n",
      "/opt/anaconda/lib/python3.7/site-packages/sklearn/preprocessing/label.py:151: DeprecationWarning: The truth value of an empty array is ambiguous. Returning False, but in future this will result in an error. Use `array.size > 0` to check that an array is not empty.\n",
      "  if diff:\n",
      "/opt/anaconda/lib/python3.7/site-packages/sklearn/preprocessing/label.py:151: DeprecationWarning: The truth value of an empty array is ambiguous. Returning False, but in future this will result in an error. Use `array.size > 0` to check that an array is not empty.\n",
      "  if diff:\n"
     ]
    },
    {
     "name": "stdout",
     "output_type": "stream",
     "text": [
      "Training until validation scores don't improve for 50 rounds.\n",
      "[CV]  boosting_type=gbdt, colsample_bytree=0.9, learning_rate=1, n_estimators=40, num_leaves=50, objective=binary, random_state=501, reg_alpha=0.2, reg_lambda=0.2, scale_pos_weight=25, subsample=0.75, score=0.9107573390459893, total=   6.6s\n",
      "[CV] boosting_type=gbdt, colsample_bytree=0.9, learning_rate=1, n_estimators=40, num_leaves=50, objective=binary, random_state=501, reg_alpha=0.2, reg_lambda=0.4, scale_pos_weight=20, subsample=0.75 \n"
     ]
    },
    {
     "name": "stderr",
     "output_type": "stream",
     "text": [
      "/opt/anaconda/lib/python3.7/site-packages/sklearn/preprocessing/label.py:151: DeprecationWarning: The truth value of an empty array is ambiguous. Returning False, but in future this will result in an error. Use `array.size > 0` to check that an array is not empty.\n",
      "  if diff:\n"
     ]
    },
    {
     "name": "stdout",
     "output_type": "stream",
     "text": [
      "[CV]  boosting_type=gbdt, colsample_bytree=0.9, learning_rate=1, n_estimators=40, num_leaves=50, objective=binary, random_state=501, reg_alpha=0.2, reg_lambda=0.2, scale_pos_weight=25, subsample=0.75, score=0.9096477729157822, total=   5.5s\n",
      "Did not meet early stopping. Best iteration is:\n",
      "[1]\tvalid's binary_logloss: 1.00776\tvalid's auc: 0.797247\n",
      "[CV] boosting_type=gbdt, colsample_bytree=0.9, learning_rate=1, n_estimators=40, num_leaves=50, objective=binary, random_state=501, reg_alpha=0.2, reg_lambda=0.4, scale_pos_weight=20, subsample=0.75 \n"
     ]
    },
    {
     "name": "stderr",
     "output_type": "stream",
     "text": [
      "/opt/anaconda/lib/python3.7/site-packages/sklearn/preprocessing/label.py:151: DeprecationWarning: The truth value of an empty array is ambiguous. Returning False, but in future this will result in an error. Use `array.size > 0` to check that an array is not empty.\n",
      "  if diff:\n"
     ]
    },
    {
     "name": "stdout",
     "output_type": "stream",
     "text": [
      "[CV]  boosting_type=gbdt, colsample_bytree=0.9, learning_rate=1, n_estimators=40, num_leaves=50, objective=binary, random_state=501, reg_alpha=0.2, reg_lambda=0.2, scale_pos_weight=20, subsample=0.75, score=0.9115858531051152, total=   8.9s\n",
      "Did not meet early stopping. Best iteration is:\n",
      "[1]\tvalid's binary_logloss: 1.00519\tvalid's auc: 0.791677[CV] boosting_type=gbdt, colsample_bytree=0.9, learning_rate=1, n_estimators=40, num_leaves=50, objective=binary, random_state=501, reg_alpha=0.2, reg_lambda=0.4, scale_pos_weight=20, subsample=0.75 \n",
      "\n",
      "Training until validation scores don't improve for 50 rounds.\n"
     ]
    },
    {
     "name": "stderr",
     "output_type": "stream",
     "text": [
      "/opt/anaconda/lib/python3.7/site-packages/sklearn/preprocessing/label.py:151: DeprecationWarning: The truth value of an empty array is ambiguous. Returning False, but in future this will result in an error. Use `array.size > 0` to check that an array is not empty.\n",
      "  if diff:\n",
      "/opt/anaconda/lib/python3.7/site-packages/sklearn/preprocessing/label.py:151: DeprecationWarning: The truth value of an empty array is ambiguous. Returning False, but in future this will result in an error. Use `array.size > 0` to check that an array is not empty.\n",
      "  if diff:\n"
     ]
    },
    {
     "name": "stdout",
     "output_type": "stream",
     "text": [
      "Training until validation scores don't improve for 50 rounds.\n"
     ]
    },
    {
     "name": "stderr",
     "output_type": "stream",
     "text": [
      "/opt/anaconda/lib/python3.7/site-packages/sklearn/preprocessing/label.py:151: DeprecationWarning: The truth value of an empty array is ambiguous. Returning False, but in future this will result in an error. Use `array.size > 0` to check that an array is not empty.\n",
      "  if diff:\n"
     ]
    },
    {
     "name": "stdout",
     "output_type": "stream",
     "text": [
      "[CV]  boosting_type=gbdt, colsample_bytree=0.9, learning_rate=1, n_estimators=40, num_leaves=50, objective=binary, random_state=501, reg_alpha=0.2, reg_lambda=0.2, scale_pos_weight=25, subsample=0.75, score=0.9120320651176529, total=   6.1s\n"
     ]
    },
    {
     "name": "stderr",
     "output_type": "stream",
     "text": [
      "/opt/anaconda/lib/python3.7/site-packages/sklearn/preprocessing/label.py:151: DeprecationWarning: The truth value of an empty array is ambiguous. Returning False, but in future this will result in an error. Use `array.size > 0` to check that an array is not empty.\n",
      "  if diff:\n"
     ]
    },
    {
     "name": "stdout",
     "output_type": "stream",
     "text": [
      "[CV] boosting_type=gbdt, colsample_bytree=0.9, learning_rate=1, n_estimators=40, num_leaves=50, objective=binary, random_state=501, reg_alpha=0.2, reg_lambda=0.4, scale_pos_weight=20, subsample=0.75 \n",
      "[CV]  boosting_type=gbdt, colsample_bytree=0.9, learning_rate=1, n_estimators=40, num_leaves=50, objective=binary, random_state=501, reg_alpha=0.2, reg_lambda=0.2, scale_pos_weight=25, subsample=0.75, score=0.9092115277595915, total=   7.7s\n",
      "Training until validation scores don't improve for 50 rounds.\n",
      "[CV] boosting_type=gbdt, colsample_bytree=0.9, learning_rate=1, n_estimators=40, num_leaves=50, objective=binary, random_state=501, reg_alpha=0.2, reg_lambda=0.4, scale_pos_weight=25, subsample=0.75 \n",
      "Training until validation scores don't improve for 50 rounds.\n",
      "Did not meet early stopping. Best iteration is:\n",
      "[1]\tvalid's binary_logloss: 0.988528\tvalid's auc: 0.795348\n",
      "Did not meet early stopping. Best iteration is:\n",
      "[13]\tvalid's binary_logloss: 0.892633\tvalid's auc: 0.871076\n"
     ]
    },
    {
     "name": "stderr",
     "output_type": "stream",
     "text": [
      "/opt/anaconda/lib/python3.7/site-packages/sklearn/preprocessing/label.py:151: DeprecationWarning: The truth value of an empty array is ambiguous. Returning False, but in future this will result in an error. Use `array.size > 0` to check that an array is not empty.\n",
      "  if diff:\n",
      "/opt/anaconda/lib/python3.7/site-packages/sklearn/preprocessing/label.py:151: DeprecationWarning: The truth value of an empty array is ambiguous. Returning False, but in future this will result in an error. Use `array.size > 0` to check that an array is not empty.\n",
      "  if diff:\n"
     ]
    },
    {
     "name": "stdout",
     "output_type": "stream",
     "text": [
      "Training until validation scores don't improve for 50 rounds.\n",
      "Training until validation scores don't improve for 50 rounds.\n",
      "Did not meet early stopping. Best iteration is:\n",
      "[7]\tvalid's binary_logloss: 0.883148\tvalid's auc: 0.871873\n"
     ]
    },
    {
     "name": "stderr",
     "output_type": "stream",
     "text": [
      "/opt/anaconda/lib/python3.7/site-packages/sklearn/preprocessing/label.py:151: DeprecationWarning: The truth value of an empty array is ambiguous. Returning False, but in future this will result in an error. Use `array.size > 0` to check that an array is not empty.\n",
      "  if diff:\n"
     ]
    },
    {
     "name": "stdout",
     "output_type": "stream",
     "text": [
      "[CV]  boosting_type=gbdt, colsample_bytree=0.9, learning_rate=1, n_estimators=40, num_leaves=50, objective=binary, random_state=501, reg_alpha=0.2, reg_lambda=0.2, scale_pos_weight=25, subsample=0.75, score=0.9104568199630598, total=  10.8s\n"
     ]
    },
    {
     "name": "stderr",
     "output_type": "stream",
     "text": [
      "/opt/anaconda/lib/python3.7/site-packages/sklearn/preprocessing/label.py:151: DeprecationWarning: The truth value of an empty array is ambiguous. Returning False, but in future this will result in an error. Use `array.size > 0` to check that an array is not empty.\n",
      "  if diff:\n"
     ]
    },
    {
     "name": "stdout",
     "output_type": "stream",
     "text": [
      "[CV]  boosting_type=gbdt, colsample_bytree=0.9, learning_rate=1, n_estimators=40, num_leaves=50, objective=binary, random_state=501, reg_alpha=0.2, reg_lambda=0.4, scale_pos_weight=15, subsample=0.75, score=0.8896929773284199, total=   5.6s\n",
      "[CV] boosting_type=gbdt, colsample_bytree=0.9, learning_rate=1, n_estimators=40, num_leaves=50, objective=binary, random_state=501, reg_alpha=0.2, reg_lambda=0.4, scale_pos_weight=25, subsample=0.75 \n",
      "Did not meet early stopping. Best iteration is:\n",
      "[11]\tvalid's binary_logloss: 0.884484\tvalid's auc: 0.874351[CV] boosting_type=gbdt, colsample_bytree=0.9, learning_rate=1, n_estimators=40, num_leaves=50, objective=binary, random_state=501, reg_alpha=0.2, reg_lambda=0.4, scale_pos_weight=25, subsample=0.75 \n",
      "\n"
     ]
    },
    {
     "name": "stderr",
     "output_type": "stream",
     "text": [
      "/opt/anaconda/lib/python3.7/site-packages/sklearn/preprocessing/label.py:151: DeprecationWarning: The truth value of an empty array is ambiguous. Returning False, but in future this will result in an error. Use `array.size > 0` to check that an array is not empty.\n",
      "  if diff:\n"
     ]
    },
    {
     "name": "stdout",
     "output_type": "stream",
     "text": [
      "Did not meet early stopping. Best iteration is:\n",
      "[1]\tvalid's binary_logloss: 0.959075\tvalid's auc: 0.815613\n",
      "Did not meet early stopping. Best iteration is:\n",
      "[1]\tvalid's binary_logloss: 0.888625\tvalid's auc: 0.817339"
     ]
    },
    {
     "name": "stderr",
     "output_type": "stream",
     "text": [
      "/opt/anaconda/lib/python3.7/site-packages/sklearn/preprocessing/label.py:151: DeprecationWarning: The truth value of an empty array is ambiguous. Returning False, but in future this will result in an error. Use `array.size > 0` to check that an array is not empty.\n",
      "  if diff:\n"
     ]
    },
    {
     "name": "stdout",
     "output_type": "stream",
     "text": [
      "\n"
     ]
    },
    {
     "name": "stderr",
     "output_type": "stream",
     "text": [
      "/opt/anaconda/lib/python3.7/site-packages/sklearn/preprocessing/label.py:151: DeprecationWarning: The truth value of an empty array is ambiguous. Returning False, but in future this will result in an error. Use `array.size > 0` to check that an array is not empty.\n",
      "  if diff:\n"
     ]
    },
    {
     "name": "stdout",
     "output_type": "stream",
     "text": [
      "[CV]  boosting_type=gbdt, colsample_bytree=0.9, learning_rate=1, n_estimators=40, num_leaves=50, objective=binary, random_state=501, reg_alpha=0.2, reg_lambda=0.4, scale_pos_weight=15, subsample=0.75, score=0.9038335288195928, total=   7.9s\n",
      "[CV] boosting_type=gbdt, colsample_bytree=0.9, learning_rate=1, n_estimators=40, num_leaves=50, objective=binary, random_state=501, reg_alpha=0.2, reg_lambda=0.4, scale_pos_weight=25, subsample=0.75 \n"
     ]
    },
    {
     "name": "stderr",
     "output_type": "stream",
     "text": [
      "/opt/anaconda/lib/python3.7/site-packages/sklearn/preprocessing/label.py:151: DeprecationWarning: The truth value of an empty array is ambiguous. Returning False, but in future this will result in an error. Use `array.size > 0` to check that an array is not empty.\n",
      "  if diff:\n",
      "/opt/anaconda/lib/python3.7/site-packages/sklearn/preprocessing/label.py:151: DeprecationWarning: The truth value of an empty array is ambiguous. Returning False, but in future this will result in an error. Use `array.size > 0` to check that an array is not empty.\n",
      "  if diff:\n",
      "/opt/anaconda/lib/python3.7/site-packages/sklearn/preprocessing/label.py:151: DeprecationWarning: The truth value of an empty array is ambiguous. Returning False, but in future this will result in an error. Use `array.size > 0` to check that an array is not empty.\n",
      "  if diff:\n"
     ]
    },
    {
     "name": "stdout",
     "output_type": "stream",
     "text": [
      "[CV]  boosting_type=gbdt, colsample_bytree=0.9, learning_rate=1, n_estimators=40, num_leaves=50, objective=binary, random_state=501, reg_alpha=0.2, reg_lambda=0.4, scale_pos_weight=15, subsample=0.75, score=0.8989753202124336, total=   8.8s\n",
      "Did not meet early stopping. Best iteration is:\n",
      "[1]\tvalid's binary_logloss: 0.954205\tvalid's auc: 0.812878[CV] boosting_type=gbdt, colsample_bytree=0.9, learning_rate=1, n_estimators=40, num_leaves=50, objective=binary, random_state=501, reg_alpha=0.2, reg_lambda=0.4, scale_pos_weight=25, subsample=0.75 \n",
      "Training until validation scores don't improve for 50 rounds.\n",
      "\n"
     ]
    },
    {
     "name": "stderr",
     "output_type": "stream",
     "text": [
      "/opt/anaconda/lib/python3.7/site-packages/sklearn/preprocessing/label.py:151: DeprecationWarning: The truth value of an empty array is ambiguous. Returning False, but in future this will result in an error. Use `array.size > 0` to check that an array is not empty.\n",
      "  if diff:\n"
     ]
    },
    {
     "name": "stdout",
     "output_type": "stream",
     "text": [
      "Training until validation scores don't improve for 50 rounds.\n",
      "[CV]  boosting_type=gbdt, colsample_bytree=0.9, learning_rate=1, n_estimators=40, num_leaves=50, objective=binary, random_state=501, reg_alpha=0.2, reg_lambda=0.4, scale_pos_weight=20, subsample=0.75, score=0.9099552857096207, total=   4.5s\n",
      "[CV] boosting_type=gbdt, colsample_bytree=0.9, learning_rate=1, n_estimators=40, num_leaves=50, objective=binary, random_state=501, reg_alpha=0.6, reg_lambda=0.2, scale_pos_weight=15, subsample=0.75 \n"
     ]
    },
    {
     "name": "stderr",
     "output_type": "stream",
     "text": [
      "/opt/anaconda/lib/python3.7/site-packages/sklearn/preprocessing/label.py:151: DeprecationWarning: The truth value of an empty array is ambiguous. Returning False, but in future this will result in an error. Use `array.size > 0` to check that an array is not empty.\n",
      "  if diff:\n"
     ]
    },
    {
     "name": "stdout",
     "output_type": "stream",
     "text": [
      "Did not meet early stopping. Best iteration is:\n",
      "[1]\tvalid's binary_logloss: 0.961167\tvalid's auc: 0.804517[CV]  boosting_type=gbdt, colsample_bytree=0.9, learning_rate=1, n_estimators=40, num_leaves=50, objective=binary, random_state=501, reg_alpha=0.2, reg_lambda=0.4, scale_pos_weight=15, subsample=0.75, score=0.9106959325282351, total=   6.6s\n"
     ]
    },
    {
     "name": "stderr",
     "output_type": "stream",
     "text": [
      "/opt/anaconda/lib/python3.7/site-packages/sklearn/preprocessing/label.py:151: DeprecationWarning: The truth value of an empty array is ambiguous. Returning False, but in future this will result in an error. Use `array.size > 0` to check that an array is not empty.\n",
      "  if diff:\n"
     ]
    },
    {
     "name": "stdout",
     "output_type": "stream",
     "text": [
      "\n",
      "Did not meet early stopping. Best iteration is:\n",
      "[4]\tvalid's binary_logloss: 0.897363\tvalid's auc: 0.870798[CV] boosting_type=gbdt, colsample_bytree=0.9, learning_rate=1, n_estimators=40, num_leaves=50, objective=binary, random_state=501, reg_alpha=0.6, reg_lambda=0.2, scale_pos_weight=15, subsample=0.75 \n",
      "\n",
      "Did not meet early stopping. Best iteration is:\n",
      "[1]\tvalid's binary_logloss: 0.943612\tvalid's auc: 0.809114Training until validation scores don't improve for 50 rounds.\n",
      "\n"
     ]
    },
    {
     "name": "stderr",
     "output_type": "stream",
     "text": [
      "/opt/anaconda/lib/python3.7/site-packages/sklearn/preprocessing/label.py:151: DeprecationWarning: The truth value of an empty array is ambiguous. Returning False, but in future this will result in an error. Use `array.size > 0` to check that an array is not empty.\n",
      "  if diff:\n",
      "/opt/anaconda/lib/python3.7/site-packages/sklearn/preprocessing/label.py:151: DeprecationWarning: The truth value of an empty array is ambiguous. Returning False, but in future this will result in an error. Use `array.size > 0` to check that an array is not empty.\n",
      "  if diff:\n"
     ]
    },
    {
     "name": "stdout",
     "output_type": "stream",
     "text": [
      "Did not meet early stopping. Best iteration is:\n",
      "[1]\tvalid's binary_logloss: 0.942282\tvalid's auc: 0.809256"
     ]
    },
    {
     "name": "stderr",
     "output_type": "stream",
     "text": [
      "/opt/anaconda/lib/python3.7/site-packages/sklearn/preprocessing/label.py:151: DeprecationWarning: The truth value of an empty array is ambiguous. Returning False, but in future this will result in an error. Use `array.size > 0` to check that an array is not empty.\n",
      "  if diff:\n"
     ]
    },
    {
     "name": "stdout",
     "output_type": "stream",
     "text": [
      "\n",
      "[CV]  boosting_type=gbdt, colsample_bytree=0.9, learning_rate=1, n_estimators=40, num_leaves=50, objective=binary, random_state=501, reg_alpha=0.2, reg_lambda=0.4, scale_pos_weight=20, subsample=0.75, score=0.9103509110135318, total=   5.8s\n",
      "[CV] boosting_type=gbdt, colsample_bytree=0.9, learning_rate=1, n_estimators=40, num_leaves=50, objective=binary, random_state=501, reg_alpha=0.6, reg_lambda=0.2, scale_pos_weight=15, subsample=0.75 \n",
      "Training until validation scores don't improve for 50 rounds.\n"
     ]
    },
    {
     "name": "stderr",
     "output_type": "stream",
     "text": [
      "/opt/anaconda/lib/python3.7/site-packages/sklearn/preprocessing/label.py:151: DeprecationWarning: The truth value of an empty array is ambiguous. Returning False, but in future this will result in an error. Use `array.size > 0` to check that an array is not empty.\n",
      "  if diff:\n",
      "/opt/anaconda/lib/python3.7/site-packages/sklearn/preprocessing/label.py:151: DeprecationWarning: The truth value of an empty array is ambiguous. Returning False, but in future this will result in an error. Use `array.size > 0` to check that an array is not empty.\n",
      "  if diff:\n"
     ]
    },
    {
     "name": "stdout",
     "output_type": "stream",
     "text": [
      "Training until validation scores don't improve for 50 rounds.\n"
     ]
    },
    {
     "name": "stderr",
     "output_type": "stream",
     "text": [
      "/opt/anaconda/lib/python3.7/site-packages/sklearn/preprocessing/label.py:151: DeprecationWarning: The truth value of an empty array is ambiguous. Returning False, but in future this will result in an error. Use `array.size > 0` to check that an array is not empty.\n",
      "  if diff:\n"
     ]
    },
    {
     "name": "stdout",
     "output_type": "stream",
     "text": [
      "[CV]  boosting_type=gbdt, colsample_bytree=0.9, learning_rate=1, n_estimators=40, num_leaves=50, objective=binary, random_state=501, reg_alpha=0.2, reg_lambda=0.4, scale_pos_weight=20, subsample=0.75, score=0.9093118675059392, total=   5.9s\n"
     ]
    },
    {
     "name": "stderr",
     "output_type": "stream",
     "text": [
      "/opt/anaconda/lib/python3.7/site-packages/sklearn/preprocessing/label.py:151: DeprecationWarning: The truth value of an empty array is ambiguous. Returning False, but in future this will result in an error. Use `array.size > 0` to check that an array is not empty.\n",
      "  if diff:\n"
     ]
    },
    {
     "name": "stdout",
     "output_type": "stream",
     "text": [
      "Training until validation scores don't improve for 50 rounds.\n",
      "[CV]  boosting_type=gbdt, colsample_bytree=0.9, learning_rate=1, n_estimators=40, num_leaves=50, objective=binary, random_state=501, reg_alpha=0.2, reg_lambda=0.4, scale_pos_weight=15, subsample=0.75, score=0.9061414214805865, total=   8.6s\n",
      "[CV] boosting_type=gbdt, colsample_bytree=0.9, learning_rate=1, n_estimators=40, num_leaves=50, objective=binary, random_state=501, reg_alpha=0.6, reg_lambda=0.2, scale_pos_weight=15, subsample=0.75 \n",
      "[CV] boosting_type=gbdt, colsample_bytree=0.9, learning_rate=1, n_estimators=40, num_leaves=50, objective=binary, random_state=501, reg_alpha=0.6, reg_lambda=0.2, scale_pos_weight=15, subsample=0.75 \n"
     ]
    },
    {
     "name": "stderr",
     "output_type": "stream",
     "text": [
      "/opt/anaconda/lib/python3.7/site-packages/sklearn/preprocessing/label.py:151: DeprecationWarning: The truth value of an empty array is ambiguous. Returning False, but in future this will result in an error. Use `array.size > 0` to check that an array is not empty.\n",
      "  if diff:\n"
     ]
    },
    {
     "name": "stdout",
     "output_type": "stream",
     "text": [
      "[CV]  boosting_type=gbdt, colsample_bytree=0.9, learning_rate=1, n_estimators=40, num_leaves=50, objective=binary, random_state=501, reg_alpha=0.2, reg_lambda=0.4, scale_pos_weight=20, subsample=0.75, score=0.9094272867450471, total=   5.1s\n",
      "[CV] boosting_type=gbdt, colsample_bytree=0.9, learning_rate=1, n_estimators=40, num_leaves=50, objective=binary, random_state=501, reg_alpha=0.6, reg_lambda=0.2, scale_pos_weight=20, subsample=0.75 \n"
     ]
    },
    {
     "name": "stderr",
     "output_type": "stream",
     "text": [
      "/opt/anaconda/lib/python3.7/site-packages/sklearn/preprocessing/label.py:151: DeprecationWarning: The truth value of an empty array is ambiguous. Returning False, but in future this will result in an error. Use `array.size > 0` to check that an array is not empty.\n",
      "  if diff:\n"
     ]
    },
    {
     "name": "stdout",
     "output_type": "stream",
     "text": [
      "[CV]  boosting_type=gbdt, colsample_bytree=0.9, learning_rate=1, n_estimators=40, num_leaves=50, objective=binary, random_state=501, reg_alpha=0.2, reg_lambda=0.4, scale_pos_weight=20, subsample=0.75, score=0.9110804189480262, total=   8.2s\n",
      "[CV] boosting_type=gbdt, colsample_bytree=0.9, learning_rate=1, n_estimators=40, num_leaves=50, objective=binary, random_state=501, reg_alpha=0.6, reg_lambda=0.2, scale_pos_weight=20, subsample=0.75 \n",
      "Training until validation scores don't improve for 50 rounds.\n",
      "Did not meet early stopping. Best iteration is:\n",
      "[1]\tvalid's binary_logloss: 0.987743\tvalid's auc: 0.795335\n",
      "Training until validation scores don't improve for 50 rounds.\n",
      "Training until validation scores don't improve for 50 rounds.\n",
      "Did not meet early stopping. Best iteration is:\n",
      "[6]\tvalid's binary_logloss: 0.887691\tvalid's auc: 0.871106\n",
      "Training until validation scores don't improve for 50 rounds.\n"
     ]
    },
    {
     "name": "stderr",
     "output_type": "stream",
     "text": [
      "/opt/anaconda/lib/python3.7/site-packages/sklearn/preprocessing/label.py:151: DeprecationWarning: The truth value of an empty array is ambiguous. Returning False, but in future this will result in an error. Use `array.size > 0` to check that an array is not empty.\n",
      "  if diff:\n"
     ]
    },
    {
     "name": "stdout",
     "output_type": "stream",
     "text": [
      "Training until validation scores don't improve for 50 rounds.\n",
      "Did not meet early stopping. Best iteration is:\n",
      "[1]\tvalid's binary_logloss: 1.00114\tvalid's auc: 0.802762\n"
     ]
    },
    {
     "name": "stderr",
     "output_type": "stream",
     "text": [
      "/opt/anaconda/lib/python3.7/site-packages/sklearn/preprocessing/label.py:151: DeprecationWarning: The truth value of an empty array is ambiguous. Returning False, but in future this will result in an error. Use `array.size > 0` to check that an array is not empty.\n",
      "  if diff:\n",
      "/opt/anaconda/lib/python3.7/site-packages/sklearn/preprocessing/label.py:151: DeprecationWarning: The truth value of an empty array is ambiguous. Returning False, but in future this will result in an error. Use `array.size > 0` to check that an array is not empty.\n",
      "  if diff:\n"
     ]
    },
    {
     "name": "stdout",
     "output_type": "stream",
     "text": [
      "[CV]  boosting_type=gbdt, colsample_bytree=0.9, learning_rate=1, n_estimators=40, num_leaves=50, objective=binary, random_state=501, reg_alpha=0.2, reg_lambda=0.4, scale_pos_weight=25, subsample=0.75, score=0.9107317340524068, total=   7.4s\n",
      "Did not meet early stopping. Best iteration is:\n",
      "[1]\tvalid's binary_logloss: 1.00772\tvalid's auc: 0.797268[CV] boosting_type=gbdt, colsample_bytree=0.9, learning_rate=1, n_estimators=40, num_leaves=50, objective=binary, random_state=501, reg_alpha=0.6, reg_lambda=0.2, scale_pos_weight=20, subsample=0.75 \n",
      "\n"
     ]
    },
    {
     "name": "stderr",
     "output_type": "stream",
     "text": [
      "/opt/anaconda/lib/python3.7/site-packages/sklearn/preprocessing/label.py:151: DeprecationWarning: The truth value of an empty array is ambiguous. Returning False, but in future this will result in an error. Use `array.size > 0` to check that an array is not empty.\n",
      "  if diff:\n",
      "/opt/anaconda/lib/python3.7/site-packages/sklearn/preprocessing/label.py:151: DeprecationWarning: The truth value of an empty array is ambiguous. Returning False, but in future this will result in an error. Use `array.size > 0` to check that an array is not empty.\n",
      "  if diff:\n"
     ]
    },
    {
     "name": "stdout",
     "output_type": "stream",
     "text": [
      "[CV]  boosting_type=gbdt, colsample_bytree=0.9, learning_rate=1, n_estimators=40, num_leaves=50, objective=binary, random_state=501, reg_alpha=0.6, reg_lambda=0.2, scale_pos_weight=15, subsample=0.75, score=0.904373962084217, total=   4.1s\n",
      "Did not meet early stopping. Best iteration is:\n",
      "[1]\tvalid's binary_logloss: 1.00512\tvalid's auc: 0.791681[CV] boosting_type=gbdt, colsample_bytree=0.9, learning_rate=1, n_estimators=40, num_leaves=50, objective=binary, random_state=501, reg_alpha=0.6, reg_lambda=0.2, scale_pos_weight=20, subsample=0.75 \n",
      "\n"
     ]
    },
    {
     "name": "stderr",
     "output_type": "stream",
     "text": [
      "/opt/anaconda/lib/python3.7/site-packages/sklearn/preprocessing/label.py:151: DeprecationWarning: The truth value of an empty array is ambiguous. Returning False, but in future this will result in an error. Use `array.size > 0` to check that an array is not empty.\n",
      "  if diff:\n"
     ]
    },
    {
     "name": "stdout",
     "output_type": "stream",
     "text": [
      "[CV]  boosting_type=gbdt, colsample_bytree=0.9, learning_rate=1, n_estimators=40, num_leaves=50, objective=binary, random_state=501, reg_alpha=0.2, reg_lambda=0.4, scale_pos_weight=25, subsample=0.75, score=0.9107573390459893, total=   6.3s\n"
     ]
    },
    {
     "name": "stderr",
     "output_type": "stream",
     "text": [
      "/opt/anaconda/lib/python3.7/site-packages/sklearn/preprocessing/label.py:151: DeprecationWarning: The truth value of an empty array is ambiguous. Returning False, but in future this will result in an error. Use `array.size > 0` to check that an array is not empty.\n",
      "  if diff:\n"
     ]
    },
    {
     "name": "stdout",
     "output_type": "stream",
     "text": [
      "[CV] boosting_type=gbdt, colsample_bytree=0.9, learning_rate=1, n_estimators=40, num_leaves=50, objective=binary, random_state=501, reg_alpha=0.6, reg_lambda=0.2, scale_pos_weight=20, subsample=0.75 \n"
     ]
    },
    {
     "name": "stderr",
     "output_type": "stream",
     "text": [
      "/opt/anaconda/lib/python3.7/site-packages/sklearn/preprocessing/label.py:151: DeprecationWarning: The truth value of an empty array is ambiguous. Returning False, but in future this will result in an error. Use `array.size > 0` to check that an array is not empty.\n",
      "  if diff:\n"
     ]
    },
    {
     "name": "stdout",
     "output_type": "stream",
     "text": [
      "Did not meet early stopping. Best iteration is:\n",
      "[5]\tvalid's binary_logloss: 0.894451\tvalid's auc: 0.874124\n"
     ]
    },
    {
     "name": "stderr",
     "output_type": "stream",
     "text": [
      "/opt/anaconda/lib/python3.7/site-packages/sklearn/preprocessing/label.py:151: DeprecationWarning: The truth value of an empty array is ambiguous. Returning False, but in future this will result in an error. Use `array.size > 0` to check that an array is not empty.\n",
      "  if diff:\n"
     ]
    },
    {
     "name": "stdout",
     "output_type": "stream",
     "text": [
      "[CV]  boosting_type=gbdt, colsample_bytree=0.9, learning_rate=1, n_estimators=40, num_leaves=50, objective=binary, random_state=501, reg_alpha=0.2, reg_lambda=0.4, scale_pos_weight=25, subsample=0.75, score=0.9117322196080987, total=   5.4s\n",
      "[CV] boosting_type=gbdt, colsample_bytree=0.9, learning_rate=1, n_estimators=40, num_leaves=50, objective=binary, random_state=501, reg_alpha=0.6, reg_lambda=0.2, scale_pos_weight=25, subsample=0.75 \n"
     ]
    },
    {
     "name": "stderr",
     "output_type": "stream",
     "text": [
      "/opt/anaconda/lib/python3.7/site-packages/sklearn/preprocessing/label.py:151: DeprecationWarning: The truth value of an empty array is ambiguous. Returning False, but in future this will result in an error. Use `array.size > 0` to check that an array is not empty.\n",
      "  if diff:\n"
     ]
    },
    {
     "name": "stdout",
     "output_type": "stream",
     "text": [
      "[CV]  boosting_type=gbdt, colsample_bytree=0.9, learning_rate=1, n_estimators=40, num_leaves=50, objective=binary, random_state=501, reg_alpha=0.2, reg_lambda=0.4, scale_pos_weight=25, subsample=0.75, score=0.9092115277595915, total=   7.2s\n",
      "Training until validation scores don't improve for 50 rounds.\n"
     ]
    },
    {
     "name": "stderr",
     "output_type": "stream",
     "text": [
      "/opt/anaconda/lib/python3.7/site-packages/sklearn/preprocessing/label.py:151: DeprecationWarning: The truth value of an empty array is ambiguous. Returning False, but in future this will result in an error. Use `array.size > 0` to check that an array is not empty.\n",
      "  if diff:\n"
     ]
    },
    {
     "name": "stdout",
     "output_type": "stream",
     "text": [
      "[CV] boosting_type=gbdt, colsample_bytree=0.9, learning_rate=1, n_estimators=40, num_leaves=50, objective=binary, random_state=501, reg_alpha=0.6, reg_lambda=0.2, scale_pos_weight=25, subsample=0.75 \n",
      "Training until validation scores don't improve for 50 rounds.\n",
      "Training until validation scores don't improve for 50 rounds.\n"
     ]
    },
    {
     "name": "stderr",
     "output_type": "stream",
     "text": [
      "/opt/anaconda/lib/python3.7/site-packages/sklearn/preprocessing/label.py:151: DeprecationWarning: The truth value of an empty array is ambiguous. Returning False, but in future this will result in an error. Use `array.size > 0` to check that an array is not empty.\n",
      "  if diff:\n"
     ]
    },
    {
     "name": "stdout",
     "output_type": "stream",
     "text": [
      "[CV]  boosting_type=gbdt, colsample_bytree=0.9, learning_rate=1, n_estimators=40, num_leaves=50, objective=binary, random_state=501, reg_alpha=0.6, reg_lambda=0.2, scale_pos_weight=15, subsample=0.75, score=0.9043500508488018, total=   4.5s\n",
      "Did not meet early stopping. Best iteration is:\n",
      "[1]\tvalid's binary_logloss: 0.951253\tvalid's auc: 0.811148[CV] boosting_type=gbdt, colsample_bytree=0.9, learning_rate=1, n_estimators=40, num_leaves=50, objective=binary, random_state=501, reg_alpha=0.6, reg_lambda=0.2, scale_pos_weight=25, subsample=0.75 \n",
      "\n",
      "Training until validation scores don't improve for 50 rounds.\n"
     ]
    },
    {
     "name": "stderr",
     "output_type": "stream",
     "text": [
      "/opt/anaconda/lib/python3.7/site-packages/sklearn/preprocessing/label.py:151: DeprecationWarning: The truth value of an empty array is ambiguous. Returning False, but in future this will result in an error. Use `array.size > 0` to check that an array is not empty.\n",
      "  if diff:\n"
     ]
    },
    {
     "name": "stdout",
     "output_type": "stream",
     "text": [
      "Did not meet early stopping. Best iteration is:\n",
      "[9]\tvalid's binary_logloss: 0.874377\tvalid's auc: 0.872855\n",
      "Training until validation scores don't improve for 50 rounds.\n",
      "Did not meet early stopping. Best iteration is:\n",
      "[1]\tvalid's binary_logloss: 0.943505\tvalid's auc: 0.809158\n"
     ]
    },
    {
     "name": "stderr",
     "output_type": "stream",
     "text": [
      "/opt/anaconda/lib/python3.7/site-packages/sklearn/preprocessing/label.py:151: DeprecationWarning: The truth value of an empty array is ambiguous. Returning False, but in future this will result in an error. Use `array.size > 0` to check that an array is not empty.\n",
      "  if diff:\n",
      "/opt/anaconda/lib/python3.7/site-packages/sklearn/preprocessing/label.py:151: DeprecationWarning: The truth value of an empty array is ambiguous. Returning False, but in future this will result in an error. Use `array.size > 0` to check that an array is not empty.\n",
      "  if diff:\n"
     ]
    },
    {
     "name": "stdout",
     "output_type": "stream",
     "text": [
      "[CV]  boosting_type=gbdt, colsample_bytree=0.9, learning_rate=1, n_estimators=40, num_leaves=50, objective=binary, random_state=501, reg_alpha=0.6, reg_lambda=0.2, scale_pos_weight=20, subsample=0.75, score=0.9112079270897913, total=   5.3s\n",
      "Training until validation scores don't improve for 50 rounds.\n"
     ]
    },
    {
     "name": "stderr",
     "output_type": "stream",
     "text": [
      "/opt/anaconda/lib/python3.7/site-packages/sklearn/preprocessing/label.py:151: DeprecationWarning: The truth value of an empty array is ambiguous. Returning False, but in future this will result in an error. Use `array.size > 0` to check that an array is not empty.\n",
      "  if diff:\n"
     ]
    },
    {
     "name": "stdout",
     "output_type": "stream",
     "text": [
      "Did not meet early stopping. Best iteration is:\n",
      "[1]\tvalid's binary_logloss: 1.00319\tvalid's auc: 0.799905[CV] boosting_type=gbdt, colsample_bytree=0.9, learning_rate=1, n_estimators=40, num_leaves=50, objective=binary, random_state=501, reg_alpha=0.6, reg_lambda=0.2, scale_pos_weight=25, subsample=0.75 \n",
      "\n"
     ]
    },
    {
     "name": "stderr",
     "output_type": "stream",
     "text": [
      "/opt/anaconda/lib/python3.7/site-packages/sklearn/preprocessing/label.py:151: DeprecationWarning: The truth value of an empty array is ambiguous. Returning False, but in future this will result in an error. Use `array.size > 0` to check that an array is not empty.\n",
      "  if diff:\n",
      "/opt/anaconda/lib/python3.7/site-packages/sklearn/preprocessing/label.py:151: DeprecationWarning: The truth value of an empty array is ambiguous. Returning False, but in future this will result in an error. Use `array.size > 0` to check that an array is not empty.\n",
      "  if diff:\n"
     ]
    },
    {
     "name": "stdout",
     "output_type": "stream",
     "text": [
      "[CV]  boosting_type=gbdt, colsample_bytree=0.9, learning_rate=1, n_estimators=40, num_leaves=50, objective=binary, random_state=501, reg_alpha=0.6, reg_lambda=0.2, scale_pos_weight=15, subsample=0.75, score=0.902016177117043, total=   7.4s\n"
     ]
    },
    {
     "name": "stderr",
     "output_type": "stream",
     "text": [
      "/opt/anaconda/lib/python3.7/site-packages/sklearn/preprocessing/label.py:151: DeprecationWarning: The truth value of an empty array is ambiguous. Returning False, but in future this will result in an error. Use `array.size > 0` to check that an array is not empty.\n",
      "  if diff:\n"
     ]
    },
    {
     "name": "stdout",
     "output_type": "stream",
     "text": [
      "Did not meet early stopping. Best iteration is:\n",
      "[1]\tvalid's binary_logloss: 0.888551\tvalid's auc: 0.817339[CV]  boosting_type=gbdt, colsample_bytree=0.9, learning_rate=1, n_estimators=40, num_leaves=50, objective=binary, random_state=501, reg_alpha=0.6, reg_lambda=0.2, scale_pos_weight=20, subsample=0.75, score=0.9110804189480262, total=   6.4s\n",
      "\n",
      "[CV] boosting_type=gbdt, colsample_bytree=0.9, learning_rate=1, n_estimators=40, num_leaves=50, objective=binary, random_state=501, reg_alpha=0.6, reg_lambda=0.2, scale_pos_weight=25, subsample=0.75 \n",
      "Did not meet early stopping. Best iteration is:\n",
      "[1]\tvalid's binary_logloss: 0.961137\tvalid's auc: 0.804517Did not meet early stopping. Best iteration is:\n",
      "[1]\tvalid's binary_logloss: 0.894712\tvalid's auc: 0.819498\n",
      "[CV] boosting_type=gbdt, colsample_bytree=0.9, learning_rate=1, n_estimators=40, num_leaves=50, objective=binary, random_state=501, reg_alpha=0.6, reg_lambda=0.4, scale_pos_weight=15, subsample=0.75 \n",
      "\n"
     ]
    },
    {
     "name": "stderr",
     "output_type": "stream",
     "text": [
      "/opt/anaconda/lib/python3.7/site-packages/sklearn/preprocessing/label.py:151: DeprecationWarning: The truth value of an empty array is ambiguous. Returning False, but in future this will result in an error. Use `array.size > 0` to check that an array is not empty.\n",
      "  if diff:\n",
      "/opt/anaconda/lib/python3.7/site-packages/sklearn/preprocessing/label.py:151: DeprecationWarning: The truth value of an empty array is ambiguous. Returning False, but in future this will result in an error. Use `array.size > 0` to check that an array is not empty.\n",
      "  if diff:\n",
      "/opt/anaconda/lib/python3.7/site-packages/sklearn/preprocessing/label.py:151: DeprecationWarning: The truth value of an empty array is ambiguous. Returning False, but in future this will result in an error. Use `array.size > 0` to check that an array is not empty.\n",
      "  if diff:\n",
      "/opt/anaconda/lib/python3.7/site-packages/sklearn/preprocessing/label.py:151: DeprecationWarning: The truth value of an empty array is ambiguous. Returning False, but in future this will result in an error. Use `array.size > 0` to check that an array is not empty.\n",
      "  if diff:\n"
     ]
    },
    {
     "name": "stdout",
     "output_type": "stream",
     "text": [
      "[CV]  boosting_type=gbdt, colsample_bytree=0.9, learning_rate=1, n_estimators=40, num_leaves=50, objective=binary, random_state=501, reg_alpha=0.2, reg_lambda=0.4, scale_pos_weight=25, subsample=0.75, score=0.9084638180452601, total=   9.7s\n",
      "[CV] boosting_type=gbdt, colsample_bytree=0.9, learning_rate=1, n_estimators=40, num_leaves=50, objective=binary, random_state=501, reg_alpha=0.6, reg_lambda=0.4, scale_pos_weight=15, subsample=0.75 \n",
      "Did not meet early stopping. Best iteration is:\n",
      "[1]\tvalid's binary_logloss: 0.959015\tvalid's auc: 0.815613\n",
      "Did not meet early stopping. Best iteration is:\n",
      "[1]\tvalid's binary_logloss: 0.987376\tvalid's auc: 0.795265\n"
     ]
    },
    {
     "name": "stderr",
     "output_type": "stream",
     "text": [
      "/opt/anaconda/lib/python3.7/site-packages/sklearn/preprocessing/label.py:151: DeprecationWarning: The truth value of an empty array is ambiguous. Returning False, but in future this will result in an error. Use `array.size > 0` to check that an array is not empty.\n",
      "  if diff:\n",
      "/opt/anaconda/lib/python3.7/site-packages/sklearn/preprocessing/label.py:151: DeprecationWarning: The truth value of an empty array is ambiguous. Returning False, but in future this will result in an error. Use `array.size > 0` to check that an array is not empty.\n",
      "  if diff:\n"
     ]
    },
    {
     "name": "stdout",
     "output_type": "stream",
     "text": [
      "Training until validation scores don't improve for 50 rounds.\n",
      "[CV]  boosting_type=gbdt, colsample_bytree=0.9, learning_rate=1, n_estimators=40, num_leaves=50, objective=binary, random_state=501, reg_alpha=0.6, reg_lambda=0.2, scale_pos_weight=15, subsample=0.75, score=0.9103933499318293, total=   9.1s\n",
      "[CV]  boosting_type=gbdt, colsample_bytree=0.9, learning_rate=1, n_estimators=40, num_leaves=50, objective=binary, random_state=501, reg_alpha=0.6, reg_lambda=0.2, scale_pos_weight=15, subsample=0.75, score=0.9106959325282351, total=   7.5s\n"
     ]
    },
    {
     "name": "stderr",
     "output_type": "stream",
     "text": [
      "/opt/anaconda/lib/python3.7/site-packages/sklearn/preprocessing/label.py:151: DeprecationWarning: The truth value of an empty array is ambiguous. Returning False, but in future this will result in an error. Use `array.size > 0` to check that an array is not empty.\n",
      "  if diff:\n"
     ]
    },
    {
     "name": "stdout",
     "output_type": "stream",
     "text": [
      "[CV]  boosting_type=gbdt, colsample_bytree=0.9, learning_rate=1, n_estimators=40, num_leaves=50, objective=binary, random_state=501, reg_alpha=0.6, reg_lambda=0.2, scale_pos_weight=20, subsample=0.75, score=0.9093118675059392, total=   5.1s\n",
      "[CV] boosting_type=gbdt, colsample_bytree=0.9, learning_rate=1, n_estimators=40, num_leaves=50, objective=binary, random_state=501, reg_alpha=0.6, reg_lambda=0.4, scale_pos_weight=15, subsample=0.75 \n",
      "[CV] boosting_type=gbdt, colsample_bytree=0.9, learning_rate=1, n_estimators=40, num_leaves=50, objective=binary, random_state=501, reg_alpha=0.6, reg_lambda=0.4, scale_pos_weight=15, subsample=0.75 \n",
      "[CV] boosting_type=gbdt, colsample_bytree=0.9, learning_rate=1, n_estimators=40, num_leaves=50, objective=binary, random_state=501, reg_alpha=0.6, reg_lambda=0.4, scale_pos_weight=15, subsample=0.75 \n"
     ]
    },
    {
     "name": "stderr",
     "output_type": "stream",
     "text": [
      "/opt/anaconda/lib/python3.7/site-packages/sklearn/preprocessing/label.py:151: DeprecationWarning: The truth value of an empty array is ambiguous. Returning False, but in future this will result in an error. Use `array.size > 0` to check that an array is not empty.\n",
      "  if diff:\n",
      "/opt/anaconda/lib/python3.7/site-packages/sklearn/preprocessing/label.py:151: DeprecationWarning: The truth value of an empty array is ambiguous. Returning False, but in future this will result in an error. Use `array.size > 0` to check that an array is not empty.\n",
      "  if diff:\n"
     ]
    },
    {
     "name": "stdout",
     "output_type": "stream",
     "text": [
      "Training until validation scores don't improve for 50 rounds.\n",
      "Training until validation scores don't improve for 50 rounds.\n"
     ]
    },
    {
     "name": "stderr",
     "output_type": "stream",
     "text": [
      "/opt/anaconda/lib/python3.7/site-packages/sklearn/preprocessing/label.py:151: DeprecationWarning: The truth value of an empty array is ambiguous. Returning False, but in future this will result in an error. Use `array.size > 0` to check that an array is not empty.\n",
      "  if diff:\n",
      "/opt/anaconda/lib/python3.7/site-packages/sklearn/preprocessing/label.py:151: DeprecationWarning: The truth value of an empty array is ambiguous. Returning False, but in future this will result in an error. Use `array.size > 0` to check that an array is not empty.\n",
      "  if diff:\n"
     ]
    },
    {
     "name": "stdout",
     "output_type": "stream",
     "text": [
      "Training until validation scores don't improve for 50 rounds.\n",
      "[CV]  boosting_type=gbdt, colsample_bytree=0.9, learning_rate=1, n_estimators=40, num_leaves=50, objective=binary, random_state=501, reg_alpha=0.6, reg_lambda=0.2, scale_pos_weight=25, subsample=0.75, score=0.9110524671566451, total=   4.6s\n",
      "[CV]  boosting_type=gbdt, colsample_bytree=0.9, learning_rate=1, n_estimators=40, num_leaves=50, objective=binary, random_state=501, reg_alpha=0.6, reg_lambda=0.2, scale_pos_weight=20, subsample=0.75, score=0.9099552857096207, total=   5.4s\n",
      "[CV] boosting_type=gbdt, colsample_bytree=0.9, learning_rate=1, n_estimators=40, num_leaves=50, objective=binary, random_state=501, reg_alpha=0.6, reg_lambda=0.4, scale_pos_weight=20, subsample=0.75 \n",
      "[CV] boosting_type=gbdt, colsample_bytree=0.9, learning_rate=1, n_estimators=40, num_leaves=50, objective=binary, random_state=501, reg_alpha=0.6, reg_lambda=0.4, scale_pos_weight=20, subsample=0.75 \n",
      "Did not meet early stopping. Best iteration is:\n",
      "[1]\tvalid's binary_logloss: 0.943343\tvalid's auc: 0.804419\n",
      "Training until validation scores don't improve for 50 rounds.\n",
      "Training until validation scores don't improve for 50 rounds.\n"
     ]
    },
    {
     "name": "stderr",
     "output_type": "stream",
     "text": [
      "/opt/anaconda/lib/python3.7/site-packages/sklearn/preprocessing/label.py:151: DeprecationWarning: The truth value of an empty array is ambiguous. Returning False, but in future this will result in an error. Use `array.size > 0` to check that an array is not empty.\n",
      "  if diff:\n"
     ]
    },
    {
     "name": "stdout",
     "output_type": "stream",
     "text": [
      "Training until validation scores don't improve for 50 rounds.\n",
      "Did not meet early stopping. Best iteration is:\n",
      "[1]\tvalid's binary_logloss: 1.00112\tvalid's auc: 0.802762\n"
     ]
    },
    {
     "name": "stderr",
     "output_type": "stream",
     "text": [
      "/opt/anaconda/lib/python3.7/site-packages/sklearn/preprocessing/label.py:151: DeprecationWarning: The truth value of an empty array is ambiguous. Returning False, but in future this will result in an error. Use `array.size > 0` to check that an array is not empty.\n",
      "  if diff:\n"
     ]
    },
    {
     "name": "stdout",
     "output_type": "stream",
     "text": [
      "Training until validation scores don't improve for 50 rounds.\n",
      "[CV]  boosting_type=gbdt, colsample_bytree=0.9, learning_rate=1, n_estimators=40, num_leaves=50, objective=binary, random_state=501, reg_alpha=0.6, reg_lambda=0.2, scale_pos_weight=20, subsample=0.75, score=0.9096924413965972, total=   6.6s\n",
      "Training until validation scores don't improve for 50 rounds.\n",
      "[CV] boosting_type=gbdt, colsample_bytree=0.9, learning_rate=1, n_estimators=40, num_leaves=50, objective=binary, random_state=501, reg_alpha=0.6, reg_lambda=0.4, scale_pos_weight=20, subsample=0.75 \n"
     ]
    },
    {
     "name": "stderr",
     "output_type": "stream",
     "text": [
      "/opt/anaconda/lib/python3.7/site-packages/sklearn/preprocessing/label.py:151: DeprecationWarning: The truth value of an empty array is ambiguous. Returning False, but in future this will result in an error. Use `array.size > 0` to check that an array is not empty.\n",
      "  if diff:\n"
     ]
    },
    {
     "name": "stdout",
     "output_type": "stream",
     "text": [
      "Did not meet early stopping. Best iteration is:\n",
      "[1]\tvalid's binary_logloss: 1.00299\tvalid's auc: 0.799948\n"
     ]
    },
    {
     "name": "stderr",
     "output_type": "stream",
     "text": [
      "/opt/anaconda/lib/python3.7/site-packages/sklearn/preprocessing/label.py:151: DeprecationWarning: The truth value of an empty array is ambiguous. Returning False, but in future this will result in an error. Use `array.size > 0` to check that an array is not empty.\n",
      "  if diff:\n"
     ]
    },
    {
     "name": "stdout",
     "output_type": "stream",
     "text": [
      "[CV]  boosting_type=gbdt, colsample_bytree=0.9, learning_rate=1, n_estimators=40, num_leaves=50, objective=binary, random_state=501, reg_alpha=0.6, reg_lambda=0.2, scale_pos_weight=25, subsample=0.75, score=0.9107573390459893, total=   6.5s\n",
      "[CV] boosting_type=gbdt, colsample_bytree=0.9, learning_rate=1, n_estimators=40, num_leaves=50, objective=binary, random_state=501, reg_alpha=0.6, reg_lambda=0.4, scale_pos_weight=20, subsample=0.75 \n"
     ]
    },
    {
     "name": "stderr",
     "output_type": "stream",
     "text": [
      "/opt/anaconda/lib/python3.7/site-packages/sklearn/preprocessing/label.py:151: DeprecationWarning: The truth value of an empty array is ambiguous. Returning False, but in future this will result in an error. Use `array.size > 0` to check that an array is not empty.\n",
      "  if diff:\n"
     ]
    },
    {
     "name": "stdout",
     "output_type": "stream",
     "text": [
      "Training until validation scores don't improve for 50 rounds.\n",
      "Did not meet early stopping. Best iteration is:\n",
      "[6]\tvalid's binary_logloss: 0.89381\tvalid's auc: 0.875054\n"
     ]
    },
    {
     "name": "stderr",
     "output_type": "stream",
     "text": [
      "/opt/anaconda/lib/python3.7/site-packages/sklearn/preprocessing/label.py:151: DeprecationWarning: The truth value of an empty array is ambiguous. Returning False, but in future this will result in an error. Use `array.size > 0` to check that an array is not empty.\n",
      "  if diff:\n"
     ]
    },
    {
     "name": "stdout",
     "output_type": "stream",
     "text": [
      "[CV]  boosting_type=gbdt, colsample_bytree=0.9, learning_rate=1, n_estimators=40, num_leaves=50, objective=binary, random_state=501, reg_alpha=0.6, reg_lambda=0.2, scale_pos_weight=25, subsample=0.75, score=0.9084868807758875, total=   5.3s\n",
      "Did not meet early stopping. Best iteration is:\n",
      "[9]\tvalid's binary_logloss: 0.892418\tvalid's auc: 0.871096[CV] boosting_type=gbdt, colsample_bytree=0.9, learning_rate=1, n_estimators=40, num_leaves=50, objective=binary, random_state=501, reg_alpha=0.6, reg_lambda=0.4, scale_pos_weight=20, subsample=0.75 \n",
      "\n"
     ]
    },
    {
     "name": "stderr",
     "output_type": "stream",
     "text": [
      "/opt/anaconda/lib/python3.7/site-packages/sklearn/preprocessing/label.py:151: DeprecationWarning: The truth value of an empty array is ambiguous. Returning False, but in future this will result in an error. Use `array.size > 0` to check that an array is not empty.\n",
      "  if diff:\n"
     ]
    },
    {
     "name": "stdout",
     "output_type": "stream",
     "text": [
      "Training until validation scores don't improve for 50 rounds.\n",
      "Did not meet early stopping. Best iteration is:\n",
      "[14]\tvalid's binary_logloss: 0.874076\tvalid's auc: 0.873598\n",
      "Did not meet early stopping. Best iteration is:\n",
      "[8]\tvalid's binary_logloss: 0.886695\tvalid's auc: 0.876435\n",
      "Did not meet early stopping. Best iteration is:\n",
      "[10]\tvalid's binary_logloss: 0.880341\tvalid's auc: 0.87197"
     ]
    },
    {
     "name": "stderr",
     "output_type": "stream",
     "text": [
      "/opt/anaconda/lib/python3.7/site-packages/sklearn/preprocessing/label.py:151: DeprecationWarning: The truth value of an empty array is ambiguous. Returning False, but in future this will result in an error. Use `array.size > 0` to check that an array is not empty.\n",
      "  if diff:\n"
     ]
    },
    {
     "name": "stdout",
     "output_type": "stream",
     "text": [
      "\n"
     ]
    },
    {
     "name": "stderr",
     "output_type": "stream",
     "text": [
      "/opt/anaconda/lib/python3.7/site-packages/sklearn/preprocessing/label.py:151: DeprecationWarning: The truth value of an empty array is ambiguous. Returning False, but in future this will result in an error. Use `array.size > 0` to check that an array is not empty.\n",
      "  if diff:\n"
     ]
    },
    {
     "name": "stdout",
     "output_type": "stream",
     "text": [
      "[CV]  boosting_type=gbdt, colsample_bytree=0.9, learning_rate=1, n_estimators=40, num_leaves=50, objective=binary, random_state=501, reg_alpha=0.6, reg_lambda=0.4, scale_pos_weight=15, subsample=0.75, score=0.90595666626042, total=   5.3s\n"
     ]
    },
    {
     "name": "stderr",
     "output_type": "stream",
     "text": [
      "/opt/anaconda/lib/python3.7/site-packages/sklearn/preprocessing/label.py:151: DeprecationWarning: The truth value of an empty array is ambiguous. Returning False, but in future this will result in an error. Use `array.size > 0` to check that an array is not empty.\n",
      "  if diff:\n"
     ]
    },
    {
     "name": "stdout",
     "output_type": "stream",
     "text": [
      "[CV] boosting_type=gbdt, colsample_bytree=0.9, learning_rate=1, n_estimators=40, num_leaves=50, objective=binary, random_state=501, reg_alpha=0.6, reg_lambda=0.4, scale_pos_weight=25, subsample=0.75 \n"
     ]
    },
    {
     "name": "stderr",
     "output_type": "stream",
     "text": [
      "/opt/anaconda/lib/python3.7/site-packages/sklearn/preprocessing/label.py:151: DeprecationWarning: The truth value of an empty array is ambiguous. Returning False, but in future this will result in an error. Use `array.size > 0` to check that an array is not empty.\n",
      "  if diff:\n",
      "/opt/anaconda/lib/python3.7/site-packages/sklearn/preprocessing/label.py:151: DeprecationWarning: The truth value of an empty array is ambiguous. Returning False, but in future this will result in an error. Use `array.size > 0` to check that an array is not empty.\n",
      "  if diff:\n"
     ]
    },
    {
     "name": "stdout",
     "output_type": "stream",
     "text": [
      "Training until validation scores don't improve for 50 rounds.\n"
     ]
    },
    {
     "name": "stderr",
     "output_type": "stream",
     "text": [
      "/opt/anaconda/lib/python3.7/site-packages/sklearn/preprocessing/label.py:151: DeprecationWarning: The truth value of an empty array is ambiguous. Returning False, but in future this will result in an error. Use `array.size > 0` to check that an array is not empty.\n",
      "  if diff:\n"
     ]
    },
    {
     "name": "stdout",
     "output_type": "stream",
     "text": [
      "[CV]  boosting_type=gbdt, colsample_bytree=0.9, learning_rate=1, n_estimators=40, num_leaves=50, objective=binary, random_state=501, reg_alpha=0.6, reg_lambda=0.4, scale_pos_weight=15, subsample=0.75, score=0.9030419924615125, total=   5.2s\n",
      "[CV] boosting_type=gbdt, colsample_bytree=0.9, learning_rate=1, n_estimators=40, num_leaves=50, objective=binary, random_state=501, reg_alpha=0.6, reg_lambda=0.4, scale_pos_weight=25, subsample=0.75 \n"
     ]
    },
    {
     "name": "stderr",
     "output_type": "stream",
     "text": [
      "/opt/anaconda/lib/python3.7/site-packages/sklearn/preprocessing/label.py:151: DeprecationWarning: The truth value of an empty array is ambiguous. Returning False, but in future this will result in an error. Use `array.size > 0` to check that an array is not empty.\n",
      "  if diff:\n"
     ]
    },
    {
     "name": "stdout",
     "output_type": "stream",
     "text": [
      "[CV]  boosting_type=gbdt, colsample_bytree=0.9, learning_rate=1, n_estimators=40, num_leaves=50, objective=binary, random_state=501, reg_alpha=0.6, reg_lambda=0.4, scale_pos_weight=15, subsample=0.75, score=0.9008810843102758, total=   6.7s\n",
      "Did not meet early stopping. Best iteration is:\n",
      "[1]\tvalid's binary_logloss: 1.00401\tvalid's auc: 0.791703[CV] boosting_type=gbdt, colsample_bytree=0.9, learning_rate=1, n_estimators=40, num_leaves=50, objective=binary, random_state=501, reg_alpha=0.6, reg_lambda=0.4, scale_pos_weight=25, subsample=0.75 \n"
     ]
    },
    {
     "name": "stderr",
     "output_type": "stream",
     "text": [
      "/opt/anaconda/lib/python3.7/site-packages/sklearn/preprocessing/label.py:151: DeprecationWarning: The truth value of an empty array is ambiguous. Returning False, but in future this will result in an error. Use `array.size > 0` to check that an array is not empty.\n",
      "  if diff:\n"
     ]
    },
    {
     "name": "stdout",
     "output_type": "stream",
     "text": [
      "\n",
      "[CV]  boosting_type=gbdt, colsample_bytree=0.9, learning_rate=1, n_estimators=40, num_leaves=50, objective=binary, random_state=501, reg_alpha=0.6, reg_lambda=0.4, scale_pos_weight=15, subsample=0.75, score=0.9003599068860474, total=   5.7s\n"
     ]
    },
    {
     "name": "stderr",
     "output_type": "stream",
     "text": [
      "/opt/anaconda/lib/python3.7/site-packages/sklearn/preprocessing/label.py:151: DeprecationWarning: The truth value of an empty array is ambiguous. Returning False, but in future this will result in an error. Use `array.size > 0` to check that an array is not empty.\n",
      "  if diff:\n"
     ]
    },
    {
     "name": "stdout",
     "output_type": "stream",
     "text": [
      "[CV]  boosting_type=gbdt, colsample_bytree=0.9, learning_rate=1, n_estimators=40, num_leaves=50, objective=binary, random_state=501, reg_alpha=0.6, reg_lambda=0.4, scale_pos_weight=15, subsample=0.75, score=0.8943021685067322, total=   5.4s\n",
      "[CV] boosting_type=gbdt, colsample_bytree=0.9, learning_rate=1, n_estimators=40, num_leaves=50, objective=binary, random_state=501, reg_alpha=0.6, reg_lambda=0.4, scale_pos_weight=25, subsample=0.75 \n",
      "[CV] boosting_type=gbdt, colsample_bytree=0.9, learning_rate=1, n_estimators=40, num_leaves=50, objective=binary, random_state=501, reg_alpha=0.6, reg_lambda=0.4, scale_pos_weight=25, subsample=0.75 \n",
      "Did not meet early stopping. Best iteration is:\n",
      "[1]\tvalid's binary_logloss: 0.943369\tvalid's auc: 0.809199\n"
     ]
    },
    {
     "name": "stderr",
     "output_type": "stream",
     "text": [
      "/opt/anaconda/lib/python3.7/site-packages/sklearn/preprocessing/label.py:151: DeprecationWarning: The truth value of an empty array is ambiguous. Returning False, but in future this will result in an error. Use `array.size > 0` to check that an array is not empty.\n",
      "  if diff:\n"
     ]
    },
    {
     "name": "stdout",
     "output_type": "stream",
     "text": [
      "Did not meet early stopping. Best iteration is:\n",
      "[1]\tvalid's binary_logloss: 0.961034\tvalid's auc: 0.80452\n",
      "Did not meet early stopping. Best iteration is:\n",
      "[1]\tvalid's binary_logloss: 1.00769\tvalid's auc: 0.797272Training until validation scores don't improve for 50 rounds.\n"
     ]
    },
    {
     "name": "stderr",
     "output_type": "stream",
     "text": [
      "/opt/anaconda/lib/python3.7/site-packages/sklearn/preprocessing/label.py:151: DeprecationWarning: The truth value of an empty array is ambiguous. Returning False, but in future this will result in an error. Use `array.size > 0` to check that an array is not empty.\n",
      "  if diff:\n"
     ]
    },
    {
     "name": "stdout",
     "output_type": "stream",
     "text": [
      "\n"
     ]
    },
    {
     "name": "stderr",
     "output_type": "stream",
     "text": [
      "/opt/anaconda/lib/python3.7/site-packages/sklearn/preprocessing/label.py:151: DeprecationWarning: The truth value of an empty array is ambiguous. Returning False, but in future this will result in an error. Use `array.size > 0` to check that an array is not empty.\n",
      "  if diff:\n",
      "/opt/anaconda/lib/python3.7/site-packages/sklearn/preprocessing/label.py:151: DeprecationWarning: The truth value of an empty array is ambiguous. Returning False, but in future this will result in an error. Use `array.size > 0` to check that an array is not empty.\n",
      "  if diff:\n"
     ]
    },
    {
     "name": "stdout",
     "output_type": "stream",
     "text": [
      "Training until validation scores don't improve for 50 rounds.\n",
      "[CV]  boosting_type=gbdt, colsample_bytree=0.9, learning_rate=1, n_estimators=40, num_leaves=50, objective=binary, random_state=501, reg_alpha=0.6, reg_lambda=0.2, scale_pos_weight=25, subsample=0.75, score=0.9093719310593165, total=   9.9s\n",
      "Training until validation scores don't improve for 50 rounds.\n"
     ]
    },
    {
     "name": "stderr",
     "output_type": "stream",
     "text": [
      "/opt/anaconda/lib/python3.7/site-packages/sklearn/preprocessing/label.py:151: DeprecationWarning: The truth value of an empty array is ambiguous. Returning False, but in future this will result in an error. Use `array.size > 0` to check that an array is not empty.\n",
      "  if diff:\n"
     ]
    },
    {
     "name": "stdout",
     "output_type": "stream",
     "text": [
      "[CV]  boosting_type=gbdt, colsample_bytree=0.9, learning_rate=1, n_estimators=40, num_leaves=50, objective=binary, random_state=501, reg_alpha=0.6, reg_lambda=0.4, scale_pos_weight=20, subsample=0.75, score=0.9110804189480262, total=   6.6s\n",
      "Training until validation scores don't improve for 50 rounds.\n"
     ]
    },
    {
     "name": "stderr",
     "output_type": "stream",
     "text": [
      "/opt/anaconda/lib/python3.7/site-packages/sklearn/preprocessing/label.py:151: DeprecationWarning: The truth value of an empty array is ambiguous. Returning False, but in future this will result in an error. Use `array.size > 0` to check that an array is not empty.\n",
      "  if diff:\n"
     ]
    },
    {
     "name": "stdout",
     "output_type": "stream",
     "text": [
      "Training until validation scores don't improve for 50 rounds.\n"
     ]
    },
    {
     "name": "stderr",
     "output_type": "stream",
     "text": [
      "/opt/anaconda/lib/python3.7/site-packages/sklearn/preprocessing/label.py:151: DeprecationWarning: The truth value of an empty array is ambiguous. Returning False, but in future this will result in an error. Use `array.size > 0` to check that an array is not empty.\n",
      "  if diff:\n"
     ]
    },
    {
     "name": "stdout",
     "output_type": "stream",
     "text": [
      "[CV]  boosting_type=gbdt, colsample_bytree=0.9, learning_rate=1, n_estimators=40, num_leaves=50, objective=binary, random_state=501, reg_alpha=0.6, reg_lambda=0.4, scale_pos_weight=20, subsample=0.75, score=0.9093118675059392, total=   5.3s\n"
     ]
    },
    {
     "name": "stderr",
     "output_type": "stream",
     "text": [
      "/opt/anaconda/lib/python3.7/site-packages/sklearn/preprocessing/label.py:151: DeprecationWarning: The truth value of an empty array is ambiguous. Returning False, but in future this will result in an error. Use `array.size > 0` to check that an array is not empty.\n",
      "  if diff:\n"
     ]
    },
    {
     "name": "stdout",
     "output_type": "stream",
     "text": [
      "[CV]  boosting_type=gbdt, colsample_bytree=0.9, learning_rate=1, n_estimators=40, num_leaves=50, objective=binary, random_state=501, reg_alpha=0.6, reg_lambda=0.2, scale_pos_weight=25, subsample=0.75, score=0.9117322196080987, total=   9.1s\n",
      "Did not meet early stopping. Best iteration is:\n",
      "[1]\tvalid's binary_logloss: 0.943242\tvalid's auc: 0.804421\n",
      "Did not meet early stopping. Best iteration is:\n",
      "[1]\tvalid's binary_logloss: 0.951339\tvalid's auc: 0.81116\n"
     ]
    },
    {
     "name": "stderr",
     "output_type": "stream",
     "text": [
      "/opt/anaconda/lib/python3.7/site-packages/sklearn/preprocessing/label.py:151: DeprecationWarning: The truth value of an empty array is ambiguous. Returning False, but in future this will result in an error. Use `array.size > 0` to check that an array is not empty.\n",
      "  if diff:\n",
      "/opt/anaconda/lib/python3.7/site-packages/sklearn/preprocessing/label.py:151: DeprecationWarning: The truth value of an empty array is ambiguous. Returning False, but in future this will result in an error. Use `array.size > 0` to check that an array is not empty.\n",
      "  if diff:\n",
      "/opt/anaconda/lib/python3.7/site-packages/sklearn/preprocessing/label.py:151: DeprecationWarning: The truth value of an empty array is ambiguous. Returning False, but in future this will result in an error. Use `array.size > 0` to check that an array is not empty.\n",
      "  if diff:\n"
     ]
    },
    {
     "name": "stdout",
     "output_type": "stream",
     "text": [
      "[CV]  boosting_type=gbdt, colsample_bytree=0.9, learning_rate=1, n_estimators=40, num_leaves=50, objective=binary, random_state=501, reg_alpha=0.6, reg_lambda=0.4, scale_pos_weight=20, subsample=0.75, score=0.9114335079605334, total=   8.8s\n"
     ]
    },
    {
     "name": "stderr",
     "output_type": "stream",
     "text": [
      "/opt/anaconda/lib/python3.7/site-packages/sklearn/preprocessing/label.py:151: DeprecationWarning: The truth value of an empty array is ambiguous. Returning False, but in future this will result in an error. Use `array.size > 0` to check that an array is not empty.\n",
      "  if diff:\n"
     ]
    },
    {
     "name": "stdout",
     "output_type": "stream",
     "text": [
      "[CV]  boosting_type=gbdt, colsample_bytree=0.9, learning_rate=1, n_estimators=40, num_leaves=50, objective=binary, random_state=501, reg_alpha=0.6, reg_lambda=0.4, scale_pos_weight=20, subsample=0.75, score=0.9096924413965972, total=   4.9s\n",
      "Did not meet early stopping. Best iteration is:\n",
      "[1]\tvalid's binary_logloss: 0.958868\tvalid's auc: 0.815612\n"
     ]
    },
    {
     "name": "stderr",
     "output_type": "stream",
     "text": [
      "/opt/anaconda/lib/python3.7/site-packages/sklearn/preprocessing/label.py:151: DeprecationWarning: The truth value of an empty array is ambiguous. Returning False, but in future this will result in an error. Use `array.size > 0` to check that an array is not empty.\n",
      "  if diff:\n",
      "/opt/anaconda/lib/python3.7/site-packages/sklearn/preprocessing/label.py:151: DeprecationWarning: The truth value of an empty array is ambiguous. Returning False, but in future this will result in an error. Use `array.size > 0` to check that an array is not empty.\n",
      "  if diff:\n"
     ]
    },
    {
     "name": "stdout",
     "output_type": "stream",
     "text": [
      "[CV]  boosting_type=gbdt, colsample_bytree=0.9, learning_rate=1, n_estimators=40, num_leaves=50, objective=binary, random_state=501, reg_alpha=0.6, reg_lambda=0.4, scale_pos_weight=20, subsample=0.75, score=0.9099552857096207, total=   6.8s\n",
      "Did not meet early stopping. Best iteration is:\n",
      "[1]\tvalid's binary_logloss: 1.00066\tvalid's auc: 0.793115\n"
     ]
    },
    {
     "name": "stderr",
     "output_type": "stream",
     "text": [
      "/opt/anaconda/lib/python3.7/site-packages/sklearn/preprocessing/label.py:151: DeprecationWarning: The truth value of an empty array is ambiguous. Returning False, but in future this will result in an error. Use `array.size > 0` to check that an array is not empty.\n",
      "  if diff:\n"
     ]
    },
    {
     "name": "stdout",
     "output_type": "stream",
     "text": [
      "Did not meet early stopping. Best iteration is:\n",
      "[1]\tvalid's binary_logloss: 0.987596\tvalid's auc: 0.795374\n",
      "Did not meet early stopping. Best iteration is:\n",
      "[1]\tvalid's binary_logloss: 1.00105\tvalid's auc: 0.80277\n"
     ]
    },
    {
     "name": "stderr",
     "output_type": "stream",
     "text": [
      "/opt/anaconda/lib/python3.7/site-packages/sklearn/preprocessing/label.py:151: DeprecationWarning: The truth value of an empty array is ambiguous. Returning False, but in future this will result in an error. Use `array.size > 0` to check that an array is not empty.\n",
      "  if diff:\n"
     ]
    },
    {
     "name": "stdout",
     "output_type": "stream",
     "text": [
      "[CV]  boosting_type=gbdt, colsample_bytree=0.9, learning_rate=1, n_estimators=40, num_leaves=50, objective=binary, random_state=501, reg_alpha=0.6, reg_lambda=0.4, scale_pos_weight=25, subsample=0.75, score=0.9093610290128884, total=   4.6s\n"
     ]
    },
    {
     "name": "stderr",
     "output_type": "stream",
     "text": [
      "/opt/anaconda/lib/python3.7/site-packages/sklearn/preprocessing/label.py:151: DeprecationWarning: The truth value of an empty array is ambiguous. Returning False, but in future this will result in an error. Use `array.size > 0` to check that an array is not empty.\n",
      "  if diff:\n",
      "/opt/anaconda/lib/python3.7/site-packages/sklearn/preprocessing/label.py:151: DeprecationWarning: The truth value of an empty array is ambiguous. Returning False, but in future this will result in an error. Use `array.size > 0` to check that an array is not empty.\n",
      "  if diff:\n",
      "/opt/anaconda/lib/python3.7/site-packages/sklearn/preprocessing/label.py:151: DeprecationWarning: The truth value of an empty array is ambiguous. Returning False, but in future this will result in an error. Use `array.size > 0` to check that an array is not empty.\n",
      "  if diff:\n"
     ]
    },
    {
     "name": "stdout",
     "output_type": "stream",
     "text": [
      "[CV]  boosting_type=gbdt, colsample_bytree=0.9, learning_rate=1, n_estimators=40, num_leaves=50, objective=binary, random_state=501, reg_alpha=0.6, reg_lambda=0.4, scale_pos_weight=25, subsample=0.75, score=0.9110295576491996, total=   5.6s\n"
     ]
    },
    {
     "name": "stderr",
     "output_type": "stream",
     "text": [
      "/opt/anaconda/lib/python3.7/site-packages/sklearn/preprocessing/label.py:151: DeprecationWarning: The truth value of an empty array is ambiguous. Returning False, but in future this will result in an error. Use `array.size > 0` to check that an array is not empty.\n",
      "  if diff:\n"
     ]
    },
    {
     "name": "stdout",
     "output_type": "stream",
     "text": [
      "[CV]  boosting_type=gbdt, colsample_bytree=0.9, learning_rate=1, n_estimators=40, num_leaves=50, objective=binary, random_state=501, reg_alpha=0.6, reg_lambda=0.4, scale_pos_weight=25, subsample=0.75, score=0.9107573390459893, total=   5.2s\n",
      "Did not meet early stopping. Best iteration is:\n",
      "[1]\tvalid's binary_logloss: 1.0034\tvalid's auc: 0.799705\n"
     ]
    },
    {
     "name": "stderr",
     "output_type": "stream",
     "text": [
      "/opt/anaconda/lib/python3.7/site-packages/sklearn/preprocessing/label.py:151: DeprecationWarning: The truth value of an empty array is ambiguous. Returning False, but in future this will result in an error. Use `array.size > 0` to check that an array is not empty.\n",
      "  if diff:\n",
      "/opt/anaconda/lib/python3.7/site-packages/sklearn/preprocessing/label.py:151: DeprecationWarning: The truth value of an empty array is ambiguous. Returning False, but in future this will result in an error. Use `array.size > 0` to check that an array is not empty.\n",
      "  if diff:\n"
     ]
    },
    {
     "name": "stdout",
     "output_type": "stream",
     "text": [
      "[CV]  boosting_type=gbdt, colsample_bytree=0.9, learning_rate=1, n_estimators=40, num_leaves=50, objective=binary, random_state=501, reg_alpha=0.6, reg_lambda=0.4, scale_pos_weight=25, subsample=0.75, score=0.9084638180452601, total=   5.5s\n",
      "Did not meet early stopping. Best iteration is:\n",
      "[1]\tvalid's binary_logloss: 1.00761\tvalid's auc: 0.797309\n"
     ]
    },
    {
     "name": "stderr",
     "output_type": "stream",
     "text": [
      "/opt/anaconda/lib/python3.7/site-packages/sklearn/preprocessing/label.py:151: DeprecationWarning: The truth value of an empty array is ambiguous. Returning False, but in future this will result in an error. Use `array.size > 0` to check that an array is not empty.\n",
      "  if diff:\n",
      "/opt/anaconda/lib/python3.7/site-packages/sklearn/preprocessing/label.py:151: DeprecationWarning: The truth value of an empty array is ambiguous. Returning False, but in future this will result in an error. Use `array.size > 0` to check that an array is not empty.\n",
      "  if diff:\n"
     ]
    },
    {
     "name": "stdout",
     "output_type": "stream",
     "text": [
      "[CV]  boosting_type=gbdt, colsample_bytree=0.9, learning_rate=1, n_estimators=40, num_leaves=50, objective=binary, random_state=501, reg_alpha=0.6, reg_lambda=0.4, scale_pos_weight=25, subsample=0.75, score=0.9117322196080987, total=   6.1s\n"
     ]
    },
    {
     "name": "stderr",
     "output_type": "stream",
     "text": [
      "[Parallel(n_jobs=12)]: Done 360 out of 360 | elapsed:  3.5min finished\n"
     ]
    },
    {
     "name": "stdout",
     "output_type": "stream",
     "text": [
      "Training until validation scores don't improve for 50 rounds.\n",
      "Did not meet early stopping. Best iteration is:\n",
      "[1]\tvalid's binary_logloss: 0.984315\tvalid's auc: 0.810712\n"
     ]
    },
    {
     "data": {
      "text/plain": [
       "GridSearchCV(cv=KFold(n_splits=5, random_state=None, shuffle=False),\n",
       "       error_score='raise',\n",
       "       estimator=LGBMClassifier(boosting_type='gbdt', class_weight=None, colsample_bytree=1.0,\n",
       "        importance_type='split', learning_rate=0.1, max_bin=512,\n",
       "        max_depth=-1, min_child_samples=5, min_child_weight=1,\n",
       "        min_split_gain=0.5, n_estimators=100, n_jobs=12, num_leaves=31,\n",
       "        objective='binary', random_state=None, reg_alpha=0.0,\n",
       "        reg_lambda=0.0, scale_pos_weight=20, silent=True, subsample=1,\n",
       "        subsample_for_bin=200, subsample_freq=1),\n",
       "       fit_params=None, iid=True, n_jobs=12,\n",
       "       param_grid={'learning_rate': [0.05, 0.1, 1], 'n_estimators': [40], 'num_leaves': [30, 50], 'boosting_type': ['gbdt'], 'objective': ['binary'], 'random_state': [501], 'colsample_bytree': [0.9], 'subsample': [0.75], 'reg_alpha': [0.2, 0.6], 'reg_lambda': [0.2, 0.4], 'scale_pos_weight': [15, 20, 25]},\n",
       "       pre_dispatch='2*n_jobs', refit=True, return_train_score='warn',\n",
       "       scoring=make_scorer(custom_accuracy), verbose=5)"
      ]
     },
     "execution_count": 55,
     "metadata": {},
     "output_type": "execute_result"
    }
   ],
   "source": [
    "from sklearn.model_selection import KFold\n",
    "cv_5 = KFold(n_splits=5)\n",
    "\n",
    "grid = GridSearchCV(clf ,param_grid=param_grid,\n",
    "                scoring  = make_scorer(custom_accuracy),cv= cv_5,  n_jobs=12 , verbose = 5 , refit= True)  #n_iter = 100,\n",
    "\n",
    "#gs = gs.fit(X_tr, y_tr.values.ravel())\n",
    "grid.fit(X_tr, y_tr ,**fit_params)"
   ]
  },
  {
   "cell_type": "code",
   "execution_count": 56,
   "metadata": {},
   "outputs": [
    {
     "data": {
      "text/plain": [
       "LGBMClassifier(boosting_type='gbdt', class_weight=None, colsample_bytree=0.9,\n",
       "        importance_type='split', learning_rate=1, max_bin=512,\n",
       "        max_depth=-1, min_child_samples=5, min_child_weight=1,\n",
       "        min_split_gain=0.5, n_estimators=40, n_jobs=12, num_leaves=50,\n",
       "        objective='binary', random_state=501, reg_alpha=0.2,\n",
       "        reg_lambda=0.2, scale_pos_weight=25, silent=True, subsample=0.75,\n",
       "        subsample_for_bin=200, subsample_freq=1)"
      ]
     },
     "execution_count": 56,
     "metadata": {},
     "output_type": "execute_result"
    }
   ],
   "source": [
    "grid.best_estimator_"
   ]
  },
  {
   "cell_type": "code",
   "execution_count": 49,
   "metadata": {},
   "outputs": [
    {
     "data": {
      "text/plain": [
       "LGBMClassifier(boosting_type='gbdt', class_weight=None, colsample_bytree=0.9,\n",
       "        importance_type='split', learning_rate=0.1, max_bin=512,\n",
       "        max_depth=-1, min_child_samples=5, min_child_weight=1,\n",
       "        min_split_gain=0.5, n_estimators=40, n_jobs=12, num_leaves=50,\n",
       "        objective='binary', random_state=501, reg_alpha=0.6, reg_lambda=1,\n",
       "        scale_pos_weight=20, silent=True, subsample=0.75,\n",
       "        subsample_for_bin=200, subsample_freq=1)"
      ]
     },
     "execution_count": 49,
     "metadata": {},
     "output_type": "execute_result"
    }
   ],
   "source": [
    "grid.best_estimator_"
   ]
  },
  {
   "cell_type": "code",
   "execution_count": 57,
   "metadata": {},
   "outputs": [
    {
     "name": "stdout",
     "output_type": "stream",
     "text": [
      "Training until validation scores don't improve for 50 rounds.\n",
      "Did not meet early stopping. Best iteration is:\n",
      "[1]\tvalid's binary_logloss: 0.984315\tvalid's auc: 0.810712\n"
     ]
    }
   ],
   "source": [
    "clf = grid.best_estimator_\n",
    "clf.fit(X_tr , y_tr , **fit_params);"
   ]
  },
  {
   "cell_type": "markdown",
   "metadata": {},
   "source": [
    "### Custom accuracy has imporved to 91% on validation set"
   ]
  },
  {
   "cell_type": "code",
   "execution_count": 58,
   "metadata": {},
   "outputs": [
    {
     "name": "stdout",
     "output_type": "stream",
     "text": [
      "Custom accuracy on validation data set 0.9106670750028105\n"
     ]
    },
    {
     "name": "stderr",
     "output_type": "stream",
     "text": [
      "/opt/anaconda/lib/python3.7/site-packages/sklearn/preprocessing/label.py:151: DeprecationWarning: The truth value of an empty array is ambiguous. Returning False, but in future this will result in an error. Use `array.size > 0` to check that an array is not empty.\n",
      "  if diff:\n"
     ]
    }
   ],
   "source": [
    "pred = clf.predict(X_val)\n",
    "print( 'Custom accuracy on validation data set', custom_accuracy(y_val , pred))"
   ]
  },
  {
   "cell_type": "code",
   "execution_count": 60,
   "metadata": {},
   "outputs": [
    {
     "data": {
      "text/plain": [
       "<matplotlib.axes._subplots.AxesSubplot at 0x7fc8f8304be0>"
      ]
     },
     "execution_count": 60,
     "metadata": {},
     "output_type": "execute_result"
    },
    {
     "data": {
      "image/png": "[encoded data removed]",
      "text/plain": [
       "<Figure size 576x720 with 1 Axes>"
      ]
     },
     "metadata": {
      "needs_background": "light"
     },
     "output_type": "display_data"
    }
   ],
   "source": [
    "feat_imp = pd.Series(clf.feature_importances_, index=X_tr.columns)\n",
    "feat_imp.nlargest(18).plot(kind='barh', figsize=(8,10))"
   ]
  },
  {
   "cell_type": "markdown",
   "metadata": {},
   "source": [
    "We have been able to get very good results from Light GBM  . Along with that feature importance is showing clear segregations as agaoins RF model.\n",
    "Date recorded and quality group are also coming important features."
   ]
  }
 ],
 "metadata": {
  "kernelspec": {
   "display_name": "Python 3",
   "language": "python",
   "name": "python3"
  },
  "language_info": {
   "codemirror_mode": {
    "name": "ipython",
    "version": 3
   },
   "file_extension": ".py",
   "mimetype": "text/x-python",
   "name": "python",
   "nbconvert_exporter": "python",
   "pygments_lexer": "ipython3",
   "version": "3.7.1"
  }
 },
 "nbformat": 4,
 "nbformat_minor": 2
}
